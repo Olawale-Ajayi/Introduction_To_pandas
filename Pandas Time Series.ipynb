{
 "cells": [
  {
   "cell_type": "markdown",
   "metadata": {},
   "source": [
    "# Time Series"
   ]
  },
  {
   "cell_type": "code",
   "execution_count": 341,
   "metadata": {},
   "outputs": [],
   "source": [
    "import datetime\n",
    "import pandas as pd\n",
    "import numpy as np\n",
    "\n",
    "# this is how date amd time is manage in python"
   ]
  },
  {
   "cell_type": "code",
   "execution_count": 342,
   "metadata": {},
   "outputs": [
    {
     "data": {
      "text/plain": [
       "datetime.datetime(2020, 12, 11, 3, 9, 51, 924601)"
      ]
     },
     "execution_count": 342,
     "metadata": {},
     "output_type": "execute_result"
    }
   ],
   "source": [
    "datetime.datetime.now()"
   ]
  },
  {
   "cell_type": "code",
   "execution_count": 343,
   "metadata": {},
   "outputs": [
    {
     "data": {
      "text/plain": [
       "DatetimeIndex(['2011-02-01', '2011-02-02', '2011-02-03', '2011-02-04',\n",
       "               '2011-02-05', '2011-02-06', '2011-02-07', '2011-02-08',\n",
       "               '2011-02-09', '2011-02-10', '2011-02-11', '2011-02-12',\n",
       "               '2011-02-13', '2011-02-14', '2011-02-15', '2011-02-16',\n",
       "               '2011-02-17', '2011-02-18', '2011-02-19', '2011-02-20',\n",
       "               '2011-02-21', '2011-02-22', '2011-02-23', '2011-02-24',\n",
       "               '2011-02-25', '2011-02-26', '2011-02-27', '2011-02-28',\n",
       "               '2011-03-01', '2011-03-02', '2011-03-03', '2011-03-04',\n",
       "               '2011-03-05', '2011-03-06', '2011-03-07', '2011-03-08',\n",
       "               '2011-03-09', '2011-03-10', '2011-03-11', '2011-03-12',\n",
       "               '2011-03-13', '2011-03-14', '2011-03-15', '2011-03-16',\n",
       "               '2011-03-17', '2011-03-18', '2011-03-19', '2011-03-20',\n",
       "               '2011-03-21', '2011-03-22', '2011-03-23', '2011-03-24',\n",
       "               '2011-03-25', '2011-03-26', '2011-03-27', '2011-03-28',\n",
       "               '2011-03-29', '2011-03-30', '2011-03-31', '2011-04-01',\n",
       "               '2011-04-02', '2011-04-03', '2011-04-04', '2011-04-05',\n",
       "               '2011-04-06', '2011-04-07', '2011-04-08', '2011-04-09',\n",
       "               '2011-04-10', '2011-04-11', '2011-04-12', '2011-04-13',\n",
       "               '2011-04-14', '2011-04-15', '2011-04-16', '2011-04-17',\n",
       "               '2011-04-18', '2011-04-19', '2011-04-20', '2011-04-21',\n",
       "               '2011-04-22', '2011-04-23', '2011-04-24', '2011-04-25',\n",
       "               '2011-04-26', '2011-04-27', '2011-04-28', '2011-04-29',\n",
       "               '2011-04-30', '2011-05-01', '2011-05-02', '2011-05-03',\n",
       "               '2011-05-04', '2011-05-05', '2011-05-06', '2011-05-07',\n",
       "               '2011-05-08', '2011-05-09', '2011-05-10', '2011-05-11'],\n",
       "              dtype='datetime64[ns]', freq='D')"
      ]
     },
     "execution_count": 343,
     "metadata": {},
     "output_type": "execute_result"
    }
   ],
   "source": [
    "date = pd.date_range(\"2/1/2011\", freq = \"D\", periods\n",
    "                     = 100)\n",
    "date"
   ]
  },
  {
   "cell_type": "code",
   "execution_count": 344,
   "metadata": {},
   "outputs": [],
   "source": [
    "data = pd.DataFrame(np.arange(100), index = date)"
   ]
  },
  {
   "cell_type": "code",
   "execution_count": 345,
   "metadata": {},
   "outputs": [],
   "source": [
    "data.index.name= \"date\""
   ]
  },
  {
   "cell_type": "code",
   "execution_count": null,
   "metadata": {},
   "outputs": [],
   "source": []
  },
  {
   "cell_type": "code",
   "execution_count": null,
   "metadata": {},
   "outputs": [],
   "source": []
  },
  {
   "cell_type": "code",
   "execution_count": null,
   "metadata": {},
   "outputs": [],
   "source": []
  },
  {
   "cell_type": "code",
   "execution_count": null,
   "metadata": {},
   "outputs": [],
   "source": []
  },
  {
   "cell_type": "code",
   "execution_count": 346,
   "metadata": {},
   "outputs": [
    {
     "data": {
      "text/plain": [
       "datetime.datetime(2020, 12, 11, 3, 9, 52, 4067)"
      ]
     },
     "execution_count": 346,
     "metadata": {},
     "output_type": "execute_result"
    }
   ],
   "source": [
    "now = datetime.datetime.now().today()\n",
    "now"
   ]
  },
  {
   "cell_type": "code",
   "execution_count": null,
   "metadata": {},
   "outputs": [],
   "source": []
  },
  {
   "cell_type": "code",
   "execution_count": null,
   "metadata": {},
   "outputs": [],
   "source": []
  },
  {
   "cell_type": "code",
   "execution_count": null,
   "metadata": {},
   "outputs": [],
   "source": []
  },
  {
   "cell_type": "code",
   "execution_count": null,
   "metadata": {},
   "outputs": [],
   "source": []
  },
  {
   "cell_type": "code",
   "execution_count": 347,
   "metadata": {},
   "outputs": [
    {
     "data": {
      "text/plain": [
       "(2020, 12, 11)"
      ]
     },
     "execution_count": 347,
     "metadata": {},
     "output_type": "execute_result"
    }
   ],
   "source": [
    "now.year, now.month, now.day"
   ]
  },
  {
   "cell_type": "code",
   "execution_count": 348,
   "metadata": {},
   "outputs": [
    {
     "data": {
      "text/plain": [
       "(3, 9, 52, 4067)"
      ]
     },
     "execution_count": 348,
     "metadata": {},
     "output_type": "execute_result"
    }
   ],
   "source": [
    "time  = now.time()\n",
    "time.hour, time.minute, time.second, time.microsecond"
   ]
  },
  {
   "cell_type": "code",
   "execution_count": 349,
   "metadata": {},
   "outputs": [],
   "source": [
    "newdate = datetime.date(2010,8,9)"
   ]
  },
  {
   "cell_type": "code",
   "execution_count": 350,
   "metadata": {},
   "outputs": [
    {
     "data": {
      "text/plain": [
       "datetime.datetime(2023, 3, 17, 0, 0)"
      ]
     },
     "execution_count": 350,
     "metadata": {},
     "output_type": "execute_result"
    }
   ],
   "source": [
    "datetime.datetime(2023,3,17)  "
   ]
  },
  {
   "cell_type": "code",
   "execution_count": 351,
   "metadata": {},
   "outputs": [
    {
     "data": {
      "text/plain": [
       "datetime.time(5, 20, 2)"
      ]
     },
     "execution_count": 351,
     "metadata": {},
     "output_type": "execute_result"
    }
   ],
   "source": [
    "datetime.time(5,20,2)"
   ]
  },
  {
   "cell_type": "code",
   "execution_count": 352,
   "metadata": {},
   "outputs": [
    {
     "data": {
      "text/plain": [
       "datetime.timedelta(days=383)"
      ]
     },
     "execution_count": 352,
     "metadata": {},
     "output_type": "execute_result"
    }
   ],
   "source": [
    "#  delta is the output of the arithmetics between two dates\n",
    "\n",
    "#  delta gives the number of days between the arithmetics done on the datess in the operation\n",
    "\n",
    "\n",
    "datetime.date(2020, 3, 31)-datetime.date(2019, 3, 14)"
   ]
  },
  {
   "cell_type": "code",
   "execution_count": 353,
   "metadata": {},
   "outputs": [],
   "source": [
    "# converting time delta to date\n",
    "from datetime import timedelta"
   ]
  },
  {
   "cell_type": "code",
   "execution_count": 354,
   "metadata": {},
   "outputs": [
    {
     "data": {
      "text/plain": [
       "datetime.timedelta(days=3025)"
      ]
     },
     "execution_count": 354,
     "metadata": {},
     "output_type": "execute_result"
    }
   ],
   "source": [
    "Result = datetime.date(2020,7,17)-datetime.date(2012,4,5)\n",
    "Result"
   ]
  },
  {
   "cell_type": "code",
   "execution_count": 355,
   "metadata": {},
   "outputs": [
    {
     "data": {
      "text/plain": [
       "datetime.timedelta(days=3025)"
      ]
     },
     "execution_count": 355,
     "metadata": {},
     "output_type": "execute_result"
    }
   ],
   "source": [
    "timedelta(3025)"
   ]
  },
  {
   "cell_type": "code",
   "execution_count": 356,
   "metadata": {},
   "outputs": [
    {
     "data": {
      "text/plain": [
       "datetime.date(2018, 7, 1)"
      ]
     },
     "execution_count": 356,
     "metadata": {},
     "output_type": "execute_result"
    }
   ],
   "source": [
    "datetime.date(2010,3,20)+timedelta(3025)  # here the time delta number of days has been added to the set date"
   ]
  },
  {
   "cell_type": "code",
   "execution_count": 357,
   "metadata": {},
   "outputs": [
    {
     "data": {
      "text/plain": [
       "datetime.timedelta(days=24)"
      ]
     },
     "execution_count": 357,
     "metadata": {},
     "output_type": "execute_result"
    }
   ],
   "source": [
    "timedelta(12)*2"
   ]
  },
  {
   "cell_type": "code",
   "execution_count": 358,
   "metadata": {},
   "outputs": [
    {
     "data": {
      "text/plain": [
       "datetime.datetime(2020, 10, 24, 3, 9, 52, 225247)"
      ]
     },
     "execution_count": 358,
     "metadata": {},
     "output_type": "execute_result"
    }
   ],
   "source": [
    "from datetime import datetime\n",
    "datetime.now()-2*timedelta(24)"
   ]
  },
  {
   "cell_type": "code",
   "execution_count": null,
   "metadata": {},
   "outputs": [],
   "source": []
  },
  {
   "cell_type": "markdown",
   "metadata": {},
   "source": [
    "# converting between string and datetime"
   ]
  },
  {
   "cell_type": "code",
   "execution_count": 359,
   "metadata": {},
   "outputs": [
    {
     "data": {
      "text/plain": [
       "'2020-12-17 00:00:00'"
      ]
     },
     "execution_count": 359,
     "metadata": {},
     "output_type": "execute_result"
    }
   ],
   "source": [
    "# suppose we have an usual date and we want to convert it to a string\n",
    "\n",
    "D = datetime(2020,12, 17)\n",
    "\n",
    "str(D)  # here is converting date to string"
   ]
  },
  {
   "cell_type": "code",
   "execution_count": 360,
   "metadata": {},
   "outputs": [
    {
     "data": {
      "text/plain": [
       "'12/17/20'"
      ]
     },
     "execution_count": 360,
     "metadata": {},
     "output_type": "execute_result"
    }
   ],
   "source": [
    "# we can format the date as thus\n",
    "\n",
    "D.strftime(\"%D\")  # this format the day, monthnand the year to two digits number"
   ]
  },
  {
   "cell_type": "code",
   "execution_count": 361,
   "metadata": {},
   "outputs": [
    {
     "data": {
      "text/plain": [
       "'2020-12-17'"
      ]
     },
     "execution_count": 361,
     "metadata": {},
     "output_type": "execute_result"
    }
   ],
   "source": [
    "D.strftime(\"%F\")  # Format the time to 4 digit year, 2 digit month and 2 digits day"
   ]
  },
  {
   "cell_type": "code",
   "execution_count": 362,
   "metadata": {},
   "outputs": [
    {
     "data": {
      "text/plain": [
       "'20/12/17'"
      ]
     },
     "execution_count": 362,
     "metadata": {},
     "output_type": "execute_result"
    }
   ],
   "source": [
    "D.strftime(\"%y/%m/%d\")"
   ]
  },
  {
   "cell_type": "code",
   "execution_count": 363,
   "metadata": {},
   "outputs": [
    {
     "data": {
      "text/plain": [
       "'2020/12/17'"
      ]
     },
     "execution_count": 363,
     "metadata": {},
     "output_type": "execute_result"
    }
   ],
   "source": [
    "D.strftime(\"%Y/%m/%d\")  # formatting to my own spec. capital Y signify 4 digits Year, the rest takes 2  digit"
   ]
  },
  {
   "cell_type": "code",
   "execution_count": 364,
   "metadata": {},
   "outputs": [
    {
     "data": {
      "text/plain": [
       "'17/12/20'"
      ]
     },
     "execution_count": 364,
     "metadata": {},
     "output_type": "execute_result"
    }
   ],
   "source": [
    "D.strftime(\"%d/%m/%y\")  # formatting in date, month and year"
   ]
  },
  {
   "cell_type": "code",
   "execution_count": 365,
   "metadata": {},
   "outputs": [
    {
     "data": {
      "text/plain": [
       "datetime.datetime(2020, 12, 30, 19, 18, 20, 292)"
      ]
     },
     "execution_count": 365,
     "metadata": {},
     "output_type": "execute_result"
    }
   ],
   "source": [
    "d1 = datetime(2020,12,30, 19, 18,20,292)\n",
    "d1"
   ]
  },
  {
   "cell_type": "code",
   "execution_count": 366,
   "metadata": {},
   "outputs": [
    {
     "data": {
      "text/plain": [
       "datetime.time(19, 18, 20, 292)"
      ]
     },
     "execution_count": 366,
     "metadata": {},
     "output_type": "execute_result"
    }
   ],
   "source": [
    "d2 = d1.time()\n",
    "d2"
   ]
  },
  {
   "cell_type": "code",
   "execution_count": 367,
   "metadata": {},
   "outputs": [
    {
     "data": {
      "text/plain": [
       "'4'"
      ]
     },
     "execution_count": 367,
     "metadata": {},
     "output_type": "execute_result"
    }
   ],
   "source": [
    "D.strftime(\"%w\")  #  output week number of the week of the date"
   ]
  },
  {
   "cell_type": "code",
   "execution_count": 368,
   "metadata": {},
   "outputs": [
    {
     "data": {
      "text/plain": [
       "'50'"
      ]
     },
     "execution_count": 368,
     "metadata": {},
     "output_type": "execute_result"
    }
   ],
   "source": [
    "D.strftime(\"%U\")  # get the week number of the year with consider consider first day of the week"
   ]
  },
  {
   "cell_type": "code",
   "execution_count": 369,
   "metadata": {},
   "outputs": [
    {
     "data": {
      "text/plain": [
       "'50'"
      ]
     },
     "execution_count": 369,
     "metadata": {},
     "output_type": "execute_result"
    }
   ],
   "source": [
    "D.strftime(\"%W\") #  get the week number of the year with consider monday as the first day of the  weeek"
   ]
  },
  {
   "cell_type": "markdown",
   "metadata": {},
   "source": [
    "#  Converting strings to date"
   ]
  },
  {
   "cell_type": "code",
   "execution_count": 370,
   "metadata": {},
   "outputs": [
    {
     "data": {
      "text/plain": [
       "datetime.datetime(2020, 12, 7, 0, 0)"
      ]
     },
     "execution_count": 370,
     "metadata": {},
     "output_type": "execute_result"
    }
   ],
   "source": [
    "string = \"2020/12/7\"\n",
    "datetime.strptime(string, \"%Y/%m/%d\")  # the string formating must match the given string"
   ]
  },
  {
   "cell_type": "code",
   "execution_count": 371,
   "metadata": {},
   "outputs": [],
   "source": [
    "# consider a string of date in a list\n",
    "\n",
    "d4 = [\"3-12-2011\", \"20-8-2015\", \"9-5-2019\"]\n",
    "\n",
    "\n"
   ]
  },
  {
   "cell_type": "code",
   "execution_count": 372,
   "metadata": {},
   "outputs": [
    {
     "data": {
      "text/plain": [
       "[datetime.datetime(2011, 12, 3, 0, 0),\n",
       " datetime.datetime(2015, 8, 20, 0, 0),\n",
       " datetime.datetime(2019, 5, 9, 0, 0)]"
      ]
     },
     "execution_count": 372,
     "metadata": {},
     "output_type": "execute_result"
    }
   ],
   "source": [
    "output = [datetime.strptime(x, \"%d-%m-%Y\") for x in d4]\n",
    "output  # all the parameters must match the pattern in the string date"
   ]
  },
  {
   "cell_type": "code",
   "execution_count": null,
   "metadata": {},
   "outputs": [],
   "source": []
  },
  {
   "cell_type": "code",
   "execution_count": 373,
   "metadata": {},
   "outputs": [],
   "source": [
    "# we can actually pass date.parse to safe us from all the hassle"
   ]
  },
  {
   "cell_type": "code",
   "execution_count": 374,
   "metadata": {},
   "outputs": [],
   "source": [
    "from dateutil.parser import parse"
   ]
  },
  {
   "cell_type": "code",
   "execution_count": 375,
   "metadata": {},
   "outputs": [
    {
     "data": {
      "text/plain": [
       "[datetime.datetime(2011, 3, 12, 0, 0),\n",
       " datetime.datetime(2015, 8, 20, 0, 0),\n",
       " datetime.datetime(2019, 9, 5, 0, 0)]"
      ]
     },
     "execution_count": 375,
     "metadata": {},
     "output_type": "execute_result"
    }
   ],
   "source": [
    "[parse(x) for x in d4]"
   ]
  },
  {
   "cell_type": "code",
   "execution_count": 376,
   "metadata": {},
   "outputs": [],
   "source": [
    "\n",
    "d5 = [\"3-12-2011\", \"20-8-2015\", \"9-5-2019\", \"20/8/2012\"]"
   ]
  },
  {
   "cell_type": "code",
   "execution_count": 377,
   "metadata": {},
   "outputs": [
    {
     "data": {
      "text/plain": [
       "[datetime.datetime(2011, 12, 3, 0, 0),\n",
       " datetime.datetime(2015, 8, 20, 0, 0),\n",
       " datetime.datetime(2019, 5, 9, 0, 0),\n",
       " datetime.datetime(2012, 8, 20, 0, 0)]"
      ]
     },
     "execution_count": 377,
     "metadata": {},
     "output_type": "execute_result"
    }
   ],
   "source": [
    "[parse(x, dayfirst = True) for x in d5]  # pass day as first output after year"
   ]
  },
  {
   "cell_type": "markdown",
   "metadata": {},
   "source": [
    "# Utilizing data pd.to_datetime function specifically created for arrays and series of dates"
   ]
  },
  {
   "cell_type": "code",
   "execution_count": 378,
   "metadata": {},
   "outputs": [],
   "source": [
    "d6 = [\"2020-10-27\", \"2029-8-30\", \"2020-8-17\", \"2021-8-21\", \"1999/3/4\"]"
   ]
  },
  {
   "cell_type": "code",
   "execution_count": 379,
   "metadata": {},
   "outputs": [
    {
     "data": {
      "text/plain": [
       "Index(['10/27/20', '08/30/29', '08/17/20', '08/21/21', '03/04/99'], dtype='object')"
      ]
     },
     "execution_count": 379,
     "metadata": {},
     "output_type": "execute_result"
    }
   ],
   "source": [
    "pd.to_datetime(d6).strftime(\"%D\")"
   ]
  },
  {
   "cell_type": "code",
   "execution_count": null,
   "metadata": {},
   "outputs": [],
   "source": []
  },
  {
   "cell_type": "code",
   "execution_count": null,
   "metadata": {},
   "outputs": [],
   "source": []
  },
  {
   "cell_type": "code",
   "execution_count": null,
   "metadata": {},
   "outputs": [],
   "source": []
  },
  {
   "cell_type": "code",
   "execution_count": null,
   "metadata": {},
   "outputs": [],
   "source": []
  },
  {
   "cell_type": "code",
   "execution_count": 380,
   "metadata": {},
   "outputs": [],
   "source": [
    "# if there is non date elements in the array, whether an empty string, nan,\n",
    "#pd.dataframe will output it as Nat(not atime)"
   ]
  },
  {
   "cell_type": "code",
   "execution_count": 381,
   "metadata": {},
   "outputs": [],
   "source": [
    "d7 = d6 +[np.nan,  \"\", \"1867/9/10\"]"
   ]
  },
  {
   "cell_type": "code",
   "execution_count": 382,
   "metadata": {},
   "outputs": [
    {
     "data": {
      "text/plain": [
       "['2020-10-27',\n",
       " '2029-8-30',\n",
       " '2020-8-17',\n",
       " '2021-8-21',\n",
       " '1999/3/4',\n",
       " nan,\n",
       " '',\n",
       " '1867/9/10']"
      ]
     },
     "execution_count": 382,
     "metadata": {},
     "output_type": "execute_result"
    }
   ],
   "source": [
    "d7"
   ]
  },
  {
   "cell_type": "code",
   "execution_count": 383,
   "metadata": {},
   "outputs": [
    {
     "data": {
      "text/plain": [
       "Index([           '27/10/20',            '30/08/29',            '17/08/20',\n",
       "                  '21/08/21',            '04/03/99',                   nan,\n",
       "                         nan, '1867-09-10 00:00:00'],\n",
       "      dtype='object')"
      ]
     },
     "execution_count": 383,
     "metadata": {},
     "output_type": "execute_result"
    }
   ],
   "source": [
    "pd.to_datetime(d7).strftime(\"%d/%m/%y\")"
   ]
  },
  {
   "cell_type": "code",
   "execution_count": 384,
   "metadata": {},
   "outputs": [],
   "source": [
    "# the datetime.parse should be carefully use as it recognize any string as number and output it as a date"
   ]
  },
  {
   "cell_type": "code",
   "execution_count": null,
   "metadata": {},
   "outputs": [],
   "source": []
  },
  {
   "cell_type": "markdown",
   "metadata": {},
   "source": [
    "# Time Series Basics"
   ]
  },
  {
   "cell_type": "code",
   "execution_count": null,
   "metadata": {},
   "outputs": [],
   "source": []
  },
  {
   "cell_type": "code",
   "execution_count": 385,
   "metadata": {},
   "outputs": [],
   "source": [
    "data = pd.DataFrame({\"cardio\":[0,1]*100, \"variable\":[\"Cholesterol\", \"Overweight\"]*100, \"value\": np.random.randint(200)})"
   ]
  },
  {
   "cell_type": "code",
   "execution_count": 386,
   "metadata": {
    "scrolled": true
   },
   "outputs": [
    {
     "data": {
      "text/html": [
       "<div>\n",
       "<style scoped>\n",
       "    .dataframe tbody tr th:only-of-type {\n",
       "        vertical-align: middle;\n",
       "    }\n",
       "\n",
       "    .dataframe tbody tr th {\n",
       "        vertical-align: top;\n",
       "    }\n",
       "\n",
       "    .dataframe thead th {\n",
       "        text-align: right;\n",
       "    }\n",
       "</style>\n",
       "<table border=\"1\" class=\"dataframe\">\n",
       "  <thead>\n",
       "    <tr style=\"text-align: right;\">\n",
       "      <th></th>\n",
       "      <th>cardio</th>\n",
       "      <th>variable</th>\n",
       "      <th>value</th>\n",
       "    </tr>\n",
       "  </thead>\n",
       "  <tbody>\n",
       "    <tr>\n",
       "      <th>0</th>\n",
       "      <td>0</td>\n",
       "      <td>Cholesterol</td>\n",
       "      <td>106</td>\n",
       "    </tr>\n",
       "    <tr>\n",
       "      <th>1</th>\n",
       "      <td>1</td>\n",
       "      <td>Overweight</td>\n",
       "      <td>106</td>\n",
       "    </tr>\n",
       "    <tr>\n",
       "      <th>2</th>\n",
       "      <td>0</td>\n",
       "      <td>Cholesterol</td>\n",
       "      <td>106</td>\n",
       "    </tr>\n",
       "    <tr>\n",
       "      <th>3</th>\n",
       "      <td>1</td>\n",
       "      <td>Overweight</td>\n",
       "      <td>106</td>\n",
       "    </tr>\n",
       "    <tr>\n",
       "      <th>4</th>\n",
       "      <td>0</td>\n",
       "      <td>Cholesterol</td>\n",
       "      <td>106</td>\n",
       "    </tr>\n",
       "    <tr>\n",
       "      <th>...</th>\n",
       "      <td>...</td>\n",
       "      <td>...</td>\n",
       "      <td>...</td>\n",
       "    </tr>\n",
       "    <tr>\n",
       "      <th>195</th>\n",
       "      <td>1</td>\n",
       "      <td>Overweight</td>\n",
       "      <td>106</td>\n",
       "    </tr>\n",
       "    <tr>\n",
       "      <th>196</th>\n",
       "      <td>0</td>\n",
       "      <td>Cholesterol</td>\n",
       "      <td>106</td>\n",
       "    </tr>\n",
       "    <tr>\n",
       "      <th>197</th>\n",
       "      <td>1</td>\n",
       "      <td>Overweight</td>\n",
       "      <td>106</td>\n",
       "    </tr>\n",
       "    <tr>\n",
       "      <th>198</th>\n",
       "      <td>0</td>\n",
       "      <td>Cholesterol</td>\n",
       "      <td>106</td>\n",
       "    </tr>\n",
       "    <tr>\n",
       "      <th>199</th>\n",
       "      <td>1</td>\n",
       "      <td>Overweight</td>\n",
       "      <td>106</td>\n",
       "    </tr>\n",
       "  </tbody>\n",
       "</table>\n",
       "<p>200 rows × 3 columns</p>\n",
       "</div>"
      ],
      "text/plain": [
       "     cardio     variable  value\n",
       "0         0  Cholesterol    106\n",
       "1         1   Overweight    106\n",
       "2         0  Cholesterol    106\n",
       "3         1   Overweight    106\n",
       "4         0  Cholesterol    106\n",
       "..      ...          ...    ...\n",
       "195       1   Overweight    106\n",
       "196       0  Cholesterol    106\n",
       "197       1   Overweight    106\n",
       "198       0  Cholesterol    106\n",
       "199       1   Overweight    106\n",
       "\n",
       "[200 rows x 3 columns]"
      ]
     },
     "execution_count": 386,
     "metadata": {},
     "output_type": "execute_result"
    }
   ],
   "source": [
    "#  Stack overflow solution\n",
    "\n",
    "data"
   ]
  },
  {
   "cell_type": "raw",
   "metadata": {},
   "source": [
    "def Group(column, Frame):\n",
    "    return pd.concat([Frame[Frame[column]==0], Frame[Frame[column]==1]])"
   ]
  },
  {
   "cell_type": "raw",
   "metadata": {},
   "source": [
    "Group(\"cardio\", data)  #  this is side attraction"
   ]
  },
  {
   "cell_type": "code",
   "execution_count": null,
   "metadata": {},
   "outputs": [],
   "source": []
  },
  {
   "cell_type": "code",
   "execution_count": 387,
   "metadata": {
    "scrolled": true
   },
   "outputs": [
    {
     "name": "stdout",
     "output_type": "stream",
     "text": [
      "2019-01-10 00:00:00\n",
      "2019-01-11 00:00:00\n",
      "2019-01-13 00:00:00\n",
      "2019-01-16 00:00:00\n",
      "2019-01-20 00:00:00\n",
      "2019-01-25 00:00:00\n",
      "2019-01-31 00:00:00\n",
      "2019-02-07 00:00:00\n",
      "2019-02-15 00:00:00\n",
      "2019-02-24 00:00:00\n"
     ]
    }
   ],
   "source": [
    "# consider the data series below\n",
    "date = datetime(2019,1,10)\n",
    "new = 0\n",
    "while new < 10:\n",
    "    \n",
    "    date = date+timedelta(new)\n",
    "    new+=1\n",
    "    \n",
    "    \n",
    "    \n",
    "    print(date)"
   ]
  },
  {
   "cell_type": "code",
   "execution_count": 388,
   "metadata": {},
   "outputs": [],
   "source": [
    "date =  [datetime(2019,1,1), datetime(2019,1,7), datetime(2019,1,5),\n",
    "                datetime(2019,2,8), datetime(2019,1,4), datetime(2019,1,6),\n",
    "                datetime(2019,1,9), datetime(2019,1,18), datetime(2019,1,28)]\n"
   ]
  },
  {
   "cell_type": "code",
   "execution_count": 389,
   "metadata": {},
   "outputs": [
    {
     "data": {
      "text/plain": [
       "2019-01-01    20\n",
       "2019-01-07    11\n",
       "2019-01-05    10\n",
       "2019-02-08    25\n",
       "2019-01-04    17\n",
       "2019-01-06    18\n",
       "2019-01-09    10\n",
       "2019-01-18    16\n",
       "2019-01-28    15\n",
       "dtype: int32"
      ]
     },
     "execution_count": 389,
     "metadata": {},
     "output_type": "execute_result"
    }
   ],
   "source": [
    "Series = pd.Series(np.random.randint(10,29, 9), index = date)\n",
    "Series\n"
   ]
  },
  {
   "cell_type": "code",
   "execution_count": 390,
   "metadata": {},
   "outputs": [
    {
     "data": {
      "text/plain": [
       "DatetimeIndex(['2019-01-05', '2019-02-08', '2019-01-04', '2019-01-06',\n",
       "               '2019-01-09', '2019-01-18', '2019-01-28'],\n",
       "              dtype='datetime64[ns]', freq=None)"
      ]
     },
     "execution_count": 390,
     "metadata": {},
     "output_type": "execute_result"
    }
   ],
   "source": [
    "Series.index[2:]"
   ]
  },
  {
   "cell_type": "code",
   "execution_count": 391,
   "metadata": {},
   "outputs": [],
   "source": [
    "#  we can perform arithmetics with the series"
   ]
  },
  {
   "cell_type": "code",
   "execution_count": 392,
   "metadata": {},
   "outputs": [
    {
     "data": {
      "text/plain": [
       "2019-01-01    40.0\n",
       "2019-01-04    34.0\n",
       "2019-01-05    20.0\n",
       "2019-01-06     NaN\n",
       "2019-01-07     NaN\n",
       "2019-01-09    20.0\n",
       "2019-01-18     NaN\n",
       "2019-01-28    30.0\n",
       "2019-02-08     NaN\n",
       "dtype: float64"
      ]
     },
     "execution_count": 392,
     "metadata": {},
     "output_type": "execute_result"
    }
   ],
   "source": [
    "Series + Series[::2]  # adds every next two elements in the time series "
   ]
  },
  {
   "cell_type": "code",
   "execution_count": 393,
   "metadata": {},
   "outputs": [
    {
     "data": {
      "text/plain": [
       "DatetimeIndex(['2019-01-01', '2019-01-07', '2019-01-05', '2019-02-08',\n",
       "               '2019-01-04', '2019-01-06', '2019-01-09', '2019-01-18',\n",
       "               '2019-01-28'],\n",
       "              dtype='datetime64[ns]', freq=None)"
      ]
     },
     "execution_count": 393,
     "metadata": {},
     "output_type": "execute_result"
    }
   ],
   "source": [
    "Series.index"
   ]
  },
  {
   "cell_type": "code",
   "execution_count": 394,
   "metadata": {},
   "outputs": [
    {
     "data": {
      "text/plain": [
       "Timestamp('2019-01-05 00:00:00')"
      ]
     },
     "execution_count": 394,
     "metadata": {},
     "output_type": "execute_result"
    }
   ],
   "source": [
    "Stamp = Series.index[2]\n",
    "Stamp"
   ]
  },
  {
   "cell_type": "code",
   "execution_count": 395,
   "metadata": {},
   "outputs": [],
   "source": [
    "# Indexing, Selecting and Subsetting TimeSeies"
   ]
  },
  {
   "cell_type": "code",
   "execution_count": 396,
   "metadata": {},
   "outputs": [
    {
     "data": {
      "text/plain": [
       "10"
      ]
     },
     "execution_count": 396,
     "metadata": {},
     "output_type": "execute_result"
    }
   ],
   "source": [
    "Series[Stamp]"
   ]
  },
  {
   "cell_type": "code",
   "execution_count": 397,
   "metadata": {},
   "outputs": [
    {
     "data": {
      "text/plain": [
       "2019-02-08    25\n",
       "dtype: int32"
      ]
     },
     "execution_count": 397,
     "metadata": {},
     "output_type": "execute_result"
    }
   ],
   "source": [
    "# we can pass as index as a readable string date\n",
    "\n",
    "Series[\"2019/2/8\"]\n",
    "\n"
   ]
  },
  {
   "cell_type": "code",
   "execution_count": 398,
   "metadata": {},
   "outputs": [],
   "source": [
    "# Time Series date range"
   ]
  },
  {
   "cell_type": "code",
   "execution_count": 399,
   "metadata": {},
   "outputs": [
    {
     "data": {
      "text/plain": [
       "DatetimeIndex(['2015-01-01', '2015-01-02', '2015-01-03', '2015-01-04',\n",
       "               '2015-01-05', '2015-01-06', '2015-01-07', '2015-01-08',\n",
       "               '2015-01-09', '2015-01-10',\n",
       "               ...\n",
       "               '2017-09-17', '2017-09-18', '2017-09-19', '2017-09-20',\n",
       "               '2017-09-21', '2017-09-22', '2017-09-23', '2017-09-24',\n",
       "               '2017-09-25', '2017-09-26'],\n",
       "              dtype='datetime64[ns]', length=1000, freq='D')"
      ]
     },
     "execution_count": 399,
     "metadata": {},
     "output_type": "execute_result"
    }
   ],
   "source": [
    "date = pd.date_range(\"1/1/2015\", periods= 1000) # this is our date range\n",
    "date"
   ]
  },
  {
   "cell_type": "code",
   "execution_count": 400,
   "metadata": {},
   "outputs": [
    {
     "data": {
      "text/plain": [
       "2015-01-01    140\n",
       "2015-01-02    131\n",
       "2015-01-03    113\n",
       "2015-01-04    129\n",
       "2015-01-05    128\n",
       "             ... \n",
       "2017-09-22    112\n",
       "2017-09-23    142\n",
       "2017-09-24    115\n",
       "2017-09-25    144\n",
       "2017-09-26    140\n",
       "Freq: D, Length: 1000, dtype: int32"
      ]
     },
     "execution_count": 400,
     "metadata": {},
     "output_type": "execute_result"
    }
   ],
   "source": [
    "Data = pd.Series(np.random.randint(100,150, 1000), index = date) \n",
    "Data"
   ]
  },
  {
   "cell_type": "code",
   "execution_count": 401,
   "metadata": {},
   "outputs": [
    {
     "data": {
      "text/plain": [
       "2015-01-01    140\n",
       "2015-01-02    131\n",
       "2015-01-03    113\n",
       "2015-01-04    129\n",
       "2015-01-05    128\n",
       "             ... \n",
       "2015-12-27    143\n",
       "2015-12-28    131\n",
       "2015-12-29    106\n",
       "2015-12-30    146\n",
       "2015-12-31    129\n",
       "Freq: D, Length: 365, dtype: int32"
      ]
     },
     "execution_count": 401,
     "metadata": {},
     "output_type": "execute_result"
    }
   ],
   "source": [
    "Data[\"2015\"]  # out put just all 2015 data"
   ]
  },
  {
   "cell_type": "code",
   "execution_count": 402,
   "metadata": {},
   "outputs": [
    {
     "data": {
      "text/plain": [
       "2015-01-01    140\n",
       "2015-01-02    131\n",
       "2015-01-03    113\n",
       "2015-01-04    129\n",
       "2015-01-05    128\n",
       "             ... \n",
       "2016-12-27    140\n",
       "2016-12-28    105\n",
       "2016-12-29    121\n",
       "2016-12-30    123\n",
       "2016-12-31    106\n",
       "Freq: D, Length: 731, dtype: int32"
      ]
     },
     "execution_count": 402,
     "metadata": {},
     "output_type": "execute_result"
    }
   ],
   "source": [
    "Data[\"2015\":\"2016\"]  #  out put all 2015 and 2016"
   ]
  },
  {
   "cell_type": "code",
   "execution_count": 403,
   "metadata": {},
   "outputs": [
    {
     "data": {
      "text/plain": [
       "2015-01-01    140\n",
       "2015-01-02    131\n",
       "2015-01-03    113\n",
       "2015-01-04    129\n",
       "2015-01-05    128\n",
       "             ... \n",
       "2016-12-27    140\n",
       "2016-12-28    105\n",
       "2016-12-29    121\n",
       "2016-12-30    123\n",
       "2016-12-31    106\n",
       "Freq: D, Length: 731, dtype: int32"
      ]
     },
     "execution_count": 403,
     "metadata": {},
     "output_type": "execute_result"
    }
   ],
   "source": [
    "Data[:\"2016\"]"
   ]
  },
  {
   "cell_type": "code",
   "execution_count": null,
   "metadata": {},
   "outputs": [],
   "source": []
  },
  {
   "cell_type": "code",
   "execution_count": 404,
   "metadata": {},
   "outputs": [],
   "source": [
    "    # we can dice using year and month|"
   ]
  },
  {
   "cell_type": "code",
   "execution_count": 405,
   "metadata": {},
   "outputs": [
    {
     "data": {
      "text/plain": [
       "2015-03-01    128\n",
       "2015-03-02    124\n",
       "2015-03-03    102\n",
       "2015-03-04    141\n",
       "2015-03-05    120\n",
       "2015-03-06    113\n",
       "2015-03-07    129\n",
       "2015-03-08    140\n",
       "2015-03-09    142\n",
       "2015-03-10    130\n",
       "2015-03-11    131\n",
       "2015-03-12    130\n",
       "2015-03-13    130\n",
       "2015-03-14    109\n",
       "2015-03-15    143\n",
       "2015-03-16    145\n",
       "2015-03-17    104\n",
       "2015-03-18    132\n",
       "2015-03-19    121\n",
       "2015-03-20    101\n",
       "2015-03-21    138\n",
       "2015-03-22    114\n",
       "2015-03-23    128\n",
       "2015-03-24    139\n",
       "2015-03-25    135\n",
       "2015-03-26    123\n",
       "2015-03-27    128\n",
       "2015-03-28    137\n",
       "2015-03-29    124\n",
       "2015-03-30    149\n",
       "2015-03-31    123\n",
       "Freq: D, dtype: int32"
      ]
     },
     "execution_count": 405,
     "metadata": {},
     "output_type": "execute_result"
    }
   ],
   "source": [
    "Data[\"2015-03\"] # slice through just 3rd of match "
   ]
  },
  {
   "cell_type": "code",
   "execution_count": 406,
   "metadata": {},
   "outputs": [
    {
     "data": {
      "text/plain": [
       "2016-01-01    134\n",
       "2016-01-02    145\n",
       "2016-01-03    141\n",
       "2016-01-04    102\n",
       "2016-01-05    129\n",
       "             ... \n",
       "2017-09-22    112\n",
       "2017-09-23    142\n",
       "2017-09-24    115\n",
       "2017-09-25    144\n",
       "2017-09-26    140\n",
       "Freq: D, Length: 635, dtype: int32"
      ]
     },
     "execution_count": 406,
     "metadata": {},
     "output_type": "execute_result"
    }
   ],
   "source": [
    "# we can slice with daye time object\n",
    "\n",
    "Data[datetime(2016,1, 1):]  #  slice through the datetime date up to the last date in the series"
   ]
  },
  {
   "cell_type": "code",
   "execution_count": 407,
   "metadata": {},
   "outputs": [
    {
     "data": {
      "text/plain": [
       "2015-01-01    140\n",
       "2015-01-02    131\n",
       "2015-01-03    113\n",
       "2015-01-04    129\n",
       "2015-01-05    128\n",
       "             ... \n",
       "2015-12-27    143\n",
       "2015-12-28    131\n",
       "2015-12-29    106\n",
       "2015-12-30    146\n",
       "2015-12-31    129\n",
       "Freq: D, Length: 365, dtype: int32"
      ]
     },
     "execution_count": 407,
     "metadata": {},
     "output_type": "execute_result"
    }
   ],
   "source": [
    "Data[datetime(2015,1, 1): datetime(2015,12,31)] # slice from first jan 2015 to dec 2015"
   ]
  },
  {
   "cell_type": "code",
   "execution_count": 408,
   "metadata": {},
   "outputs": [
    {
     "data": {
      "text/plain": [
       "2015-01-01    140\n",
       "2015-01-02    131\n",
       "2015-01-03    113\n",
       "2015-01-04    129\n",
       "2015-01-05    128\n",
       "             ... \n",
       "2015-12-27    143\n",
       "2015-12-28    131\n",
       "2015-12-29    106\n",
       "2015-12-30    146\n",
       "2015-12-31    129\n",
       "Freq: D, Length: 365, dtype: int32"
      ]
     },
     "execution_count": 408,
     "metadata": {},
     "output_type": "execute_result"
    }
   ],
   "source": [
    "Data[\"2015/1/1\":\"2015/12/31\"]  # same output as above"
   ]
  },
  {
   "cell_type": "code",
   "execution_count": 409,
   "metadata": {},
   "outputs": [
    {
     "data": {
      "text/plain": [
       "2016-01-01    134\n",
       "2016-01-02    145\n",
       "2016-01-03    141\n",
       "2016-01-04    102\n",
       "2016-01-05    129\n",
       "             ... \n",
       "2016-07-02    143\n",
       "2016-07-03    121\n",
       "2016-07-04    122\n",
       "2016-07-05    110\n",
       "2016-07-06    127\n",
       "Freq: D, Length: 188, dtype: int32"
      ]
     },
     "execution_count": 409,
     "metadata": {},
     "output_type": "execute_result"
    }
   ],
   "source": [
    "Data[\"1/1/2016\":\"7/6/2016\"]     # we can rearrange the pass date and still slice through the series"
   ]
  },
  {
   "cell_type": "code",
   "execution_count": null,
   "metadata": {},
   "outputs": [],
   "source": []
  },
  {
   "cell_type": "code",
   "execution_count": 410,
   "metadata": {},
   "outputs": [
    {
     "data": {
      "text/plain": [
       "2015-01-01    140\n",
       "2015-01-02    131\n",
       "2015-01-03    113\n",
       "2015-01-04    129\n",
       "2015-01-05    128\n",
       "2015-01-06    133\n",
       "2015-01-07    141\n",
       "2015-01-08    125\n",
       "2015-01-09    120\n",
       "2015-01-10    143\n",
       "2015-01-11    104\n",
       "2015-01-12    115\n",
       "2015-01-13    125\n",
       "2015-01-14    133\n",
       "2015-01-15    138\n",
       "2015-01-16    145\n",
       "2015-01-17    106\n",
       "2015-01-18    105\n",
       "2015-01-19    114\n",
       "2015-01-20    133\n",
       "2015-01-21    129\n",
       "2015-01-22    105\n",
       "2015-01-23    138\n",
       "2015-01-24    140\n",
       "2015-01-25    129\n",
       "2015-01-26    139\n",
       "2015-01-27    104\n",
       "2015-01-28    116\n",
       "2015-01-29    102\n",
       "2015-01-30    103\n",
       "2015-01-31    118\n",
       "Freq: D, dtype: int32"
      ]
     },
     "execution_count": 410,
     "metadata": {},
     "output_type": "execute_result"
    }
   ],
   "source": [
    "Data.truncate(after=\"1/31/2015\")  # Truncate(\"Remove\") the date after the pass argument to the date Date series"
   ]
  },
  {
   "cell_type": "code",
   "execution_count": 411,
   "metadata": {},
   "outputs": [],
   "source": [
    "#  We can apply all of this to dataframe\n",
    "# lets start with DataFrame"
   ]
  },
  {
   "cell_type": "code",
   "execution_count": 412,
   "metadata": {},
   "outputs": [
    {
     "data": {
      "text/plain": [
       "DatetimeIndex(['2010-01-04', '2010-01-11', '2010-01-18', '2010-01-25',\n",
       "               '2010-02-01', '2010-02-08', '2010-02-15', '2010-02-22',\n",
       "               '2010-03-01', '2010-03-08', '2010-03-15', '2010-03-22',\n",
       "               '2010-03-29', '2010-04-05', '2010-04-12', '2010-04-19',\n",
       "               '2010-04-26', '2010-05-03', '2010-05-10', '2010-05-17',\n",
       "               '2010-05-24', '2010-05-31', '2010-06-07', '2010-06-14',\n",
       "               '2010-06-21', '2010-06-28', '2010-07-05', '2010-07-12',\n",
       "               '2010-07-19', '2010-07-26', '2010-08-02', '2010-08-09',\n",
       "               '2010-08-16', '2010-08-23', '2010-08-30', '2010-09-06',\n",
       "               '2010-09-13', '2010-09-20', '2010-09-27', '2010-10-04',\n",
       "               '2010-10-11', '2010-10-18', '2010-10-25', '2010-11-01',\n",
       "               '2010-11-08', '2010-11-15', '2010-11-22', '2010-11-29',\n",
       "               '2010-12-06', '2010-12-13', '2010-12-20', '2010-12-27',\n",
       "               '2011-01-03', '2011-01-10', '2011-01-17', '2011-01-24',\n",
       "               '2011-01-31', '2011-02-07', '2011-02-14', '2011-02-21',\n",
       "               '2011-02-28', '2011-03-07', '2011-03-14', '2011-03-21',\n",
       "               '2011-03-28', '2011-04-04', '2011-04-11', '2011-04-18',\n",
       "               '2011-04-25', '2011-05-02', '2011-05-09', '2011-05-16',\n",
       "               '2011-05-23', '2011-05-30', '2011-06-06', '2011-06-13',\n",
       "               '2011-06-20', '2011-06-27', '2011-07-04', '2011-07-11',\n",
       "               '2011-07-18', '2011-07-25', '2011-08-01', '2011-08-08',\n",
       "               '2011-08-15', '2011-08-22', '2011-08-29', '2011-09-05',\n",
       "               '2011-09-12', '2011-09-19', '2011-09-26', '2011-10-03',\n",
       "               '2011-10-10', '2011-10-17', '2011-10-24', '2011-10-31',\n",
       "               '2011-11-07', '2011-11-14', '2011-11-21', '2011-11-28'],\n",
       "              dtype='datetime64[ns]', freq='W-MON')"
      ]
     },
     "execution_count": 412,
     "metadata": {},
     "output_type": "execute_result"
    }
   ],
   "source": [
    "dates = pd.date_range(\"1/1/2010\", periods = 100, freq = \"W-MON\")     \n",
    "dates  #  Frequency indicates the weekly number increase by day passed in the fre function"
   ]
  },
  {
   "cell_type": "code",
   "execution_count": 413,
   "metadata": {},
   "outputs": [],
   "source": [
    "Data1 = pd.DataFrame(np.linspace(20,50,400).reshape((100,4)), \n",
    "                     columns = [\"Lagos\", \"Kano\", \"Abuja\", \"PH\"], index = dates)\n"
   ]
  },
  {
   "cell_type": "code",
   "execution_count": 414,
   "metadata": {},
   "outputs": [
    {
     "data": {
      "text/html": [
       "<div>\n",
       "<style scoped>\n",
       "    .dataframe tbody tr th:only-of-type {\n",
       "        vertical-align: middle;\n",
       "    }\n",
       "\n",
       "    .dataframe tbody tr th {\n",
       "        vertical-align: top;\n",
       "    }\n",
       "\n",
       "    .dataframe thead th {\n",
       "        text-align: right;\n",
       "    }\n",
       "</style>\n",
       "<table border=\"1\" class=\"dataframe\">\n",
       "  <thead>\n",
       "    <tr style=\"text-align: right;\">\n",
       "      <th></th>\n",
       "      <th>Lagos</th>\n",
       "      <th>Kano</th>\n",
       "      <th>Abuja</th>\n",
       "      <th>PH</th>\n",
       "    </tr>\n",
       "  </thead>\n",
       "  <tbody>\n",
       "    <tr>\n",
       "      <th>2011-05-02</th>\n",
       "      <td>40.751880</td>\n",
       "      <td>40.827068</td>\n",
       "      <td>40.902256</td>\n",
       "      <td>40.977444</td>\n",
       "    </tr>\n",
       "    <tr>\n",
       "      <th>2011-05-09</th>\n",
       "      <td>41.052632</td>\n",
       "      <td>41.127820</td>\n",
       "      <td>41.203008</td>\n",
       "      <td>41.278195</td>\n",
       "    </tr>\n",
       "    <tr>\n",
       "      <th>2011-05-16</th>\n",
       "      <td>41.353383</td>\n",
       "      <td>41.428571</td>\n",
       "      <td>41.503759</td>\n",
       "      <td>41.578947</td>\n",
       "    </tr>\n",
       "    <tr>\n",
       "      <th>2011-05-23</th>\n",
       "      <td>41.654135</td>\n",
       "      <td>41.729323</td>\n",
       "      <td>41.804511</td>\n",
       "      <td>41.879699</td>\n",
       "    </tr>\n",
       "    <tr>\n",
       "      <th>2011-05-30</th>\n",
       "      <td>41.954887</td>\n",
       "      <td>42.030075</td>\n",
       "      <td>42.105263</td>\n",
       "      <td>42.180451</td>\n",
       "    </tr>\n",
       "  </tbody>\n",
       "</table>\n",
       "</div>"
      ],
      "text/plain": [
       "                Lagos       Kano      Abuja         PH\n",
       "2011-05-02  40.751880  40.827068  40.902256  40.977444\n",
       "2011-05-09  41.052632  41.127820  41.203008  41.278195\n",
       "2011-05-16  41.353383  41.428571  41.503759  41.578947\n",
       "2011-05-23  41.654135  41.729323  41.804511  41.879699\n",
       "2011-05-30  41.954887  42.030075  42.105263  42.180451"
      ]
     },
     "execution_count": 414,
     "metadata": {},
     "output_type": "execute_result"
    }
   ],
   "source": [
    "Data1[\"5/2011\"]  # slice through just  may 2011"
   ]
  },
  {
   "cell_type": "code",
   "execution_count": 415,
   "metadata": {},
   "outputs": [
    {
     "data": {
      "text/html": [
       "<div>\n",
       "<style scoped>\n",
       "    .dataframe tbody tr th:only-of-type {\n",
       "        vertical-align: middle;\n",
       "    }\n",
       "\n",
       "    .dataframe tbody tr th {\n",
       "        vertical-align: top;\n",
       "    }\n",
       "\n",
       "    .dataframe thead th {\n",
       "        text-align: right;\n",
       "    }\n",
       "</style>\n",
       "<table border=\"1\" class=\"dataframe\">\n",
       "  <thead>\n",
       "    <tr style=\"text-align: right;\">\n",
       "      <th></th>\n",
       "      <th>PH</th>\n",
       "      <th>Lagos</th>\n",
       "    </tr>\n",
       "  </thead>\n",
       "  <tbody>\n",
       "    <tr>\n",
       "      <th>2010-01-04</th>\n",
       "      <td>20.225564</td>\n",
       "      <td>20.000000</td>\n",
       "    </tr>\n",
       "    <tr>\n",
       "      <th>2010-01-11</th>\n",
       "      <td>20.526316</td>\n",
       "      <td>20.300752</td>\n",
       "    </tr>\n",
       "    <tr>\n",
       "      <th>2010-01-18</th>\n",
       "      <td>20.827068</td>\n",
       "      <td>20.601504</td>\n",
       "    </tr>\n",
       "    <tr>\n",
       "      <th>2010-01-25</th>\n",
       "      <td>21.127820</td>\n",
       "      <td>20.902256</td>\n",
       "    </tr>\n",
       "    <tr>\n",
       "      <th>2010-02-01</th>\n",
       "      <td>21.428571</td>\n",
       "      <td>21.203008</td>\n",
       "    </tr>\n",
       "    <tr>\n",
       "      <th>2010-02-08</th>\n",
       "      <td>21.729323</td>\n",
       "      <td>21.503759</td>\n",
       "    </tr>\n",
       "    <tr>\n",
       "      <th>2010-02-15</th>\n",
       "      <td>22.030075</td>\n",
       "      <td>21.804511</td>\n",
       "    </tr>\n",
       "    <tr>\n",
       "      <th>2010-02-22</th>\n",
       "      <td>22.330827</td>\n",
       "      <td>22.105263</td>\n",
       "    </tr>\n",
       "    <tr>\n",
       "      <th>2010-03-01</th>\n",
       "      <td>22.631579</td>\n",
       "      <td>22.406015</td>\n",
       "    </tr>\n",
       "    <tr>\n",
       "      <th>2010-03-08</th>\n",
       "      <td>22.932331</td>\n",
       "      <td>22.706767</td>\n",
       "    </tr>\n",
       "    <tr>\n",
       "      <th>2010-03-15</th>\n",
       "      <td>23.233083</td>\n",
       "      <td>23.007519</td>\n",
       "    </tr>\n",
       "    <tr>\n",
       "      <th>2010-03-22</th>\n",
       "      <td>23.533835</td>\n",
       "      <td>23.308271</td>\n",
       "    </tr>\n",
       "    <tr>\n",
       "      <th>2010-03-29</th>\n",
       "      <td>23.834586</td>\n",
       "      <td>23.609023</td>\n",
       "    </tr>\n",
       "    <tr>\n",
       "      <th>2010-04-05</th>\n",
       "      <td>24.135338</td>\n",
       "      <td>23.909774</td>\n",
       "    </tr>\n",
       "    <tr>\n",
       "      <th>2010-04-12</th>\n",
       "      <td>24.436090</td>\n",
       "      <td>24.210526</td>\n",
       "    </tr>\n",
       "    <tr>\n",
       "      <th>2010-04-19</th>\n",
       "      <td>24.736842</td>\n",
       "      <td>24.511278</td>\n",
       "    </tr>\n",
       "    <tr>\n",
       "      <th>2010-04-26</th>\n",
       "      <td>25.037594</td>\n",
       "      <td>24.812030</td>\n",
       "    </tr>\n",
       "    <tr>\n",
       "      <th>2010-05-03</th>\n",
       "      <td>25.338346</td>\n",
       "      <td>25.112782</td>\n",
       "    </tr>\n",
       "    <tr>\n",
       "      <th>2010-05-10</th>\n",
       "      <td>25.639098</td>\n",
       "      <td>25.413534</td>\n",
       "    </tr>\n",
       "    <tr>\n",
       "      <th>2010-05-17</th>\n",
       "      <td>25.939850</td>\n",
       "      <td>25.714286</td>\n",
       "    </tr>\n",
       "    <tr>\n",
       "      <th>2010-05-24</th>\n",
       "      <td>26.240602</td>\n",
       "      <td>26.015038</td>\n",
       "    </tr>\n",
       "    <tr>\n",
       "      <th>2010-05-31</th>\n",
       "      <td>26.541353</td>\n",
       "      <td>26.315789</td>\n",
       "    </tr>\n",
       "    <tr>\n",
       "      <th>2010-06-07</th>\n",
       "      <td>26.842105</td>\n",
       "      <td>26.616541</td>\n",
       "    </tr>\n",
       "    <tr>\n",
       "      <th>2010-06-14</th>\n",
       "      <td>27.142857</td>\n",
       "      <td>26.917293</td>\n",
       "    </tr>\n",
       "    <tr>\n",
       "      <th>2010-06-21</th>\n",
       "      <td>27.443609</td>\n",
       "      <td>27.218045</td>\n",
       "    </tr>\n",
       "    <tr>\n",
       "      <th>2010-06-28</th>\n",
       "      <td>27.744361</td>\n",
       "      <td>27.518797</td>\n",
       "    </tr>\n",
       "    <tr>\n",
       "      <th>2010-07-05</th>\n",
       "      <td>28.045113</td>\n",
       "      <td>27.819549</td>\n",
       "    </tr>\n",
       "    <tr>\n",
       "      <th>2010-07-12</th>\n",
       "      <td>28.345865</td>\n",
       "      <td>28.120301</td>\n",
       "    </tr>\n",
       "    <tr>\n",
       "      <th>2010-07-19</th>\n",
       "      <td>28.646617</td>\n",
       "      <td>28.421053</td>\n",
       "    </tr>\n",
       "    <tr>\n",
       "      <th>2010-07-26</th>\n",
       "      <td>28.947368</td>\n",
       "      <td>28.721805</td>\n",
       "    </tr>\n",
       "    <tr>\n",
       "      <th>2010-08-02</th>\n",
       "      <td>29.248120</td>\n",
       "      <td>29.022556</td>\n",
       "    </tr>\n",
       "    <tr>\n",
       "      <th>2010-08-09</th>\n",
       "      <td>29.548872</td>\n",
       "      <td>29.323308</td>\n",
       "    </tr>\n",
       "    <tr>\n",
       "      <th>2010-08-16</th>\n",
       "      <td>29.849624</td>\n",
       "      <td>29.624060</td>\n",
       "    </tr>\n",
       "    <tr>\n",
       "      <th>2010-08-23</th>\n",
       "      <td>30.150376</td>\n",
       "      <td>29.924812</td>\n",
       "    </tr>\n",
       "    <tr>\n",
       "      <th>2010-08-30</th>\n",
       "      <td>30.451128</td>\n",
       "      <td>30.225564</td>\n",
       "    </tr>\n",
       "    <tr>\n",
       "      <th>2010-09-06</th>\n",
       "      <td>30.751880</td>\n",
       "      <td>30.526316</td>\n",
       "    </tr>\n",
       "    <tr>\n",
       "      <th>2010-09-13</th>\n",
       "      <td>31.052632</td>\n",
       "      <td>30.827068</td>\n",
       "    </tr>\n",
       "    <tr>\n",
       "      <th>2010-09-20</th>\n",
       "      <td>31.353383</td>\n",
       "      <td>31.127820</td>\n",
       "    </tr>\n",
       "    <tr>\n",
       "      <th>2010-09-27</th>\n",
       "      <td>31.654135</td>\n",
       "      <td>31.428571</td>\n",
       "    </tr>\n",
       "    <tr>\n",
       "      <th>2010-10-04</th>\n",
       "      <td>31.954887</td>\n",
       "      <td>31.729323</td>\n",
       "    </tr>\n",
       "    <tr>\n",
       "      <th>2010-10-11</th>\n",
       "      <td>32.255639</td>\n",
       "      <td>32.030075</td>\n",
       "    </tr>\n",
       "    <tr>\n",
       "      <th>2010-10-18</th>\n",
       "      <td>32.556391</td>\n",
       "      <td>32.330827</td>\n",
       "    </tr>\n",
       "    <tr>\n",
       "      <th>2010-10-25</th>\n",
       "      <td>32.857143</td>\n",
       "      <td>32.631579</td>\n",
       "    </tr>\n",
       "    <tr>\n",
       "      <th>2010-11-01</th>\n",
       "      <td>33.157895</td>\n",
       "      <td>32.932331</td>\n",
       "    </tr>\n",
       "    <tr>\n",
       "      <th>2010-11-08</th>\n",
       "      <td>33.458647</td>\n",
       "      <td>33.233083</td>\n",
       "    </tr>\n",
       "    <tr>\n",
       "      <th>2010-11-15</th>\n",
       "      <td>33.759398</td>\n",
       "      <td>33.533835</td>\n",
       "    </tr>\n",
       "    <tr>\n",
       "      <th>2010-11-22</th>\n",
       "      <td>34.060150</td>\n",
       "      <td>33.834586</td>\n",
       "    </tr>\n",
       "    <tr>\n",
       "      <th>2010-11-29</th>\n",
       "      <td>34.360902</td>\n",
       "      <td>34.135338</td>\n",
       "    </tr>\n",
       "    <tr>\n",
       "      <th>2010-12-06</th>\n",
       "      <td>34.661654</td>\n",
       "      <td>34.436090</td>\n",
       "    </tr>\n",
       "    <tr>\n",
       "      <th>2010-12-13</th>\n",
       "      <td>34.962406</td>\n",
       "      <td>34.736842</td>\n",
       "    </tr>\n",
       "    <tr>\n",
       "      <th>2010-12-20</th>\n",
       "      <td>35.263158</td>\n",
       "      <td>35.037594</td>\n",
       "    </tr>\n",
       "    <tr>\n",
       "      <th>2010-12-27</th>\n",
       "      <td>35.563910</td>\n",
       "      <td>35.338346</td>\n",
       "    </tr>\n",
       "  </tbody>\n",
       "</table>\n",
       "</div>"
      ],
      "text/plain": [
       "                   PH      Lagos\n",
       "2010-01-04  20.225564  20.000000\n",
       "2010-01-11  20.526316  20.300752\n",
       "2010-01-18  20.827068  20.601504\n",
       "2010-01-25  21.127820  20.902256\n",
       "2010-02-01  21.428571  21.203008\n",
       "2010-02-08  21.729323  21.503759\n",
       "2010-02-15  22.030075  21.804511\n",
       "2010-02-22  22.330827  22.105263\n",
       "2010-03-01  22.631579  22.406015\n",
       "2010-03-08  22.932331  22.706767\n",
       "2010-03-15  23.233083  23.007519\n",
       "2010-03-22  23.533835  23.308271\n",
       "2010-03-29  23.834586  23.609023\n",
       "2010-04-05  24.135338  23.909774\n",
       "2010-04-12  24.436090  24.210526\n",
       "2010-04-19  24.736842  24.511278\n",
       "2010-04-26  25.037594  24.812030\n",
       "2010-05-03  25.338346  25.112782\n",
       "2010-05-10  25.639098  25.413534\n",
       "2010-05-17  25.939850  25.714286\n",
       "2010-05-24  26.240602  26.015038\n",
       "2010-05-31  26.541353  26.315789\n",
       "2010-06-07  26.842105  26.616541\n",
       "2010-06-14  27.142857  26.917293\n",
       "2010-06-21  27.443609  27.218045\n",
       "2010-06-28  27.744361  27.518797\n",
       "2010-07-05  28.045113  27.819549\n",
       "2010-07-12  28.345865  28.120301\n",
       "2010-07-19  28.646617  28.421053\n",
       "2010-07-26  28.947368  28.721805\n",
       "2010-08-02  29.248120  29.022556\n",
       "2010-08-09  29.548872  29.323308\n",
       "2010-08-16  29.849624  29.624060\n",
       "2010-08-23  30.150376  29.924812\n",
       "2010-08-30  30.451128  30.225564\n",
       "2010-09-06  30.751880  30.526316\n",
       "2010-09-13  31.052632  30.827068\n",
       "2010-09-20  31.353383  31.127820\n",
       "2010-09-27  31.654135  31.428571\n",
       "2010-10-04  31.954887  31.729323\n",
       "2010-10-11  32.255639  32.030075\n",
       "2010-10-18  32.556391  32.330827\n",
       "2010-10-25  32.857143  32.631579\n",
       "2010-11-01  33.157895  32.932331\n",
       "2010-11-08  33.458647  33.233083\n",
       "2010-11-15  33.759398  33.533835\n",
       "2010-11-22  34.060150  33.834586\n",
       "2010-11-29  34.360902  34.135338\n",
       "2010-12-06  34.661654  34.436090\n",
       "2010-12-13  34.962406  34.736842\n",
       "2010-12-20  35.263158  35.037594\n",
       "2010-12-27  35.563910  35.338346"
      ]
     },
     "execution_count": 415,
     "metadata": {},
     "output_type": "execute_result"
    }
   ],
   "source": [
    "Data1.loc[\"2010\", [\"PH\", \"Lagos\"]]"
   ]
  },
  {
   "cell_type": "code",
   "execution_count": null,
   "metadata": {},
   "outputs": [],
   "source": []
  },
  {
   "cell_type": "code",
   "execution_count": 416,
   "metadata": {},
   "outputs": [],
   "source": [
    "# Time series with duplicates index"
   ]
  },
  {
   "cell_type": "code",
   "execution_count": 417,
   "metadata": {},
   "outputs": [
    {
     "data": {
      "text/plain": [
       "2010-01-01    0\n",
       "2010-03-01    1\n",
       "2010-03-01    2\n",
       "2019-10-01    3\n",
       "2010-01-01    4\n",
       "2010-03-01    5\n",
       "dtype: int32"
      ]
     },
     "execution_count": 417,
     "metadata": {},
     "output_type": "execute_result"
    }
   ],
   "source": [
    "date = pd.DatetimeIndex([\"1/1/2010\", \"3/1/2010\", \"3/1/2010\", \"10,1,2019\", \"1/1/2010\", \"3/1/2010\"])\n",
    "Data2 = pd.Series(np.arange(6), index = date)\n",
    "Data2"
   ]
  },
  {
   "cell_type": "code",
   "execution_count": 418,
   "metadata": {},
   "outputs": [
    {
     "data": {
      "text/plain": [
       "DatetimeIndex(['2010-01-01', '2010-03-01', '2019-10-01'], dtype='datetime64[ns]', freq=None)"
      ]
     },
     "execution_count": 418,
     "metadata": {},
     "output_type": "execute_result"
    }
   ],
   "source": [
    "Data2.index.unique()"
   ]
  },
  {
   "cell_type": "code",
   "execution_count": 419,
   "metadata": {},
   "outputs": [
    {
     "data": {
      "text/plain": [
       "False"
      ]
     },
     "execution_count": 419,
     "metadata": {},
     "output_type": "execute_result"
    }
   ],
   "source": [
    "Data2.index.is_unique  # shows that the index are not Unique"
   ]
  },
  {
   "cell_type": "code",
   "execution_count": 420,
   "metadata": {},
   "outputs": [
    {
     "data": {
      "text/plain": [
       "2010-01-01    0\n",
       "2010-01-01    4\n",
       "dtype: int32"
      ]
     },
     "execution_count": 420,
     "metadata": {},
     "output_type": "execute_result"
    }
   ],
   "source": [
    "Data2[\"1/1/2010\"]  # PRoduce all the duplicated values for that time stamp"
   ]
  },
  {
   "cell_type": "code",
   "execution_count": 421,
   "metadata": {},
   "outputs": [
    {
     "data": {
      "text/plain": [
       "2010-01-01    2.000000\n",
       "2010-03-01    2.666667\n",
       "2019-10-01    3.000000\n",
       "dtype: float64"
      ]
     },
     "execution_count": 421,
     "metadata": {},
     "output_type": "execute_result"
    }
   ],
   "source": [
    "Data2.groupby(level =0).mean()  # here we are summarizing by grouping the stamps and aggregating it without including duplicates\n",
    "# values"
   ]
  },
  {
   "cell_type": "code",
   "execution_count": 422,
   "metadata": {},
   "outputs": [
    {
     "data": {
      "text/plain": [
       "2010-01-01    2\n",
       "2010-03-01    3\n",
       "2019-10-01    1\n",
       "dtype: int64"
      ]
     },
     "execution_count": 422,
     "metadata": {},
     "output_type": "execute_result"
    }
   ],
   "source": [
    "Data2.groupby(level =0).count()  #  Numbers of all the duplicated values"
   ]
  },
  {
   "cell_type": "code",
   "execution_count": null,
   "metadata": {},
   "outputs": [],
   "source": []
  },
  {
   "cell_type": "markdown",
   "metadata": {},
   "source": [
    "# Date Ranges Frequencing and Shifting"
   ]
  },
  {
   "cell_type": "code",
   "execution_count": 423,
   "metadata": {},
   "outputs": [
    {
     "data": {
      "text/plain": [
       "DatetimeIndex(['2013-01-02', '2013-01-09', '2013-01-16', '2013-01-23',\n",
       "               '2013-01-30', '2013-02-06', '2013-02-13', '2013-02-20',\n",
       "               '2013-02-27', '2013-03-06', '2013-03-13', '2013-03-20',\n",
       "               '2013-03-27', '2013-04-03', '2013-04-10', '2013-04-17',\n",
       "               '2013-04-24', '2013-05-01', '2013-05-08', '2013-05-15',\n",
       "               '2013-05-22', '2013-05-29'],\n",
       "              dtype='datetime64[ns]', freq='W-WED')"
      ]
     },
     "execution_count": 423,
     "metadata": {},
     "output_type": "execute_result"
    }
   ],
   "source": [
    "# Lets take a date series\n",
    "D4 = pd.date_range(\"1/1/2013\", \"6/1/2013\", freq = \"W-WED\")\n",
    "D4  # we are taking frequency as weekly wednesday"
   ]
  },
  {
   "cell_type": "code",
   "execution_count": 424,
   "metadata": {},
   "outputs": [
    {
     "data": {
      "text/plain": [
       "<pandas.core.resample.DatetimeIndexResampler object at 0x000001AD80D67108>"
      ]
     },
     "execution_count": 424,
     "metadata": {},
     "output_type": "execute_result"
    }
   ],
   "source": [
    "D5 = pd.Series(np.linspace(20,100,22), index = D4)\n",
    "D5.resample(\"D\")  # We can resample the frequency to whatever frequency we can pass"
   ]
  },
  {
   "cell_type": "code",
   "execution_count": 425,
   "metadata": {},
   "outputs": [
    {
     "data": {
      "text/plain": [
       "2013-01-02     20.000000\n",
       "2013-01-09     23.809524\n",
       "2013-01-16     27.619048\n",
       "2013-01-23     31.428571\n",
       "2013-01-30     35.238095\n",
       "2013-02-06     39.047619\n",
       "2013-02-13     42.857143\n",
       "2013-02-20     46.666667\n",
       "2013-02-27     50.476190\n",
       "2013-03-06     54.285714\n",
       "2013-03-13     58.095238\n",
       "2013-03-20     61.904762\n",
       "2013-03-27     65.714286\n",
       "2013-04-03     69.523810\n",
       "2013-04-10     73.333333\n",
       "2013-04-17     77.142857\n",
       "2013-04-24     80.952381\n",
       "2013-05-01     84.761905\n",
       "2013-05-08     88.571429\n",
       "2013-05-15     92.380952\n",
       "2013-05-22     96.190476\n",
       "2013-05-29    100.000000\n",
       "Freq: W-WED, dtype: float64"
      ]
     },
     "execution_count": 425,
     "metadata": {},
     "output_type": "execute_result"
    }
   ],
   "source": [
    "D5"
   ]
  },
  {
   "cell_type": "code",
   "execution_count": 426,
   "metadata": {
    "scrolled": true
   },
   "outputs": [
    {
     "data": {
      "text/plain": [
       "DatetimeIndex(['2002-01-01', '2002-01-02', '2002-01-03', '2002-01-04',\n",
       "               '2002-01-05', '2002-01-06', '2002-01-07', '2002-01-08',\n",
       "               '2002-01-09', '2002-01-10', '2002-01-11', '2002-01-12',\n",
       "               '2002-01-13', '2002-01-14', '2002-01-15', '2002-01-16',\n",
       "               '2002-01-17', '2002-01-18', '2002-01-19', '2002-01-20',\n",
       "               '2002-01-21', '2002-01-22', '2002-01-23', '2002-01-24',\n",
       "               '2002-01-25', '2002-01-26', '2002-01-27', '2002-01-28',\n",
       "               '2002-01-29', '2002-01-30', '2002-01-31', '2002-02-01',\n",
       "               '2002-02-02', '2002-02-03', '2002-02-04', '2002-02-05',\n",
       "               '2002-02-06', '2002-02-07', '2002-02-08', '2002-02-09',\n",
       "               '2002-02-10', '2002-02-11', '2002-02-12', '2002-02-13',\n",
       "               '2002-02-14', '2002-02-15', '2002-02-16', '2002-02-17',\n",
       "               '2002-02-18', '2002-02-19', '2002-02-20', '2002-02-21',\n",
       "               '2002-02-22', '2002-02-23', '2002-02-24', '2002-02-25',\n",
       "               '2002-02-26', '2002-02-27', '2002-02-28', '2002-03-01'],\n",
       "              dtype='datetime64[ns]', freq='D')"
      ]
     },
     "execution_count": 426,
     "metadata": {},
     "output_type": "execute_result"
    }
   ],
   "source": [
    "# by default, Time series is by day\n",
    "\n",
    "pd.date_range(\"1/1/2002\", \"3/1/2002\")"
   ]
  },
  {
   "cell_type": "code",
   "execution_count": 427,
   "metadata": {},
   "outputs": [
    {
     "data": {
      "text/plain": [
       "DatetimeIndex(['2002-01-01', '2002-01-02', '2002-01-03', '2002-01-04',\n",
       "               '2002-01-07', '2002-01-08', '2002-01-09', '2002-01-10',\n",
       "               '2002-01-11', '2002-01-14', '2002-01-15', '2002-01-16',\n",
       "               '2002-01-17', '2002-01-18', '2002-01-21', '2002-01-22',\n",
       "               '2002-01-23', '2002-01-24', '2002-01-25', '2002-01-28',\n",
       "               '2002-01-29', '2002-01-30', '2002-01-31', '2002-02-01',\n",
       "               '2002-02-04', '2002-02-05', '2002-02-06', '2002-02-07',\n",
       "               '2002-02-08', '2002-02-11', '2002-02-12', '2002-02-13',\n",
       "               '2002-02-14', '2002-02-15', '2002-02-18', '2002-02-19',\n",
       "               '2002-02-20', '2002-02-21', '2002-02-22', '2002-02-25',\n",
       "               '2002-02-26', '2002-02-27', '2002-02-28', '2002-03-01'],\n",
       "              dtype='datetime64[ns]', freq='B')"
      ]
     },
     "execution_count": 427,
     "metadata": {},
     "output_type": "execute_result"
    }
   ],
   "source": [
    "pd.date_range(\"1/1/2002\", \"3/1/2002\", freq= \"B\")  # Business date excluding weekends"
   ]
  },
  {
   "cell_type": "code",
   "execution_count": 428,
   "metadata": {},
   "outputs": [
    {
     "data": {
      "text/plain": [
       "DatetimeIndex(['2020-01-01', '2020-01-02', '2020-01-03', '2020-01-04',\n",
       "               '2020-01-05', '2020-01-06', '2020-01-07', '2020-01-08',\n",
       "               '2020-01-09', '2020-01-10', '2020-01-11', '2020-01-12',\n",
       "               '2020-01-13', '2020-01-14', '2020-01-15', '2020-01-16',\n",
       "               '2020-01-17', '2020-01-18', '2020-01-19', '2020-01-20'],\n",
       "              dtype='datetime64[ns]', freq='D')"
      ]
     },
     "execution_count": 428,
     "metadata": {},
     "output_type": "execute_result"
    }
   ],
   "source": [
    "pd.date_range(start = \"1/1/2020\", periods = 20)  # here the period is the number of days to be added to the starting date"
   ]
  },
  {
   "cell_type": "code",
   "execution_count": 429,
   "metadata": {},
   "outputs": [
    {
     "data": {
      "text/plain": [
       "DatetimeIndex(['2002-01-01', '2002-01-02', '2002-01-03', '2002-01-04',\n",
       "               '2002-01-05', '2002-01-06', '2002-01-07', '2002-01-08',\n",
       "               '2002-01-09', '2002-01-10', '2002-01-11', '2002-01-12',\n",
       "               '2002-01-13', '2002-01-14', '2002-01-15', '2002-01-16',\n",
       "               '2002-01-17', '2002-01-18', '2002-01-19', '2002-01-20',\n",
       "               '2002-01-21', '2002-01-22', '2002-01-23', '2002-01-24',\n",
       "               '2002-01-25', '2002-01-26', '2002-01-27', '2002-01-28',\n",
       "               '2002-01-29', '2002-01-30', '2002-01-31', '2002-02-01'],\n",
       "              dtype='datetime64[ns]', freq='D')"
      ]
     },
     "execution_count": 429,
     "metadata": {},
     "output_type": "execute_result"
    }
   ],
   "source": [
    "# by default, Time series is by day\n",
    "\n",
    "pd.date_range(start = \"1/1/2002\", end = \"2/1/2002\")"
   ]
  },
  {
   "cell_type": "code",
   "execution_count": 430,
   "metadata": {},
   "outputs": [
    {
     "data": {
      "text/plain": [
       "DatetimeIndex(['2002-01-01', '2002-01-02', '2002-01-03', '2002-01-04',\n",
       "               '2002-01-05', '2002-01-06', '2002-01-07', '2002-01-08',\n",
       "               '2002-01-09', '2002-01-10', '2002-01-11', '2002-01-12',\n",
       "               '2002-01-13', '2002-01-14', '2002-01-15', '2002-01-16',\n",
       "               '2002-01-17', '2002-01-18', '2002-01-19', '2002-01-20',\n",
       "               '2002-01-21', '2002-01-22', '2002-01-23', '2002-01-24',\n",
       "               '2002-01-25', '2002-01-26', '2002-01-27', '2002-01-28',\n",
       "               '2002-01-29', '2002-01-30', '2002-01-31', '2002-02-01'],\n",
       "              dtype='datetime64[ns]', freq='D')"
      ]
     },
     "execution_count": 430,
     "metadata": {},
     "output_type": "execute_result"
    }
   ],
   "source": [
    "pd.date_range(\"1/1/2002\", \"2/1/2002\")   # we can get the same result without passing the start and end date "
   ]
  },
  {
   "cell_type": "code",
   "execution_count": 431,
   "metadata": {},
   "outputs": [
    {
     "data": {
      "text/plain": [
       "DatetimeIndex(['2005-01-07', '2005-01-14', '2005-01-21', '2005-01-28',\n",
       "               '2005-02-04', '2005-02-11', '2005-02-18', '2005-02-25',\n",
       "               '2005-03-04', '2005-03-11', '2005-03-18', '2005-03-25',\n",
       "               '2005-04-01', '2005-04-08', '2005-04-15', '2005-04-22',\n",
       "               '2005-04-29', '2005-05-06', '2005-05-13', '2005-05-20'],\n",
       "              dtype='datetime64[ns]', freq='W-FRI')"
      ]
     },
     "execution_count": 431,
     "metadata": {},
     "output_type": "execute_result"
    }
   ],
   "source": [
    "pd.date_range(start = \"1/1/2005\", periods = 20, freq = \"W-FRI\")  # we can pass the start date and periods to go further"
   ]
  },
  {
   "cell_type": "code",
   "execution_count": 432,
   "metadata": {},
   "outputs": [
    {
     "data": {
      "text/plain": [
       "DatetimeIndex(['2004-12-13', '2004-12-14', '2004-12-15', '2004-12-16',\n",
       "               '2004-12-17', '2004-12-18', '2004-12-19', '2004-12-20',\n",
       "               '2004-12-21', '2004-12-22', '2004-12-23', '2004-12-24',\n",
       "               '2004-12-25', '2004-12-26', '2004-12-27', '2004-12-28',\n",
       "               '2004-12-29', '2004-12-30', '2004-12-31', '2005-01-01'],\n",
       "              dtype='datetime64[ns]', freq='D')"
      ]
     },
     "execution_count": 432,
     "metadata": {},
     "output_type": "execute_result"
    }
   ],
   "source": [
    "pd.date_range(end = \"1/1/2005\", periods = 20)  #  we can pass the end date and periods to specify the number date before the end date"
   ]
  },
  {
   "cell_type": "code",
   "execution_count": null,
   "metadata": {},
   "outputs": [],
   "source": []
  },
  {
   "cell_type": "code",
   "execution_count": 433,
   "metadata": {},
   "outputs": [
    {
     "data": {
      "text/plain": [
       "DatetimeIndex(['2010-01-29', '2010-02-26', '2010-03-31', '2010-04-30',\n",
       "               '2010-05-31', '2010-06-30', '2010-07-30', '2010-08-31',\n",
       "               '2010-09-30', '2010-10-29', '2010-11-30', '2010-12-31',\n",
       "               '2011-01-31', '2011-02-28', '2011-03-31', '2011-04-29',\n",
       "               '2011-05-31', '2011-06-30', '2011-07-29', '2011-08-31'],\n",
       "              dtype='datetime64[ns]', freq='BM')"
      ]
     },
     "execution_count": 433,
     "metadata": {},
     "output_type": "execute_result"
    }
   ],
   "source": [
    "pd.date_range(\"1/1/2010\", freq = \"BM\", periods = 20)  #  Business Month as the Frequency (\"months end for businesses\")"
   ]
  },
  {
   "cell_type": "code",
   "execution_count": null,
   "metadata": {},
   "outputs": [],
   "source": []
  },
  {
   "cell_type": "code",
   "execution_count": 434,
   "metadata": {},
   "outputs": [
    {
     "data": {
      "text/plain": [
       "DatetimeIndex(['2010-01-18', '2010-02-15', '2010-03-15', '2010-04-19',\n",
       "               '2010-05-17', '2010-06-21', '2010-07-19', '2010-08-16',\n",
       "               '2010-09-20', '2010-10-18', '2010-11-15', '2010-12-20',\n",
       "               '2011-01-17', '2011-02-21', '2011-03-21', '2011-04-18',\n",
       "               '2011-05-16', '2011-06-20', '2011-07-18', '2011-08-15'],\n",
       "              dtype='datetime64[ns]', freq='WOM-3MON')"
      ]
     },
     "execution_count": 434,
     "metadata": {},
     "output_type": "execute_result"
    }
   ],
   "source": [
    "pd.date_range(\"1/1/2010\", freq = \"WOM-3MON\", periods = 20) # WOM for each month as Frequency"
   ]
  },
  {
   "cell_type": "code",
   "execution_count": null,
   "metadata": {},
   "outputs": [],
   "source": []
  },
  {
   "cell_type": "code",
   "execution_count": 435,
   "metadata": {},
   "outputs": [
    {
     "data": {
      "text/plain": [
       "DatetimeIndex(['2010-03-31', '2010-06-30', '2010-09-30', '2010-12-31',\n",
       "               '2011-03-31', '2011-06-30', '2011-09-30', '2011-12-31',\n",
       "               '2012-03-31', '2012-06-30', '2012-09-30', '2012-12-31',\n",
       "               '2013-03-31', '2013-06-30', '2013-09-30', '2013-12-31',\n",
       "               '2014-03-31', '2014-06-30', '2014-09-30', '2014-12-31'],\n",
       "              dtype='datetime64[ns]', freq='Q-MAR')"
      ]
     },
     "execution_count": 435,
     "metadata": {},
     "output_type": "execute_result"
    }
   ],
   "source": [
    "pd.date_range(\"1/1/2010\", freq = \"Q-MAR\", periods = 20) #  Quarter End for each Year month"
   ]
  },
  {
   "cell_type": "code",
   "execution_count": 436,
   "metadata": {},
   "outputs": [
    {
     "data": {
      "text/plain": [
       "DatetimeIndex(['2016-01-01', '2016-04-01', '2016-07-01', '2016-10-01',\n",
       "               '2017-01-01', '2017-04-01', '2017-07-01', '2017-10-01',\n",
       "               '2018-01-01', '2018-04-01', '2018-07-01', '2018-10-01',\n",
       "               '2019-01-01', '2019-04-01', '2019-07-01', '2019-10-01',\n",
       "               '2020-01-01', '2020-04-01', '2020-07-01', '2020-10-01'],\n",
       "              dtype='datetime64[ns]', freq='QS-JAN')"
      ]
     },
     "execution_count": 436,
     "metadata": {},
     "output_type": "execute_result"
    }
   ],
   "source": [
    "pd.date_range(\"1/1/2016\", freq = \"QS-JAN\", periods = 20)  # Quarter Start for each year"
   ]
  },
  {
   "cell_type": "code",
   "execution_count": 437,
   "metadata": {},
   "outputs": [
    {
     "data": {
      "text/plain": [
       "DatetimeIndex(['2016-01-01', '2016-02-01', '2016-03-01', '2016-04-01',\n",
       "               '2016-05-01', '2016-06-01', '2016-07-01', '2016-08-01',\n",
       "               '2016-09-01', '2016-10-01', '2016-11-01', '2016-12-01',\n",
       "               '2017-01-01', '2017-02-01', '2017-03-01', '2017-04-01',\n",
       "               '2017-05-01', '2017-06-01', '2017-07-01', '2017-08-01'],\n",
       "              dtype='datetime64[ns]', freq='MS')"
      ]
     },
     "execution_count": 437,
     "metadata": {},
     "output_type": "execute_result"
    }
   ],
   "source": [
    "pd.date_range(\"1/1/2016\", freq = \"MS\", periods = 20)  #  First Calendar date start for each month as frequency"
   ]
  },
  {
   "cell_type": "code",
   "execution_count": 438,
   "metadata": {},
   "outputs": [
    {
     "data": {
      "text/plain": [
       "DatetimeIndex(['2016-01-31', '2017-01-31', '2018-01-31', '2019-01-31',\n",
       "               '2020-01-31', '2021-01-31', '2022-01-31', '2023-01-31',\n",
       "               '2024-01-31', '2025-01-31', '2026-01-31', '2027-01-31',\n",
       "               '2028-01-31', '2029-01-31', '2030-01-31', '2031-01-31',\n",
       "               '2032-01-31', '2033-01-31', '2034-01-31', '2035-01-31'],\n",
       "              dtype='datetime64[ns]', freq='A-JAN')"
      ]
     },
     "execution_count": 438,
     "metadata": {},
     "output_type": "execute_result"
    }
   ],
   "source": [
    "pd.date_range(\"1/1/2016\", freq = \"A-JAN\", periods = 20)  # Last calendar date of given of year"
   ]
  },
  {
   "cell_type": "code",
   "execution_count": 439,
   "metadata": {},
   "outputs": [
    {
     "data": {
      "text/plain": [
       "DatetimeIndex(['2016-01-01', '2016-02-01', '2016-03-01', '2016-04-01',\n",
       "               '2016-05-02', '2016-06-01', '2016-07-01', '2016-08-01',\n",
       "               '2016-09-01', '2016-10-03', '2016-11-01', '2016-12-01',\n",
       "               '2017-01-02', '2017-02-01', '2017-03-01', '2017-04-03',\n",
       "               '2017-05-01', '2017-06-01', '2017-07-03', '2017-08-01'],\n",
       "              dtype='datetime64[ns]', freq='BMS')"
      ]
     },
     "execution_count": 439,
     "metadata": {},
     "output_type": "execute_result"
    }
   ],
   "source": [
    "pd.date_range(\"1/1/2016\", freq = \"BMS\", periods = 20)  # Fisrt week of every month"
   ]
  },
  {
   "cell_type": "code",
   "execution_count": 440,
   "metadata": {},
   "outputs": [
    {
     "data": {
      "text/plain": [
       "DatetimeIndex(['2016-01-31', '2016-02-29', '2016-03-31', '2016-04-30',\n",
       "               '2016-05-31', '2016-06-30', '2016-07-31', '2016-08-31',\n",
       "               '2016-09-30', '2016-10-31', '2016-11-30', '2016-12-31',\n",
       "               '2017-01-31', '2017-02-28', '2017-03-31', '2017-04-30',\n",
       "               '2017-05-31', '2017-06-30', '2017-07-31', '2017-08-31'],\n",
       "              dtype='datetime64[ns]', freq='M')"
      ]
     },
     "execution_count": 440,
     "metadata": {},
     "output_type": "execute_result"
    }
   ],
   "source": [
    "pd.date_range(\"1/1/2016\", freq = \"M\", periods = 20)  # LAst calendar date of Month"
   ]
  },
  {
   "cell_type": "code",
   "execution_count": 441,
   "metadata": {},
   "outputs": [
    {
     "data": {
      "text/plain": [
       "DatetimeIndex(['2020-01-01 20:30:17', '2020-01-02 20:30:17',\n",
       "               '2020-01-03 20:30:17', '2020-01-04 20:30:17',\n",
       "               '2020-01-05 20:30:17', '2020-01-06 20:30:17',\n",
       "               '2020-01-07 20:30:17', '2020-01-08 20:30:17',\n",
       "               '2020-01-09 20:30:17', '2020-01-10 20:30:17'],\n",
       "              dtype='datetime64[ns]', freq='D')"
      ]
     },
     "execution_count": 441,
     "metadata": {},
     "output_type": "execute_result"
    }
   ],
   "source": [
    "# if we pass a dae range with time as thus\n",
    "time = pd.date_range(\"1/1/2020 20:30:17\", periods = 10)\n",
    "time\n",
    "\n",
    "# Time will reflect in all the output"
   ]
  },
  {
   "cell_type": "code",
   "execution_count": 442,
   "metadata": {},
   "outputs": [],
   "source": [
    "# WE ca remove the time by normalizing it as thus"
   ]
  },
  {
   "cell_type": "code",
   "execution_count": 443,
   "metadata": {},
   "outputs": [
    {
     "data": {
      "text/plain": [
       "DatetimeIndex(['2020-01-01', '2020-01-02', '2020-01-03', '2020-01-04',\n",
       "               '2020-01-05', '2020-01-06', '2020-01-07', '2020-01-08',\n",
       "               '2020-01-09', '2020-01-10'],\n",
       "              dtype='datetime64[ns]', freq='D')"
      ]
     },
     "execution_count": 443,
     "metadata": {},
     "output_type": "execute_result"
    }
   ],
   "source": [
    "time = pd.date_range(\"1/1/2020 20:30:17\", periods = 10, normalize = True)\n",
    "time  #pasiing the normalize() removes the time from the time series"
   ]
  },
  {
   "cell_type": "markdown",
   "metadata": {},
   "source": [
    "# Frequencies and DataSet"
   ]
  },
  {
   "cell_type": "code",
   "execution_count": 444,
   "metadata": {},
   "outputs": [
    {
     "data": {
      "text/plain": [
       "DatetimeIndex(['2011-01-01 00:00:00', '2011-01-01 03:00:00',\n",
       "               '2011-01-01 06:00:00', '2011-01-01 09:00:00',\n",
       "               '2011-01-01 12:00:00', '2011-01-01 15:00:00',\n",
       "               '2011-01-01 18:00:00', '2011-01-01 21:00:00',\n",
       "               '2011-01-02 00:00:00', '2011-01-02 03:00:00',\n",
       "               '2011-01-02 06:00:00', '2011-01-02 09:00:00',\n",
       "               '2011-01-02 12:00:00', '2011-01-02 15:00:00',\n",
       "               '2011-01-02 18:00:00', '2011-01-02 21:00:00',\n",
       "               '2011-01-03 00:00:00', '2011-01-03 03:00:00',\n",
       "               '2011-01-03 06:00:00', '2011-01-03 09:00:00',\n",
       "               '2011-01-03 12:00:00', '2011-01-03 15:00:00'],\n",
       "              dtype='datetime64[ns]', freq='3H')"
      ]
     },
     "execution_count": 444,
     "metadata": {},
     "output_type": "execute_result"
    }
   ],
   "source": [
    "# pandas has a timeseries module for upsetting date\n",
    "\n",
    "#from pandas.tseries.offsets import Hour, Minute  # works without the module\n",
    "\n",
    "pd.date_range(\"1-1-2011\", \"1-3-2011 17:54:30\", freq = \"3H\")   # offsetting the time by every 3hour"
   ]
  },
  {
   "cell_type": "code",
   "execution_count": 445,
   "metadata": {},
   "outputs": [
    {
     "data": {
      "text/plain": [
       "DatetimeIndex(['2011-01-01 00:00:00', '2011-01-01 01:30:00',\n",
       "               '2011-01-01 03:00:00', '2011-01-01 04:30:00',\n",
       "               '2011-01-01 06:00:00', '2011-01-01 07:30:00',\n",
       "               '2011-01-01 09:00:00', '2011-01-01 10:30:00',\n",
       "               '2011-01-01 12:00:00', '2011-01-01 13:30:00',\n",
       "               '2011-01-01 15:00:00', '2011-01-01 16:30:00',\n",
       "               '2011-01-01 18:00:00', '2011-01-01 19:30:00',\n",
       "               '2011-01-01 21:00:00', '2011-01-01 22:30:00',\n",
       "               '2011-01-02 00:00:00', '2011-01-02 01:30:00',\n",
       "               '2011-01-02 03:00:00', '2011-01-02 04:30:00',\n",
       "               '2011-01-02 06:00:00', '2011-01-02 07:30:00',\n",
       "               '2011-01-02 09:00:00', '2011-01-02 10:30:00',\n",
       "               '2011-01-02 12:00:00', '2011-01-02 13:30:00',\n",
       "               '2011-01-02 15:00:00', '2011-01-02 16:30:00'],\n",
       "              dtype='datetime64[ns]', freq='90T')"
      ]
     },
     "execution_count": 445,
     "metadata": {},
     "output_type": "execute_result"
    }
   ],
   "source": [
    "pd.date_range(\"1-1-2011\", \"1-2-2011 17:54:30\", freq = \"90T\")  #  offseting by 90min"
   ]
  },
  {
   "cell_type": "code",
   "execution_count": 446,
   "metadata": {},
   "outputs": [
    {
     "data": {
      "text/plain": [
       "DatetimeIndex(['2011-01-01 00:00:00', '2011-01-01 01:30:00',\n",
       "               '2011-01-01 03:00:00', '2011-01-01 04:30:00',\n",
       "               '2011-01-01 06:00:00', '2011-01-01 07:30:00',\n",
       "               '2011-01-01 09:00:00', '2011-01-01 10:30:00',\n",
       "               '2011-01-01 12:00:00', '2011-01-01 13:30:00',\n",
       "               '2011-01-01 15:00:00', '2011-01-01 16:30:00',\n",
       "               '2011-01-01 18:00:00', '2011-01-01 19:30:00',\n",
       "               '2011-01-01 21:00:00', '2011-01-01 22:30:00',\n",
       "               '2011-01-02 00:00:00', '2011-01-02 01:30:00',\n",
       "               '2011-01-02 03:00:00', '2011-01-02 04:30:00',\n",
       "               '2011-01-02 06:00:00', '2011-01-02 07:30:00',\n",
       "               '2011-01-02 09:00:00', '2011-01-02 10:30:00',\n",
       "               '2011-01-02 12:00:00', '2011-01-02 13:30:00',\n",
       "               '2011-01-02 15:00:00', '2011-01-02 16:30:00'],\n",
       "              dtype='datetime64[ns]', freq='90T')"
      ]
     },
     "execution_count": 446,
     "metadata": {},
     "output_type": "execute_result"
    }
   ],
   "source": [
    "pd.date_range(\"1-1-2011\", \"1-2-2011 17:54:30\", freq = \"1H30min\")  # same result as above"
   ]
  },
  {
   "cell_type": "markdown",
   "metadata": {},
   "source": [
    "# the below is very powerful for analysing data in time"
   ]
  },
  {
   "cell_type": "code",
   "execution_count": 447,
   "metadata": {},
   "outputs": [],
   "source": [
    "WOM = pd.date_range(\"2020-3-1\", \"2020-8-31 17:54:30\", freq = \"WOM-3FRI\")"
   ]
  },
  {
   "cell_type": "code",
   "execution_count": 448,
   "metadata": {},
   "outputs": [
    {
     "data": {
      "text/plain": [
       "[Timestamp('2020-03-20 00:00:00', freq='WOM-3FRI'),\n",
       " Timestamp('2020-04-17 00:00:00', freq='WOM-3FRI'),\n",
       " Timestamp('2020-05-15 00:00:00', freq='WOM-3FRI'),\n",
       " Timestamp('2020-06-19 00:00:00', freq='WOM-3FRI'),\n",
       " Timestamp('2020-07-17 00:00:00', freq='WOM-3FRI'),\n",
       " Timestamp('2020-08-21 00:00:00', freq='WOM-3FRI')]"
      ]
     },
     "execution_count": 448,
     "metadata": {},
     "output_type": "execute_result"
    }
   ],
   "source": [
    "list(WOM)   # gives the third friday of each month in the date range"
   ]
  },
  {
   "cell_type": "code",
   "execution_count": null,
   "metadata": {},
   "outputs": [],
   "source": []
  },
  {
   "cell_type": "markdown",
   "metadata": {},
   "source": [
    "# Shifting (Leading and Lagging Data)"
   ]
  },
  {
   "cell_type": "code",
   "execution_count": 449,
   "metadata": {},
   "outputs": [],
   "source": [
    "# by shifting we can extend or go back in  time series by passing different frequency of our choice"
   ]
  },
  {
   "cell_type": "code",
   "execution_count": 450,
   "metadata": {},
   "outputs": [],
   "source": [
    "ts = pd.Series(np.arange(10), \n",
    "               index = pd.date_range(\"2020/1/1\", freq = \"M\", periods = 10)) # Monthe End Frequency"
   ]
  },
  {
   "cell_type": "code",
   "execution_count": 451,
   "metadata": {},
   "outputs": [
    {
     "data": {
      "text/plain": [
       "2020-01-31    0\n",
       "2020-02-29    1\n",
       "2020-03-31    2\n",
       "2020-04-30    3\n",
       "2020-05-31    4\n",
       "2020-06-30    5\n",
       "2020-07-31    6\n",
       "2020-08-31    7\n",
       "2020-09-30    8\n",
       "2020-10-31    9\n",
       "Freq: M, dtype: int32"
      ]
     },
     "execution_count": 451,
     "metadata": {},
     "output_type": "execute_result"
    }
   ],
   "source": [
    "ts\n"
   ]
  },
  {
   "cell_type": "code",
   "execution_count": 452,
   "metadata": {},
   "outputs": [
    {
     "data": {
      "text/plain": [
       "2020-01-31    NaN\n",
       "2020-02-29    NaN\n",
       "2020-03-31    0.0\n",
       "2020-04-30    1.0\n",
       "2020-05-31    2.0\n",
       "2020-06-30    3.0\n",
       "2020-07-31    4.0\n",
       "2020-08-31    5.0\n",
       "2020-09-30    6.0\n",
       "2020-10-31    7.0\n",
       "Freq: M, dtype: float64"
      ]
     },
     "execution_count": 452,
     "metadata": {},
     "output_type": "execute_result"
    }
   ],
   "source": [
    "ts.shift(2) # shift the data to the index two datestamp"
   ]
  },
  {
   "cell_type": "code",
   "execution_count": 453,
   "metadata": {},
   "outputs": [
    {
     "data": {
      "text/plain": [
       "2020-01-31    2.0\n",
       "2020-02-29    3.0\n",
       "2020-03-31    4.0\n",
       "2020-04-30    5.0\n",
       "2020-05-31    6.0\n",
       "2020-06-30    7.0\n",
       "2020-07-31    8.0\n",
       "2020-08-31    9.0\n",
       "2020-09-30    NaN\n",
       "2020-10-31    NaN\n",
       "Freq: M, dtype: float64"
      ]
     },
     "execution_count": 453,
     "metadata": {},
     "output_type": "execute_result"
    }
   ],
   "source": [
    "ts.shift(-2) # hift the data from the last two index and move the rest upward"
   ]
  },
  {
   "cell_type": "code",
   "execution_count": 454,
   "metadata": {},
   "outputs": [],
   "source": [
    "# we can shift the timeseries with a known frequency to advance the data"
   ]
  },
  {
   "cell_type": "code",
   "execution_count": 455,
   "metadata": {},
   "outputs": [
    {
     "data": {
      "text/plain": [
       "2020-08-01    0\n",
       "2020-09-01    1\n",
       "2020-10-01    2\n",
       "2020-11-01    3\n",
       "2020-12-01    4\n",
       "2021-01-01    5\n",
       "2021-02-01    6\n",
       "2021-03-01    7\n",
       "2021-04-01    8\n",
       "2021-05-01    9\n",
       "Freq: M, dtype: int32"
      ]
     },
     "execution_count": 455,
     "metadata": {},
     "output_type": "execute_result"
    }
   ],
   "source": [
    "ts.shift(7, freq = \"MS\")  #  here the 7 index takes the first index and further dates are added accordingly"
   ]
  },
  {
   "cell_type": "code",
   "execution_count": 456,
   "metadata": {},
   "outputs": [],
   "source": [
    "# Other Frequency can also be passed"
   ]
  },
  {
   "cell_type": "code",
   "execution_count": 457,
   "metadata": {},
   "outputs": [
    {
     "data": {
      "text/plain": [
       "2026-12-31    0\n",
       "2026-12-31    1\n",
       "2026-12-31    2\n",
       "2026-12-31    3\n",
       "2026-12-31    4\n",
       "2026-12-31    5\n",
       "2026-12-31    6\n",
       "2026-12-31    7\n",
       "2026-12-31    8\n",
       "2026-12-31    9\n",
       "Freq: M, dtype: int32"
      ]
     },
     "execution_count": 457,
     "metadata": {},
     "output_type": "execute_result"
    }
   ],
   "source": [
    "ts.shift(7, freq = \"Y\")"
   ]
  },
  {
   "cell_type": "code",
   "execution_count": 458,
   "metadata": {},
   "outputs": [
    {
     "data": {
      "text/plain": [
       "2020-02-07    0\n",
       "2020-03-07    1\n",
       "2020-04-07    2\n",
       "2020-05-07    3\n",
       "2020-06-07    4\n",
       "2020-07-07    5\n",
       "2020-08-07    6\n",
       "2020-09-07    7\n",
       "2020-10-07    8\n",
       "2020-11-07    9\n",
       "dtype: int32"
      ]
     },
     "execution_count": 458,
     "metadata": {},
     "output_type": "execute_result"
    }
   ],
   "source": [
    "ts.shift(7, freq = \"D\")"
   ]
  },
  {
   "cell_type": "markdown",
   "metadata": {},
   "source": [
    "#Shifting date with offset"
   ]
  },
  {
   "cell_type": "code",
   "execution_count": 459,
   "metadata": {},
   "outputs": [],
   "source": [
    "from pandas.tseries.offsets import Day, MonthEnd"
   ]
  },
  {
   "cell_type": "code",
   "execution_count": 460,
   "metadata": {},
   "outputs": [
    {
     "data": {
      "text/plain": [
       "datetime.datetime(2020, 12, 11, 3, 9, 54, 647046)"
      ]
     },
     "execution_count": 460,
     "metadata": {},
     "output_type": "execute_result"
    }
   ],
   "source": [
    "today = datetime.now()\n",
    "today"
   ]
  },
  {
   "cell_type": "code",
   "execution_count": 461,
   "metadata": {},
   "outputs": [
    {
     "data": {
      "text/plain": [
       "Timestamp('2020-12-14 03:09:54.647046')"
      ]
     },
     "execution_count": 461,
     "metadata": {},
     "output_type": "execute_result"
    }
   ],
   "source": [
    "today + 3* Day()  # Add 3 days to that and output a stime stamp"
   ]
  },
  {
   "cell_type": "code",
   "execution_count": 462,
   "metadata": {},
   "outputs": [
    {
     "data": {
      "text/plain": [
       "datetime.datetime(2020, 12, 14, 3, 9, 54, 647046)"
      ]
     },
     "execution_count": 462,
     "metadata": {},
     "output_type": "execute_result"
    }
   ],
   "source": [
    "today + timedelta(3)  #Gives the same result"
   ]
  },
  {
   "cell_type": "code",
   "execution_count": 463,
   "metadata": {},
   "outputs": [
    {
     "data": {
      "text/plain": [
       "Timestamp('2020-12-31 03:09:54.647046')"
      ]
     },
     "execution_count": 463,
     "metadata": {},
     "output_type": "execute_result"
    }
   ],
   "source": [
    "today + MonthEnd()  # Coerce the date to month end"
   ]
  },
  {
   "cell_type": "code",
   "execution_count": 464,
   "metadata": {},
   "outputs": [
    {
     "data": {
      "text/plain": [
       "Timestamp('2020-09-30 03:09:54.647046')"
      ]
     },
     "execution_count": 464,
     "metadata": {},
     "output_type": "execute_result"
    }
   ],
   "source": [
    "today + MonthEnd(-3) # coerce the date to go back by 3month end"
   ]
  },
  {
   "cell_type": "code",
   "execution_count": 465,
   "metadata": {},
   "outputs": [
    {
     "data": {
      "text/plain": [
       "Timestamp('2021-01-31 03:09:54.647046')"
      ]
     },
     "execution_count": 465,
     "metadata": {},
     "output_type": "execute_result"
    }
   ],
   "source": [
    "today + MonthEnd(2)#  to go forward by a month#"
   ]
  },
  {
   "cell_type": "code",
   "execution_count": null,
   "metadata": {},
   "outputs": [],
   "source": []
  },
  {
   "cell_type": "code",
   "execution_count": 466,
   "metadata": {},
   "outputs": [],
   "source": [
    "#  we can rollforward or backward the date as thus-"
   ]
  },
  {
   "cell_type": "code",
   "execution_count": 467,
   "metadata": {},
   "outputs": [
    {
     "data": {
      "text/plain": [
       "Timestamp('2020-12-31 03:09:54.647046')"
      ]
     },
     "execution_count": 467,
     "metadata": {},
     "output_type": "execute_result"
    }
   ],
   "source": [
    "MonthEnd().rollforward(today)# got the date to end of the mont as above"
   ]
  },
  {
   "cell_type": "code",
   "execution_count": 468,
   "metadata": {},
   "outputs": [
    {
     "data": {
      "text/plain": [
       "Timestamp('2020-11-30 03:09:54.647046')"
      ]
     },
     "execution_count": 468,
     "metadata": {},
     "output_type": "execute_result"
    }
   ],
   "source": [
    "MonthEnd().rollback(today)  # got the date to the end of the prevous month"
   ]
  },
  {
   "cell_type": "code",
   "execution_count": null,
   "metadata": {},
   "outputs": [],
   "source": []
  },
  {
   "cell_type": "code",
   "execution_count": 469,
   "metadata": {},
   "outputs": [],
   "source": [
    "# creative way of using the rollback and rolllforward fnction is with the group by function\n"
   ]
  },
  {
   "cell_type": "code",
   "execution_count": 470,
   "metadata": {},
   "outputs": [
    {
     "data": {
      "text/plain": [
       "2009-01-01    18\n",
       "2009-01-04    17\n",
       "2009-01-07    19\n",
       "2009-01-10    10\n",
       "2009-01-13    17\n",
       "2009-01-16    14\n",
       "2009-01-19    14\n",
       "2009-01-22    13\n",
       "2009-01-25    15\n",
       "2009-01-28    19\n",
       "2009-01-31    15\n",
       "2009-02-03    14\n",
       "2009-02-06    19\n",
       "2009-02-09    12\n",
       "2009-02-12    17\n",
       "2009-02-15    19\n",
       "2009-02-18    17\n",
       "2009-02-21    18\n",
       "2009-02-24    18\n",
       "2009-02-27    14\n",
       "2009-03-02    19\n",
       "2009-03-05    14\n",
       "2009-03-08    13\n",
       "2009-03-11    12\n",
       "2009-03-14    12\n",
       "2009-03-17    19\n",
       "2009-03-20    12\n",
       "2009-03-23    16\n",
       "2009-03-26    10\n",
       "2009-03-29    18\n",
       "Freq: 3D, dtype: int32"
      ]
     },
     "execution_count": 470,
     "metadata": {},
     "output_type": "execute_result"
    }
   ],
   "source": [
    "roll = pd.Series(np.random.randint(10,20,30), index = pd.date_range(\"1/1/2009\", freq = \"3D\", periods = 30))\n",
    "roll"
   ]
  },
  {
   "cell_type": "code",
   "execution_count": 471,
   "metadata": {},
   "outputs": [
    {
     "data": {
      "text/plain": [
       "2008-12-31    156\n",
       "2009-01-31    163\n",
       "2009-02-28    145\n",
       "dtype: int32"
      ]
     },
     "execution_count": 471,
     "metadata": {},
     "output_type": "execute_result"
    }
   ],
   "source": [
    "roll.groupby(MonthEnd().rollback).sum()  # furter explanations needed"
   ]
  },
  {
   "cell_type": "code",
   "execution_count": 472,
   "metadata": {},
   "outputs": [
    {
     "data": {
      "text/plain": [
       "2009-01-31    171\n",
       "2009-02-28    148\n",
       "2009-03-31    145\n",
       "dtype: int32"
      ]
     },
     "execution_count": 472,
     "metadata": {},
     "output_type": "execute_result"
    }
   ],
   "source": [
    "roll.groupby(MonthEnd().rollforward).sum()"
   ]
  },
  {
   "cell_type": "code",
   "execution_count": 473,
   "metadata": {},
   "outputs": [
    {
     "data": {
      "text/plain": [
       "2009-01-01    171\n",
       "2009-02-01    148\n",
       "2009-03-01    145\n",
       "Freq: MS, dtype: int32"
      ]
     },
     "execution_count": 473,
     "metadata": {},
     "output_type": "execute_result"
    }
   ],
   "source": [
    "# another way of doing this is using resample we discussed earlier in the passage\n",
    "\n",
    "roll.resample(\"MS\").sum() # Start of month aggregation"
   ]
  },
  {
   "cell_type": "code",
   "execution_count": 474,
   "metadata": {},
   "outputs": [
    {
     "data": {
      "text/plain": [
       "2009-01-31    171\n",
       "2009-02-28    148\n",
       "2009-03-31    145\n",
       "Freq: M, dtype: int32"
      ]
     },
     "execution_count": 474,
     "metadata": {},
     "output_type": "execute_result"
    }
   ],
   "source": [
    "roll.resample(\"M\").sum()  # monthly sum"
   ]
  },
  {
   "cell_type": "code",
   "execution_count": 475,
   "metadata": {},
   "outputs": [
    {
     "data": {
      "text/plain": [
       "2009-01-02    18\n",
       "2009-01-09    36\n",
       "2009-01-16    41\n",
       "2009-01-23    27\n",
       "2009-01-30    34\n",
       "2009-02-06    48\n",
       "2009-02-13    29\n",
       "2009-02-20    36\n",
       "2009-02-27    50\n",
       "2009-03-06    33\n",
       "2009-03-13    25\n",
       "2009-03-20    43\n",
       "2009-03-27    26\n",
       "2009-04-03    18\n",
       "Freq: W-FRI, dtype: int32"
      ]
     },
     "execution_count": 475,
     "metadata": {},
     "output_type": "execute_result"
    }
   ],
   "source": [
    "roll.resample(\"W-FRI\").sum() # sum every  week day up tofriday"
   ]
  },
  {
   "cell_type": "code",
   "execution_count": null,
   "metadata": {},
   "outputs": [],
   "source": []
  },
  {
   "cell_type": "code",
   "execution_count": null,
   "metadata": {},
   "outputs": [],
   "source": []
  },
  {
   "cell_type": "markdown",
   "metadata": {},
   "source": [
    "#Slight Revision"
   ]
  },
  {
   "cell_type": "code",
   "execution_count": 476,
   "metadata": {},
   "outputs": [],
   "source": [
    "new = [2,3,4,3,2,3,29,27,0,24,26]\n",
    "new = np.array(new)"
   ]
  },
  {
   "cell_type": "code",
   "execution_count": 477,
   "metadata": {},
   "outputs": [
    {
     "data": {
      "text/plain": [
       "[2, 4, 2, 0, 24, 26]"
      ]
     },
     "execution_count": 477,
     "metadata": {},
     "output_type": "execute_result"
    }
   ],
   "source": [
    "list(filter(lambda x: x%2==0, new))"
   ]
  },
  {
   "cell_type": "code",
   "execution_count": 478,
   "metadata": {},
   "outputs": [
    {
     "data": {
      "text/plain": [
       "[2, 4, 6, 8, 10]"
      ]
     },
     "execution_count": 478,
     "metadata": {},
     "output_type": "execute_result"
    }
   ],
   "source": [
    "list(filter(lambda x: x%2==0, range(1,11) ))"
   ]
  },
  {
   "cell_type": "code",
   "execution_count": 479,
   "metadata": {},
   "outputs": [
    {
     "data": {
      "text/plain": [
       "array(['2', 'BAD', '4', 'BAD', '2', 'BAD', 'BAD', 'BAD', '0', '24', '26'],\n",
       "      dtype='<U11')"
      ]
     },
     "execution_count": 479,
     "metadata": {},
     "output_type": "execute_result"
    }
   ],
   "source": [
    "np.where(new%2==0, new, \"BAD\")"
   ]
  },
  {
   "cell_type": "code",
   "execution_count": 480,
   "metadata": {},
   "outputs": [],
   "source": [
    "now = range(1,10,2)"
   ]
  },
  {
   "cell_type": "code",
   "execution_count": 481,
   "metadata": {},
   "outputs": [],
   "source": [
    "from functools import reduce"
   ]
  },
  {
   "cell_type": "code",
   "execution_count": 482,
   "metadata": {},
   "outputs": [
    {
     "data": {
      "text/plain": [
       "1721"
      ]
     },
     "execution_count": 482,
     "metadata": {},
     "output_type": "execute_result"
    }
   ],
   "source": [
    "reduce(lambda p,q: (p*q)+2, now)"
   ]
  },
  {
   "cell_type": "code",
   "execution_count": 483,
   "metadata": {},
   "outputs": [
    {
     "data": {
      "text/plain": [
       "[1, 9, 25, 49, 81]"
      ]
     },
     "execution_count": 483,
     "metadata": {},
     "output_type": "execute_result"
    }
   ],
   "source": [
    "list(map(lambda x: x**2, now))"
   ]
  },
  {
   "cell_type": "code",
   "execution_count": 484,
   "metadata": {},
   "outputs": [
    {
     "name": "stdout",
     "output_type": "stream",
     "text": [
      "1\n",
      "3\n",
      "5\n",
      "7\n",
      "9\n"
     ]
    }
   ],
   "source": [
    "for  i in now:\n",
    "    print(i)"
   ]
  },
  {
   "cell_type": "code",
   "execution_count": 485,
   "metadata": {},
   "outputs": [
    {
     "data": {
      "text/plain": [
       "3611"
      ]
     },
     "execution_count": 485,
     "metadata": {},
     "output_type": "execute_result"
    }
   ],
   "source": [
    "product = 1\n",
    "for i in now:\n",
    "    product=(product*i)+2\n",
    "    \n",
    "product\n",
    "    \n",
    "\n"
   ]
  },
  {
   "cell_type": "markdown",
   "metadata": {},
   "source": [
    "# Time Zone ans handling"
   ]
  },
  {
   "cell_type": "code",
   "execution_count": 486,
   "metadata": {},
   "outputs": [],
   "source": [
    "# Time Zone ans handling"
   ]
  },
  {
   "cell_type": "code",
   "execution_count": 487,
   "metadata": {},
   "outputs": [],
   "source": [
    "import pytz  "
   ]
  },
  {
   "cell_type": "code",
   "execution_count": 488,
   "metadata": {},
   "outputs": [
    {
     "data": {
      "text/plain": [
       "['Africa/Abidjan',\n",
       " 'Africa/Accra',\n",
       " 'Africa/Addis_Ababa',\n",
       " 'Africa/Algiers',\n",
       " 'Africa/Asmara',\n",
       " 'Africa/Bamako',\n",
       " 'Africa/Bangui',\n",
       " 'Africa/Banjul',\n",
       " 'Africa/Bissau',\n",
       " 'Africa/Blantyre']"
      ]
     },
     "execution_count": 488,
     "metadata": {},
     "output_type": "execute_result"
    }
   ],
   "source": [
    "pytz.common_timezones[:10]  # output all the time zone in the world with the standard Coordinated Universal Time (UTC)"
   ]
  },
  {
   "cell_type": "code",
   "execution_count": 489,
   "metadata": {},
   "outputs": [
    {
     "data": {
      "text/plain": [
       "['US/Eastern', 'US/Hawaii', 'US/Mountain', 'US/Pacific', 'UTC']"
      ]
     },
     "execution_count": 489,
     "metadata": {},
     "output_type": "execute_result"
    }
   ],
   "source": [
    "pytz.common_timezones[-5:]  #  last 5"
   ]
  },
  {
   "cell_type": "code",
   "execution_count": 490,
   "metadata": {},
   "outputs": [
    {
     "data": {
      "text/plain": [
       "['Africa/Abidjan',\n",
       " 'Africa/Accra',\n",
       " 'Africa/Addis_Ababa',\n",
       " 'Africa/Algiers',\n",
       " 'Africa/Asmara',\n",
       " 'Africa/Bamako',\n",
       " 'Africa/Bangui',\n",
       " 'Africa/Banjul',\n",
       " 'Africa/Bissau',\n",
       " 'Africa/Blantyre']"
      ]
     },
     "execution_count": 490,
     "metadata": {},
     "output_type": "execute_result"
    }
   ],
   "source": [
    "pytz.common_timezones[:10] # top 10"
   ]
  },
  {
   "cell_type": "code",
   "execution_count": 491,
   "metadata": {},
   "outputs": [
    {
     "data": {
      "text/plain": [
       "<DstTzInfo 'Africa/Lagos' LMT+0:14:00 STD>"
      ]
     },
     "execution_count": 491,
     "metadata": {},
     "output_type": "execute_result"
    }
   ],
   "source": [
    "# we can get any time Zone by passing the region name code\n",
    "pytz.timezone(\"Africa/Lagos\")\n"
   ]
  },
  {
   "cell_type": "code",
   "execution_count": 492,
   "metadata": {},
   "outputs": [
    {
     "data": {
      "text/plain": [
       "<DstTzInfo 'Africa/Accra' LMT-1 day, 23:59:00 STD>"
      ]
     },
     "execution_count": 492,
     "metadata": {},
     "output_type": "execute_result"
    }
   ],
   "source": [
    "pytz.timezone(\"Africa/Accra\")"
   ]
  },
  {
   "cell_type": "code",
   "execution_count": 493,
   "metadata": {},
   "outputs": [],
   "source": [
    "# timezone in pandas time series are naive(meaning there not sensitive to timezone)"
   ]
  },
  {
   "cell_type": "code",
   "execution_count": 494,
   "metadata": {},
   "outputs": [
    {
     "data": {
      "text/plain": [
       "DatetimeIndex(['2014-01-01', '2014-02-01', '2014-03-01', '2014-04-01',\n",
       "               '2014-05-01', '2014-06-01'],\n",
       "              dtype='datetime64[ns]', freq='MS')"
      ]
     },
     "execution_count": 494,
     "metadata": {},
     "output_type": "execute_result"
    }
   ],
   "source": [
    "time = pd.date_range(\"1/1/2014\", periods = 6, freq = \"MS\")\n",
    "time"
   ]
  },
  {
   "cell_type": "code",
   "execution_count": 495,
   "metadata": {},
   "outputs": [
    {
     "name": "stdout",
     "output_type": "stream",
     "text": [
      "None\n"
     ]
    }
   ],
   "source": [
    "print(time.tz)  # display  cus there is no timezone associated with the time series"
   ]
  },
  {
   "cell_type": "code",
   "execution_count": null,
   "metadata": {},
   "outputs": [],
   "source": []
  },
  {
   "cell_type": "code",
   "execution_count": 496,
   "metadata": {},
   "outputs": [],
   "source": [
    "# We can generate a date_ range and incluse a date series"
   ]
  },
  {
   "cell_type": "code",
   "execution_count": 497,
   "metadata": {},
   "outputs": [
    {
     "data": {
      "text/plain": [
       "DatetimeIndex(['2011-01-01 00:00:00+01:00', '2011-04-01 00:00:00+01:00',\n",
       "               '2011-07-01 00:00:00+01:00', '2011-10-01 00:00:00+01:00',\n",
       "               '2012-01-01 00:00:00+01:00', '2012-04-01 00:00:00+01:00',\n",
       "               '2012-07-01 00:00:00+01:00', '2012-10-01 00:00:00+01:00',\n",
       "               '2013-01-01 00:00:00+01:00', '2013-04-01 00:00:00+01:00'],\n",
       "              dtype='datetime64[ns, Africa/Lagos]', freq='QS-JAN')"
      ]
     },
     "execution_count": 497,
     "metadata": {},
     "output_type": "execute_result"
    }
   ],
   "source": [
    "NewDate = pd.date_range(\"1/1/2011\", freq = \"QS-JAN\", periods = 10, tz = \"Africa/Lagos\")\n",
    "NewDate"
   ]
  },
  {
   "cell_type": "code",
   "execution_count": 498,
   "metadata": {},
   "outputs": [
    {
     "data": {
      "text/plain": [
       "Index(['01/31/11', '04/30/11', '07/31/11', '10/31/11', '01/31/12', '04/30/12',\n",
       "       '07/31/12', '10/31/12', '01/31/13', '04/30/13'],\n",
       "      dtype='object')"
      ]
     },
     "execution_count": 498,
     "metadata": {},
     "output_type": "execute_result"
    }
   ],
   "source": [
    "NewDate = pd.date_range(\"1/1/2011\", freq = \"Q-JAN\", periods = 10, tz = \"Africa/Lagos\")\n",
    "NewDate.strftime(\"%D\")  # formatting the date"
   ]
  },
  {
   "cell_type": "code",
   "execution_count": 499,
   "metadata": {},
   "outputs": [
    {
     "data": {
      "text/plain": [
       "DatetimeIndex(['2014-01-01', '2014-02-01', '2014-03-01', '2014-04-01',\n",
       "               '2014-05-01', '2014-06-01'],\n",
       "              dtype='datetime64[ns]', freq='MS')"
      ]
     },
     "execution_count": 499,
     "metadata": {},
     "output_type": "execute_result"
    }
   ],
   "source": [
    "time"
   ]
  },
  {
   "cell_type": "code",
   "execution_count": 500,
   "metadata": {},
   "outputs": [
    {
     "data": {
      "text/plain": [
       "DatetimeIndex(['2014-01-01 00:00:00-05:00', '2014-02-01 00:00:00-05:00',\n",
       "               '2014-03-01 00:00:00-05:00', '2014-04-01 00:00:00-04:00',\n",
       "               '2014-05-01 00:00:00-04:00', '2014-06-01 00:00:00-04:00'],\n",
       "              dtype='datetime64[ns, America/New_York]', freq='MS')"
      ]
     },
     "execution_count": 500,
     "metadata": {},
     "output_type": "execute_result"
    }
   ],
   "source": [
    "# we can convert the  naive timezone to a localize location using tz.localize( method)\n",
    "\n",
    "time.tz_localize(\"America/New_York\")"
   ]
  },
  {
   "cell_type": "code",
   "execution_count": 501,
   "metadata": {},
   "outputs": [],
   "source": [
    "# we can convert from one localize time to another using the tz.convert() method"
   ]
  },
  {
   "cell_type": "code",
   "execution_count": 502,
   "metadata": {},
   "outputs": [
    {
     "data": {
      "text/plain": [
       "DatetimeIndex(['2011-01-31 00:00:00+01:00', '2011-04-30 00:00:00+01:00',\n",
       "               '2011-07-31 00:00:00+01:00', '2011-10-31 00:00:00+01:00',\n",
       "               '2012-01-31 00:00:00+01:00', '2012-04-30 00:00:00+01:00',\n",
       "               '2012-07-31 00:00:00+01:00', '2012-10-31 00:00:00+01:00',\n",
       "               '2013-01-31 00:00:00+01:00', '2013-04-30 00:00:00+01:00'],\n",
       "              dtype='datetime64[ns, Africa/Lagos]', freq='Q-JAN')"
      ]
     },
     "execution_count": 502,
     "metadata": {},
     "output_type": "execute_result"
    }
   ],
   "source": [
    "NewDate"
   ]
  },
  {
   "cell_type": "code",
   "execution_count": 503,
   "metadata": {},
   "outputs": [
    {
     "data": {
      "text/plain": [
       "DatetimeIndex(['2011-01-31 01:00:00+02:00', '2011-04-30 01:00:00+02:00',\n",
       "               '2011-07-31 01:00:00+02:00', '2011-10-31 01:00:00+02:00',\n",
       "               '2012-01-31 01:00:00+02:00', '2012-04-30 01:00:00+02:00',\n",
       "               '2012-07-31 01:00:00+02:00', '2012-10-31 01:00:00+02:00',\n",
       "               '2013-01-31 01:00:00+02:00', '2013-04-30 01:00:00+02:00'],\n",
       "              dtype='datetime64[ns, Africa/Cairo]', freq='Q-JAN')"
      ]
     },
     "execution_count": 503,
     "metadata": {},
     "output_type": "execute_result"
    }
   ],
   "source": [
    "North = NewDate.tz_convert(\"Africa/Cairo\")\n",
    "North"
   ]
  },
  {
   "cell_type": "code",
   "execution_count": 504,
   "metadata": {},
   "outputs": [
    {
     "data": {
      "text/plain": [
       "DatetimeIndex(['2011-01-30 23:00:00+00:00', '2011-04-30 00:00:00+01:00',\n",
       "               '2011-07-31 00:00:00+01:00', '2011-10-30 23:00:00+00:00',\n",
       "               '2012-01-30 23:00:00+00:00', '2012-04-30 00:00:00+01:00',\n",
       "               '2012-07-31 00:00:00+01:00', '2012-10-30 23:00:00+00:00',\n",
       "               '2013-01-30 23:00:00+00:00', '2013-04-30 00:00:00+01:00'],\n",
       "              dtype='datetime64[ns, Europe/London]', freq='Q-JAN')"
      ]
     },
     "execution_count": 504,
     "metadata": {},
     "output_type": "execute_result"
    }
   ],
   "source": [
    "Europe = NewDate.tz_convert(\"Europe/London\")\n",
    "Europe"
   ]
  },
  {
   "cell_type": "code",
   "execution_count": 505,
   "metadata": {},
   "outputs": [],
   "source": [
    "#  THe above Methosd works Also on seriesv and DataFRame"
   ]
  },
  {
   "cell_type": "code",
   "execution_count": null,
   "metadata": {},
   "outputs": [],
   "source": []
  },
  {
   "cell_type": "code",
   "execution_count": 506,
   "metadata": {},
   "outputs": [],
   "source": [
    "# Opertion with Time Zone- Aware Timestamp Object\n",
    "\n",
    "# operation between two time zone are output in UTC time zone regardless of the time zone in the two zones"
   ]
  },
  {
   "cell_type": "code",
   "execution_count": 507,
   "metadata": {},
   "outputs": [
    {
     "data": {
      "text/plain": [
       "DatetimeIndex(['2017-01-01 10:15:00', '2018-01-01 10:15:00',\n",
       "               '2019-01-01 10:15:00', '2020-01-01 10:15:00',\n",
       "               '2021-01-01 10:15:00', '2022-01-01 10:15:00',\n",
       "               '2023-01-01 10:15:00', '2024-01-01 10:15:00',\n",
       "               '2025-01-01 10:15:00', '2026-01-01 10:15:00'],\n",
       "              dtype='datetime64[ns]', freq='AS-JAN')"
      ]
     },
     "execution_count": 507,
     "metadata": {},
     "output_type": "execute_result"
    }
   ],
   "source": [
    "date = pd.date_range(\"1/1/2017 10:15\", freq = \"YS\", periods = 10)\n",
    "date"
   ]
  },
  {
   "cell_type": "code",
   "execution_count": 508,
   "metadata": {},
   "outputs": [
    {
     "data": {
      "text/plain": [
       "2017-01-01 10:15:00    4\n",
       "2018-01-01 10:15:00    2\n",
       "2019-01-01 10:15:00    2\n",
       "2020-01-01 10:15:00    4\n",
       "2021-01-01 10:15:00    2\n",
       "2022-01-01 10:15:00    4\n",
       "2023-01-01 10:15:00    3\n",
       "2024-01-01 10:15:00    3\n",
       "2025-01-01 10:15:00    2\n",
       "2026-01-01 10:15:00    2\n",
       "Freq: AS-JAN, dtype: int32"
      ]
     },
     "execution_count": 508,
     "metadata": {},
     "output_type": "execute_result"
    }
   ],
   "source": [
    "Data = pd.Series(np.random.randint(2,5,len(date)), index = date)\n",
    "Data"
   ]
  },
  {
   "cell_type": "code",
   "execution_count": 509,
   "metadata": {},
   "outputs": [],
   "source": [
    "America = Data[2:].tz_localize(\"America/Chicago\")"
   ]
  },
  {
   "cell_type": "code",
   "execution_count": 510,
   "metadata": {},
   "outputs": [
    {
     "data": {
      "text/plain": [
       "2019-01-01 10:15:00-06:00    2\n",
       "2020-01-01 10:15:00-06:00    4\n",
       "2021-01-01 10:15:00-06:00    2\n",
       "2022-01-01 10:15:00-06:00    4\n",
       "2023-01-01 10:15:00-06:00    3\n",
       "2024-01-01 10:15:00-06:00    3\n",
       "2025-01-01 10:15:00-06:00    2\n",
       "2026-01-01 10:15:00-06:00    2\n",
       "Freq: AS-JAN, dtype: int32"
      ]
     },
     "execution_count": 510,
     "metadata": {},
     "output_type": "execute_result"
    }
   ],
   "source": [
    "America"
   ]
  },
  {
   "cell_type": "code",
   "execution_count": 511,
   "metadata": {},
   "outputs": [],
   "source": [
    "Africa = America[:7].tz_convert(\"Africa/Lagos\")"
   ]
  },
  {
   "cell_type": "code",
   "execution_count": 512,
   "metadata": {},
   "outputs": [
    {
     "data": {
      "text/plain": [
       "2019-01-01 17:15:00+01:00    2\n",
       "2020-01-01 17:15:00+01:00    4\n",
       "2021-01-01 17:15:00+01:00    2\n",
       "2022-01-01 17:15:00+01:00    4\n",
       "2023-01-01 17:15:00+01:00    3\n",
       "2024-01-01 17:15:00+01:00    3\n",
       "2025-01-01 17:15:00+01:00    2\n",
       "Freq: AS-JAN, dtype: int32"
      ]
     },
     "execution_count": 512,
     "metadata": {},
     "output_type": "execute_result"
    }
   ],
   "source": [
    "Africa"
   ]
  },
  {
   "cell_type": "code",
   "execution_count": 513,
   "metadata": {},
   "outputs": [
    {
     "data": {
      "text/plain": [
       "2019-01-01 16:15:00+00:00    4.0\n",
       "2020-01-01 16:15:00+00:00    8.0\n",
       "2021-01-01 16:15:00+00:00    4.0\n",
       "2022-01-01 16:15:00+00:00    8.0\n",
       "2023-01-01 16:15:00+00:00    6.0\n",
       "2024-01-01 16:15:00+00:00    6.0\n",
       "2025-01-01 16:15:00+00:00    4.0\n",
       "2026-01-01 16:15:00+00:00    NaN\n",
       "Freq: AS-JAN, dtype: float64"
      ]
     },
     "execution_count": 513,
     "metadata": {},
     "output_type": "execute_result"
    }
   ],
   "source": [
    "Result = Africa+America\n",
    "Result #  out put timezone is in UTC"
   ]
  },
  {
   "cell_type": "code",
   "execution_count": 514,
   "metadata": {},
   "outputs": [
    {
     "data": {
      "text/plain": [
       "DatetimeIndex(['2019-01-01 16:15:00+00:00', '2020-01-01 16:15:00+00:00',\n",
       "               '2021-01-01 16:15:00+00:00', '2022-01-01 16:15:00+00:00',\n",
       "               '2023-01-01 16:15:00+00:00', '2024-01-01 16:15:00+00:00',\n",
       "               '2025-01-01 16:15:00+00:00', '2026-01-01 16:15:00+00:00'],\n",
       "              dtype='datetime64[ns, UTC]', freq='AS-JAN')"
      ]
     },
     "execution_count": 514,
     "metadata": {},
     "output_type": "execute_result"
    }
   ],
   "source": [
    "Result.index"
   ]
  },
  {
   "cell_type": "code",
   "execution_count": 515,
   "metadata": {},
   "outputs": [
    {
     "data": {
      "text/plain": [
       "DatetimeIndex(['2019-01-01 10:15:00-06:00', '2020-01-01 10:15:00-06:00',\n",
       "               '2021-01-01 10:15:00-06:00', '2022-01-01 10:15:00-06:00',\n",
       "               '2023-01-01 10:15:00-06:00', '2024-01-01 10:15:00-06:00',\n",
       "               '2025-01-01 10:15:00-06:00', '2026-01-01 10:15:00-06:00'],\n",
       "              dtype='datetime64[ns, America/Chicago]', freq='AS-JAN')"
      ]
     },
     "execution_count": 515,
     "metadata": {},
     "output_type": "execute_result"
    }
   ],
   "source": [
    "America.index"
   ]
  },
  {
   "cell_type": "code",
   "execution_count": 516,
   "metadata": {},
   "outputs": [
    {
     "data": {
      "text/plain": [
       "DatetimeIndex(['2019-01-01 17:15:00+01:00', '2020-01-01 17:15:00+01:00',\n",
       "               '2021-01-01 17:15:00+01:00', '2022-01-01 17:15:00+01:00',\n",
       "               '2023-01-01 17:15:00+01:00', '2024-01-01 17:15:00+01:00',\n",
       "               '2025-01-01 17:15:00+01:00'],\n",
       "              dtype='datetime64[ns, Africa/Lagos]', freq='AS-JAN')"
      ]
     },
     "execution_count": 516,
     "metadata": {},
     "output_type": "execute_result"
    }
   ],
   "source": [
    "Africa.index"
   ]
  },
  {
   "cell_type": "code",
   "execution_count": null,
   "metadata": {},
   "outputs": [],
   "source": []
  },
  {
   "cell_type": "code",
   "execution_count": 517,
   "metadata": {},
   "outputs": [],
   "source": [
    "#  Period and Period Arithmetic\n",
    "\n",
    "# periods represents time like days, month, year or quarters\n"
   ]
  },
  {
   "cell_type": "code",
   "execution_count": 518,
   "metadata": {},
   "outputs": [
    {
     "data": {
      "text/plain": [
       "Period('2017', 'A-DEC')"
      ]
     },
     "execution_count": 518,
     "metadata": {},
     "output_type": "execute_result"
    }
   ],
   "source": [
    "p1 = pd.Period(2017)\n",
    "p1"
   ]
  },
  {
   "cell_type": "code",
   "execution_count": 519,
   "metadata": {},
   "outputs": [],
   "source": [
    "# we can carry out basic Aruthmetics of (+ amd -) on this period"
   ]
  },
  {
   "cell_type": "code",
   "execution_count": 520,
   "metadata": {},
   "outputs": [
    {
     "data": {
      "text/plain": [
       "Period('2022', 'A-DEC')"
      ]
     },
     "execution_count": 520,
     "metadata": {},
     "output_type": "execute_result"
    }
   ],
   "source": [
    "p1+5"
   ]
  },
  {
   "cell_type": "code",
   "execution_count": 521,
   "metadata": {},
   "outputs": [
    {
     "data": {
      "text/plain": [
       "<4 * YearEnds: month=12>"
      ]
     },
     "execution_count": 521,
     "metadata": {},
     "output_type": "execute_result"
    }
   ],
   "source": [
    "pd.Period(2017) - pd.Period(2013)"
   ]
  },
  {
   "cell_type": "code",
   "execution_count": 522,
   "metadata": {},
   "outputs": [
    {
     "data": {
      "text/plain": [
       "Period('2012', 'A-DEC')"
      ]
     },
     "execution_count": 522,
     "metadata": {},
     "output_type": "execute_result"
    }
   ],
   "source": [
    "p1-5"
   ]
  },
  {
   "cell_type": "code",
   "execution_count": 523,
   "metadata": {},
   "outputs": [],
   "source": [
    "# we can create a period range"
   ]
  },
  {
   "cell_type": "code",
   "execution_count": 524,
   "metadata": {},
   "outputs": [
    {
     "data": {
      "text/plain": [
       "PeriodIndex(['2012-02', '2012-03', '2012-04', '2012-05', '2012-06'], dtype='period[M]', freq='M')"
      ]
     },
     "execution_count": 524,
     "metadata": {},
     "output_type": "execute_result"
    }
   ],
   "source": [
    "p2 = pd.period_range(\"2/6/2012\", \"20/6/2012\", freq = \"M\")\n",
    "p2"
   ]
  },
  {
   "cell_type": "code",
   "execution_count": 525,
   "metadata": {},
   "outputs": [
    {
     "data": {
      "text/plain": [
       "2012-02    0\n",
       "2012-03    1\n",
       "2012-04    2\n",
       "2012-05    3\n",
       "2012-06    4\n",
       "Freq: M, dtype: int32"
      ]
     },
     "execution_count": 525,
     "metadata": {},
     "output_type": "execute_result"
    }
   ],
   "source": [
    "pd.Series(np.arange(5), index = p2)"
   ]
  },
  {
   "cell_type": "code",
   "execution_count": 526,
   "metadata": {},
   "outputs": [
    {
     "data": {
      "text/plain": [
       "PeriodIndex(['2001Q1', '2002Q2', '2002Q3', '2004Q4'], dtype='period[Q-MAR]', freq='Q-MAR')"
      ]
     },
     "execution_count": 526,
     "metadata": {},
     "output_type": "execute_result"
    }
   ],
   "source": [
    "#if we have array of string as periodvaly, \n",
    "#we can pass the period.index to it specifying the range of quarters\n",
    "\n",
    "String = [\"2001Q1\", \"2002Q2\", \"2002Q3\", \"2004Q4\"]\n",
    "index = pd.PeriodIndex(String, freq = \"Q-MAR\")\n",
    "index\n",
    "\n",
    "\n",
    "\n",
    "\n",
    "\n"
   ]
  },
  {
   "cell_type": "code",
   "execution_count": 527,
   "metadata": {},
   "outputs": [
    {
     "data": {
      "text/plain": [
       "DatetimeIndex(['2015-01-01', '2015-02-02', '2015-03-03'], dtype='datetime64[ns]', freq=None)"
      ]
     },
     "execution_count": 527,
     "metadata": {},
     "output_type": "execute_result"
    }
   ],
   "source": [
    "pd.DatetimeIndex([\"1/1/2015\", \"2/2/2015\", \"3/3/2015\"])"
   ]
  },
  {
   "cell_type": "code",
   "execution_count": 528,
   "metadata": {},
   "outputs": [],
   "source": [
    "# Period frequency Conversion"
   ]
  },
  {
   "cell_type": "code",
   "execution_count": 529,
   "metadata": {},
   "outputs": [],
   "source": [
    "# Suppose we have an anual period s thus\n",
    "p3 = pd.Period(\"2007\", freq = \"A-JUN\")"
   ]
  },
  {
   "cell_type": "code",
   "execution_count": 530,
   "metadata": {},
   "outputs": [
    {
     "data": {
      "text/plain": [
       "Period('2007', 'A-JUN')"
      ]
     },
     "execution_count": 530,
     "metadata": {},
     "output_type": "execute_result"
    }
   ],
   "source": [
    "p3"
   ]
  },
  {
   "cell_type": "code",
   "execution_count": 531,
   "metadata": {},
   "outputs": [
    {
     "data": {
      "text/plain": [
       "Period('2006-07', 'M')"
      ]
     },
     "execution_count": 531,
     "metadata": {},
     "output_type": "execute_result"
    }
   ],
   "source": [
    "p3.asfreq(\"M\", how=\"start\")  # Converted to month"
   ]
  },
  {
   "cell_type": "code",
   "execution_count": 532,
   "metadata": {},
   "outputs": [
    {
     "data": {
      "text/plain": [
       "Period('2007-06', 'M')"
      ]
     },
     "execution_count": 532,
     "metadata": {},
     "output_type": "execute_result"
    }
   ],
   "source": [
    "p3.asfreq(\"M\", how = \"end\")   # By default anual period run JAN-DEC"
   ]
  },
  {
   "cell_type": "code",
   "execution_count": 533,
   "metadata": {},
   "outputs": [
    {
     "data": {
      "text/plain": [
       "Period('2006-07-01', 'D')"
      ]
     },
     "execution_count": 533,
     "metadata": {},
     "output_type": "execute_result"
    }
   ],
   "source": [
    "p3.asfreq(\"D\", how=\"start\")  # converted to day"
   ]
  },
  {
   "cell_type": "code",
   "execution_count": 534,
   "metadata": {},
   "outputs": [
    {
     "data": {
      "text/plain": [
       "Period('2012', 'A-MAR')"
      ]
     },
     "execution_count": 534,
     "metadata": {},
     "output_type": "execute_result"
    }
   ],
   "source": [
    "p4 = pd.Period(\"2012\", freq = \"A-MAR\")\n",
    "p4"
   ]
  },
  {
   "cell_type": "code",
   "execution_count": 535,
   "metadata": {},
   "outputs": [
    {
     "data": {
      "text/plain": [
       "Period('2011-04', 'M')"
      ]
     },
     "execution_count": 535,
     "metadata": {},
     "output_type": "execute_result"
    }
   ],
   "source": [
    "p4.asfreq(\"M\", \"s\") # Start from next month"
   ]
  },
  {
   "cell_type": "code",
   "execution_count": 536,
   "metadata": {},
   "outputs": [
    {
     "data": {
      "text/plain": [
       "Period('2012-03', 'M')"
      ]
     },
     "execution_count": 536,
     "metadata": {},
     "output_type": "execute_result"
    }
   ],
   "source": [
    "p4.asfreq(\"M\", \"e\")   # Start from previuos Month"
   ]
  },
  {
   "cell_type": "code",
   "execution_count": 537,
   "metadata": {},
   "outputs": [],
   "source": [
    "#whole periodIndex cam be converted as thus"
   ]
  },
  {
   "cell_type": "code",
   "execution_count": 538,
   "metadata": {},
   "outputs": [
    {
     "data": {
      "text/plain": [
       "PeriodIndex(['2018', '2019', '2020', '2021', '2022', '2023'], dtype='period[A-DEC]', freq='A-DEC')"
      ]
     },
     "execution_count": 538,
     "metadata": {},
     "output_type": "execute_result"
    }
   ],
   "source": [
    "index = pd.period_range(\"1/1/2018\", \"1/13/2023\", freq = \"A-DEC\")\n",
    "index"
   ]
  },
  {
   "cell_type": "code",
   "execution_count": 539,
   "metadata": {},
   "outputs": [
    {
     "data": {
      "text/plain": [
       "2018    0\n",
       "2019    1\n",
       "2020    2\n",
       "2021    3\n",
       "2022    4\n",
       "2023    5\n",
       "Freq: A-DEC, dtype: int32"
      ]
     },
     "execution_count": 539,
     "metadata": {},
     "output_type": "execute_result"
    }
   ],
   "source": [
    "rng = pd.Series(np.arange(len(index)), index= index)\n",
    "rng"
   ]
  },
  {
   "cell_type": "code",
   "execution_count": 540,
   "metadata": {},
   "outputs": [
    {
     "data": {
      "text/plain": [
       "2018-12    0\n",
       "2019-12    1\n",
       "2020-12    2\n",
       "2021-12    3\n",
       "2022-12    4\n",
       "2023-12    5\n",
       "Freq: M, dtype: int32"
      ]
     },
     "execution_count": 540,
     "metadata": {},
     "output_type": "execute_result"
    }
   ],
   "source": [
    "rng.asfreq(\"M\", how = \"end\")  # Start of the month"
   ]
  },
  {
   "cell_type": "code",
   "execution_count": 541,
   "metadata": {},
   "outputs": [
    {
     "data": {
      "text/plain": [
       "2018-01    0\n",
       "2019-01    1\n",
       "2020-01    2\n",
       "2021-01    3\n",
       "2022-01    4\n",
       "2023-01    5\n",
       "Freq: M, dtype: int32"
      ]
     },
     "execution_count": 541,
     "metadata": {},
     "output_type": "execute_result"
    }
   ],
   "source": [
    "rng.asfreq(\"M\", how = \"start\")  #  End of the  month"
   ]
  },
  {
   "cell_type": "code",
   "execution_count": 542,
   "metadata": {},
   "outputs": [
    {
     "data": {
      "text/plain": [
       "2018-12-31    0\n",
       "2019-12-31    1\n",
       "2020-12-31    2\n",
       "2021-12-31    3\n",
       "2022-12-31    4\n",
       "2023-12-31    5\n",
       "Freq: D, dtype: int32"
      ]
     },
     "execution_count": 542,
     "metadata": {},
     "output_type": "execute_result"
    }
   ],
   "source": [
    "rng.asfreq(\"D\", how = \"end\")"
   ]
  },
  {
   "cell_type": "code",
   "execution_count": null,
   "metadata": {},
   "outputs": [],
   "source": []
  },
  {
   "cell_type": "code",
   "execution_count": 543,
   "metadata": {},
   "outputs": [],
   "source": [
    "# Quarterly Frequency conversion"
   ]
  },
  {
   "cell_type": "code",
   "execution_count": 544,
   "metadata": {},
   "outputs": [
    {
     "data": {
      "text/plain": [
       "Period('2011Q1', 'Q-DEC')"
      ]
     },
     "execution_count": 544,
     "metadata": {},
     "output_type": "execute_result"
    }
   ],
   "source": [
    "p5 = pd.Period(\"2011Q1\", freq = \"Q-DEC\")\n",
    "p5"
   ]
  },
  {
   "cell_type": "code",
   "execution_count": 545,
   "metadata": {},
   "outputs": [
    {
     "data": {
      "text/plain": [
       "Period('2011-01', 'M')"
      ]
     },
     "execution_count": 545,
     "metadata": {},
     "output_type": "execute_result"
    }
   ],
   "source": [
    "p5.asfreq(\"M\", \"s\")"
   ]
  },
  {
   "cell_type": "code",
   "execution_count": 546,
   "metadata": {},
   "outputs": [
    {
     "data": {
      "text/plain": [
       "Period('2011-03-31', 'D')"
      ]
     },
     "execution_count": 546,
     "metadata": {},
     "output_type": "execute_result"
    }
   ],
   "source": [
    "p5.asfreq(\"D\", \"end\")"
   ]
  },
  {
   "cell_type": "code",
   "execution_count": 547,
   "metadata": {},
   "outputs": [
    {
     "data": {
      "text/plain": [
       "Period('2010-12-31', 'D')"
      ]
     },
     "execution_count": 547,
     "metadata": {},
     "output_type": "execute_result"
    }
   ],
   "source": [
    "p6 = p5.asfreq(\"D\", \"s\")-1\n",
    "p6  # Converted to date and removing one from the year"
   ]
  },
  {
   "cell_type": "code",
   "execution_count": 548,
   "metadata": {},
   "outputs": [
    {
     "data": {
      "text/plain": [
       "Period('2010-12-31 00:00', 'T')"
      ]
     },
     "execution_count": 548,
     "metadata": {},
     "output_type": "execute_result"
    }
   ],
   "source": [
    "p6.asfreq(\"T\", \"s\")  #  coonverting p5 to time stamp"
   ]
  },
  {
   "cell_type": "code",
   "execution_count": 549,
   "metadata": {},
   "outputs": [
    {
     "data": {
      "text/plain": [
       "Period('2010-12-31 04:00', 'T')"
      ]
     },
     "execution_count": 549,
     "metadata": {},
     "output_type": "execute_result"
    }
   ],
   "source": [
    "p6.asfreq(\"T\", \"s\")+60*4  # adding our to that time"
   ]
  },
  {
   "cell_type": "code",
   "execution_count": 550,
   "metadata": {},
   "outputs": [
    {
     "data": {
      "text/plain": [
       "Period('2010-12-31 04:30', 'T')"
      ]
     },
     "execution_count": 550,
     "metadata": {},
     "output_type": "execute_result"
    }
   ],
   "source": [
    "p6.asfreq(\"T\", \"s\")+60*4+30  # Adding hour and Minute to the Time"
   ]
  },
  {
   "cell_type": "code",
   "execution_count": null,
   "metadata": {},
   "outputs": [],
   "source": []
  },
  {
   "cell_type": "code",
   "execution_count": 551,
   "metadata": {},
   "outputs": [],
   "source": [
    "# we can  generate period Quarterly range as thus"
   ]
  },
  {
   "cell_type": "code",
   "execution_count": 552,
   "metadata": {},
   "outputs": [
    {
     "data": {
      "text/plain": [
       "PeriodIndex(['2011Q2', '2011Q3', '2011Q4', '2012Q1', '2012Q2', '2012Q3',\n",
       "             '2012Q4', '2013Q1', '2013Q2', '2013Q3', '2013Q4', '2014Q1',\n",
       "             '2014Q2', '2014Q3', '2014Q4', '2015Q1', '2015Q2', '2015Q3',\n",
       "             '2015Q4'],\n",
       "            dtype='period[Q-MAR]', freq='Q-MAR')"
      ]
     },
     "execution_count": 552,
     "metadata": {},
     "output_type": "execute_result"
    }
   ],
   "source": [
    "quarter = pd.period_range(\"2011Q2\", \"2015Q4\", freq = \"Q-MAR\")\n",
    "quarter"
   ]
  },
  {
   "cell_type": "code",
   "execution_count": 553,
   "metadata": {},
   "outputs": [
    {
     "data": {
      "text/plain": [
       "2011Q2   -0.478297\n",
       "2011Q3    0.404571\n",
       "2011Q4   -1.464354\n",
       "2012Q1   -0.144241\n",
       "2012Q2    0.576258\n",
       "2012Q3    0.789857\n",
       "2012Q4   -0.455760\n",
       "2013Q1   -0.211774\n",
       "2013Q2    0.008164\n",
       "2013Q3    0.339434\n",
       "2013Q4   -0.756351\n",
       "2014Q1   -1.514153\n",
       "2014Q2   -0.291347\n",
       "2014Q3   -0.004928\n",
       "2014Q4   -0.423374\n",
       "2015Q1    1.629927\n",
       "2015Q2   -1.347465\n",
       "2015Q3    0.177038\n",
       "2015Q4    0.809068\n",
       "Freq: Q-MAR, dtype: float64"
      ]
     },
     "execution_count": 553,
     "metadata": {},
     "output_type": "execute_result"
    }
   ],
   "source": [
    "values = pd.Series(np.random.randn(len(quarter)), index = quarter)\n",
    "values"
   ]
  },
  {
   "cell_type": "code",
   "execution_count": 554,
   "metadata": {},
   "outputs": [
    {
     "data": {
      "text/plain": [
       "2010-07-01   -0.478297\n",
       "2010-10-01    0.404571\n",
       "2011-01-03   -1.464354\n",
       "2011-04-01   -0.144241\n",
       "2011-07-01    0.576258\n",
       "2011-10-03    0.789857\n",
       "2012-01-02   -0.455760\n",
       "2012-04-02   -0.211774\n",
       "2012-07-02    0.008164\n",
       "2012-10-01    0.339434\n",
       "2013-01-01   -0.756351\n",
       "2013-04-01   -1.514153\n",
       "2013-07-01   -0.291347\n",
       "2013-10-01   -0.004928\n",
       "2014-01-01   -0.423374\n",
       "2014-04-01    1.629927\n",
       "2014-07-01   -1.347465\n",
       "2014-10-01    0.177038\n",
       "2015-01-01    0.809068\n",
       "Freq: B, dtype: float64"
      ]
     },
     "execution_count": 554,
     "metadata": {},
     "output_type": "execute_result"
    }
   ],
   "source": [
    "Newvalues = values.asfreq(\"B\", how = \"start\")\n",
    "Newvalues"
   ]
  },
  {
   "cell_type": "code",
   "execution_count": 555,
   "metadata": {},
   "outputs": [
    {
     "data": {
      "text/plain": [
       "PeriodIndex(['2010-07-01 04:15', '2010-10-01 04:15', '2011-01-03 04:15',\n",
       "             '2011-04-01 04:15', '2011-07-01 04:15', '2011-10-03 04:15',\n",
       "             '2012-01-02 04:15', '2012-04-02 04:15', '2012-07-02 04:15',\n",
       "             '2012-10-01 04:15', '2013-01-01 04:15', '2013-04-01 04:15',\n",
       "             '2013-07-01 04:15', '2013-10-01 04:15', '2014-01-01 04:15',\n",
       "             '2014-04-01 04:15', '2014-07-01 04:15', '2014-10-01 04:15',\n",
       "             '2015-01-01 04:15'],\n",
       "            dtype='period[T]', freq='T')"
      ]
     },
     "execution_count": 555,
     "metadata": {},
     "output_type": "execute_result"
    }
   ],
   "source": [
    "Newvalues.index.asfreq(\"T\", how = \"s\")+60*4+15  # converted it to Timestamp and added 4hrs 15min"
   ]
  },
  {
   "cell_type": "code",
   "execution_count": 556,
   "metadata": {},
   "outputs": [
    {
     "data": {
      "text/plain": [
       "2010-07-01 04:15   -1.618036\n",
       "2010-10-01 04:15   -1.580231\n",
       "2011-01-03 04:15   -1.526103\n",
       "2011-04-01 04:15   -0.712241\n",
       "2011-07-01 04:15    0.479933\n",
       "2011-10-03 04:15   -1.550875\n",
       "2012-01-02 04:15    1.194081\n",
       "2012-04-02 04:15    0.296840\n",
       "2012-07-02 04:15    0.942218\n",
       "2012-10-01 04:15    1.613292\n",
       "2013-01-01 04:15    0.649861\n",
       "2013-04-01 04:15   -1.564369\n",
       "2013-07-01 04:15    0.369011\n",
       "2013-10-01 04:15    0.574752\n",
       "2014-01-01 04:15   -0.953301\n",
       "2014-04-01 04:15    1.263889\n",
       "2014-07-01 04:15    0.126612\n",
       "2014-10-01 04:15    0.988065\n",
       "2015-01-01 04:15   -0.118045\n",
       "Freq: T, dtype: float64"
      ]
     },
     "execution_count": 556,
     "metadata": {},
     "output_type": "execute_result"
    }
   ],
   "source": [
    "values1 = pd.Series(np.random.randn(len(quarter)), index = Newvalues.index.asfreq(\"T\", how = \"s\")+60*4+15 )\n",
    "values1"
   ]
  },
  {
   "cell_type": "code",
   "execution_count": null,
   "metadata": {},
   "outputs": [],
   "source": []
  },
  {
   "cell_type": "code",
   "execution_count": 557,
   "metadata": {},
   "outputs": [],
   "source": [
    "#  Converting TimeStamp to period and Vice Versa using to_period(method)"
   ]
  },
  {
   "cell_type": "code",
   "execution_count": 558,
   "metadata": {},
   "outputs": [
    {
     "data": {
      "text/plain": [
       "DatetimeIndex(['2012-01-31', '2012-02-29', '2012-03-31', '2012-04-30',\n",
       "               '2012-05-31', '2012-06-30', '2012-07-31', '2012-08-31',\n",
       "               '2012-09-30'],\n",
       "              dtype='datetime64[ns]', freq='M')"
      ]
     },
     "execution_count": 558,
     "metadata": {},
     "output_type": "execute_result"
    }
   ],
   "source": [
    "date = pd.date_range(\"1/1/2012\", \"10/6/2012\", freq = \"M\")  # Month end\n",
    "date"
   ]
  },
  {
   "cell_type": "code",
   "execution_count": 559,
   "metadata": {},
   "outputs": [
    {
     "data": {
      "text/plain": [
       "2012-01-31    0\n",
       "2012-02-29    1\n",
       "2012-03-31    2\n",
       "2012-04-30    3\n",
       "2012-05-31    4\n",
       "2012-06-30    5\n",
       "2012-07-31    6\n",
       "2012-08-31    7\n",
       "2012-09-30    8\n",
       "Freq: M, dtype: int32"
      ]
     },
     "execution_count": 559,
     "metadata": {},
     "output_type": "execute_result"
    }
   ],
   "source": [
    "ts = pd.Series(np.arange(len(date)), index = date)\n",
    "ts"
   ]
  },
  {
   "cell_type": "code",
   "execution_count": 560,
   "metadata": {},
   "outputs": [
    {
     "data": {
      "text/plain": [
       "2012-01    0\n",
       "2012-02    1\n",
       "2012-03    2\n",
       "2012-04    3\n",
       "2012-05    4\n",
       "2012-06    5\n",
       "2012-07    6\n",
       "2012-08    7\n",
       "2012-09    8\n",
       "Freq: M, dtype: int32"
      ]
     },
     "execution_count": 560,
     "metadata": {},
     "output_type": "execute_result"
    }
   ],
   "source": [
    "ts.to_period()"
   ]
  },
  {
   "cell_type": "code",
   "execution_count": 561,
   "metadata": {},
   "outputs": [],
   "source": [
    "ranges = pd.date_range(\"20/1/2018\", periods = 20,  freq = \"D\")"
   ]
  },
  {
   "cell_type": "code",
   "execution_count": 562,
   "metadata": {},
   "outputs": [
    {
     "data": {
      "text/plain": [
       "2018-01-20    10\n",
       "2018-01-21    11\n",
       "2018-01-22    12\n",
       "2018-01-23    13\n",
       "2018-01-24    14\n",
       "2018-01-25    15\n",
       "2018-01-26    16\n",
       "2018-01-27    17\n",
       "2018-01-28    18\n",
       "2018-01-29    19\n",
       "2018-01-30    20\n",
       "2018-01-31    21\n",
       "2018-02-01    22\n",
       "2018-02-02    23\n",
       "2018-02-03    24\n",
       "2018-02-04    25\n",
       "2018-02-05    26\n",
       "2018-02-06    27\n",
       "2018-02-07    28\n",
       "2018-02-08    29\n",
       "Freq: D, dtype: int32"
      ]
     },
     "execution_count": 562,
     "metadata": {},
     "output_type": "execute_result"
    }
   ],
   "source": [
    "td = pd.Series(np.arange(len(ranges))+10, index = ranges)\n",
    "td"
   ]
  },
  {
   "cell_type": "code",
   "execution_count": 563,
   "metadata": {},
   "outputs": [
    {
     "data": {
      "text/plain": [
       "2018-01    10\n",
       "2018-01    11\n",
       "2018-01    12\n",
       "2018-01    13\n",
       "2018-01    14\n",
       "2018-01    15\n",
       "2018-01    16\n",
       "2018-01    17\n",
       "2018-01    18\n",
       "2018-01    19\n",
       "2018-01    20\n",
       "2018-01    21\n",
       "2018-02    22\n",
       "2018-02    23\n",
       "2018-02    24\n",
       "2018-02    25\n",
       "2018-02    26\n",
       "2018-02    27\n",
       "2018-02    28\n",
       "2018-02    29\n",
       "Freq: M, dtype: int32"
      ]
     },
     "execution_count": 563,
     "metadata": {},
     "output_type": "execute_result"
    }
   ],
   "source": [
    "td.to_period(\"M\")  #  converted period of Months"
   ]
  },
  {
   "cell_type": "code",
   "execution_count": 564,
   "metadata": {},
   "outputs": [
    {
     "data": {
      "text/plain": [
       "2018Q4    10\n",
       "2018Q4    11\n",
       "2018Q4    12\n",
       "2018Q4    13\n",
       "2018Q4    14\n",
       "2018Q4    15\n",
       "2018Q4    16\n",
       "2018Q4    17\n",
       "2018Q4    18\n",
       "2018Q4    19\n",
       "2018Q4    20\n",
       "2018Q4    21\n",
       "2019Q1    22\n",
       "2019Q1    23\n",
       "2019Q1    24\n",
       "2019Q1    25\n",
       "2019Q1    26\n",
       "2019Q1    27\n",
       "2019Q1    28\n",
       "2019Q1    29\n",
       "Freq: Q-JAN, dtype: int32"
      ]
     },
     "execution_count": 564,
     "metadata": {},
     "output_type": "execute_result"
    }
   ],
   "source": [
    "NewPeriod = td.to_period(\"Q-JAN\")\n",
    "NewPeriod"
   ]
  },
  {
   "cell_type": "code",
   "execution_count": 565,
   "metadata": {},
   "outputs": [
    {
     "data": {
      "text/plain": [
       "2018-01-31 23:59:59.999999999    10\n",
       "2018-01-31 23:59:59.999999999    11\n",
       "2018-01-31 23:59:59.999999999    12\n",
       "2018-01-31 23:59:59.999999999    13\n",
       "2018-01-31 23:59:59.999999999    14\n",
       "2018-01-31 23:59:59.999999999    15\n",
       "2018-01-31 23:59:59.999999999    16\n",
       "2018-01-31 23:59:59.999999999    17\n",
       "2018-01-31 23:59:59.999999999    18\n",
       "2018-01-31 23:59:59.999999999    19\n",
       "2018-01-31 23:59:59.999999999    20\n",
       "2018-01-31 23:59:59.999999999    21\n",
       "2018-04-30 23:59:59.999999999    22\n",
       "2018-04-30 23:59:59.999999999    23\n",
       "2018-04-30 23:59:59.999999999    24\n",
       "2018-04-30 23:59:59.999999999    25\n",
       "2018-04-30 23:59:59.999999999    26\n",
       "2018-04-30 23:59:59.999999999    27\n",
       "2018-04-30 23:59:59.999999999    28\n",
       "2018-04-30 23:59:59.999999999    29\n",
       "dtype: int32"
      ]
     },
     "execution_count": 565,
     "metadata": {},
     "output_type": "execute_result"
    }
   ],
   "source": [
    "# Converting Period to TimeStamp\n",
    "\n",
    "NewPeriod.to_timestamp(how = \"end\")\n"
   ]
  },
  {
   "cell_type": "code",
   "execution_count": 566,
   "metadata": {},
   "outputs": [
    {
     "data": {
      "text/plain": [
       "Index(['01/31/18', '01/31/18', '01/31/18', '01/31/18', '01/31/18', '01/31/18',\n",
       "       '01/31/18', '01/31/18', '01/31/18', '01/31/18', '01/31/18', '01/31/18',\n",
       "       '04/30/18', '04/30/18', '04/30/18', '04/30/18', '04/30/18', '04/30/18',\n",
       "       '04/30/18', '04/30/18'],\n",
       "      dtype='object')"
      ]
     },
     "execution_count": 566,
     "metadata": {},
     "output_type": "execute_result"
    }
   ],
   "source": [
    "NewPeriod.to_timestamp(how = \"end\").index.strftime(\"%D\")"
   ]
  },
  {
   "cell_type": "code",
   "execution_count": 596,
   "metadata": {},
   "outputs": [
    {
     "data": {
      "text/html": [
       "<div>\n",
       "<style scoped>\n",
       "    .dataframe tbody tr th:only-of-type {\n",
       "        vertical-align: middle;\n",
       "    }\n",
       "\n",
       "    .dataframe tbody tr th {\n",
       "        vertical-align: top;\n",
       "    }\n",
       "\n",
       "    .dataframe thead th {\n",
       "        text-align: right;\n",
       "    }\n",
       "</style>\n",
       "<table border=\"1\" class=\"dataframe\">\n",
       "  <thead>\n",
       "    <tr style=\"text-align: right;\">\n",
       "      <th></th>\n",
       "      <th>year</th>\n",
       "      <th>quarter</th>\n",
       "      <th>realgdp</th>\n",
       "      <th>realcons</th>\n",
       "      <th>realinv</th>\n",
       "      <th>realgovt</th>\n",
       "      <th>realdpi</th>\n",
       "    </tr>\n",
       "  </thead>\n",
       "  <tbody>\n",
       "    <tr>\n",
       "      <th>0</th>\n",
       "      <td>1959.0</td>\n",
       "      <td>1.0</td>\n",
       "      <td>2710.349</td>\n",
       "      <td>1707.4</td>\n",
       "      <td>286.898</td>\n",
       "      <td>470.045</td>\n",
       "      <td>1886.9</td>\n",
       "    </tr>\n",
       "    <tr>\n",
       "      <th>1</th>\n",
       "      <td>1959.0</td>\n",
       "      <td>2.0</td>\n",
       "      <td>2778.801</td>\n",
       "      <td>1733.7</td>\n",
       "      <td>310.859</td>\n",
       "      <td>481.301</td>\n",
       "      <td>1919.7</td>\n",
       "    </tr>\n",
       "    <tr>\n",
       "      <th>2</th>\n",
       "      <td>1959.0</td>\n",
       "      <td>3.0</td>\n",
       "      <td>2775.488</td>\n",
       "      <td>1751.8</td>\n",
       "      <td>289.226</td>\n",
       "      <td>491.260</td>\n",
       "      <td>1916.4</td>\n",
       "    </tr>\n",
       "    <tr>\n",
       "      <th>3</th>\n",
       "      <td>1959.0</td>\n",
       "      <td>4.0</td>\n",
       "      <td>2785.204</td>\n",
       "      <td>1753.7</td>\n",
       "      <td>299.356</td>\n",
       "      <td>484.052</td>\n",
       "      <td>1931.3</td>\n",
       "    </tr>\n",
       "    <tr>\n",
       "      <th>4</th>\n",
       "      <td>1960.0</td>\n",
       "      <td>1.0</td>\n",
       "      <td>2847.699</td>\n",
       "      <td>1770.5</td>\n",
       "      <td>331.722</td>\n",
       "      <td>462.199</td>\n",
       "      <td>1955.5</td>\n",
       "    </tr>\n",
       "    <tr>\n",
       "      <th>...</th>\n",
       "      <td>...</td>\n",
       "      <td>...</td>\n",
       "      <td>...</td>\n",
       "      <td>...</td>\n",
       "      <td>...</td>\n",
       "      <td>...</td>\n",
       "      <td>...</td>\n",
       "    </tr>\n",
       "    <tr>\n",
       "      <th>197</th>\n",
       "      <td>2008.0</td>\n",
       "      <td>2.0</td>\n",
       "      <td>13415.266</td>\n",
       "      <td>9351.0</td>\n",
       "      <td>2026.518</td>\n",
       "      <td>961.280</td>\n",
       "      <td>10059.0</td>\n",
       "    </tr>\n",
       "    <tr>\n",
       "      <th>198</th>\n",
       "      <td>2008.0</td>\n",
       "      <td>3.0</td>\n",
       "      <td>13324.600</td>\n",
       "      <td>9267.7</td>\n",
       "      <td>1990.693</td>\n",
       "      <td>991.551</td>\n",
       "      <td>9838.3</td>\n",
       "    </tr>\n",
       "    <tr>\n",
       "      <th>199</th>\n",
       "      <td>2008.0</td>\n",
       "      <td>4.0</td>\n",
       "      <td>13141.920</td>\n",
       "      <td>9195.3</td>\n",
       "      <td>1857.661</td>\n",
       "      <td>1007.273</td>\n",
       "      <td>9920.4</td>\n",
       "    </tr>\n",
       "    <tr>\n",
       "      <th>200</th>\n",
       "      <td>2009.0</td>\n",
       "      <td>1.0</td>\n",
       "      <td>12925.410</td>\n",
       "      <td>9209.2</td>\n",
       "      <td>1558.494</td>\n",
       "      <td>996.287</td>\n",
       "      <td>9926.4</td>\n",
       "    </tr>\n",
       "    <tr>\n",
       "      <th>201</th>\n",
       "      <td>2009.0</td>\n",
       "      <td>2.0</td>\n",
       "      <td>12901.504</td>\n",
       "      <td>9189.0</td>\n",
       "      <td>1456.678</td>\n",
       "      <td>1023.528</td>\n",
       "      <td>10077.5</td>\n",
       "    </tr>\n",
       "  </tbody>\n",
       "</table>\n",
       "<p>202 rows × 7 columns</p>\n",
       "</div>"
      ],
      "text/plain": [
       "       year  quarter    realgdp  realcons   realinv  realgovt  realdpi\n",
       "0    1959.0      1.0   2710.349    1707.4   286.898   470.045   1886.9\n",
       "1    1959.0      2.0   2778.801    1733.7   310.859   481.301   1919.7\n",
       "2    1959.0      3.0   2775.488    1751.8   289.226   491.260   1916.4\n",
       "3    1959.0      4.0   2785.204    1753.7   299.356   484.052   1931.3\n",
       "4    1960.0      1.0   2847.699    1770.5   331.722   462.199   1955.5\n",
       "..      ...      ...        ...       ...       ...       ...      ...\n",
       "197  2008.0      2.0  13415.266    9351.0  2026.518   961.280  10059.0\n",
       "198  2008.0      3.0  13324.600    9267.7  1990.693   991.551   9838.3\n",
       "199  2008.0      4.0  13141.920    9195.3  1857.661  1007.273   9920.4\n",
       "200  2009.0      1.0  12925.410    9209.2  1558.494   996.287   9926.4\n",
       "201  2009.0      2.0  12901.504    9189.0  1456.678  1023.528  10077.5\n",
       "\n",
       "[202 rows x 7 columns]"
      ]
     },
     "execution_count": 596,
     "metadata": {},
     "output_type": "execute_result"
    }
   ],
   "source": [
    "pydata = pd.read_csv(\"C:/Users/admin/Desktop/Excel books/pydata-book-master_ch07_macrodata.csv\")\n",
    "pydata = pydata.iloc[:202,:7]\n",
    "pydata"
   ]
  },
  {
   "cell_type": "code",
   "execution_count": null,
   "metadata": {},
   "outputs": [],
   "source": [
    "import math"
   ]
  },
  {
   "cell_type": "code",
   "execution_count": null,
   "metadata": {},
   "outputs": [],
   "source": []
  },
  {
   "cell_type": "code",
   "execution_count": null,
   "metadata": {},
   "outputs": [],
   "source": []
  },
  {
   "cell_type": "code",
   "execution_count": 614,
   "metadata": {},
   "outputs": [],
   "source": [
    "Output = pd.read_excel(\"C:/Users/admin/Desktop/Github/Wallace/Final_Output.xlsx\").rename(columns ={\"Unnamed: 3\":\"Criteria\", \"Unnamed: 4\": \"Margin\" })"
   ]
  },
  {
   "cell_type": "code",
   "execution_count": 615,
   "metadata": {},
   "outputs": [
    {
     "data": {
      "text/html": [
       "<div>\n",
       "<style scoped>\n",
       "    .dataframe tbody tr th:only-of-type {\n",
       "        vertical-align: middle;\n",
       "    }\n",
       "\n",
       "    .dataframe tbody tr th {\n",
       "        vertical-align: top;\n",
       "    }\n",
       "\n",
       "    .dataframe thead th {\n",
       "        text-align: right;\n",
       "    }\n",
       "</style>\n",
       "<table border=\"1\" class=\"dataframe\">\n",
       "  <thead>\n",
       "    <tr style=\"text-align: right;\">\n",
       "      <th></th>\n",
       "      <th>Name</th>\n",
       "      <th>Age</th>\n",
       "      <th>Profit</th>\n",
       "      <th>Criteria</th>\n",
       "      <th>Margin</th>\n",
       "    </tr>\n",
       "  </thead>\n",
       "  <tbody>\n",
       "    <tr>\n",
       "      <th>0</th>\n",
       "      <td>Melantha Pickburn</td>\n",
       "      <td>(50.0, inf]</td>\n",
       "      <td>7103.99</td>\n",
       "      <td>Good</td>\n",
       "      <td>14207.98</td>\n",
       "    </tr>\n",
       "    <tr>\n",
       "      <th>1</th>\n",
       "      <td>Brett Scrancher</td>\n",
       "      <td>(18.0, 35.0]</td>\n",
       "      <td>6617.70</td>\n",
       "      <td>Good</td>\n",
       "      <td>13235.40</td>\n",
       "    </tr>\n",
       "    <tr>\n",
       "      <th>2</th>\n",
       "      <td>Jillie Fyndon</td>\n",
       "      <td>(35.0, 50.0]</td>\n",
       "      <td>6351.33</td>\n",
       "      <td>Good</td>\n",
       "      <td>12702.66</td>\n",
       "    </tr>\n",
       "    <tr>\n",
       "      <th>3</th>\n",
       "      <td>Alexandr Maylard</td>\n",
       "      <td>(35.0, 50.0]</td>\n",
       "      <td>5955.17</td>\n",
       "      <td>Good</td>\n",
       "      <td>11910.34</td>\n",
       "    </tr>\n",
       "    <tr>\n",
       "      <th>4</th>\n",
       "      <td>Raffaello Godleman</td>\n",
       "      <td>(18.0, 35.0]</td>\n",
       "      <td>5491.32</td>\n",
       "      <td>Good</td>\n",
       "      <td>10982.64</td>\n",
       "    </tr>\n",
       "    <tr>\n",
       "      <th>...</th>\n",
       "      <td>...</td>\n",
       "      <td>...</td>\n",
       "      <td>...</td>\n",
       "      <td>...</td>\n",
       "      <td>...</td>\n",
       "    </tr>\n",
       "    <tr>\n",
       "      <th>995</th>\n",
       "      <td>Carr Muckley</td>\n",
       "      <td>(35.0, 50.0]</td>\n",
       "      <td>1428.62</td>\n",
       "      <td>Bad</td>\n",
       "      <td>2857.24</td>\n",
       "    </tr>\n",
       "    <tr>\n",
       "      <th>996</th>\n",
       "      <td>Cindy Freeborn</td>\n",
       "      <td>(50.0, inf]</td>\n",
       "      <td>1428.52</td>\n",
       "      <td>Bad</td>\n",
       "      <td>2857.04</td>\n",
       "    </tr>\n",
       "    <tr>\n",
       "      <th>997</th>\n",
       "      <td>Brenden Dinley</td>\n",
       "      <td>(50.0, inf]</td>\n",
       "      <td>1428.49</td>\n",
       "      <td>Bad</td>\n",
       "      <td>2856.98</td>\n",
       "    </tr>\n",
       "    <tr>\n",
       "      <th>998</th>\n",
       "      <td>Poul Dumphy</td>\n",
       "      <td>(50.0, inf]</td>\n",
       "      <td>1427.63</td>\n",
       "      <td>Bad</td>\n",
       "      <td>2855.26</td>\n",
       "    </tr>\n",
       "    <tr>\n",
       "      <th>999</th>\n",
       "      <td>Emmalee Sketcher</td>\n",
       "      <td>(35.0, 50.0]</td>\n",
       "      <td>1425.82</td>\n",
       "      <td>Bad</td>\n",
       "      <td>2851.64</td>\n",
       "    </tr>\n",
       "  </tbody>\n",
       "</table>\n",
       "<p>1000 rows × 5 columns</p>\n",
       "</div>"
      ],
      "text/plain": [
       "                   Name           Age   Profit Criteria    Margin\n",
       "0     Melantha Pickburn   (50.0, inf]  7103.99     Good  14207.98\n",
       "1       Brett Scrancher  (18.0, 35.0]  6617.70     Good  13235.40\n",
       "2         Jillie Fyndon  (35.0, 50.0]  6351.33     Good  12702.66\n",
       "3      Alexandr Maylard  (35.0, 50.0]  5955.17     Good  11910.34\n",
       "4    Raffaello Godleman  (18.0, 35.0]  5491.32     Good  10982.64\n",
       "..                  ...           ...      ...      ...       ...\n",
       "995        Carr Muckley  (35.0, 50.0]  1428.62      Bad   2857.24\n",
       "996      Cindy Freeborn   (50.0, inf]  1428.52      Bad   2857.04\n",
       "997      Brenden Dinley   (50.0, inf]  1428.49      Bad   2856.98\n",
       "998         Poul Dumphy   (50.0, inf]  1427.63      Bad   2855.26\n",
       "999    Emmalee Sketcher  (35.0, 50.0]  1425.82      Bad   2851.64\n",
       "\n",
       "[1000 rows x 5 columns]"
      ]
     },
     "execution_count": 615,
     "metadata": {},
     "output_type": "execute_result"
    }
   ],
   "source": [
    "Output"
   ]
  },
  {
   "cell_type": "code",
   "execution_count": null,
   "metadata": {},
   "outputs": [],
   "source": []
  },
  {
   "cell_type": "code",
   "execution_count": null,
   "metadata": {},
   "outputs": [],
   "source": []
  },
  {
   "cell_type": "code",
   "execution_count": null,
   "metadata": {},
   "outputs": [],
   "source": []
  },
  {
   "cell_type": "code",
   "execution_count": 616,
   "metadata": {},
   "outputs": [],
   "source": [
    "pydata = pd.read_csv(\"C:/Users/admin\\Desktop/Excel books/pydata-book-master_ch07_macrodata.csv\")"
   ]
  },
  {
   "cell_type": "code",
   "execution_count": 618,
   "metadata": {},
   "outputs": [
    {
     "data": {
      "text/html": [
       "<div>\n",
       "<style scoped>\n",
       "    .dataframe tbody tr th:only-of-type {\n",
       "        vertical-align: middle;\n",
       "    }\n",
       "\n",
       "    .dataframe tbody tr th {\n",
       "        vertical-align: top;\n",
       "    }\n",
       "\n",
       "    .dataframe thead th {\n",
       "        text-align: right;\n",
       "    }\n",
       "</style>\n",
       "<table border=\"1\" class=\"dataframe\">\n",
       "  <thead>\n",
       "    <tr style=\"text-align: right;\">\n",
       "      <th></th>\n",
       "      <th>year</th>\n",
       "      <th>quarter</th>\n",
       "      <th>realgdp</th>\n",
       "      <th>realcons</th>\n",
       "      <th>realinv</th>\n",
       "      <th>realgovt</th>\n",
       "      <th>realdpi</th>\n",
       "      <th>cpi</th>\n",
       "      <th>m1</th>\n",
       "      <th>tbilrate</th>\n",
       "      <th>...</th>\n",
       "      <th>infl</th>\n",
       "      <th>realint</th>\n",
       "      <th>Unnamed: 14</th>\n",
       "      <th>date</th>\n",
       "      <th>DayNumber</th>\n",
       "      <th>MonthNumber</th>\n",
       "      <th>Year</th>\n",
       "      <th>WeekDay</th>\n",
       "      <th>Weeknumber</th>\n",
       "      <th>Unnamed: 21</th>\n",
       "    </tr>\n",
       "  </thead>\n",
       "  <tbody>\n",
       "    <tr>\n",
       "      <th>0</th>\n",
       "      <td>1959.0</td>\n",
       "      <td>1.0</td>\n",
       "      <td>2710.349</td>\n",
       "      <td>1707.4</td>\n",
       "      <td>286.898</td>\n",
       "      <td>470.045</td>\n",
       "      <td>1886.9</td>\n",
       "      <td>28.98</td>\n",
       "      <td>139.7</td>\n",
       "      <td>2.82</td>\n",
       "      <td>...</td>\n",
       "      <td>0.00</td>\n",
       "      <td>0.00</td>\n",
       "      <td>NaN</td>\n",
       "      <td>1/2/2015</td>\n",
       "      <td>2</td>\n",
       "      <td>1</td>\n",
       "      <td>2015</td>\n",
       "      <td>6</td>\n",
       "      <td>1</td>\n",
       "      <td>1</td>\n",
       "    </tr>\n",
       "    <tr>\n",
       "      <th>1</th>\n",
       "      <td>1959.0</td>\n",
       "      <td>2.0</td>\n",
       "      <td>2778.801</td>\n",
       "      <td>1733.7</td>\n",
       "      <td>310.859</td>\n",
       "      <td>481.301</td>\n",
       "      <td>1919.7</td>\n",
       "      <td>29.15</td>\n",
       "      <td>141.7</td>\n",
       "      <td>3.08</td>\n",
       "      <td>...</td>\n",
       "      <td>2.34</td>\n",
       "      <td>0.74</td>\n",
       "      <td>NaN</td>\n",
       "      <td>1/3/2015</td>\n",
       "      <td>3</td>\n",
       "      <td>1</td>\n",
       "      <td>2015</td>\n",
       "      <td>7</td>\n",
       "      <td>1</td>\n",
       "      <td>1</td>\n",
       "    </tr>\n",
       "    <tr>\n",
       "      <th>2</th>\n",
       "      <td>1959.0</td>\n",
       "      <td>3.0</td>\n",
       "      <td>2775.488</td>\n",
       "      <td>1751.8</td>\n",
       "      <td>289.226</td>\n",
       "      <td>491.260</td>\n",
       "      <td>1916.4</td>\n",
       "      <td>29.35</td>\n",
       "      <td>140.5</td>\n",
       "      <td>3.82</td>\n",
       "      <td>...</td>\n",
       "      <td>2.74</td>\n",
       "      <td>1.09</td>\n",
       "      <td>NaN</td>\n",
       "      <td>1/3/2015</td>\n",
       "      <td>3</td>\n",
       "      <td>1</td>\n",
       "      <td>2015</td>\n",
       "      <td>7</td>\n",
       "      <td>1</td>\n",
       "      <td>1</td>\n",
       "    </tr>\n",
       "    <tr>\n",
       "      <th>3</th>\n",
       "      <td>1959.0</td>\n",
       "      <td>4.0</td>\n",
       "      <td>2785.204</td>\n",
       "      <td>1753.7</td>\n",
       "      <td>299.356</td>\n",
       "      <td>484.052</td>\n",
       "      <td>1931.3</td>\n",
       "      <td>29.37</td>\n",
       "      <td>140.0</td>\n",
       "      <td>4.33</td>\n",
       "      <td>...</td>\n",
       "      <td>0.27</td>\n",
       "      <td>4.06</td>\n",
       "      <td>NaN</td>\n",
       "      <td>1/4/2015</td>\n",
       "      <td>4</td>\n",
       "      <td>1</td>\n",
       "      <td>2015</td>\n",
       "      <td>1</td>\n",
       "      <td>2</td>\n",
       "      <td>1</td>\n",
       "    </tr>\n",
       "    <tr>\n",
       "      <th>4</th>\n",
       "      <td>1960.0</td>\n",
       "      <td>1.0</td>\n",
       "      <td>2847.699</td>\n",
       "      <td>1770.5</td>\n",
       "      <td>331.722</td>\n",
       "      <td>462.199</td>\n",
       "      <td>1955.5</td>\n",
       "      <td>29.54</td>\n",
       "      <td>139.6</td>\n",
       "      <td>3.50</td>\n",
       "      <td>...</td>\n",
       "      <td>2.31</td>\n",
       "      <td>1.19</td>\n",
       "      <td>NaN</td>\n",
       "      <td>1/4/2015</td>\n",
       "      <td>4</td>\n",
       "      <td>1</td>\n",
       "      <td>2015</td>\n",
       "      <td>1</td>\n",
       "      <td>2</td>\n",
       "      <td>1</td>\n",
       "    </tr>\n",
       "    <tr>\n",
       "      <th>...</th>\n",
       "      <td>...</td>\n",
       "      <td>...</td>\n",
       "      <td>...</td>\n",
       "      <td>...</td>\n",
       "      <td>...</td>\n",
       "      <td>...</td>\n",
       "      <td>...</td>\n",
       "      <td>...</td>\n",
       "      <td>...</td>\n",
       "      <td>...</td>\n",
       "      <td>...</td>\n",
       "      <td>...</td>\n",
       "      <td>...</td>\n",
       "      <td>...</td>\n",
       "      <td>...</td>\n",
       "      <td>...</td>\n",
       "      <td>...</td>\n",
       "      <td>...</td>\n",
       "      <td>...</td>\n",
       "      <td>...</td>\n",
       "      <td>...</td>\n",
       "    </tr>\n",
       "    <tr>\n",
       "      <th>270</th>\n",
       "      <td>NaN</td>\n",
       "      <td>NaN</td>\n",
       "      <td>NaN</td>\n",
       "      <td>NaN</td>\n",
       "      <td>NaN</td>\n",
       "      <td>NaN</td>\n",
       "      <td>NaN</td>\n",
       "      <td>NaN</td>\n",
       "      <td>NaN</td>\n",
       "      <td>NaN</td>\n",
       "      <td>...</td>\n",
       "      <td>NaN</td>\n",
       "      <td>NaN</td>\n",
       "      <td>NaN</td>\n",
       "      <td>5/17/2015</td>\n",
       "      <td>17</td>\n",
       "      <td>5</td>\n",
       "      <td>2015</td>\n",
       "      <td>1</td>\n",
       "      <td>21</td>\n",
       "      <td>2</td>\n",
       "    </tr>\n",
       "    <tr>\n",
       "      <th>271</th>\n",
       "      <td>NaN</td>\n",
       "      <td>NaN</td>\n",
       "      <td>NaN</td>\n",
       "      <td>NaN</td>\n",
       "      <td>NaN</td>\n",
       "      <td>NaN</td>\n",
       "      <td>NaN</td>\n",
       "      <td>NaN</td>\n",
       "      <td>NaN</td>\n",
       "      <td>NaN</td>\n",
       "      <td>...</td>\n",
       "      <td>NaN</td>\n",
       "      <td>NaN</td>\n",
       "      <td>NaN</td>\n",
       "      <td>5/18/2015</td>\n",
       "      <td>18</td>\n",
       "      <td>5</td>\n",
       "      <td>2015</td>\n",
       "      <td>2</td>\n",
       "      <td>21</td>\n",
       "      <td>2</td>\n",
       "    </tr>\n",
       "    <tr>\n",
       "      <th>272</th>\n",
       "      <td>NaN</td>\n",
       "      <td>NaN</td>\n",
       "      <td>NaN</td>\n",
       "      <td>NaN</td>\n",
       "      <td>NaN</td>\n",
       "      <td>NaN</td>\n",
       "      <td>NaN</td>\n",
       "      <td>NaN</td>\n",
       "      <td>NaN</td>\n",
       "      <td>NaN</td>\n",
       "      <td>...</td>\n",
       "      <td>NaN</td>\n",
       "      <td>NaN</td>\n",
       "      <td>NaN</td>\n",
       "      <td>5/18/2015</td>\n",
       "      <td>18</td>\n",
       "      <td>5</td>\n",
       "      <td>2015</td>\n",
       "      <td>2</td>\n",
       "      <td>21</td>\n",
       "      <td>2</td>\n",
       "    </tr>\n",
       "    <tr>\n",
       "      <th>273</th>\n",
       "      <td>NaN</td>\n",
       "      <td>NaN</td>\n",
       "      <td>NaN</td>\n",
       "      <td>NaN</td>\n",
       "      <td>NaN</td>\n",
       "      <td>NaN</td>\n",
       "      <td>NaN</td>\n",
       "      <td>NaN</td>\n",
       "      <td>NaN</td>\n",
       "      <td>NaN</td>\n",
       "      <td>...</td>\n",
       "      <td>NaN</td>\n",
       "      <td>NaN</td>\n",
       "      <td>NaN</td>\n",
       "      <td>5/19/2015</td>\n",
       "      <td>19</td>\n",
       "      <td>5</td>\n",
       "      <td>2015</td>\n",
       "      <td>3</td>\n",
       "      <td>21</td>\n",
       "      <td>2</td>\n",
       "    </tr>\n",
       "    <tr>\n",
       "      <th>274</th>\n",
       "      <td>NaN</td>\n",
       "      <td>NaN</td>\n",
       "      <td>NaN</td>\n",
       "      <td>NaN</td>\n",
       "      <td>NaN</td>\n",
       "      <td>NaN</td>\n",
       "      <td>NaN</td>\n",
       "      <td>NaN</td>\n",
       "      <td>NaN</td>\n",
       "      <td>NaN</td>\n",
       "      <td>...</td>\n",
       "      <td>NaN</td>\n",
       "      <td>NaN</td>\n",
       "      <td>NaN</td>\n",
       "      <td>5/19/2015</td>\n",
       "      <td>19</td>\n",
       "      <td>5</td>\n",
       "      <td>2015</td>\n",
       "      <td>3</td>\n",
       "      <td>21</td>\n",
       "      <td>2</td>\n",
       "    </tr>\n",
       "  </tbody>\n",
       "</table>\n",
       "<p>275 rows × 22 columns</p>\n",
       "</div>"
      ],
      "text/plain": [
       "       year  quarter   realgdp  realcons  realinv  realgovt  realdpi    cpi  \\\n",
       "0    1959.0      1.0  2710.349    1707.4  286.898   470.045   1886.9  28.98   \n",
       "1    1959.0      2.0  2778.801    1733.7  310.859   481.301   1919.7  29.15   \n",
       "2    1959.0      3.0  2775.488    1751.8  289.226   491.260   1916.4  29.35   \n",
       "3    1959.0      4.0  2785.204    1753.7  299.356   484.052   1931.3  29.37   \n",
       "4    1960.0      1.0  2847.699    1770.5  331.722   462.199   1955.5  29.54   \n",
       "..      ...      ...       ...       ...      ...       ...      ...    ...   \n",
       "270     NaN      NaN       NaN       NaN      NaN       NaN      NaN    NaN   \n",
       "271     NaN      NaN       NaN       NaN      NaN       NaN      NaN    NaN   \n",
       "272     NaN      NaN       NaN       NaN      NaN       NaN      NaN    NaN   \n",
       "273     NaN      NaN       NaN       NaN      NaN       NaN      NaN    NaN   \n",
       "274     NaN      NaN       NaN       NaN      NaN       NaN      NaN    NaN   \n",
       "\n",
       "        m1  tbilrate  ...  infl  realint  Unnamed: 14       date  DayNumber  \\\n",
       "0    139.7      2.82  ...  0.00     0.00          NaN   1/2/2015          2   \n",
       "1    141.7      3.08  ...  2.34     0.74          NaN   1/3/2015          3   \n",
       "2    140.5      3.82  ...  2.74     1.09          NaN   1/3/2015          3   \n",
       "3    140.0      4.33  ...  0.27     4.06          NaN   1/4/2015          4   \n",
       "4    139.6      3.50  ...  2.31     1.19          NaN   1/4/2015          4   \n",
       "..     ...       ...  ...   ...      ...          ...        ...        ...   \n",
       "270    NaN       NaN  ...   NaN      NaN          NaN  5/17/2015         17   \n",
       "271    NaN       NaN  ...   NaN      NaN          NaN  5/18/2015         18   \n",
       "272    NaN       NaN  ...   NaN      NaN          NaN  5/18/2015         18   \n",
       "273    NaN       NaN  ...   NaN      NaN          NaN  5/19/2015         19   \n",
       "274    NaN       NaN  ...   NaN      NaN          NaN  5/19/2015         19   \n",
       "\n",
       "    MonthNumber  Year  WeekDay  Weeknumber  Unnamed: 21  \n",
       "0             1  2015        6           1            1  \n",
       "1             1  2015        7           1            1  \n",
       "2             1  2015        7           1            1  \n",
       "3             1  2015        1           2            1  \n",
       "4             1  2015        1           2            1  \n",
       "..          ...   ...      ...         ...          ...  \n",
       "270           5  2015        1          21            2  \n",
       "271           5  2015        2          21            2  \n",
       "272           5  2015        2          21            2  \n",
       "273           5  2015        3          21            2  \n",
       "274           5  2015        3          21            2  \n",
       "\n",
       "[275 rows x 22 columns]"
      ]
     },
     "execution_count": 618,
     "metadata": {},
     "output_type": "execute_result"
    }
   ],
   "source": [
    "pydata"
   ]
  },
  {
   "cell_type": "code",
   "execution_count": 628,
   "metadata": {},
   "outputs": [],
   "source": [
    "pydata[\"year\"] = pydata[\"year\"].ffill()"
   ]
  },
  {
   "cell_type": "code",
   "execution_count": 629,
   "metadata": {},
   "outputs": [],
   "source": [
    "pydata[\"quarter\"]= pydata[\"quarter\"].ffill()"
   ]
  },
  {
   "cell_type": "code",
   "execution_count": 630,
   "metadata": {},
   "outputs": [],
   "source": [
    "# we can pass array to Pd.PeriodIndex and combine to form an index to the dataFrame by passing a variable for the year and the quarter"
   ]
  },
  {
   "cell_type": "code",
   "execution_count": 631,
   "metadata": {},
   "outputs": [],
   "source": [
    "index = pd.PeriodIndex( year = pydata[\"year\"], quarter = pydata[\"quarter\"],  freq = \"Q-DEC\")"
   ]
  },
  {
   "cell_type": "code",
   "execution_count": 632,
   "metadata": {},
   "outputs": [
    {
     "data": {
      "text/html": [
       "<div>\n",
       "<style scoped>\n",
       "    .dataframe tbody tr th:only-of-type {\n",
       "        vertical-align: middle;\n",
       "    }\n",
       "\n",
       "    .dataframe tbody tr th {\n",
       "        vertical-align: top;\n",
       "    }\n",
       "\n",
       "    .dataframe thead th {\n",
       "        text-align: right;\n",
       "    }\n",
       "</style>\n",
       "<table border=\"1\" class=\"dataframe\">\n",
       "  <thead>\n",
       "    <tr style=\"text-align: right;\">\n",
       "      <th></th>\n",
       "      <th>year</th>\n",
       "      <th>quarter</th>\n",
       "      <th>realgdp</th>\n",
       "      <th>realcons</th>\n",
       "      <th>realinv</th>\n",
       "      <th>realgovt</th>\n",
       "      <th>realdpi</th>\n",
       "      <th>cpi</th>\n",
       "      <th>m1</th>\n",
       "      <th>tbilrate</th>\n",
       "      <th>...</th>\n",
       "      <th>infl</th>\n",
       "      <th>realint</th>\n",
       "      <th>Unnamed: 14</th>\n",
       "      <th>date</th>\n",
       "      <th>DayNumber</th>\n",
       "      <th>MonthNumber</th>\n",
       "      <th>Year</th>\n",
       "      <th>WeekDay</th>\n",
       "      <th>Weeknumber</th>\n",
       "      <th>Unnamed: 21</th>\n",
       "    </tr>\n",
       "  </thead>\n",
       "  <tbody>\n",
       "    <tr>\n",
       "      <th>0</th>\n",
       "      <td>1959.0</td>\n",
       "      <td>1.0</td>\n",
       "      <td>2710.349</td>\n",
       "      <td>1707.4</td>\n",
       "      <td>286.898</td>\n",
       "      <td>470.045</td>\n",
       "      <td>1886.9</td>\n",
       "      <td>28.98</td>\n",
       "      <td>139.7</td>\n",
       "      <td>2.82</td>\n",
       "      <td>...</td>\n",
       "      <td>0.00</td>\n",
       "      <td>0.00</td>\n",
       "      <td>NaN</td>\n",
       "      <td>1/2/2015</td>\n",
       "      <td>2</td>\n",
       "      <td>1</td>\n",
       "      <td>2015</td>\n",
       "      <td>6</td>\n",
       "      <td>1</td>\n",
       "      <td>1</td>\n",
       "    </tr>\n",
       "    <tr>\n",
       "      <th>1</th>\n",
       "      <td>1959.0</td>\n",
       "      <td>2.0</td>\n",
       "      <td>2778.801</td>\n",
       "      <td>1733.7</td>\n",
       "      <td>310.859</td>\n",
       "      <td>481.301</td>\n",
       "      <td>1919.7</td>\n",
       "      <td>29.15</td>\n",
       "      <td>141.7</td>\n",
       "      <td>3.08</td>\n",
       "      <td>...</td>\n",
       "      <td>2.34</td>\n",
       "      <td>0.74</td>\n",
       "      <td>NaN</td>\n",
       "      <td>1/3/2015</td>\n",
       "      <td>3</td>\n",
       "      <td>1</td>\n",
       "      <td>2015</td>\n",
       "      <td>7</td>\n",
       "      <td>1</td>\n",
       "      <td>1</td>\n",
       "    </tr>\n",
       "    <tr>\n",
       "      <th>2</th>\n",
       "      <td>1959.0</td>\n",
       "      <td>3.0</td>\n",
       "      <td>2775.488</td>\n",
       "      <td>1751.8</td>\n",
       "      <td>289.226</td>\n",
       "      <td>491.260</td>\n",
       "      <td>1916.4</td>\n",
       "      <td>29.35</td>\n",
       "      <td>140.5</td>\n",
       "      <td>3.82</td>\n",
       "      <td>...</td>\n",
       "      <td>2.74</td>\n",
       "      <td>1.09</td>\n",
       "      <td>NaN</td>\n",
       "      <td>1/3/2015</td>\n",
       "      <td>3</td>\n",
       "      <td>1</td>\n",
       "      <td>2015</td>\n",
       "      <td>7</td>\n",
       "      <td>1</td>\n",
       "      <td>1</td>\n",
       "    </tr>\n",
       "    <tr>\n",
       "      <th>3</th>\n",
       "      <td>1959.0</td>\n",
       "      <td>4.0</td>\n",
       "      <td>2785.204</td>\n",
       "      <td>1753.7</td>\n",
       "      <td>299.356</td>\n",
       "      <td>484.052</td>\n",
       "      <td>1931.3</td>\n",
       "      <td>29.37</td>\n",
       "      <td>140.0</td>\n",
       "      <td>4.33</td>\n",
       "      <td>...</td>\n",
       "      <td>0.27</td>\n",
       "      <td>4.06</td>\n",
       "      <td>NaN</td>\n",
       "      <td>1/4/2015</td>\n",
       "      <td>4</td>\n",
       "      <td>1</td>\n",
       "      <td>2015</td>\n",
       "      <td>1</td>\n",
       "      <td>2</td>\n",
       "      <td>1</td>\n",
       "    </tr>\n",
       "    <tr>\n",
       "      <th>4</th>\n",
       "      <td>1960.0</td>\n",
       "      <td>1.0</td>\n",
       "      <td>2847.699</td>\n",
       "      <td>1770.5</td>\n",
       "      <td>331.722</td>\n",
       "      <td>462.199</td>\n",
       "      <td>1955.5</td>\n",
       "      <td>29.54</td>\n",
       "      <td>139.6</td>\n",
       "      <td>3.50</td>\n",
       "      <td>...</td>\n",
       "      <td>2.31</td>\n",
       "      <td>1.19</td>\n",
       "      <td>NaN</td>\n",
       "      <td>1/4/2015</td>\n",
       "      <td>4</td>\n",
       "      <td>1</td>\n",
       "      <td>2015</td>\n",
       "      <td>1</td>\n",
       "      <td>2</td>\n",
       "      <td>1</td>\n",
       "    </tr>\n",
       "    <tr>\n",
       "      <th>...</th>\n",
       "      <td>...</td>\n",
       "      <td>...</td>\n",
       "      <td>...</td>\n",
       "      <td>...</td>\n",
       "      <td>...</td>\n",
       "      <td>...</td>\n",
       "      <td>...</td>\n",
       "      <td>...</td>\n",
       "      <td>...</td>\n",
       "      <td>...</td>\n",
       "      <td>...</td>\n",
       "      <td>...</td>\n",
       "      <td>...</td>\n",
       "      <td>...</td>\n",
       "      <td>...</td>\n",
       "      <td>...</td>\n",
       "      <td>...</td>\n",
       "      <td>...</td>\n",
       "      <td>...</td>\n",
       "      <td>...</td>\n",
       "      <td>...</td>\n",
       "    </tr>\n",
       "    <tr>\n",
       "      <th>270</th>\n",
       "      <td>2009.0</td>\n",
       "      <td>3.0</td>\n",
       "      <td>NaN</td>\n",
       "      <td>NaN</td>\n",
       "      <td>NaN</td>\n",
       "      <td>NaN</td>\n",
       "      <td>NaN</td>\n",
       "      <td>NaN</td>\n",
       "      <td>NaN</td>\n",
       "      <td>NaN</td>\n",
       "      <td>...</td>\n",
       "      <td>NaN</td>\n",
       "      <td>NaN</td>\n",
       "      <td>NaN</td>\n",
       "      <td>5/17/2015</td>\n",
       "      <td>17</td>\n",
       "      <td>5</td>\n",
       "      <td>2015</td>\n",
       "      <td>1</td>\n",
       "      <td>21</td>\n",
       "      <td>2</td>\n",
       "    </tr>\n",
       "    <tr>\n",
       "      <th>271</th>\n",
       "      <td>2009.0</td>\n",
       "      <td>3.0</td>\n",
       "      <td>NaN</td>\n",
       "      <td>NaN</td>\n",
       "      <td>NaN</td>\n",
       "      <td>NaN</td>\n",
       "      <td>NaN</td>\n",
       "      <td>NaN</td>\n",
       "      <td>NaN</td>\n",
       "      <td>NaN</td>\n",
       "      <td>...</td>\n",
       "      <td>NaN</td>\n",
       "      <td>NaN</td>\n",
       "      <td>NaN</td>\n",
       "      <td>5/18/2015</td>\n",
       "      <td>18</td>\n",
       "      <td>5</td>\n",
       "      <td>2015</td>\n",
       "      <td>2</td>\n",
       "      <td>21</td>\n",
       "      <td>2</td>\n",
       "    </tr>\n",
       "    <tr>\n",
       "      <th>272</th>\n",
       "      <td>2009.0</td>\n",
       "      <td>3.0</td>\n",
       "      <td>NaN</td>\n",
       "      <td>NaN</td>\n",
       "      <td>NaN</td>\n",
       "      <td>NaN</td>\n",
       "      <td>NaN</td>\n",
       "      <td>NaN</td>\n",
       "      <td>NaN</td>\n",
       "      <td>NaN</td>\n",
       "      <td>...</td>\n",
       "      <td>NaN</td>\n",
       "      <td>NaN</td>\n",
       "      <td>NaN</td>\n",
       "      <td>5/18/2015</td>\n",
       "      <td>18</td>\n",
       "      <td>5</td>\n",
       "      <td>2015</td>\n",
       "      <td>2</td>\n",
       "      <td>21</td>\n",
       "      <td>2</td>\n",
       "    </tr>\n",
       "    <tr>\n",
       "      <th>273</th>\n",
       "      <td>2009.0</td>\n",
       "      <td>3.0</td>\n",
       "      <td>NaN</td>\n",
       "      <td>NaN</td>\n",
       "      <td>NaN</td>\n",
       "      <td>NaN</td>\n",
       "      <td>NaN</td>\n",
       "      <td>NaN</td>\n",
       "      <td>NaN</td>\n",
       "      <td>NaN</td>\n",
       "      <td>...</td>\n",
       "      <td>NaN</td>\n",
       "      <td>NaN</td>\n",
       "      <td>NaN</td>\n",
       "      <td>5/19/2015</td>\n",
       "      <td>19</td>\n",
       "      <td>5</td>\n",
       "      <td>2015</td>\n",
       "      <td>3</td>\n",
       "      <td>21</td>\n",
       "      <td>2</td>\n",
       "    </tr>\n",
       "    <tr>\n",
       "      <th>274</th>\n",
       "      <td>2009.0</td>\n",
       "      <td>3.0</td>\n",
       "      <td>NaN</td>\n",
       "      <td>NaN</td>\n",
       "      <td>NaN</td>\n",
       "      <td>NaN</td>\n",
       "      <td>NaN</td>\n",
       "      <td>NaN</td>\n",
       "      <td>NaN</td>\n",
       "      <td>NaN</td>\n",
       "      <td>...</td>\n",
       "      <td>NaN</td>\n",
       "      <td>NaN</td>\n",
       "      <td>NaN</td>\n",
       "      <td>5/19/2015</td>\n",
       "      <td>19</td>\n",
       "      <td>5</td>\n",
       "      <td>2015</td>\n",
       "      <td>3</td>\n",
       "      <td>21</td>\n",
       "      <td>2</td>\n",
       "    </tr>\n",
       "  </tbody>\n",
       "</table>\n",
       "<p>275 rows × 22 columns</p>\n",
       "</div>"
      ],
      "text/plain": [
       "       year  quarter   realgdp  realcons  realinv  realgovt  realdpi    cpi  \\\n",
       "0    1959.0      1.0  2710.349    1707.4  286.898   470.045   1886.9  28.98   \n",
       "1    1959.0      2.0  2778.801    1733.7  310.859   481.301   1919.7  29.15   \n",
       "2    1959.0      3.0  2775.488    1751.8  289.226   491.260   1916.4  29.35   \n",
       "3    1959.0      4.0  2785.204    1753.7  299.356   484.052   1931.3  29.37   \n",
       "4    1960.0      1.0  2847.699    1770.5  331.722   462.199   1955.5  29.54   \n",
       "..      ...      ...       ...       ...      ...       ...      ...    ...   \n",
       "270  2009.0      3.0       NaN       NaN      NaN       NaN      NaN    NaN   \n",
       "271  2009.0      3.0       NaN       NaN      NaN       NaN      NaN    NaN   \n",
       "272  2009.0      3.0       NaN       NaN      NaN       NaN      NaN    NaN   \n",
       "273  2009.0      3.0       NaN       NaN      NaN       NaN      NaN    NaN   \n",
       "274  2009.0      3.0       NaN       NaN      NaN       NaN      NaN    NaN   \n",
       "\n",
       "        m1  tbilrate  ...  infl  realint  Unnamed: 14       date  DayNumber  \\\n",
       "0    139.7      2.82  ...  0.00     0.00          NaN   1/2/2015          2   \n",
       "1    141.7      3.08  ...  2.34     0.74          NaN   1/3/2015          3   \n",
       "2    140.5      3.82  ...  2.74     1.09          NaN   1/3/2015          3   \n",
       "3    140.0      4.33  ...  0.27     4.06          NaN   1/4/2015          4   \n",
       "4    139.6      3.50  ...  2.31     1.19          NaN   1/4/2015          4   \n",
       "..     ...       ...  ...   ...      ...          ...        ...        ...   \n",
       "270    NaN       NaN  ...   NaN      NaN          NaN  5/17/2015         17   \n",
       "271    NaN       NaN  ...   NaN      NaN          NaN  5/18/2015         18   \n",
       "272    NaN       NaN  ...   NaN      NaN          NaN  5/18/2015         18   \n",
       "273    NaN       NaN  ...   NaN      NaN          NaN  5/19/2015         19   \n",
       "274    NaN       NaN  ...   NaN      NaN          NaN  5/19/2015         19   \n",
       "\n",
       "    MonthNumber  Year  WeekDay  Weeknumber  Unnamed: 21  \n",
       "0             1  2015        6           1            1  \n",
       "1             1  2015        7           1            1  \n",
       "2             1  2015        7           1            1  \n",
       "3             1  2015        1           2            1  \n",
       "4             1  2015        1           2            1  \n",
       "..          ...   ...      ...         ...          ...  \n",
       "270           5  2015        1          21            2  \n",
       "271           5  2015        2          21            2  \n",
       "272           5  2015        2          21            2  \n",
       "273           5  2015        3          21            2  \n",
       "274           5  2015        3          21            2  \n",
       "\n",
       "[275 rows x 22 columns]"
      ]
     },
     "execution_count": 632,
     "metadata": {},
     "output_type": "execute_result"
    }
   ],
   "source": [
    "pydata"
   ]
  },
  {
   "cell_type": "code",
   "execution_count": null,
   "metadata": {},
   "outputs": [],
   "source": []
  },
  {
   "cell_type": "code",
   "execution_count": 636,
   "metadata": {},
   "outputs": [
    {
     "data": {
      "text/html": [
       "<div>\n",
       "<style scoped>\n",
       "    .dataframe tbody tr th:only-of-type {\n",
       "        vertical-align: middle;\n",
       "    }\n",
       "\n",
       "    .dataframe tbody tr th {\n",
       "        vertical-align: top;\n",
       "    }\n",
       "\n",
       "    .dataframe thead th {\n",
       "        text-align: right;\n",
       "    }\n",
       "</style>\n",
       "<table border=\"1\" class=\"dataframe\">\n",
       "  <thead>\n",
       "    <tr style=\"text-align: right;\">\n",
       "      <th></th>\n",
       "      <th>year</th>\n",
       "      <th>quarter</th>\n",
       "      <th>realgdp</th>\n",
       "      <th>realcons</th>\n",
       "      <th>realinv</th>\n",
       "      <th>realgovt</th>\n",
       "      <th>realdpi</th>\n",
       "      <th>cpi</th>\n",
       "      <th>m1</th>\n",
       "      <th>tbilrate</th>\n",
       "      <th>...</th>\n",
       "      <th>infl</th>\n",
       "      <th>realint</th>\n",
       "      <th>Unnamed: 14</th>\n",
       "      <th>date</th>\n",
       "      <th>DayNumber</th>\n",
       "      <th>MonthNumber</th>\n",
       "      <th>Year</th>\n",
       "      <th>WeekDay</th>\n",
       "      <th>Weeknumber</th>\n",
       "      <th>Unnamed: 21</th>\n",
       "    </tr>\n",
       "  </thead>\n",
       "  <tbody>\n",
       "    <tr>\n",
       "      <th>0</th>\n",
       "      <td>1959.0</td>\n",
       "      <td>1.0</td>\n",
       "      <td>2710.349</td>\n",
       "      <td>1707.4</td>\n",
       "      <td>286.898</td>\n",
       "      <td>470.045</td>\n",
       "      <td>1886.9</td>\n",
       "      <td>28.98</td>\n",
       "      <td>139.7</td>\n",
       "      <td>2.82</td>\n",
       "      <td>...</td>\n",
       "      <td>0.00</td>\n",
       "      <td>0.00</td>\n",
       "      <td>NaN</td>\n",
       "      <td>1/2/2015</td>\n",
       "      <td>2</td>\n",
       "      <td>1</td>\n",
       "      <td>2015</td>\n",
       "      <td>6</td>\n",
       "      <td>1</td>\n",
       "      <td>1</td>\n",
       "    </tr>\n",
       "    <tr>\n",
       "      <th>1</th>\n",
       "      <td>1959.0</td>\n",
       "      <td>2.0</td>\n",
       "      <td>2778.801</td>\n",
       "      <td>1733.7</td>\n",
       "      <td>310.859</td>\n",
       "      <td>481.301</td>\n",
       "      <td>1919.7</td>\n",
       "      <td>29.15</td>\n",
       "      <td>141.7</td>\n",
       "      <td>3.08</td>\n",
       "      <td>...</td>\n",
       "      <td>2.34</td>\n",
       "      <td>0.74</td>\n",
       "      <td>NaN</td>\n",
       "      <td>1/3/2015</td>\n",
       "      <td>3</td>\n",
       "      <td>1</td>\n",
       "      <td>2015</td>\n",
       "      <td>7</td>\n",
       "      <td>1</td>\n",
       "      <td>1</td>\n",
       "    </tr>\n",
       "    <tr>\n",
       "      <th>2</th>\n",
       "      <td>1959.0</td>\n",
       "      <td>3.0</td>\n",
       "      <td>2775.488</td>\n",
       "      <td>1751.8</td>\n",
       "      <td>289.226</td>\n",
       "      <td>491.260</td>\n",
       "      <td>1916.4</td>\n",
       "      <td>29.35</td>\n",
       "      <td>140.5</td>\n",
       "      <td>3.82</td>\n",
       "      <td>...</td>\n",
       "      <td>2.74</td>\n",
       "      <td>1.09</td>\n",
       "      <td>NaN</td>\n",
       "      <td>1/3/2015</td>\n",
       "      <td>3</td>\n",
       "      <td>1</td>\n",
       "      <td>2015</td>\n",
       "      <td>7</td>\n",
       "      <td>1</td>\n",
       "      <td>1</td>\n",
       "    </tr>\n",
       "    <tr>\n",
       "      <th>3</th>\n",
       "      <td>1959.0</td>\n",
       "      <td>4.0</td>\n",
       "      <td>2785.204</td>\n",
       "      <td>1753.7</td>\n",
       "      <td>299.356</td>\n",
       "      <td>484.052</td>\n",
       "      <td>1931.3</td>\n",
       "      <td>29.37</td>\n",
       "      <td>140.0</td>\n",
       "      <td>4.33</td>\n",
       "      <td>...</td>\n",
       "      <td>0.27</td>\n",
       "      <td>4.06</td>\n",
       "      <td>NaN</td>\n",
       "      <td>1/4/2015</td>\n",
       "      <td>4</td>\n",
       "      <td>1</td>\n",
       "      <td>2015</td>\n",
       "      <td>1</td>\n",
       "      <td>2</td>\n",
       "      <td>1</td>\n",
       "    </tr>\n",
       "    <tr>\n",
       "      <th>4</th>\n",
       "      <td>1960.0</td>\n",
       "      <td>1.0</td>\n",
       "      <td>2847.699</td>\n",
       "      <td>1770.5</td>\n",
       "      <td>331.722</td>\n",
       "      <td>462.199</td>\n",
       "      <td>1955.5</td>\n",
       "      <td>29.54</td>\n",
       "      <td>139.6</td>\n",
       "      <td>3.50</td>\n",
       "      <td>...</td>\n",
       "      <td>2.31</td>\n",
       "      <td>1.19</td>\n",
       "      <td>NaN</td>\n",
       "      <td>1/4/2015</td>\n",
       "      <td>4</td>\n",
       "      <td>1</td>\n",
       "      <td>2015</td>\n",
       "      <td>1</td>\n",
       "      <td>2</td>\n",
       "      <td>1</td>\n",
       "    </tr>\n",
       "    <tr>\n",
       "      <th>...</th>\n",
       "      <td>...</td>\n",
       "      <td>...</td>\n",
       "      <td>...</td>\n",
       "      <td>...</td>\n",
       "      <td>...</td>\n",
       "      <td>...</td>\n",
       "      <td>...</td>\n",
       "      <td>...</td>\n",
       "      <td>...</td>\n",
       "      <td>...</td>\n",
       "      <td>...</td>\n",
       "      <td>...</td>\n",
       "      <td>...</td>\n",
       "      <td>...</td>\n",
       "      <td>...</td>\n",
       "      <td>...</td>\n",
       "      <td>...</td>\n",
       "      <td>...</td>\n",
       "      <td>...</td>\n",
       "      <td>...</td>\n",
       "      <td>...</td>\n",
       "    </tr>\n",
       "    <tr>\n",
       "      <th>270</th>\n",
       "      <td>2009.0</td>\n",
       "      <td>3.0</td>\n",
       "      <td>NaN</td>\n",
       "      <td>NaN</td>\n",
       "      <td>NaN</td>\n",
       "      <td>NaN</td>\n",
       "      <td>NaN</td>\n",
       "      <td>NaN</td>\n",
       "      <td>NaN</td>\n",
       "      <td>NaN</td>\n",
       "      <td>...</td>\n",
       "      <td>NaN</td>\n",
       "      <td>NaN</td>\n",
       "      <td>NaN</td>\n",
       "      <td>5/17/2015</td>\n",
       "      <td>17</td>\n",
       "      <td>5</td>\n",
       "      <td>2015</td>\n",
       "      <td>1</td>\n",
       "      <td>21</td>\n",
       "      <td>2</td>\n",
       "    </tr>\n",
       "    <tr>\n",
       "      <th>271</th>\n",
       "      <td>2009.0</td>\n",
       "      <td>3.0</td>\n",
       "      <td>NaN</td>\n",
       "      <td>NaN</td>\n",
       "      <td>NaN</td>\n",
       "      <td>NaN</td>\n",
       "      <td>NaN</td>\n",
       "      <td>NaN</td>\n",
       "      <td>NaN</td>\n",
       "      <td>NaN</td>\n",
       "      <td>...</td>\n",
       "      <td>NaN</td>\n",
       "      <td>NaN</td>\n",
       "      <td>NaN</td>\n",
       "      <td>5/18/2015</td>\n",
       "      <td>18</td>\n",
       "      <td>5</td>\n",
       "      <td>2015</td>\n",
       "      <td>2</td>\n",
       "      <td>21</td>\n",
       "      <td>2</td>\n",
       "    </tr>\n",
       "    <tr>\n",
       "      <th>272</th>\n",
       "      <td>2009.0</td>\n",
       "      <td>3.0</td>\n",
       "      <td>NaN</td>\n",
       "      <td>NaN</td>\n",
       "      <td>NaN</td>\n",
       "      <td>NaN</td>\n",
       "      <td>NaN</td>\n",
       "      <td>NaN</td>\n",
       "      <td>NaN</td>\n",
       "      <td>NaN</td>\n",
       "      <td>...</td>\n",
       "      <td>NaN</td>\n",
       "      <td>NaN</td>\n",
       "      <td>NaN</td>\n",
       "      <td>5/18/2015</td>\n",
       "      <td>18</td>\n",
       "      <td>5</td>\n",
       "      <td>2015</td>\n",
       "      <td>2</td>\n",
       "      <td>21</td>\n",
       "      <td>2</td>\n",
       "    </tr>\n",
       "    <tr>\n",
       "      <th>273</th>\n",
       "      <td>2009.0</td>\n",
       "      <td>3.0</td>\n",
       "      <td>NaN</td>\n",
       "      <td>NaN</td>\n",
       "      <td>NaN</td>\n",
       "      <td>NaN</td>\n",
       "      <td>NaN</td>\n",
       "      <td>NaN</td>\n",
       "      <td>NaN</td>\n",
       "      <td>NaN</td>\n",
       "      <td>...</td>\n",
       "      <td>NaN</td>\n",
       "      <td>NaN</td>\n",
       "      <td>NaN</td>\n",
       "      <td>5/19/2015</td>\n",
       "      <td>19</td>\n",
       "      <td>5</td>\n",
       "      <td>2015</td>\n",
       "      <td>3</td>\n",
       "      <td>21</td>\n",
       "      <td>2</td>\n",
       "    </tr>\n",
       "    <tr>\n",
       "      <th>274</th>\n",
       "      <td>2009.0</td>\n",
       "      <td>3.0</td>\n",
       "      <td>NaN</td>\n",
       "      <td>NaN</td>\n",
       "      <td>NaN</td>\n",
       "      <td>NaN</td>\n",
       "      <td>NaN</td>\n",
       "      <td>NaN</td>\n",
       "      <td>NaN</td>\n",
       "      <td>NaN</td>\n",
       "      <td>...</td>\n",
       "      <td>NaN</td>\n",
       "      <td>NaN</td>\n",
       "      <td>NaN</td>\n",
       "      <td>5/19/2015</td>\n",
       "      <td>19</td>\n",
       "      <td>5</td>\n",
       "      <td>2015</td>\n",
       "      <td>3</td>\n",
       "      <td>21</td>\n",
       "      <td>2</td>\n",
       "    </tr>\n",
       "  </tbody>\n",
       "</table>\n",
       "<p>275 rows × 22 columns</p>\n",
       "</div>"
      ],
      "text/plain": [
       "       year  quarter   realgdp  realcons  realinv  realgovt  realdpi    cpi  \\\n",
       "0    1959.0      1.0  2710.349    1707.4  286.898   470.045   1886.9  28.98   \n",
       "1    1959.0      2.0  2778.801    1733.7  310.859   481.301   1919.7  29.15   \n",
       "2    1959.0      3.0  2775.488    1751.8  289.226   491.260   1916.4  29.35   \n",
       "3    1959.0      4.0  2785.204    1753.7  299.356   484.052   1931.3  29.37   \n",
       "4    1960.0      1.0  2847.699    1770.5  331.722   462.199   1955.5  29.54   \n",
       "..      ...      ...       ...       ...      ...       ...      ...    ...   \n",
       "270  2009.0      3.0       NaN       NaN      NaN       NaN      NaN    NaN   \n",
       "271  2009.0      3.0       NaN       NaN      NaN       NaN      NaN    NaN   \n",
       "272  2009.0      3.0       NaN       NaN      NaN       NaN      NaN    NaN   \n",
       "273  2009.0      3.0       NaN       NaN      NaN       NaN      NaN    NaN   \n",
       "274  2009.0      3.0       NaN       NaN      NaN       NaN      NaN    NaN   \n",
       "\n",
       "        m1  tbilrate  ...  infl  realint  Unnamed: 14       date  DayNumber  \\\n",
       "0    139.7      2.82  ...  0.00     0.00          NaN   1/2/2015          2   \n",
       "1    141.7      3.08  ...  2.34     0.74          NaN   1/3/2015          3   \n",
       "2    140.5      3.82  ...  2.74     1.09          NaN   1/3/2015          3   \n",
       "3    140.0      4.33  ...  0.27     4.06          NaN   1/4/2015          4   \n",
       "4    139.6      3.50  ...  2.31     1.19          NaN   1/4/2015          4   \n",
       "..     ...       ...  ...   ...      ...          ...        ...        ...   \n",
       "270    NaN       NaN  ...   NaN      NaN          NaN  5/17/2015         17   \n",
       "271    NaN       NaN  ...   NaN      NaN          NaN  5/18/2015         18   \n",
       "272    NaN       NaN  ...   NaN      NaN          NaN  5/18/2015         18   \n",
       "273    NaN       NaN  ...   NaN      NaN          NaN  5/19/2015         19   \n",
       "274    NaN       NaN  ...   NaN      NaN          NaN  5/19/2015         19   \n",
       "\n",
       "    MonthNumber  Year  WeekDay  Weeknumber  Unnamed: 21  \n",
       "0             1  2015        6           1            1  \n",
       "1             1  2015        7           1            1  \n",
       "2             1  2015        7           1            1  \n",
       "3             1  2015        1           2            1  \n",
       "4             1  2015        1           2            1  \n",
       "..          ...   ...      ...         ...          ...  \n",
       "270           5  2015        1          21            2  \n",
       "271           5  2015        2          21            2  \n",
       "272           5  2015        2          21            2  \n",
       "273           5  2015        3          21            2  \n",
       "274           5  2015        3          21            2  \n",
       "\n",
       "[275 rows x 22 columns]"
      ]
     },
     "execution_count": 636,
     "metadata": {},
     "output_type": "execute_result"
    }
   ],
   "source": [
    "pydata"
   ]
  },
  {
   "cell_type": "code",
   "execution_count": 637,
   "metadata": {},
   "outputs": [
    {
     "data": {
      "text/plain": [
       "0      28.98\n",
       "1      29.15\n",
       "2      29.35\n",
       "3      29.37\n",
       "4      29.54\n",
       "       ...  \n",
       "270      NaN\n",
       "271      NaN\n",
       "272      NaN\n",
       "273      NaN\n",
       "274      NaN\n",
       "Name: cpi, Length: 275, dtype: float64"
      ]
     },
     "execution_count": 637,
     "metadata": {},
     "output_type": "execute_result"
    }
   ],
   "source": [
    "pydata[\"cpi\"]"
   ]
  },
  {
   "cell_type": "code",
   "execution_count": null,
   "metadata": {},
   "outputs": [],
   "source": []
  },
  {
   "cell_type": "code",
   "execution_count": 642,
   "metadata": {},
   "outputs": [],
   "source": [
    "pydata.index.name = \"QuarterYear\""
   ]
  },
  {
   "cell_type": "code",
   "execution_count": 643,
   "metadata": {},
   "outputs": [
    {
     "data": {
      "text/html": [
       "<div>\n",
       "<style scoped>\n",
       "    .dataframe tbody tr th:only-of-type {\n",
       "        vertical-align: middle;\n",
       "    }\n",
       "\n",
       "    .dataframe tbody tr th {\n",
       "        vertical-align: top;\n",
       "    }\n",
       "\n",
       "    .dataframe thead th {\n",
       "        text-align: right;\n",
       "    }\n",
       "</style>\n",
       "<table border=\"1\" class=\"dataframe\">\n",
       "  <thead>\n",
       "    <tr style=\"text-align: right;\">\n",
       "      <th></th>\n",
       "      <th>realgdp</th>\n",
       "    </tr>\n",
       "    <tr>\n",
       "      <th>QuarterYear</th>\n",
       "      <th></th>\n",
       "    </tr>\n",
       "  </thead>\n",
       "  <tbody>\n",
       "    <tr>\n",
       "      <th>0</th>\n",
       "      <td>2710.349</td>\n",
       "    </tr>\n",
       "    <tr>\n",
       "      <th>1</th>\n",
       "      <td>2778.801</td>\n",
       "    </tr>\n",
       "    <tr>\n",
       "      <th>2</th>\n",
       "      <td>2775.488</td>\n",
       "    </tr>\n",
       "    <tr>\n",
       "      <th>3</th>\n",
       "      <td>2785.204</td>\n",
       "    </tr>\n",
       "    <tr>\n",
       "      <th>4</th>\n",
       "      <td>2847.699</td>\n",
       "    </tr>\n",
       "    <tr>\n",
       "      <th>...</th>\n",
       "      <td>...</td>\n",
       "    </tr>\n",
       "    <tr>\n",
       "      <th>270</th>\n",
       "      <td>NaN</td>\n",
       "    </tr>\n",
       "    <tr>\n",
       "      <th>271</th>\n",
       "      <td>NaN</td>\n",
       "    </tr>\n",
       "    <tr>\n",
       "      <th>272</th>\n",
       "      <td>NaN</td>\n",
       "    </tr>\n",
       "    <tr>\n",
       "      <th>273</th>\n",
       "      <td>NaN</td>\n",
       "    </tr>\n",
       "    <tr>\n",
       "      <th>274</th>\n",
       "      <td>NaN</td>\n",
       "    </tr>\n",
       "  </tbody>\n",
       "</table>\n",
       "<p>275 rows × 1 columns</p>\n",
       "</div>"
      ],
      "text/plain": [
       "              realgdp\n",
       "QuarterYear          \n",
       "0            2710.349\n",
       "1            2778.801\n",
       "2            2775.488\n",
       "3            2785.204\n",
       "4            2847.699\n",
       "...               ...\n",
       "270               NaN\n",
       "271               NaN\n",
       "272               NaN\n",
       "273               NaN\n",
       "274               NaN\n",
       "\n",
       "[275 rows x 1 columns]"
      ]
     },
     "execution_count": 643,
     "metadata": {},
     "output_type": "execute_result"
    }
   ],
   "source": [
    "pydata[[\"realgdp\"]]"
   ]
  },
  {
   "cell_type": "code",
   "execution_count": 644,
   "metadata": {},
   "outputs": [
    {
     "data": {
      "text/html": [
       "<div>\n",
       "<style scoped>\n",
       "    .dataframe tbody tr th:only-of-type {\n",
       "        vertical-align: middle;\n",
       "    }\n",
       "\n",
       "    .dataframe tbody tr th {\n",
       "        vertical-align: top;\n",
       "    }\n",
       "\n",
       "    .dataframe thead th {\n",
       "        text-align: right;\n",
       "    }\n",
       "</style>\n",
       "<table border=\"1\" class=\"dataframe\">\n",
       "  <thead>\n",
       "    <tr style=\"text-align: right;\">\n",
       "      <th></th>\n",
       "      <th>QuarterYear</th>\n",
       "      <th>realgdp</th>\n",
       "      <th>realcons</th>\n",
       "      <th>realinv</th>\n",
       "      <th>realgovt</th>\n",
       "      <th>realdpi</th>\n",
       "      <th>cpi</th>\n",
       "      <th>m1</th>\n",
       "      <th>tbilrate</th>\n",
       "      <th>unemp</th>\n",
       "      <th>...</th>\n",
       "      <th>infl</th>\n",
       "      <th>realint</th>\n",
       "      <th>Unnamed: 14</th>\n",
       "      <th>date</th>\n",
       "      <th>DayNumber</th>\n",
       "      <th>MonthNumber</th>\n",
       "      <th>Year</th>\n",
       "      <th>WeekDay</th>\n",
       "      <th>Weeknumber</th>\n",
       "      <th>Unnamed: 21</th>\n",
       "    </tr>\n",
       "  </thead>\n",
       "  <tbody>\n",
       "    <tr>\n",
       "      <th>0</th>\n",
       "      <td>0</td>\n",
       "      <td>2710.349</td>\n",
       "      <td>1707.4</td>\n",
       "      <td>286.898</td>\n",
       "      <td>470.045</td>\n",
       "      <td>1886.9</td>\n",
       "      <td>28.98</td>\n",
       "      <td>139.7</td>\n",
       "      <td>2.82</td>\n",
       "      <td>5.8</td>\n",
       "      <td>...</td>\n",
       "      <td>0.00</td>\n",
       "      <td>0.00</td>\n",
       "      <td>NaN</td>\n",
       "      <td>1/2/2015</td>\n",
       "      <td>2</td>\n",
       "      <td>1</td>\n",
       "      <td>2015</td>\n",
       "      <td>6</td>\n",
       "      <td>1</td>\n",
       "      <td>1</td>\n",
       "    </tr>\n",
       "    <tr>\n",
       "      <th>1</th>\n",
       "      <td>1</td>\n",
       "      <td>2778.801</td>\n",
       "      <td>1733.7</td>\n",
       "      <td>310.859</td>\n",
       "      <td>481.301</td>\n",
       "      <td>1919.7</td>\n",
       "      <td>29.15</td>\n",
       "      <td>141.7</td>\n",
       "      <td>3.08</td>\n",
       "      <td>5.1</td>\n",
       "      <td>...</td>\n",
       "      <td>2.34</td>\n",
       "      <td>0.74</td>\n",
       "      <td>NaN</td>\n",
       "      <td>1/3/2015</td>\n",
       "      <td>3</td>\n",
       "      <td>1</td>\n",
       "      <td>2015</td>\n",
       "      <td>7</td>\n",
       "      <td>1</td>\n",
       "      <td>1</td>\n",
       "    </tr>\n",
       "    <tr>\n",
       "      <th>2</th>\n",
       "      <td>2</td>\n",
       "      <td>2775.488</td>\n",
       "      <td>1751.8</td>\n",
       "      <td>289.226</td>\n",
       "      <td>491.260</td>\n",
       "      <td>1916.4</td>\n",
       "      <td>29.35</td>\n",
       "      <td>140.5</td>\n",
       "      <td>3.82</td>\n",
       "      <td>5.3</td>\n",
       "      <td>...</td>\n",
       "      <td>2.74</td>\n",
       "      <td>1.09</td>\n",
       "      <td>NaN</td>\n",
       "      <td>1/3/2015</td>\n",
       "      <td>3</td>\n",
       "      <td>1</td>\n",
       "      <td>2015</td>\n",
       "      <td>7</td>\n",
       "      <td>1</td>\n",
       "      <td>1</td>\n",
       "    </tr>\n",
       "    <tr>\n",
       "      <th>3</th>\n",
       "      <td>3</td>\n",
       "      <td>2785.204</td>\n",
       "      <td>1753.7</td>\n",
       "      <td>299.356</td>\n",
       "      <td>484.052</td>\n",
       "      <td>1931.3</td>\n",
       "      <td>29.37</td>\n",
       "      <td>140.0</td>\n",
       "      <td>4.33</td>\n",
       "      <td>5.6</td>\n",
       "      <td>...</td>\n",
       "      <td>0.27</td>\n",
       "      <td>4.06</td>\n",
       "      <td>NaN</td>\n",
       "      <td>1/4/2015</td>\n",
       "      <td>4</td>\n",
       "      <td>1</td>\n",
       "      <td>2015</td>\n",
       "      <td>1</td>\n",
       "      <td>2</td>\n",
       "      <td>1</td>\n",
       "    </tr>\n",
       "    <tr>\n",
       "      <th>4</th>\n",
       "      <td>4</td>\n",
       "      <td>2847.699</td>\n",
       "      <td>1770.5</td>\n",
       "      <td>331.722</td>\n",
       "      <td>462.199</td>\n",
       "      <td>1955.5</td>\n",
       "      <td>29.54</td>\n",
       "      <td>139.6</td>\n",
       "      <td>3.50</td>\n",
       "      <td>5.2</td>\n",
       "      <td>...</td>\n",
       "      <td>2.31</td>\n",
       "      <td>1.19</td>\n",
       "      <td>NaN</td>\n",
       "      <td>1/4/2015</td>\n",
       "      <td>4</td>\n",
       "      <td>1</td>\n",
       "      <td>2015</td>\n",
       "      <td>1</td>\n",
       "      <td>2</td>\n",
       "      <td>1</td>\n",
       "    </tr>\n",
       "  </tbody>\n",
       "</table>\n",
       "<p>5 rows × 21 columns</p>\n",
       "</div>"
      ],
      "text/plain": [
       "   QuarterYear   realgdp  realcons  realinv  realgovt  realdpi    cpi     m1  \\\n",
       "0            0  2710.349    1707.4  286.898   470.045   1886.9  28.98  139.7   \n",
       "1            1  2778.801    1733.7  310.859   481.301   1919.7  29.15  141.7   \n",
       "2            2  2775.488    1751.8  289.226   491.260   1916.4  29.35  140.5   \n",
       "3            3  2785.204    1753.7  299.356   484.052   1931.3  29.37  140.0   \n",
       "4            4  2847.699    1770.5  331.722   462.199   1955.5  29.54  139.6   \n",
       "\n",
       "   tbilrate  unemp  ...  infl  realint  Unnamed: 14      date DayNumber  \\\n",
       "0      2.82    5.8  ...  0.00     0.00          NaN  1/2/2015         2   \n",
       "1      3.08    5.1  ...  2.34     0.74          NaN  1/3/2015         3   \n",
       "2      3.82    5.3  ...  2.74     1.09          NaN  1/3/2015         3   \n",
       "3      4.33    5.6  ...  0.27     4.06          NaN  1/4/2015         4   \n",
       "4      3.50    5.2  ...  2.31     1.19          NaN  1/4/2015         4   \n",
       "\n",
       "   MonthNumber  Year  WeekDay  Weeknumber  Unnamed: 21  \n",
       "0            1  2015        6           1            1  \n",
       "1            1  2015        7           1            1  \n",
       "2            1  2015        7           1            1  \n",
       "3            1  2015        1           2            1  \n",
       "4            1  2015        1           2            1  \n",
       "\n",
       "[5 rows x 21 columns]"
      ]
     },
     "execution_count": 644,
     "metadata": {},
     "output_type": "execute_result"
    }
   ],
   "source": [
    "pydata.head().drop([\"year\", \"quarter\"], axis =1).reset_index()"
   ]
  },
  {
   "cell_type": "code",
   "execution_count": null,
   "metadata": {},
   "outputs": [],
   "source": []
  },
  {
   "cell_type": "markdown",
   "metadata": {},
   "source": [
    "#  Resampling and Frequency Conversation"
   ]
  },
  {
   "cell_type": "code",
   "execution_count": 645,
   "metadata": {},
   "outputs": [],
   "source": [
    "# Resampling refers to the process of converting a time series from one frequency to the other\n",
    "#  Aggregating higher frequency to lower frequency is called \"downsampling\"\n",
    "#    Aggregating lower frequency to higher frequency is called \"upsampling\"\n",
    "\n",
    "# resampling function is similar to group by API as illustrated below"
   ]
  },
  {
   "cell_type": "code",
   "execution_count": null,
   "metadata": {},
   "outputs": [],
   "source": []
  },
  {
   "cell_type": "code",
   "execution_count": 646,
   "metadata": {},
   "outputs": [
    {
     "data": {
      "text/plain": [
       "DatetimeIndex(['2010-01-01', '2010-01-02', '2010-01-03', '2010-01-04',\n",
       "               '2010-01-05', '2010-01-06', '2010-01-07', '2010-01-08',\n",
       "               '2010-01-09', '2010-01-10', '2010-01-11', '2010-01-12',\n",
       "               '2010-01-13', '2010-01-14', '2010-01-15', '2010-01-16',\n",
       "               '2010-01-17', '2010-01-18', '2010-01-19', '2010-01-20',\n",
       "               '2010-01-21', '2010-01-22', '2010-01-23', '2010-01-24',\n",
       "               '2010-01-25', '2010-01-26', '2010-01-27', '2010-01-28',\n",
       "               '2010-01-29', '2010-01-30', '2010-01-31', '2010-02-01',\n",
       "               '2010-02-02', '2010-02-03', '2010-02-04', '2010-02-05',\n",
       "               '2010-02-06', '2010-02-07', '2010-02-08', '2010-02-09',\n",
       "               '2010-02-10', '2010-02-11', '2010-02-12', '2010-02-13',\n",
       "               '2010-02-14', '2010-02-15', '2010-02-16', '2010-02-17',\n",
       "               '2010-02-18', '2010-02-19', '2010-02-20', '2010-02-21',\n",
       "               '2010-02-22', '2010-02-23', '2010-02-24', '2010-02-25',\n",
       "               '2010-02-26', '2010-02-27', '2010-02-28', '2010-03-01'],\n",
       "              dtype='datetime64[ns]', freq='D')"
      ]
     },
     "execution_count": 646,
     "metadata": {},
     "output_type": "execute_result"
    }
   ],
   "source": [
    "date = pd.date_range(\"1/1/2010\", periods =60, freq = \"D\")\n",
    "date"
   ]
  },
  {
   "cell_type": "code",
   "execution_count": 647,
   "metadata": {},
   "outputs": [],
   "source": [
    "NewData = pd.Series(np.arange(len(date)), index = date)"
   ]
  },
  {
   "cell_type": "code",
   "execution_count": 648,
   "metadata": {},
   "outputs": [
    {
     "data": {
      "text/plain": [
       "2010-01-01     0\n",
       "2010-01-02     1\n",
       "2010-01-03     2\n",
       "2010-01-04     3\n",
       "2010-01-05     4\n",
       "2010-01-06     5\n",
       "2010-01-07     6\n",
       "2010-01-08     7\n",
       "2010-01-09     8\n",
       "2010-01-10     9\n",
       "2010-01-11    10\n",
       "2010-01-12    11\n",
       "2010-01-13    12\n",
       "2010-01-14    13\n",
       "2010-01-15    14\n",
       "2010-01-16    15\n",
       "2010-01-17    16\n",
       "2010-01-18    17\n",
       "2010-01-19    18\n",
       "2010-01-20    19\n",
       "2010-01-21    20\n",
       "2010-01-22    21\n",
       "2010-01-23    22\n",
       "2010-01-24    23\n",
       "2010-01-25    24\n",
       "2010-01-26    25\n",
       "2010-01-27    26\n",
       "2010-01-28    27\n",
       "2010-01-29    28\n",
       "2010-01-30    29\n",
       "2010-01-31    30\n",
       "2010-02-01    31\n",
       "2010-02-02    32\n",
       "2010-02-03    33\n",
       "2010-02-04    34\n",
       "2010-02-05    35\n",
       "2010-02-06    36\n",
       "2010-02-07    37\n",
       "2010-02-08    38\n",
       "2010-02-09    39\n",
       "2010-02-10    40\n",
       "2010-02-11    41\n",
       "2010-02-12    42\n",
       "2010-02-13    43\n",
       "2010-02-14    44\n",
       "2010-02-15    45\n",
       "2010-02-16    46\n",
       "2010-02-17    47\n",
       "2010-02-18    48\n",
       "2010-02-19    49\n",
       "2010-02-20    50\n",
       "2010-02-21    51\n",
       "2010-02-22    52\n",
       "2010-02-23    53\n",
       "2010-02-24    54\n",
       "2010-02-25    55\n",
       "2010-02-26    56\n",
       "2010-02-27    57\n",
       "2010-02-28    58\n",
       "2010-03-01    59\n",
       "Freq: D, dtype: int32"
      ]
     },
     "execution_count": 648,
     "metadata": {},
     "output_type": "execute_result"
    }
   ],
   "source": [
    "NewData"
   ]
  },
  {
   "cell_type": "code",
   "execution_count": 649,
   "metadata": {},
   "outputs": [
    {
     "data": {
      "text/plain": [
       "2010-01-31     465\n",
       "2010-02-28    1246\n",
       "2010-03-31      59\n",
       "Freq: M, dtype: int32"
      ]
     },
     "execution_count": 649,
     "metadata": {},
     "output_type": "execute_result"
    }
   ],
   "source": [
    "NewData.resample(\"M\").sum()   #  aggregate the date index to Monthly"
   ]
  },
  {
   "cell_type": "code",
   "execution_count": 650,
   "metadata": {},
   "outputs": [
    {
     "data": {
      "text/plain": [
       "2010-01-31    15\n",
       "2010-04-30    45\n",
       "Freq: Q-JAN, dtype: int32"
      ]
     },
     "execution_count": 650,
     "metadata": {},
     "output_type": "execute_result"
    }
   ],
   "source": [
    "NewData.resample(\"Q-JAN\").mean()"
   ]
  },
  {
   "cell_type": "code",
   "execution_count": 651,
   "metadata": {},
   "outputs": [
    {
     "data": {
      "text/plain": [
       "1246"
      ]
     },
     "execution_count": 651,
     "metadata": {},
     "output_type": "execute_result"
    }
   ],
   "source": [
    "NewData[\"2010-2\"].sum() #  Just like summing the whole month as shown here is what the sampling fuction does"
   ]
  },
  {
   "cell_type": "code",
   "execution_count": 652,
   "metadata": {},
   "outputs": [
    {
     "data": {
      "text/plain": [
       "2010-01     465\n",
       "2010-02    1246\n",
       "2010-03      59\n",
       "Freq: M, dtype: int32"
      ]
     },
     "execution_count": 652,
     "metadata": {},
     "output_type": "execute_result"
    }
   ],
   "source": [
    "NewData.resample(\"M\", kind =  \"period\").sum()   # we can change the kind of the output to period time Frequency"
   ]
  },
  {
   "cell_type": "code",
   "execution_count": null,
   "metadata": {},
   "outputs": [],
   "source": []
  },
  {
   "cell_type": "code",
   "execution_count": 653,
   "metadata": {},
   "outputs": [
    {
     "data": {
      "text/plain": [
       "DatetimeIndex(['2010-01-01', '2010-01-02', '2010-01-03', '2010-01-04',\n",
       "               '2010-01-05', '2010-01-06', '2010-01-07', '2010-01-08',\n",
       "               '2010-01-09', '2010-01-10',\n",
       "               ...\n",
       "               '2010-04-21', '2010-04-22', '2010-04-23', '2010-04-24',\n",
       "               '2010-04-25', '2010-04-26', '2010-04-27', '2010-04-28',\n",
       "               '2010-04-29', '2010-04-30'],\n",
       "              dtype='datetime64[ns]', length=120, freq='D')"
      ]
     },
     "execution_count": 653,
     "metadata": {},
     "output_type": "execute_result"
    }
   ],
   "source": [
    "year =  pd.date_range(\"1/1/2010\", periods =120, freq = \"D\")\n",
    "year"
   ]
  },
  {
   "cell_type": "code",
   "execution_count": 654,
   "metadata": {},
   "outputs": [
    {
     "data": {
      "text/plain": [
       "2010-01-01    0\n",
       "2010-01-02    1\n",
       "2010-01-03    2\n",
       "2010-01-04    3\n",
       "2010-01-05    4\n",
       "2010-01-06    5\n",
       "2010-01-07    6\n",
       "2010-01-08    7\n",
       "2010-01-09    8\n",
       "2010-01-10    9\n",
       "Freq: D, dtype: int32"
      ]
     },
     "execution_count": 654,
     "metadata": {},
     "output_type": "execute_result"
    }
   ],
   "source": [
    "YearData = pd.Series(np.arange(len(year)), index = year)\n",
    "YearData.head(10)"
   ]
  },
  {
   "cell_type": "code",
   "execution_count": 655,
   "metadata": {},
   "outputs": [
    {
     "data": {
      "text/plain": [
       "2010-01-01    4005\n",
       "2010-04-01    3135\n",
       "Freq: QS-JAN, dtype: int32"
      ]
     },
     "execution_count": 655,
     "metadata": {},
     "output_type": "execute_result"
    }
   ],
   "source": [
    "YearData.resample(\"QS-JAN\").sum()  #  summarizes  the data based on quarter starting from JANUARY"
   ]
  },
  {
   "cell_type": "markdown",
   "metadata": {},
   "source": [
    "# Lets start Downsampling Resampling In Details"
   ]
  },
  {
   "cell_type": "code",
   "execution_count": 656,
   "metadata": {},
   "outputs": [],
   "source": [
    "Time = pd.date_range(\"1/1/2020\", periods = 20, freq = \"T\") # we are considering a time series with 5min icrease"
   ]
  },
  {
   "cell_type": "code",
   "execution_count": 657,
   "metadata": {},
   "outputs": [
    {
     "data": {
      "text/plain": [
       "DatetimeIndex(['2020-01-01 00:00:00', '2020-01-01 00:01:00',\n",
       "               '2020-01-01 00:02:00', '2020-01-01 00:03:00',\n",
       "               '2020-01-01 00:04:00', '2020-01-01 00:05:00',\n",
       "               '2020-01-01 00:06:00', '2020-01-01 00:07:00',\n",
       "               '2020-01-01 00:08:00', '2020-01-01 00:09:00',\n",
       "               '2020-01-01 00:10:00', '2020-01-01 00:11:00',\n",
       "               '2020-01-01 00:12:00', '2020-01-01 00:13:00',\n",
       "               '2020-01-01 00:14:00', '2020-01-01 00:15:00',\n",
       "               '2020-01-01 00:16:00', '2020-01-01 00:17:00',\n",
       "               '2020-01-01 00:18:00', '2020-01-01 00:19:00'],\n",
       "              dtype='datetime64[ns]', freq='T')"
      ]
     },
     "execution_count": 657,
     "metadata": {},
     "output_type": "execute_result"
    }
   ],
   "source": [
    "Time"
   ]
  },
  {
   "cell_type": "code",
   "execution_count": 658,
   "metadata": {},
   "outputs": [
    {
     "data": {
      "text/plain": [
       "2020-01-01 00:00:00     0\n",
       "2020-01-01 00:01:00     1\n",
       "2020-01-01 00:02:00     2\n",
       "2020-01-01 00:03:00     3\n",
       "2020-01-01 00:04:00     4\n",
       "2020-01-01 00:05:00     5\n",
       "2020-01-01 00:06:00     6\n",
       "2020-01-01 00:07:00     7\n",
       "2020-01-01 00:08:00     8\n",
       "2020-01-01 00:09:00     9\n",
       "2020-01-01 00:10:00    10\n",
       "2020-01-01 00:11:00    11\n",
       "2020-01-01 00:12:00    12\n",
       "2020-01-01 00:13:00    13\n",
       "2020-01-01 00:14:00    14\n",
       "2020-01-01 00:15:00    15\n",
       "2020-01-01 00:16:00    16\n",
       "2020-01-01 00:17:00    17\n",
       "2020-01-01 00:18:00    18\n",
       "2020-01-01 00:19:00    19\n",
       "Freq: T, dtype: int32"
      ]
     },
     "execution_count": 658,
     "metadata": {},
     "output_type": "execute_result"
    }
   ],
   "source": [
    "TimeData = pd.Series(np.arange(len(Time)), index = Time)\n",
    "TimeData"
   ]
  },
  {
   "cell_type": "code",
   "execution_count": 659,
   "metadata": {},
   "outputs": [
    {
     "data": {
      "text/plain": [
       "2020-01-01 00:00:00    10\n",
       "2020-01-01 00:05:00    35\n",
       "2020-01-01 00:10:00    60\n",
       "2020-01-01 00:15:00    85\n",
       "Freq: 5T, dtype: int32"
      ]
     },
     "execution_count": 659,
     "metadata": {},
     "output_type": "execute_result"
    }
   ],
   "source": [
    "TimeData.resample(\"5min\").sum()  # Default will include the first time in the series"
   ]
  },
  {
   "cell_type": "code",
   "execution_count": 660,
   "metadata": {},
   "outputs": [
    {
     "data": {
      "text/plain": [
       "2019-12-31 23:55:00     0\n",
       "2020-01-01 00:00:00    15\n",
       "2020-01-01 00:05:00    40\n",
       "2020-01-01 00:10:00    65\n",
       "2020-01-01 00:15:00    70\n",
       "Freq: 5T, dtype: int32"
      ]
     },
     "execution_count": 660,
     "metadata": {},
     "output_type": "execute_result"
    }
   ],
   "source": [
    "TimeData.resample(\"5min\", closed = \"right\").sum()  #  close right offset the time beyond the default time"
   ]
  },
  {
   "cell_type": "code",
   "execution_count": 661,
   "metadata": {},
   "outputs": [
    {
     "data": {
      "text/plain": [
       "2020-01-01 00:00:00     0\n",
       "2020-01-01 00:05:00    15\n",
       "2020-01-01 00:10:00    40\n",
       "2020-01-01 00:15:00    65\n",
       "2020-01-01 00:20:00    70\n",
       "Freq: 5T, dtype: int32"
      ]
     },
     "execution_count": 661,
     "metadata": {},
     "output_type": "execute_result"
    }
   ],
   "source": [
    "TimeData.resample(\"5min\", closed = \"right\", label = \"right\").sum()  # just what we needed as the first time is set to default\n",
    "# and subsequent summarization is carried out"
   ]
  },
  {
   "cell_type": "code",
   "execution_count": 662,
   "metadata": {},
   "outputs": [
    {
     "data": {
      "text/plain": [
       "2019-12-31 23:59:59     0\n",
       "2020-01-01 00:04:59    15\n",
       "2020-01-01 00:09:59    40\n",
       "2020-01-01 00:14:59    65\n",
       "2020-01-01 00:19:59    70\n",
       "Freq: 5T, dtype: int32"
      ]
     },
     "execution_count": 662,
     "metadata": {},
     "output_type": "execute_result"
    }
   ],
   "source": [
    "TimeData.resample(\"5min\", closed = \"right\", label = \"right\", loffset = \"-1s\").sum()  # offsetting the time in the series by\n",
    "# 1second"
   ]
  },
  {
   "cell_type": "markdown",
   "metadata": {},
   "source": [
    "# Open High Low Close Sampling"
   ]
  },
  {
   "cell_type": "code",
   "execution_count": 663,
   "metadata": {},
   "outputs": [],
   "source": [
    "# ohlc() method is a powerful method for reampling data by passing opening passing a freqquency that will output\n",
    "# the high, low, open and cloing trend in the data"
   ]
  },
  {
   "cell_type": "code",
   "execution_count": 664,
   "metadata": {},
   "outputs": [
    {
     "data": {
      "text/html": [
       "<div>\n",
       "<style scoped>\n",
       "    .dataframe tbody tr th:only-of-type {\n",
       "        vertical-align: middle;\n",
       "    }\n",
       "\n",
       "    .dataframe tbody tr th {\n",
       "        vertical-align: top;\n",
       "    }\n",
       "\n",
       "    .dataframe thead th {\n",
       "        text-align: right;\n",
       "    }\n",
       "</style>\n",
       "<table border=\"1\" class=\"dataframe\">\n",
       "  <thead>\n",
       "    <tr style=\"text-align: right;\">\n",
       "      <th></th>\n",
       "      <th>open</th>\n",
       "      <th>high</th>\n",
       "      <th>low</th>\n",
       "      <th>close</th>\n",
       "    </tr>\n",
       "  </thead>\n",
       "  <tbody>\n",
       "    <tr>\n",
       "      <th>2020-01-01 00:00:00</th>\n",
       "      <td>0</td>\n",
       "      <td>0</td>\n",
       "      <td>0</td>\n",
       "      <td>0</td>\n",
       "    </tr>\n",
       "    <tr>\n",
       "      <th>2020-01-01 00:05:00</th>\n",
       "      <td>1</td>\n",
       "      <td>5</td>\n",
       "      <td>1</td>\n",
       "      <td>5</td>\n",
       "    </tr>\n",
       "    <tr>\n",
       "      <th>2020-01-01 00:10:00</th>\n",
       "      <td>6</td>\n",
       "      <td>10</td>\n",
       "      <td>6</td>\n",
       "      <td>10</td>\n",
       "    </tr>\n",
       "    <tr>\n",
       "      <th>2020-01-01 00:15:00</th>\n",
       "      <td>11</td>\n",
       "      <td>15</td>\n",
       "      <td>11</td>\n",
       "      <td>15</td>\n",
       "    </tr>\n",
       "    <tr>\n",
       "      <th>2020-01-01 00:20:00</th>\n",
       "      <td>16</td>\n",
       "      <td>19</td>\n",
       "      <td>16</td>\n",
       "      <td>19</td>\n",
       "    </tr>\n",
       "  </tbody>\n",
       "</table>\n",
       "</div>"
      ],
      "text/plain": [
       "                     open  high  low  close\n",
       "2020-01-01 00:00:00     0     0    0      0\n",
       "2020-01-01 00:05:00     1     5    1      5\n",
       "2020-01-01 00:10:00     6    10    6     10\n",
       "2020-01-01 00:15:00    11    15   11     15\n",
       "2020-01-01 00:20:00    16    19   16     19"
      ]
     },
     "execution_count": 664,
     "metadata": {},
     "output_type": "execute_result"
    }
   ],
   "source": [
    "TimeData.resample(\"5min\",  closed = \"right\", label = \"right\").ohlc()"
   ]
  },
  {
   "cell_type": "code",
   "execution_count": 665,
   "metadata": {},
   "outputs": [
    {
     "data": {
      "text/plain": [
       "2020-01-01 00:00:00     0\n",
       "2020-01-01 00:01:00     1\n",
       "2020-01-01 00:02:00     2\n",
       "2020-01-01 00:03:00     3\n",
       "2020-01-01 00:04:00     4\n",
       "2020-01-01 00:05:00     5\n",
       "2020-01-01 00:06:00     6\n",
       "2020-01-01 00:07:00     7\n",
       "2020-01-01 00:08:00     8\n",
       "2020-01-01 00:09:00     9\n",
       "2020-01-01 00:10:00    10\n",
       "2020-01-01 00:11:00    11\n",
       "2020-01-01 00:12:00    12\n",
       "2020-01-01 00:13:00    13\n",
       "2020-01-01 00:14:00    14\n",
       "2020-01-01 00:15:00    15\n",
       "2020-01-01 00:16:00    16\n",
       "2020-01-01 00:17:00    17\n",
       "2020-01-01 00:18:00    18\n",
       "2020-01-01 00:19:00    19\n",
       "Freq: T, dtype: int32"
      ]
     },
     "execution_count": 665,
     "metadata": {},
     "output_type": "execute_result"
    }
   ],
   "source": [
    "TimeData"
   ]
  },
  {
   "cell_type": "code",
   "execution_count": 666,
   "metadata": {},
   "outputs": [
    {
     "data": {
      "text/plain": [
       "2014-02-12    22\n",
       "2014-02-13    79\n",
       "2014-02-14    94\n",
       "2014-02-15    55\n",
       "2014-02-16    50\n",
       "2014-02-17    68\n",
       "2014-02-18    44\n",
       "2014-02-19    62\n",
       "2014-02-20    17\n",
       "2014-02-21    15\n",
       "2014-02-22    93\n",
       "2014-02-23    93\n",
       "2014-02-24    70\n",
       "2014-02-25    78\n",
       "2014-02-26    14\n",
       "2014-02-27    89\n",
       "2014-02-28    79\n",
       "2014-03-01    49\n",
       "2014-03-02    86\n",
       "2014-03-03    64\n",
       "Freq: D, dtype: int32"
      ]
     },
     "execution_count": 666,
     "metadata": {},
     "output_type": "execute_result"
    }
   ],
   "source": [
    "test = pd.date_range(\"2014/2/12\", freq = \"D\", periods = 20)\n",
    "testData = pd.Series(np.random.randint(10,100, len(test)), index = test)\n",
    "testData"
   ]
  },
  {
   "cell_type": "code",
   "execution_count": 667,
   "metadata": {},
   "outputs": [
    {
     "data": {
      "text/html": [
       "<div>\n",
       "<style scoped>\n",
       "    .dataframe tbody tr th:only-of-type {\n",
       "        vertical-align: middle;\n",
       "    }\n",
       "\n",
       "    .dataframe tbody tr th {\n",
       "        vertical-align: top;\n",
       "    }\n",
       "\n",
       "    .dataframe thead th {\n",
       "        text-align: right;\n",
       "    }\n",
       "</style>\n",
       "<table border=\"1\" class=\"dataframe\">\n",
       "  <thead>\n",
       "    <tr style=\"text-align: right;\">\n",
       "      <th></th>\n",
       "      <th>open</th>\n",
       "      <th>high</th>\n",
       "      <th>low</th>\n",
       "      <th>close</th>\n",
       "    </tr>\n",
       "  </thead>\n",
       "  <tbody>\n",
       "    <tr>\n",
       "      <th>2014-02-12 02:00:00</th>\n",
       "      <td>22</td>\n",
       "      <td>22</td>\n",
       "      <td>22</td>\n",
       "      <td>22</td>\n",
       "    </tr>\n",
       "    <tr>\n",
       "      <th>2014-02-17 02:00:00</th>\n",
       "      <td>79</td>\n",
       "      <td>94</td>\n",
       "      <td>50</td>\n",
       "      <td>68</td>\n",
       "    </tr>\n",
       "    <tr>\n",
       "      <th>2014-02-22 02:00:00</th>\n",
       "      <td>44</td>\n",
       "      <td>93</td>\n",
       "      <td>15</td>\n",
       "      <td>93</td>\n",
       "    </tr>\n",
       "    <tr>\n",
       "      <th>2014-02-27 02:00:00</th>\n",
       "      <td>93</td>\n",
       "      <td>93</td>\n",
       "      <td>14</td>\n",
       "      <td>89</td>\n",
       "    </tr>\n",
       "    <tr>\n",
       "      <th>2014-03-04 02:00:00</th>\n",
       "      <td>79</td>\n",
       "      <td>86</td>\n",
       "      <td>49</td>\n",
       "      <td>64</td>\n",
       "    </tr>\n",
       "  </tbody>\n",
       "</table>\n",
       "</div>"
      ],
      "text/plain": [
       "                     open  high  low  close\n",
       "2014-02-12 02:00:00    22    22   22     22\n",
       "2014-02-17 02:00:00    79    94   50     68\n",
       "2014-02-22 02:00:00    44    93   15     93\n",
       "2014-02-27 02:00:00    93    93   14     89\n",
       "2014-03-04 02:00:00    79    86   49     64"
      ]
     },
     "execution_count": 667,
     "metadata": {},
     "output_type": "execute_result"
    }
   ],
   "source": [
    "testData.resample(\"5D\", closed = \"right\", label = \"right\", loffset=\"2h\").ohlc()  # the starting poing remain constannt while aggregation for other days in the \n",
    "# testData Frame aggregate their values"
   ]
  },
  {
   "cell_type": "code",
   "execution_count": null,
   "metadata": {},
   "outputs": [],
   "source": []
  },
  {
   "cell_type": "code",
   "execution_count": 668,
   "metadata": {},
   "outputs": [],
   "source": [
    "# Upsampling and Interpolation"
   ]
  },
  {
   "cell_type": "code",
   "execution_count": 669,
   "metadata": {},
   "outputs": [],
   "source": [
    "# Converting from a low frequency to a higher, there is no aggregation needed.\n",
    "# Just the expansion of the date or ime range\n",
    "# Lest demonstarte this"
   ]
  },
  {
   "cell_type": "code",
   "execution_count": 670,
   "metadata": {},
   "outputs": [
    {
     "data": {
      "text/html": [
       "<div>\n",
       "<style scoped>\n",
       "    .dataframe tbody tr th:only-of-type {\n",
       "        vertical-align: middle;\n",
       "    }\n",
       "\n",
       "    .dataframe tbody tr th {\n",
       "        vertical-align: top;\n",
       "    }\n",
       "\n",
       "    .dataframe thead th {\n",
       "        text-align: right;\n",
       "    }\n",
       "</style>\n",
       "<table border=\"1\" class=\"dataframe\">\n",
       "  <thead>\n",
       "    <tr style=\"text-align: right;\">\n",
       "      <th></th>\n",
       "      <th>Lagos</th>\n",
       "      <th>ABuja</th>\n",
       "      <th>Kaduna</th>\n",
       "      <th>Bauchi</th>\n",
       "    </tr>\n",
       "  </thead>\n",
       "  <tbody>\n",
       "    <tr>\n",
       "      <th>2018-02-12</th>\n",
       "      <td>2.000000</td>\n",
       "      <td>2.205128</td>\n",
       "      <td>2.410256</td>\n",
       "      <td>2.615385</td>\n",
       "    </tr>\n",
       "    <tr>\n",
       "      <th>2018-02-19</th>\n",
       "      <td>2.820513</td>\n",
       "      <td>3.025641</td>\n",
       "      <td>3.230769</td>\n",
       "      <td>3.435897</td>\n",
       "    </tr>\n",
       "    <tr>\n",
       "      <th>2018-02-26</th>\n",
       "      <td>3.641026</td>\n",
       "      <td>3.846154</td>\n",
       "      <td>4.051282</td>\n",
       "      <td>4.256410</td>\n",
       "    </tr>\n",
       "    <tr>\n",
       "      <th>2018-03-05</th>\n",
       "      <td>4.461538</td>\n",
       "      <td>4.666667</td>\n",
       "      <td>4.871795</td>\n",
       "      <td>5.076923</td>\n",
       "    </tr>\n",
       "    <tr>\n",
       "      <th>2018-03-12</th>\n",
       "      <td>5.282051</td>\n",
       "      <td>5.487179</td>\n",
       "      <td>5.692308</td>\n",
       "      <td>5.897436</td>\n",
       "    </tr>\n",
       "    <tr>\n",
       "      <th>2018-03-19</th>\n",
       "      <td>6.102564</td>\n",
       "      <td>6.307692</td>\n",
       "      <td>6.512821</td>\n",
       "      <td>6.717949</td>\n",
       "    </tr>\n",
       "    <tr>\n",
       "      <th>2018-03-26</th>\n",
       "      <td>6.923077</td>\n",
       "      <td>7.128205</td>\n",
       "      <td>7.333333</td>\n",
       "      <td>7.538462</td>\n",
       "    </tr>\n",
       "    <tr>\n",
       "      <th>2018-04-02</th>\n",
       "      <td>7.743590</td>\n",
       "      <td>7.948718</td>\n",
       "      <td>8.153846</td>\n",
       "      <td>8.358974</td>\n",
       "    </tr>\n",
       "    <tr>\n",
       "      <th>2018-04-09</th>\n",
       "      <td>8.564103</td>\n",
       "      <td>8.769231</td>\n",
       "      <td>8.974359</td>\n",
       "      <td>9.179487</td>\n",
       "    </tr>\n",
       "    <tr>\n",
       "      <th>2018-04-16</th>\n",
       "      <td>9.384615</td>\n",
       "      <td>9.589744</td>\n",
       "      <td>9.794872</td>\n",
       "      <td>10.000000</td>\n",
       "    </tr>\n",
       "  </tbody>\n",
       "</table>\n",
       "</div>"
      ],
      "text/plain": [
       "               Lagos     ABuja    Kaduna     Bauchi\n",
       "2018-02-12  2.000000  2.205128  2.410256   2.615385\n",
       "2018-02-19  2.820513  3.025641  3.230769   3.435897\n",
       "2018-02-26  3.641026  3.846154  4.051282   4.256410\n",
       "2018-03-05  4.461538  4.666667  4.871795   5.076923\n",
       "2018-03-12  5.282051  5.487179  5.692308   5.897436\n",
       "2018-03-19  6.102564  6.307692  6.512821   6.717949\n",
       "2018-03-26  6.923077  7.128205  7.333333   7.538462\n",
       "2018-04-02  7.743590  7.948718  8.153846   8.358974\n",
       "2018-04-09  8.564103  8.769231  8.974359   9.179487\n",
       "2018-04-16  9.384615  9.589744  9.794872  10.000000"
      ]
     },
     "execution_count": 670,
     "metadata": {},
     "output_type": "execute_result"
    }
   ],
   "source": [
    "update = pd.date_range(datetime(2018,2,9), freq = \"W-MON\",  periods = 10)\n",
    "df = pd.DataFrame(np.linspace(2,10,40).reshape(10,4), columns = [\"Lagos\", \"ABuja\", \"Kaduna\", \"Bauchi\"], index = update)\n",
    "df"
   ]
  },
  {
   "cell_type": "code",
   "execution_count": 671,
   "metadata": {},
   "outputs": [
    {
     "data": {
      "text/html": [
       "<div>\n",
       "<style scoped>\n",
       "    .dataframe tbody tr th:only-of-type {\n",
       "        vertical-align: middle;\n",
       "    }\n",
       "\n",
       "    .dataframe tbody tr th {\n",
       "        vertical-align: top;\n",
       "    }\n",
       "\n",
       "    .dataframe thead th {\n",
       "        text-align: right;\n",
       "    }\n",
       "</style>\n",
       "<table border=\"1\" class=\"dataframe\">\n",
       "  <thead>\n",
       "    <tr style=\"text-align: right;\">\n",
       "      <th></th>\n",
       "      <th>Lagos</th>\n",
       "      <th>ABuja</th>\n",
       "      <th>Kaduna</th>\n",
       "      <th>Bauchi</th>\n",
       "    </tr>\n",
       "  </thead>\n",
       "  <tbody>\n",
       "    <tr>\n",
       "      <th>2018-02-12</th>\n",
       "      <td>2.000000</td>\n",
       "      <td>2.205128</td>\n",
       "      <td>2.410256</td>\n",
       "      <td>2.615385</td>\n",
       "    </tr>\n",
       "    <tr>\n",
       "      <th>2018-02-13</th>\n",
       "      <td>0.000000</td>\n",
       "      <td>0.000000</td>\n",
       "      <td>0.000000</td>\n",
       "      <td>0.000000</td>\n",
       "    </tr>\n",
       "    <tr>\n",
       "      <th>2018-02-14</th>\n",
       "      <td>0.000000</td>\n",
       "      <td>0.000000</td>\n",
       "      <td>0.000000</td>\n",
       "      <td>0.000000</td>\n",
       "    </tr>\n",
       "    <tr>\n",
       "      <th>2018-02-15</th>\n",
       "      <td>0.000000</td>\n",
       "      <td>0.000000</td>\n",
       "      <td>0.000000</td>\n",
       "      <td>0.000000</td>\n",
       "    </tr>\n",
       "    <tr>\n",
       "      <th>2018-02-16</th>\n",
       "      <td>0.000000</td>\n",
       "      <td>0.000000</td>\n",
       "      <td>0.000000</td>\n",
       "      <td>0.000000</td>\n",
       "    </tr>\n",
       "    <tr>\n",
       "      <th>...</th>\n",
       "      <td>...</td>\n",
       "      <td>...</td>\n",
       "      <td>...</td>\n",
       "      <td>...</td>\n",
       "    </tr>\n",
       "    <tr>\n",
       "      <th>2018-04-12</th>\n",
       "      <td>0.000000</td>\n",
       "      <td>0.000000</td>\n",
       "      <td>0.000000</td>\n",
       "      <td>0.000000</td>\n",
       "    </tr>\n",
       "    <tr>\n",
       "      <th>2018-04-13</th>\n",
       "      <td>0.000000</td>\n",
       "      <td>0.000000</td>\n",
       "      <td>0.000000</td>\n",
       "      <td>0.000000</td>\n",
       "    </tr>\n",
       "    <tr>\n",
       "      <th>2018-04-14</th>\n",
       "      <td>0.000000</td>\n",
       "      <td>0.000000</td>\n",
       "      <td>0.000000</td>\n",
       "      <td>0.000000</td>\n",
       "    </tr>\n",
       "    <tr>\n",
       "      <th>2018-04-15</th>\n",
       "      <td>0.000000</td>\n",
       "      <td>0.000000</td>\n",
       "      <td>0.000000</td>\n",
       "      <td>0.000000</td>\n",
       "    </tr>\n",
       "    <tr>\n",
       "      <th>2018-04-16</th>\n",
       "      <td>9.384615</td>\n",
       "      <td>9.589744</td>\n",
       "      <td>9.794872</td>\n",
       "      <td>10.000000</td>\n",
       "    </tr>\n",
       "  </tbody>\n",
       "</table>\n",
       "<p>64 rows × 4 columns</p>\n",
       "</div>"
      ],
      "text/plain": [
       "               Lagos     ABuja    Kaduna     Bauchi\n",
       "2018-02-12  2.000000  2.205128  2.410256   2.615385\n",
       "2018-02-13  0.000000  0.000000  0.000000   0.000000\n",
       "2018-02-14  0.000000  0.000000  0.000000   0.000000\n",
       "2018-02-15  0.000000  0.000000  0.000000   0.000000\n",
       "2018-02-16  0.000000  0.000000  0.000000   0.000000\n",
       "...              ...       ...       ...        ...\n",
       "2018-04-12  0.000000  0.000000  0.000000   0.000000\n",
       "2018-04-13  0.000000  0.000000  0.000000   0.000000\n",
       "2018-04-14  0.000000  0.000000  0.000000   0.000000\n",
       "2018-04-15  0.000000  0.000000  0.000000   0.000000\n",
       "2018-04-16  9.384615  9.589744  9.794872  10.000000\n",
       "\n",
       "[64 rows x 4 columns]"
      ]
     },
     "execution_count": 671,
     "metadata": {},
     "output_type": "execute_result"
    }
   ],
   "source": [
    "df.resample(\"D\").sum()  # summing the values only sum the values in the date range having the values"
   ]
  },
  {
   "cell_type": "code",
   "execution_count": 672,
   "metadata": {},
   "outputs": [
    {
     "data": {
      "text/html": [
       "<div>\n",
       "<style scoped>\n",
       "    .dataframe tbody tr th:only-of-type {\n",
       "        vertical-align: middle;\n",
       "    }\n",
       "\n",
       "    .dataframe tbody tr th {\n",
       "        vertical-align: top;\n",
       "    }\n",
       "\n",
       "    .dataframe thead th {\n",
       "        text-align: right;\n",
       "    }\n",
       "</style>\n",
       "<table border=\"1\" class=\"dataframe\">\n",
       "  <thead>\n",
       "    <tr style=\"text-align: right;\">\n",
       "      <th></th>\n",
       "      <th>Lagos</th>\n",
       "      <th>ABuja</th>\n",
       "      <th>Kaduna</th>\n",
       "      <th>Bauchi</th>\n",
       "    </tr>\n",
       "  </thead>\n",
       "  <tbody>\n",
       "    <tr>\n",
       "      <th>2018-02-12</th>\n",
       "      <td>2.000000</td>\n",
       "      <td>2.205128</td>\n",
       "      <td>2.410256</td>\n",
       "      <td>2.615385</td>\n",
       "    </tr>\n",
       "    <tr>\n",
       "      <th>2018-02-13</th>\n",
       "      <td>NaN</td>\n",
       "      <td>NaN</td>\n",
       "      <td>NaN</td>\n",
       "      <td>NaN</td>\n",
       "    </tr>\n",
       "    <tr>\n",
       "      <th>2018-02-14</th>\n",
       "      <td>NaN</td>\n",
       "      <td>NaN</td>\n",
       "      <td>NaN</td>\n",
       "      <td>NaN</td>\n",
       "    </tr>\n",
       "    <tr>\n",
       "      <th>2018-02-15</th>\n",
       "      <td>NaN</td>\n",
       "      <td>NaN</td>\n",
       "      <td>NaN</td>\n",
       "      <td>NaN</td>\n",
       "    </tr>\n",
       "    <tr>\n",
       "      <th>2018-02-16</th>\n",
       "      <td>NaN</td>\n",
       "      <td>NaN</td>\n",
       "      <td>NaN</td>\n",
       "      <td>NaN</td>\n",
       "    </tr>\n",
       "    <tr>\n",
       "      <th>...</th>\n",
       "      <td>...</td>\n",
       "      <td>...</td>\n",
       "      <td>...</td>\n",
       "      <td>...</td>\n",
       "    </tr>\n",
       "    <tr>\n",
       "      <th>2018-04-12</th>\n",
       "      <td>NaN</td>\n",
       "      <td>NaN</td>\n",
       "      <td>NaN</td>\n",
       "      <td>NaN</td>\n",
       "    </tr>\n",
       "    <tr>\n",
       "      <th>2018-04-13</th>\n",
       "      <td>NaN</td>\n",
       "      <td>NaN</td>\n",
       "      <td>NaN</td>\n",
       "      <td>NaN</td>\n",
       "    </tr>\n",
       "    <tr>\n",
       "      <th>2018-04-14</th>\n",
       "      <td>NaN</td>\n",
       "      <td>NaN</td>\n",
       "      <td>NaN</td>\n",
       "      <td>NaN</td>\n",
       "    </tr>\n",
       "    <tr>\n",
       "      <th>2018-04-15</th>\n",
       "      <td>NaN</td>\n",
       "      <td>NaN</td>\n",
       "      <td>NaN</td>\n",
       "      <td>NaN</td>\n",
       "    </tr>\n",
       "    <tr>\n",
       "      <th>2018-04-16</th>\n",
       "      <td>9.384615</td>\n",
       "      <td>9.589744</td>\n",
       "      <td>9.794872</td>\n",
       "      <td>10.000000</td>\n",
       "    </tr>\n",
       "  </tbody>\n",
       "</table>\n",
       "<p>64 rows × 4 columns</p>\n",
       "</div>"
      ],
      "text/plain": [
       "               Lagos     ABuja    Kaduna     Bauchi\n",
       "2018-02-12  2.000000  2.205128  2.410256   2.615385\n",
       "2018-02-13       NaN       NaN       NaN        NaN\n",
       "2018-02-14       NaN       NaN       NaN        NaN\n",
       "2018-02-15       NaN       NaN       NaN        NaN\n",
       "2018-02-16       NaN       NaN       NaN        NaN\n",
       "...              ...       ...       ...        ...\n",
       "2018-04-12       NaN       NaN       NaN        NaN\n",
       "2018-04-13       NaN       NaN       NaN        NaN\n",
       "2018-04-14       NaN       NaN       NaN        NaN\n",
       "2018-04-15       NaN       NaN       NaN        NaN\n",
       "2018-04-16  9.384615  9.589744  9.794872  10.000000\n",
       "\n",
       "[64 rows x 4 columns]"
      ]
     },
     "execution_count": 672,
     "metadata": {},
     "output_type": "execute_result"
    }
   ],
   "source": [
    "df.resample(\"D\").asfreq()   # passing the asfreq() method output the result for just the values in the data Frame with the new freq"
   ]
  },
  {
   "cell_type": "code",
   "execution_count": 673,
   "metadata": {},
   "outputs": [],
   "source": [
    "# we can forward fill the values in the NA in the frame with the values up the column"
   ]
  },
  {
   "cell_type": "code",
   "execution_count": 674,
   "metadata": {},
   "outputs": [
    {
     "data": {
      "text/html": [
       "<div>\n",
       "<style scoped>\n",
       "    .dataframe tbody tr th:only-of-type {\n",
       "        vertical-align: middle;\n",
       "    }\n",
       "\n",
       "    .dataframe tbody tr th {\n",
       "        vertical-align: top;\n",
       "    }\n",
       "\n",
       "    .dataframe thead th {\n",
       "        text-align: right;\n",
       "    }\n",
       "</style>\n",
       "<table border=\"1\" class=\"dataframe\">\n",
       "  <thead>\n",
       "    <tr style=\"text-align: right;\">\n",
       "      <th></th>\n",
       "      <th>Lagos</th>\n",
       "      <th>ABuja</th>\n",
       "      <th>Kaduna</th>\n",
       "      <th>Bauchi</th>\n",
       "    </tr>\n",
       "  </thead>\n",
       "  <tbody>\n",
       "    <tr>\n",
       "      <th>2018-02-12</th>\n",
       "      <td>2.000000</td>\n",
       "      <td>2.205128</td>\n",
       "      <td>2.410256</td>\n",
       "      <td>2.615385</td>\n",
       "    </tr>\n",
       "    <tr>\n",
       "      <th>2018-02-13</th>\n",
       "      <td>2.000000</td>\n",
       "      <td>2.205128</td>\n",
       "      <td>2.410256</td>\n",
       "      <td>2.615385</td>\n",
       "    </tr>\n",
       "    <tr>\n",
       "      <th>2018-02-14</th>\n",
       "      <td>2.000000</td>\n",
       "      <td>2.205128</td>\n",
       "      <td>2.410256</td>\n",
       "      <td>2.615385</td>\n",
       "    </tr>\n",
       "    <tr>\n",
       "      <th>2018-02-15</th>\n",
       "      <td>2.000000</td>\n",
       "      <td>2.205128</td>\n",
       "      <td>2.410256</td>\n",
       "      <td>2.615385</td>\n",
       "    </tr>\n",
       "    <tr>\n",
       "      <th>2018-02-16</th>\n",
       "      <td>2.000000</td>\n",
       "      <td>2.205128</td>\n",
       "      <td>2.410256</td>\n",
       "      <td>2.615385</td>\n",
       "    </tr>\n",
       "    <tr>\n",
       "      <th>2018-02-17</th>\n",
       "      <td>2.000000</td>\n",
       "      <td>2.205128</td>\n",
       "      <td>2.410256</td>\n",
       "      <td>2.615385</td>\n",
       "    </tr>\n",
       "    <tr>\n",
       "      <th>2018-02-18</th>\n",
       "      <td>2.000000</td>\n",
       "      <td>2.205128</td>\n",
       "      <td>2.410256</td>\n",
       "      <td>2.615385</td>\n",
       "    </tr>\n",
       "    <tr>\n",
       "      <th>2018-02-19</th>\n",
       "      <td>2.820513</td>\n",
       "      <td>3.025641</td>\n",
       "      <td>3.230769</td>\n",
       "      <td>3.435897</td>\n",
       "    </tr>\n",
       "    <tr>\n",
       "      <th>2018-02-20</th>\n",
       "      <td>2.820513</td>\n",
       "      <td>3.025641</td>\n",
       "      <td>3.230769</td>\n",
       "      <td>3.435897</td>\n",
       "    </tr>\n",
       "    <tr>\n",
       "      <th>2018-02-21</th>\n",
       "      <td>2.820513</td>\n",
       "      <td>3.025641</td>\n",
       "      <td>3.230769</td>\n",
       "      <td>3.435897</td>\n",
       "    </tr>\n",
       "  </tbody>\n",
       "</table>\n",
       "</div>"
      ],
      "text/plain": [
       "               Lagos     ABuja    Kaduna    Bauchi\n",
       "2018-02-12  2.000000  2.205128  2.410256  2.615385\n",
       "2018-02-13  2.000000  2.205128  2.410256  2.615385\n",
       "2018-02-14  2.000000  2.205128  2.410256  2.615385\n",
       "2018-02-15  2.000000  2.205128  2.410256  2.615385\n",
       "2018-02-16  2.000000  2.205128  2.410256  2.615385\n",
       "2018-02-17  2.000000  2.205128  2.410256  2.615385\n",
       "2018-02-18  2.000000  2.205128  2.410256  2.615385\n",
       "2018-02-19  2.820513  3.025641  3.230769  3.435897\n",
       "2018-02-20  2.820513  3.025641  3.230769  3.435897\n",
       "2018-02-21  2.820513  3.025641  3.230769  3.435897"
      ]
     },
     "execution_count": 674,
     "metadata": {},
     "output_type": "execute_result"
    }
   ],
   "source": [
    "df.resample(\"D\").asfreq().ffill().head(10)  # all the weekly wednesday takes the same values with the ffill() method"
   ]
  },
  {
   "cell_type": "code",
   "execution_count": 675,
   "metadata": {},
   "outputs": [
    {
     "data": {
      "text/html": [
       "<div>\n",
       "<style scoped>\n",
       "    .dataframe tbody tr th:only-of-type {\n",
       "        vertical-align: middle;\n",
       "    }\n",
       "\n",
       "    .dataframe tbody tr th {\n",
       "        vertical-align: top;\n",
       "    }\n",
       "\n",
       "    .dataframe thead th {\n",
       "        text-align: right;\n",
       "    }\n",
       "</style>\n",
       "<table border=\"1\" class=\"dataframe\">\n",
       "  <thead>\n",
       "    <tr style=\"text-align: right;\">\n",
       "      <th></th>\n",
       "      <th>Lagos</th>\n",
       "      <th>ABuja</th>\n",
       "      <th>Kaduna</th>\n",
       "      <th>Bauchi</th>\n",
       "    </tr>\n",
       "  </thead>\n",
       "  <tbody>\n",
       "    <tr>\n",
       "      <th>2018-02-17</th>\n",
       "      <td>2.000000</td>\n",
       "      <td>2.205128</td>\n",
       "      <td>2.410256</td>\n",
       "      <td>2.615385</td>\n",
       "    </tr>\n",
       "    <tr>\n",
       "      <th>2018-02-24</th>\n",
       "      <td>2.820513</td>\n",
       "      <td>3.025641</td>\n",
       "      <td>3.230769</td>\n",
       "      <td>3.435897</td>\n",
       "    </tr>\n",
       "    <tr>\n",
       "      <th>2018-03-03</th>\n",
       "      <td>3.641026</td>\n",
       "      <td>3.846154</td>\n",
       "      <td>4.051282</td>\n",
       "      <td>4.256410</td>\n",
       "    </tr>\n",
       "    <tr>\n",
       "      <th>2018-03-10</th>\n",
       "      <td>4.461538</td>\n",
       "      <td>4.666667</td>\n",
       "      <td>4.871795</td>\n",
       "      <td>5.076923</td>\n",
       "    </tr>\n",
       "    <tr>\n",
       "      <th>2018-03-17</th>\n",
       "      <td>5.282051</td>\n",
       "      <td>5.487179</td>\n",
       "      <td>5.692308</td>\n",
       "      <td>5.897436</td>\n",
       "    </tr>\n",
       "    <tr>\n",
       "      <th>2018-03-24</th>\n",
       "      <td>6.102564</td>\n",
       "      <td>6.307692</td>\n",
       "      <td>6.512821</td>\n",
       "      <td>6.717949</td>\n",
       "    </tr>\n",
       "    <tr>\n",
       "      <th>2018-03-31</th>\n",
       "      <td>6.923077</td>\n",
       "      <td>7.128205</td>\n",
       "      <td>7.333333</td>\n",
       "      <td>7.538462</td>\n",
       "    </tr>\n",
       "    <tr>\n",
       "      <th>2018-04-07</th>\n",
       "      <td>7.743590</td>\n",
       "      <td>7.948718</td>\n",
       "      <td>8.153846</td>\n",
       "      <td>8.358974</td>\n",
       "    </tr>\n",
       "    <tr>\n",
       "      <th>2018-04-14</th>\n",
       "      <td>8.564103</td>\n",
       "      <td>8.769231</td>\n",
       "      <td>8.974359</td>\n",
       "      <td>9.179487</td>\n",
       "    </tr>\n",
       "    <tr>\n",
       "      <th>2018-04-21</th>\n",
       "      <td>9.384615</td>\n",
       "      <td>9.589744</td>\n",
       "      <td>9.794872</td>\n",
       "      <td>10.000000</td>\n",
       "    </tr>\n",
       "  </tbody>\n",
       "</table>\n",
       "</div>"
      ],
      "text/plain": [
       "               Lagos     ABuja    Kaduna     Bauchi\n",
       "2018-02-17  2.000000  2.205128  2.410256   2.615385\n",
       "2018-02-24  2.820513  3.025641  3.230769   3.435897\n",
       "2018-03-03  3.641026  3.846154  4.051282   4.256410\n",
       "2018-03-10  4.461538  4.666667  4.871795   5.076923\n",
       "2018-03-17  5.282051  5.487179  5.692308   5.897436\n",
       "2018-03-24  6.102564  6.307692  6.512821   6.717949\n",
       "2018-03-31  6.923077  7.128205  7.333333   7.538462\n",
       "2018-04-07  7.743590  7.948718  8.153846   8.358974\n",
       "2018-04-14  8.564103  8.769231  8.974359   9.179487\n",
       "2018-04-21  9.384615  9.589744  9.794872  10.000000"
      ]
     },
     "execution_count": 675,
     "metadata": {},
     "output_type": "execute_result"
    }
   ],
   "source": [
    "df.resample(\"W-SAT\").ffill()  # we can resample by passing a new Frequency as shown"
   ]
  },
  {
   "cell_type": "code",
   "execution_count": 676,
   "metadata": {},
   "outputs": [
    {
     "data": {
      "text/html": [
       "<div>\n",
       "<style scoped>\n",
       "    .dataframe tbody tr th:only-of-type {\n",
       "        vertical-align: middle;\n",
       "    }\n",
       "\n",
       "    .dataframe tbody tr th {\n",
       "        vertical-align: top;\n",
       "    }\n",
       "\n",
       "    .dataframe thead th {\n",
       "        text-align: right;\n",
       "    }\n",
       "</style>\n",
       "<table border=\"1\" class=\"dataframe\">\n",
       "  <thead>\n",
       "    <tr style=\"text-align: right;\">\n",
       "      <th></th>\n",
       "      <th>Lagos</th>\n",
       "      <th>ABuja</th>\n",
       "      <th>Kaduna</th>\n",
       "      <th>Bauchi</th>\n",
       "    </tr>\n",
       "  </thead>\n",
       "  <tbody>\n",
       "    <tr>\n",
       "      <th>2018-02-12 00:00:00</th>\n",
       "      <td>2.000000</td>\n",
       "      <td>2.205128</td>\n",
       "      <td>2.410256</td>\n",
       "      <td>2.615385</td>\n",
       "    </tr>\n",
       "    <tr>\n",
       "      <th>2018-02-12 01:30:00</th>\n",
       "      <td>NaN</td>\n",
       "      <td>NaN</td>\n",
       "      <td>NaN</td>\n",
       "      <td>NaN</td>\n",
       "    </tr>\n",
       "    <tr>\n",
       "      <th>2018-02-12 03:00:00</th>\n",
       "      <td>NaN</td>\n",
       "      <td>NaN</td>\n",
       "      <td>NaN</td>\n",
       "      <td>NaN</td>\n",
       "    </tr>\n",
       "    <tr>\n",
       "      <th>2018-02-12 04:30:00</th>\n",
       "      <td>NaN</td>\n",
       "      <td>NaN</td>\n",
       "      <td>NaN</td>\n",
       "      <td>NaN</td>\n",
       "    </tr>\n",
       "    <tr>\n",
       "      <th>2018-02-12 06:00:00</th>\n",
       "      <td>NaN</td>\n",
       "      <td>NaN</td>\n",
       "      <td>NaN</td>\n",
       "      <td>NaN</td>\n",
       "    </tr>\n",
       "    <tr>\n",
       "      <th>...</th>\n",
       "      <td>...</td>\n",
       "      <td>...</td>\n",
       "      <td>...</td>\n",
       "      <td>...</td>\n",
       "    </tr>\n",
       "    <tr>\n",
       "      <th>2018-04-15 18:00:00</th>\n",
       "      <td>NaN</td>\n",
       "      <td>NaN</td>\n",
       "      <td>NaN</td>\n",
       "      <td>NaN</td>\n",
       "    </tr>\n",
       "    <tr>\n",
       "      <th>2018-04-15 19:30:00</th>\n",
       "      <td>NaN</td>\n",
       "      <td>NaN</td>\n",
       "      <td>NaN</td>\n",
       "      <td>NaN</td>\n",
       "    </tr>\n",
       "    <tr>\n",
       "      <th>2018-04-15 21:00:00</th>\n",
       "      <td>NaN</td>\n",
       "      <td>NaN</td>\n",
       "      <td>NaN</td>\n",
       "      <td>NaN</td>\n",
       "    </tr>\n",
       "    <tr>\n",
       "      <th>2018-04-15 22:30:00</th>\n",
       "      <td>NaN</td>\n",
       "      <td>NaN</td>\n",
       "      <td>NaN</td>\n",
       "      <td>NaN</td>\n",
       "    </tr>\n",
       "    <tr>\n",
       "      <th>2018-04-16 00:00:00</th>\n",
       "      <td>9.384615</td>\n",
       "      <td>9.589744</td>\n",
       "      <td>9.794872</td>\n",
       "      <td>10.000000</td>\n",
       "    </tr>\n",
       "  </tbody>\n",
       "</table>\n",
       "<p>1009 rows × 4 columns</p>\n",
       "</div>"
      ],
      "text/plain": [
       "                        Lagos     ABuja    Kaduna     Bauchi\n",
       "2018-02-12 00:00:00  2.000000  2.205128  2.410256   2.615385\n",
       "2018-02-12 01:30:00       NaN       NaN       NaN        NaN\n",
       "2018-02-12 03:00:00       NaN       NaN       NaN        NaN\n",
       "2018-02-12 04:30:00       NaN       NaN       NaN        NaN\n",
       "2018-02-12 06:00:00       NaN       NaN       NaN        NaN\n",
       "...                       ...       ...       ...        ...\n",
       "2018-04-15 18:00:00       NaN       NaN       NaN        NaN\n",
       "2018-04-15 19:30:00       NaN       NaN       NaN        NaN\n",
       "2018-04-15 21:00:00       NaN       NaN       NaN        NaN\n",
       "2018-04-15 22:30:00       NaN       NaN       NaN        NaN\n",
       "2018-04-16 00:00:00  9.384615  9.589744  9.794872  10.000000\n",
       "\n",
       "[1009 rows x 4 columns]"
      ]
     },
     "execution_count": 676,
     "metadata": {},
     "output_type": "execute_result"
    }
   ],
   "source": [
    "df.resample(\"90T\").asfreq()"
   ]
  },
  {
   "cell_type": "markdown",
   "metadata": {},
   "source": [
    "# Resampling with Period"
   ]
  },
  {
   "cell_type": "code",
   "execution_count": 677,
   "metadata": {},
   "outputs": [
    {
     "data": {
      "text/html": [
       "<div>\n",
       "<style scoped>\n",
       "    .dataframe tbody tr th:only-of-type {\n",
       "        vertical-align: middle;\n",
       "    }\n",
       "\n",
       "    .dataframe tbody tr th {\n",
       "        vertical-align: top;\n",
       "    }\n",
       "\n",
       "    .dataframe thead th {\n",
       "        text-align: right;\n",
       "    }\n",
       "</style>\n",
       "<table border=\"1\" class=\"dataframe\">\n",
       "  <thead>\n",
       "    <tr style=\"text-align: right;\">\n",
       "      <th></th>\n",
       "      <th>Lagos</th>\n",
       "      <th>ABuja</th>\n",
       "      <th>Kaduna</th>\n",
       "      <th>Bauchi</th>\n",
       "      <th>Benue</th>\n",
       "    </tr>\n",
       "  </thead>\n",
       "  <tbody>\n",
       "    <tr>\n",
       "      <th>2000-01</th>\n",
       "      <td>0</td>\n",
       "      <td>1</td>\n",
       "      <td>2</td>\n",
       "      <td>3</td>\n",
       "      <td>4</td>\n",
       "    </tr>\n",
       "    <tr>\n",
       "      <th>2000-02</th>\n",
       "      <td>5</td>\n",
       "      <td>6</td>\n",
       "      <td>7</td>\n",
       "      <td>8</td>\n",
       "      <td>9</td>\n",
       "    </tr>\n",
       "    <tr>\n",
       "      <th>2000-03</th>\n",
       "      <td>10</td>\n",
       "      <td>11</td>\n",
       "      <td>12</td>\n",
       "      <td>13</td>\n",
       "      <td>14</td>\n",
       "    </tr>\n",
       "    <tr>\n",
       "      <th>2000-04</th>\n",
       "      <td>15</td>\n",
       "      <td>16</td>\n",
       "      <td>17</td>\n",
       "      <td>18</td>\n",
       "      <td>19</td>\n",
       "    </tr>\n",
       "    <tr>\n",
       "      <th>2000-05</th>\n",
       "      <td>20</td>\n",
       "      <td>21</td>\n",
       "      <td>22</td>\n",
       "      <td>23</td>\n",
       "      <td>24</td>\n",
       "    </tr>\n",
       "    <tr>\n",
       "      <th>2000-06</th>\n",
       "      <td>25</td>\n",
       "      <td>26</td>\n",
       "      <td>27</td>\n",
       "      <td>28</td>\n",
       "      <td>29</td>\n",
       "    </tr>\n",
       "    <tr>\n",
       "      <th>2000-07</th>\n",
       "      <td>30</td>\n",
       "      <td>31</td>\n",
       "      <td>32</td>\n",
       "      <td>33</td>\n",
       "      <td>34</td>\n",
       "    </tr>\n",
       "    <tr>\n",
       "      <th>2000-08</th>\n",
       "      <td>35</td>\n",
       "      <td>36</td>\n",
       "      <td>37</td>\n",
       "      <td>38</td>\n",
       "      <td>39</td>\n",
       "    </tr>\n",
       "    <tr>\n",
       "      <th>2000-09</th>\n",
       "      <td>40</td>\n",
       "      <td>41</td>\n",
       "      <td>42</td>\n",
       "      <td>43</td>\n",
       "      <td>44</td>\n",
       "    </tr>\n",
       "    <tr>\n",
       "      <th>2000-10</th>\n",
       "      <td>45</td>\n",
       "      <td>46</td>\n",
       "      <td>47</td>\n",
       "      <td>48</td>\n",
       "      <td>49</td>\n",
       "    </tr>\n",
       "  </tbody>\n",
       "</table>\n",
       "</div>"
      ],
      "text/plain": [
       "         Lagos  ABuja  Kaduna  Bauchi  Benue\n",
       "2000-01      0      1       2       3      4\n",
       "2000-02      5      6       7       8      9\n",
       "2000-03     10     11      12      13     14\n",
       "2000-04     15     16      17      18     19\n",
       "2000-05     20     21      22      23     24\n",
       "2000-06     25     26      27      28     29\n",
       "2000-07     30     31      32      33     34\n",
       "2000-08     35     36      37      38     39\n",
       "2000-09     40     41      42      43     44\n",
       "2000-10     45     46      47      48     49"
      ]
     },
     "execution_count": 677,
     "metadata": {},
     "output_type": "execute_result"
    }
   ],
   "source": [
    "Resampling = pd.period_range(\"1/1/2000\", \"1/1/2002\", freq = \"M\")\n",
    "df2 = pd.DataFrame(np.arange(125).reshape(25,5), index = Resampling,\n",
    "        columns = [\"Lagos\", \"ABuja\", \"Kaduna\", \"Bauchi\", \"Benue\"] )\n",
    "df2.head(10)"
   ]
  },
  {
   "cell_type": "code",
   "execution_count": 678,
   "metadata": {},
   "outputs": [
    {
     "data": {
      "text/html": [
       "<div>\n",
       "<style scoped>\n",
       "    .dataframe tbody tr th:only-of-type {\n",
       "        vertical-align: middle;\n",
       "    }\n",
       "\n",
       "    .dataframe tbody tr th {\n",
       "        vertical-align: top;\n",
       "    }\n",
       "\n",
       "    .dataframe thead th {\n",
       "        text-align: right;\n",
       "    }\n",
       "</style>\n",
       "<table border=\"1\" class=\"dataframe\">\n",
       "  <thead>\n",
       "    <tr style=\"text-align: right;\">\n",
       "      <th></th>\n",
       "      <th>Lagos</th>\n",
       "      <th>ABuja</th>\n",
       "      <th>Kaduna</th>\n",
       "      <th>Bauchi</th>\n",
       "      <th>Benue</th>\n",
       "    </tr>\n",
       "  </thead>\n",
       "  <tbody>\n",
       "    <tr>\n",
       "      <th>2000</th>\n",
       "      <td>330</td>\n",
       "      <td>342</td>\n",
       "      <td>354</td>\n",
       "      <td>366</td>\n",
       "      <td>378</td>\n",
       "    </tr>\n",
       "    <tr>\n",
       "      <th>2001</th>\n",
       "      <td>1050</td>\n",
       "      <td>1062</td>\n",
       "      <td>1074</td>\n",
       "      <td>1086</td>\n",
       "      <td>1098</td>\n",
       "    </tr>\n",
       "    <tr>\n",
       "      <th>2002</th>\n",
       "      <td>120</td>\n",
       "      <td>121</td>\n",
       "      <td>122</td>\n",
       "      <td>123</td>\n",
       "      <td>124</td>\n",
       "    </tr>\n",
       "  </tbody>\n",
       "</table>\n",
       "</div>"
      ],
      "text/plain": [
       "      Lagos  ABuja  Kaduna  Bauchi  Benue\n",
       "2000    330    342     354     366    378\n",
       "2001   1050   1062    1074    1086   1098\n",
       "2002    120    121     122     123    124"
      ]
     },
     "execution_count": 678,
     "metadata": {},
     "output_type": "execute_result"
    }
   ],
   "source": [
    "df2.resample(\"A-DEC\").sum()  # sum of each period year up to december"
   ]
  },
  {
   "cell_type": "code",
   "execution_count": 679,
   "metadata": {},
   "outputs": [
    {
     "data": {
      "text/html": [
       "<div>\n",
       "<style scoped>\n",
       "    .dataframe tbody tr th:only-of-type {\n",
       "        vertical-align: middle;\n",
       "    }\n",
       "\n",
       "    .dataframe tbody tr th {\n",
       "        vertical-align: top;\n",
       "    }\n",
       "\n",
       "    .dataframe thead th {\n",
       "        text-align: right;\n",
       "    }\n",
       "</style>\n",
       "<table border=\"1\" class=\"dataframe\">\n",
       "  <thead>\n",
       "    <tr style=\"text-align: right;\">\n",
       "      <th></th>\n",
       "      <th>Lagos</th>\n",
       "      <th>ABuja</th>\n",
       "      <th>Kaduna</th>\n",
       "      <th>Bauchi</th>\n",
       "      <th>Benue</th>\n",
       "    </tr>\n",
       "  </thead>\n",
       "  <tbody>\n",
       "    <tr>\n",
       "      <th>2000</th>\n",
       "      <td>75</td>\n",
       "      <td>81</td>\n",
       "      <td>87</td>\n",
       "      <td>93</td>\n",
       "      <td>99</td>\n",
       "    </tr>\n",
       "    <tr>\n",
       "      <th>2001</th>\n",
       "      <td>690</td>\n",
       "      <td>702</td>\n",
       "      <td>714</td>\n",
       "      <td>726</td>\n",
       "      <td>738</td>\n",
       "    </tr>\n",
       "    <tr>\n",
       "      <th>2002</th>\n",
       "      <td>735</td>\n",
       "      <td>742</td>\n",
       "      <td>749</td>\n",
       "      <td>756</td>\n",
       "      <td>763</td>\n",
       "    </tr>\n",
       "  </tbody>\n",
       "</table>\n",
       "</div>"
      ],
      "text/plain": [
       "      Lagos  ABuja  Kaduna  Bauchi  Benue\n",
       "2000     75     81      87      93     99\n",
       "2001    690    702     714     726    738\n",
       "2002    735    742     749     756    763"
      ]
     },
     "execution_count": 679,
     "metadata": {},
     "output_type": "execute_result"
    }
   ],
   "source": [
    "df2.resample(\"A-JUN\").sum()  #  sum up to June for each year"
   ]
  },
  {
   "cell_type": "code",
   "execution_count": 680,
   "metadata": {},
   "outputs": [
    {
     "data": {
      "text/html": [
       "<div>\n",
       "<style scoped>\n",
       "    .dataframe tbody tr th:only-of-type {\n",
       "        vertical-align: middle;\n",
       "    }\n",
       "\n",
       "    .dataframe tbody tr th {\n",
       "        vertical-align: top;\n",
       "    }\n",
       "\n",
       "    .dataframe thead th {\n",
       "        text-align: right;\n",
       "    }\n",
       "</style>\n",
       "<table border=\"1\" class=\"dataframe\">\n",
       "  <thead>\n",
       "    <tr style=\"text-align: right;\">\n",
       "      <th></th>\n",
       "      <th>Lagos</th>\n",
       "      <th>ABuja</th>\n",
       "      <th>Kaduna</th>\n",
       "      <th>Bauchi</th>\n",
       "      <th>Benue</th>\n",
       "    </tr>\n",
       "  </thead>\n",
       "  <tbody>\n",
       "    <tr>\n",
       "      <th>2000</th>\n",
       "      <td>15</td>\n",
       "      <td>18</td>\n",
       "      <td>21</td>\n",
       "      <td>24</td>\n",
       "      <td>27</td>\n",
       "    </tr>\n",
       "    <tr>\n",
       "      <th>2001</th>\n",
       "      <td>510</td>\n",
       "      <td>522</td>\n",
       "      <td>534</td>\n",
       "      <td>546</td>\n",
       "      <td>558</td>\n",
       "    </tr>\n",
       "    <tr>\n",
       "      <th>2002</th>\n",
       "      <td>975</td>\n",
       "      <td>985</td>\n",
       "      <td>995</td>\n",
       "      <td>1005</td>\n",
       "      <td>1015</td>\n",
       "    </tr>\n",
       "  </tbody>\n",
       "</table>\n",
       "</div>"
      ],
      "text/plain": [
       "      Lagos  ABuja  Kaduna  Bauchi  Benue\n",
       "2000     15     18      21      24     27\n",
       "2001    510    522     534     546    558\n",
       "2002    975    985     995    1005   1015"
      ]
     },
     "execution_count": 680,
     "metadata": {},
     "output_type": "execute_result"
    }
   ],
   "source": [
    "df3 = df2.resample(\"A-MAR\").sum()  #  Up to match for each year\n",
    "df3"
   ]
  },
  {
   "cell_type": "code",
   "execution_count": 681,
   "metadata": {},
   "outputs": [
    {
     "data": {
      "text/html": [
       "<div>\n",
       "<style scoped>\n",
       "    .dataframe tbody tr th:only-of-type {\n",
       "        vertical-align: middle;\n",
       "    }\n",
       "\n",
       "    .dataframe tbody tr th {\n",
       "        vertical-align: top;\n",
       "    }\n",
       "\n",
       "    .dataframe thead th {\n",
       "        text-align: right;\n",
       "    }\n",
       "</style>\n",
       "<table border=\"1\" class=\"dataframe\">\n",
       "  <thead>\n",
       "    <tr style=\"text-align: right;\">\n",
       "      <th></th>\n",
       "      <th>Lagos</th>\n",
       "      <th>ABuja</th>\n",
       "      <th>Kaduna</th>\n",
       "      <th>Bauchi</th>\n",
       "      <th>Benue</th>\n",
       "    </tr>\n",
       "  </thead>\n",
       "  <tbody>\n",
       "    <tr>\n",
       "      <th>2000Q3</th>\n",
       "      <td>15</td>\n",
       "      <td>18</td>\n",
       "      <td>21</td>\n",
       "      <td>24</td>\n",
       "      <td>27</td>\n",
       "    </tr>\n",
       "    <tr>\n",
       "      <th>2000Q4</th>\n",
       "      <td>60</td>\n",
       "      <td>63</td>\n",
       "      <td>66</td>\n",
       "      <td>69</td>\n",
       "      <td>72</td>\n",
       "    </tr>\n",
       "    <tr>\n",
       "      <th>2001Q1</th>\n",
       "      <td>105</td>\n",
       "      <td>108</td>\n",
       "      <td>111</td>\n",
       "      <td>114</td>\n",
       "      <td>117</td>\n",
       "    </tr>\n",
       "    <tr>\n",
       "      <th>2001Q2</th>\n",
       "      <td>150</td>\n",
       "      <td>153</td>\n",
       "      <td>156</td>\n",
       "      <td>159</td>\n",
       "      <td>162</td>\n",
       "    </tr>\n",
       "    <tr>\n",
       "      <th>2001Q3</th>\n",
       "      <td>195</td>\n",
       "      <td>198</td>\n",
       "      <td>201</td>\n",
       "      <td>204</td>\n",
       "      <td>207</td>\n",
       "    </tr>\n",
       "    <tr>\n",
       "      <th>2001Q4</th>\n",
       "      <td>240</td>\n",
       "      <td>243</td>\n",
       "      <td>246</td>\n",
       "      <td>249</td>\n",
       "      <td>252</td>\n",
       "    </tr>\n",
       "    <tr>\n",
       "      <th>2002Q1</th>\n",
       "      <td>285</td>\n",
       "      <td>288</td>\n",
       "      <td>291</td>\n",
       "      <td>294</td>\n",
       "      <td>297</td>\n",
       "    </tr>\n",
       "    <tr>\n",
       "      <th>2002Q2</th>\n",
       "      <td>330</td>\n",
       "      <td>333</td>\n",
       "      <td>336</td>\n",
       "      <td>339</td>\n",
       "      <td>342</td>\n",
       "    </tr>\n",
       "    <tr>\n",
       "      <th>2002Q3</th>\n",
       "      <td>120</td>\n",
       "      <td>121</td>\n",
       "      <td>122</td>\n",
       "      <td>123</td>\n",
       "      <td>124</td>\n",
       "    </tr>\n",
       "  </tbody>\n",
       "</table>\n",
       "</div>"
      ],
      "text/plain": [
       "        Lagos  ABuja  Kaduna  Bauchi  Benue\n",
       "2000Q3     15     18      21      24     27\n",
       "2000Q4     60     63      66      69     72\n",
       "2001Q1    105    108     111     114    117\n",
       "2001Q2    150    153     156     159    162\n",
       "2001Q3    195    198     201     204    207\n",
       "2001Q4    240    243     246     249    252\n",
       "2002Q1    285    288     291     294    297\n",
       "2002Q2    330    333     336     339    342\n",
       "2002Q3    120    121     122     123    124"
      ]
     },
     "execution_count": 681,
     "metadata": {},
     "output_type": "execute_result"
    }
   ],
   "source": [
    "#Lets do up sapling for Quarterly year\n",
    "\n",
    "df2.resample(\"Q-JUN\").sum()   #  Quartery year that ends in June"
   ]
  },
  {
   "cell_type": "code",
   "execution_count": 682,
   "metadata": {},
   "outputs": [
    {
     "data": {
      "text/html": [
       "<div>\n",
       "<style scoped>\n",
       "    .dataframe tbody tr th:only-of-type {\n",
       "        vertical-align: middle;\n",
       "    }\n",
       "\n",
       "    .dataframe tbody tr th {\n",
       "        vertical-align: top;\n",
       "    }\n",
       "\n",
       "    .dataframe thead th {\n",
       "        text-align: right;\n",
       "    }\n",
       "</style>\n",
       "<table border=\"1\" class=\"dataframe\">\n",
       "  <thead>\n",
       "    <tr style=\"text-align: right;\">\n",
       "      <th></th>\n",
       "      <th>Lagos</th>\n",
       "      <th>ABuja</th>\n",
       "      <th>Kaduna</th>\n",
       "      <th>Bauchi</th>\n",
       "      <th>Benue</th>\n",
       "    </tr>\n",
       "  </thead>\n",
       "  <tbody>\n",
       "    <tr>\n",
       "      <th>1999Q4</th>\n",
       "      <td>15</td>\n",
       "      <td>18</td>\n",
       "      <td>21</td>\n",
       "      <td>24</td>\n",
       "      <td>27</td>\n",
       "    </tr>\n",
       "    <tr>\n",
       "      <th>2000Q1</th>\n",
       "      <td>15</td>\n",
       "      <td>18</td>\n",
       "      <td>21</td>\n",
       "      <td>24</td>\n",
       "      <td>27</td>\n",
       "    </tr>\n",
       "    <tr>\n",
       "      <th>2000Q2</th>\n",
       "      <td>15</td>\n",
       "      <td>18</td>\n",
       "      <td>21</td>\n",
       "      <td>24</td>\n",
       "      <td>27</td>\n",
       "    </tr>\n",
       "    <tr>\n",
       "      <th>2000Q3</th>\n",
       "      <td>15</td>\n",
       "      <td>18</td>\n",
       "      <td>21</td>\n",
       "      <td>24</td>\n",
       "      <td>27</td>\n",
       "    </tr>\n",
       "    <tr>\n",
       "      <th>2000Q4</th>\n",
       "      <td>510</td>\n",
       "      <td>522</td>\n",
       "      <td>534</td>\n",
       "      <td>546</td>\n",
       "      <td>558</td>\n",
       "    </tr>\n",
       "    <tr>\n",
       "      <th>2001Q1</th>\n",
       "      <td>510</td>\n",
       "      <td>522</td>\n",
       "      <td>534</td>\n",
       "      <td>546</td>\n",
       "      <td>558</td>\n",
       "    </tr>\n",
       "    <tr>\n",
       "      <th>2001Q2</th>\n",
       "      <td>510</td>\n",
       "      <td>522</td>\n",
       "      <td>534</td>\n",
       "      <td>546</td>\n",
       "      <td>558</td>\n",
       "    </tr>\n",
       "    <tr>\n",
       "      <th>2001Q3</th>\n",
       "      <td>510</td>\n",
       "      <td>522</td>\n",
       "      <td>534</td>\n",
       "      <td>546</td>\n",
       "      <td>558</td>\n",
       "    </tr>\n",
       "    <tr>\n",
       "      <th>2001Q4</th>\n",
       "      <td>975</td>\n",
       "      <td>985</td>\n",
       "      <td>995</td>\n",
       "      <td>1005</td>\n",
       "      <td>1015</td>\n",
       "    </tr>\n",
       "    <tr>\n",
       "      <th>2002Q1</th>\n",
       "      <td>975</td>\n",
       "      <td>985</td>\n",
       "      <td>995</td>\n",
       "      <td>1005</td>\n",
       "      <td>1015</td>\n",
       "    </tr>\n",
       "    <tr>\n",
       "      <th>2002Q2</th>\n",
       "      <td>975</td>\n",
       "      <td>985</td>\n",
       "      <td>995</td>\n",
       "      <td>1005</td>\n",
       "      <td>1015</td>\n",
       "    </tr>\n",
       "    <tr>\n",
       "      <th>2002Q3</th>\n",
       "      <td>975</td>\n",
       "      <td>985</td>\n",
       "      <td>995</td>\n",
       "      <td>1005</td>\n",
       "      <td>1015</td>\n",
       "    </tr>\n",
       "    <tr>\n",
       "      <th>2002Q4</th>\n",
       "      <td>975</td>\n",
       "      <td>985</td>\n",
       "      <td>995</td>\n",
       "      <td>1005</td>\n",
       "      <td>1015</td>\n",
       "    </tr>\n",
       "  </tbody>\n",
       "</table>\n",
       "</div>"
      ],
      "text/plain": [
       "        Lagos  ABuja  Kaduna  Bauchi  Benue\n",
       "1999Q4     15     18      21      24     27\n",
       "2000Q1     15     18      21      24     27\n",
       "2000Q2     15     18      21      24     27\n",
       "2000Q3     15     18      21      24     27\n",
       "2000Q4    510    522     534     546    558\n",
       "2001Q1    510    522     534     546    558\n",
       "2001Q2    510    522     534     546    558\n",
       "2001Q3    510    522     534     546    558\n",
       "2001Q4    975    985     995    1005   1015\n",
       "2002Q1    975    985     995    1005   1015\n",
       "2002Q2    975    985     995    1005   1015\n",
       "2002Q3    975    985     995    1005   1015\n",
       "2002Q4    975    985     995    1005   1015"
      ]
     },
     "execution_count": 682,
     "metadata": {},
     "output_type": "execute_result"
    }
   ],
   "source": [
    "df3.resample(\"Q-APR\").ffill()"
   ]
  },
  {
   "cell_type": "code",
   "execution_count": 683,
   "metadata": {},
   "outputs": [],
   "source": [
    "# Note in DownSampling, the target frequency must be a superperiod of the source frequency\n",
    "# while in up Sampling, the target frequency must be a super period of the source frequency"
   ]
  },
  {
   "cell_type": "markdown",
   "metadata": {},
   "source": [
    "# Moving WIth Window Function"
   ]
  },
  {
   "cell_type": "code",
   "execution_count": 689,
   "metadata": {},
   "outputs": [],
   "source": [
    "read = pd.read_csv(\"C:/Users/admin/Desktop/Fresh Python/pydata-book-master_ch09_stock_px.csv\", parse_dates = True, index_col = 0 )"
   ]
  },
  {
   "cell_type": "code",
   "execution_count": 690,
   "metadata": {},
   "outputs": [
    {
     "data": {
      "text/html": [
       "<div>\n",
       "<style scoped>\n",
       "    .dataframe tbody tr th:only-of-type {\n",
       "        vertical-align: middle;\n",
       "    }\n",
       "\n",
       "    .dataframe tbody tr th {\n",
       "        vertical-align: top;\n",
       "    }\n",
       "\n",
       "    .dataframe thead th {\n",
       "        text-align: right;\n",
       "    }\n",
       "</style>\n",
       "<table border=\"1\" class=\"dataframe\">\n",
       "  <thead>\n",
       "    <tr style=\"text-align: right;\">\n",
       "      <th></th>\n",
       "      <th>AAPL</th>\n",
       "      <th>MSFT</th>\n",
       "      <th>XOM</th>\n",
       "      <th>SPX</th>\n",
       "    </tr>\n",
       "  </thead>\n",
       "  <tbody>\n",
       "    <tr>\n",
       "      <th>2003-01-02</th>\n",
       "      <td>7.40</td>\n",
       "      <td>21.11</td>\n",
       "      <td>29.22</td>\n",
       "      <td>909.03</td>\n",
       "    </tr>\n",
       "    <tr>\n",
       "      <th>2003-01-03</th>\n",
       "      <td>7.45</td>\n",
       "      <td>21.14</td>\n",
       "      <td>29.24</td>\n",
       "      <td>908.59</td>\n",
       "    </tr>\n",
       "    <tr>\n",
       "      <th>2003-01-06</th>\n",
       "      <td>7.45</td>\n",
       "      <td>21.52</td>\n",
       "      <td>29.96</td>\n",
       "      <td>929.01</td>\n",
       "    </tr>\n",
       "    <tr>\n",
       "      <th>2003-01-07</th>\n",
       "      <td>7.43</td>\n",
       "      <td>21.93</td>\n",
       "      <td>28.95</td>\n",
       "      <td>922.93</td>\n",
       "    </tr>\n",
       "    <tr>\n",
       "      <th>2003-01-08</th>\n",
       "      <td>7.28</td>\n",
       "      <td>21.31</td>\n",
       "      <td>28.83</td>\n",
       "      <td>909.93</td>\n",
       "    </tr>\n",
       "    <tr>\n",
       "      <th>2003-01-09</th>\n",
       "      <td>7.34</td>\n",
       "      <td>21.93</td>\n",
       "      <td>29.44</td>\n",
       "      <td>927.57</td>\n",
       "    </tr>\n",
       "    <tr>\n",
       "      <th>2003-01-10</th>\n",
       "      <td>7.36</td>\n",
       "      <td>21.97</td>\n",
       "      <td>29.03</td>\n",
       "      <td>927.57</td>\n",
       "    </tr>\n",
       "    <tr>\n",
       "      <th>2003-01-13</th>\n",
       "      <td>7.32</td>\n",
       "      <td>22.16</td>\n",
       "      <td>28.91</td>\n",
       "      <td>926.26</td>\n",
       "    </tr>\n",
       "    <tr>\n",
       "      <th>2003-01-14</th>\n",
       "      <td>7.30</td>\n",
       "      <td>22.39</td>\n",
       "      <td>29.17</td>\n",
       "      <td>931.66</td>\n",
       "    </tr>\n",
       "    <tr>\n",
       "      <th>2003-01-15</th>\n",
       "      <td>7.22</td>\n",
       "      <td>22.11</td>\n",
       "      <td>28.77</td>\n",
       "      <td>918.22</td>\n",
       "    </tr>\n",
       "  </tbody>\n",
       "</table>\n",
       "</div>"
      ],
      "text/plain": [
       "            AAPL   MSFT    XOM     SPX\n",
       "2003-01-02  7.40  21.11  29.22  909.03\n",
       "2003-01-03  7.45  21.14  29.24  908.59\n",
       "2003-01-06  7.45  21.52  29.96  929.01\n",
       "2003-01-07  7.43  21.93  28.95  922.93\n",
       "2003-01-08  7.28  21.31  28.83  909.93\n",
       "2003-01-09  7.34  21.93  29.44  927.57\n",
       "2003-01-10  7.36  21.97  29.03  927.57\n",
       "2003-01-13  7.32  22.16  28.91  926.26\n",
       "2003-01-14  7.30  22.39  29.17  931.66\n",
       "2003-01-15  7.22  22.11  28.77  918.22"
      ]
     },
     "execution_count": 690,
     "metadata": {},
     "output_type": "execute_result"
    }
   ],
   "source": [
    "read.head(10)\n"
   ]
  },
  {
   "cell_type": "code",
   "execution_count": 691,
   "metadata": {},
   "outputs": [
    {
     "data": {
      "text/html": [
       "<div>\n",
       "<style scoped>\n",
       "    .dataframe tbody tr th:only-of-type {\n",
       "        vertical-align: middle;\n",
       "    }\n",
       "\n",
       "    .dataframe tbody tr th {\n",
       "        vertical-align: top;\n",
       "    }\n",
       "\n",
       "    .dataframe thead th {\n",
       "        text-align: right;\n",
       "    }\n",
       "</style>\n",
       "<table border=\"1\" class=\"dataframe\">\n",
       "  <thead>\n",
       "    <tr style=\"text-align: right;\">\n",
       "      <th></th>\n",
       "      <th>AAPL</th>\n",
       "      <th>MSFT</th>\n",
       "      <th>XOM</th>\n",
       "    </tr>\n",
       "  </thead>\n",
       "  <tbody>\n",
       "    <tr>\n",
       "      <th>2003-01-02</th>\n",
       "      <td>7.40</td>\n",
       "      <td>21.11</td>\n",
       "      <td>29.22</td>\n",
       "    </tr>\n",
       "    <tr>\n",
       "      <th>2003-01-03</th>\n",
       "      <td>7.45</td>\n",
       "      <td>21.14</td>\n",
       "      <td>29.24</td>\n",
       "    </tr>\n",
       "    <tr>\n",
       "      <th>2003-01-06</th>\n",
       "      <td>7.45</td>\n",
       "      <td>21.52</td>\n",
       "      <td>29.96</td>\n",
       "    </tr>\n",
       "    <tr>\n",
       "      <th>2003-01-07</th>\n",
       "      <td>7.43</td>\n",
       "      <td>21.93</td>\n",
       "      <td>28.95</td>\n",
       "    </tr>\n",
       "    <tr>\n",
       "      <th>2003-01-08</th>\n",
       "      <td>7.28</td>\n",
       "      <td>21.31</td>\n",
       "      <td>28.83</td>\n",
       "    </tr>\n",
       "    <tr>\n",
       "      <th>...</th>\n",
       "      <td>...</td>\n",
       "      <td>...</td>\n",
       "      <td>...</td>\n",
       "    </tr>\n",
       "    <tr>\n",
       "      <th>2011-10-10</th>\n",
       "      <td>388.81</td>\n",
       "      <td>26.94</td>\n",
       "      <td>76.28</td>\n",
       "    </tr>\n",
       "    <tr>\n",
       "      <th>2011-10-11</th>\n",
       "      <td>400.29</td>\n",
       "      <td>27.00</td>\n",
       "      <td>76.27</td>\n",
       "    </tr>\n",
       "    <tr>\n",
       "      <th>2011-10-12</th>\n",
       "      <td>402.19</td>\n",
       "      <td>26.96</td>\n",
       "      <td>77.16</td>\n",
       "    </tr>\n",
       "    <tr>\n",
       "      <th>2011-10-13</th>\n",
       "      <td>408.43</td>\n",
       "      <td>27.18</td>\n",
       "      <td>76.37</td>\n",
       "    </tr>\n",
       "    <tr>\n",
       "      <th>2011-10-14</th>\n",
       "      <td>422.00</td>\n",
       "      <td>27.27</td>\n",
       "      <td>78.11</td>\n",
       "    </tr>\n",
       "  </tbody>\n",
       "</table>\n",
       "<p>2214 rows × 3 columns</p>\n",
       "</div>"
      ],
      "text/plain": [
       "              AAPL   MSFT    XOM\n",
       "2003-01-02    7.40  21.11  29.22\n",
       "2003-01-03    7.45  21.14  29.24\n",
       "2003-01-06    7.45  21.52  29.96\n",
       "2003-01-07    7.43  21.93  28.95\n",
       "2003-01-08    7.28  21.31  28.83\n",
       "...            ...    ...    ...\n",
       "2011-10-10  388.81  26.94  76.28\n",
       "2011-10-11  400.29  27.00  76.27\n",
       "2011-10-12  402.19  26.96  77.16\n",
       "2011-10-13  408.43  27.18  76.37\n",
       "2011-10-14  422.00  27.27  78.11\n",
       "\n",
       "[2214 rows x 3 columns]"
      ]
     },
     "execution_count": 691,
     "metadata": {},
     "output_type": "execute_result"
    }
   ],
   "source": [
    "Close_value = read.iloc[:,[0,1,2]]\n",
    "Close_value"
   ]
  },
  {
   "cell_type": "code",
   "execution_count": 692,
   "metadata": {},
   "outputs": [
    {
     "data": {
      "text/html": [
       "<div>\n",
       "<style scoped>\n",
       "    .dataframe tbody tr th:only-of-type {\n",
       "        vertical-align: middle;\n",
       "    }\n",
       "\n",
       "    .dataframe tbody tr th {\n",
       "        vertical-align: top;\n",
       "    }\n",
       "\n",
       "    .dataframe thead th {\n",
       "        text-align: right;\n",
       "    }\n",
       "</style>\n",
       "<table border=\"1\" class=\"dataframe\">\n",
       "  <thead>\n",
       "    <tr style=\"text-align: right;\">\n",
       "      <th></th>\n",
       "      <th>AAPL</th>\n",
       "      <th>MSFT</th>\n",
       "      <th>XOM</th>\n",
       "    </tr>\n",
       "  </thead>\n",
       "  <tbody>\n",
       "    <tr>\n",
       "      <th>2003-01-02</th>\n",
       "      <td>7.40</td>\n",
       "      <td>21.11</td>\n",
       "      <td>29.22</td>\n",
       "    </tr>\n",
       "    <tr>\n",
       "      <th>2003-01-03</th>\n",
       "      <td>7.45</td>\n",
       "      <td>21.14</td>\n",
       "      <td>29.24</td>\n",
       "    </tr>\n",
       "    <tr>\n",
       "      <th>2003-01-06</th>\n",
       "      <td>7.45</td>\n",
       "      <td>21.52</td>\n",
       "      <td>29.96</td>\n",
       "    </tr>\n",
       "    <tr>\n",
       "      <th>2003-01-07</th>\n",
       "      <td>7.43</td>\n",
       "      <td>21.93</td>\n",
       "      <td>28.95</td>\n",
       "    </tr>\n",
       "    <tr>\n",
       "      <th>2003-01-08</th>\n",
       "      <td>7.28</td>\n",
       "      <td>21.31</td>\n",
       "      <td>28.83</td>\n",
       "    </tr>\n",
       "    <tr>\n",
       "      <th>...</th>\n",
       "      <td>...</td>\n",
       "      <td>...</td>\n",
       "      <td>...</td>\n",
       "    </tr>\n",
       "    <tr>\n",
       "      <th>2011-10-10</th>\n",
       "      <td>388.81</td>\n",
       "      <td>26.94</td>\n",
       "      <td>76.28</td>\n",
       "    </tr>\n",
       "    <tr>\n",
       "      <th>2011-10-11</th>\n",
       "      <td>400.29</td>\n",
       "      <td>27.00</td>\n",
       "      <td>76.27</td>\n",
       "    </tr>\n",
       "    <tr>\n",
       "      <th>2011-10-12</th>\n",
       "      <td>402.19</td>\n",
       "      <td>26.96</td>\n",
       "      <td>77.16</td>\n",
       "    </tr>\n",
       "    <tr>\n",
       "      <th>2011-10-13</th>\n",
       "      <td>408.43</td>\n",
       "      <td>27.18</td>\n",
       "      <td>76.37</td>\n",
       "    </tr>\n",
       "    <tr>\n",
       "      <th>2011-10-14</th>\n",
       "      <td>422.00</td>\n",
       "      <td>27.27</td>\n",
       "      <td>78.11</td>\n",
       "    </tr>\n",
       "  </tbody>\n",
       "</table>\n",
       "<p>2292 rows × 3 columns</p>\n",
       "</div>"
      ],
      "text/plain": [
       "              AAPL   MSFT    XOM\n",
       "2003-01-02    7.40  21.11  29.22\n",
       "2003-01-03    7.45  21.14  29.24\n",
       "2003-01-06    7.45  21.52  29.96\n",
       "2003-01-07    7.43  21.93  28.95\n",
       "2003-01-08    7.28  21.31  28.83\n",
       "...            ...    ...    ...\n",
       "2011-10-10  388.81  26.94  76.28\n",
       "2011-10-11  400.29  27.00  76.27\n",
       "2011-10-12  402.19  26.96  77.16\n",
       "2011-10-13  408.43  27.18  76.37\n",
       "2011-10-14  422.00  27.27  78.11\n",
       "\n",
       "[2292 rows x 3 columns]"
      ]
     },
     "execution_count": 692,
     "metadata": {},
     "output_type": "execute_result"
    }
   ],
   "source": [
    "group_value = Close_value.resample(\"B\").ffill()\n",
    "group_value"
   ]
  },
  {
   "cell_type": "code",
   "execution_count": 693,
   "metadata": {},
   "outputs": [],
   "source": [
    "# applying the rolling() function with a partcular window day(range) number to get the moving average or other\n",
    "# descriptive anaysis like variance and std"
   ]
  },
  {
   "cell_type": "code",
   "execution_count": 694,
   "metadata": {},
   "outputs": [
    {
     "data": {
      "text/plain": [
       "<matplotlib.axes._subplots.AxesSubplot at 0x1ad81e70448>"
      ]
     },
     "execution_count": 694,
     "metadata": {},
     "output_type": "execute_result"
    },
    {
     "data": {
      "image/png": "[encoded data removed]",
      "text/plain": [
       "<Figure size 432x288 with 1 Axes>"
      ]
     },
     "metadata": {
      "needs_background": "light"
     },
     "output_type": "display_data"
    }
   ],
   "source": [
    "group_value[\"AAPL\"].plot()\n",
    "group_value[\"AAPL\"].rolling(250).mean().plot() #  this gives the moving average of that particular product(columns over a spread of 250 days for each year)\n"
   ]
  },
  {
   "cell_type": "code",
   "execution_count": 695,
   "metadata": {},
   "outputs": [
    {
     "data": {
      "text/plain": [
       "2003-01-02          NaN\n",
       "2003-01-03          NaN\n",
       "2003-01-06          NaN\n",
       "2003-01-07          NaN\n",
       "2003-01-08          NaN\n",
       "                ...    \n",
       "2011-10-10    25.430104\n",
       "2011-10-11    25.523131\n",
       "2011-10-12    25.624851\n",
       "2011-10-13    25.758644\n",
       "2011-10-14    25.993449\n",
       "Freq: B, Name: AAPL, Length: 2292, dtype: float64"
      ]
     },
     "execution_count": 695,
     "metadata": {},
     "output_type": "execute_result"
    }
   ],
   "source": [
    "App_std = group_value[\"AAPL\"].rolling(250, min_periods = 10).std()\n",
    "App_std"
   ]
  },
  {
   "cell_type": "code",
   "execution_count": 696,
   "metadata": {},
   "outputs": [
    {
     "data": {
      "text/plain": [
       "<matplotlib.axes._subplots.AxesSubplot at 0x1ad81092f48>"
      ]
     },
     "execution_count": 696,
     "metadata": {},
     "output_type": "execute_result"
    },
    {
     "data": {
      "image/png": "[encoded data removed]",
      "text/plain": [
       "<Figure size 432x288 with 1 Axes>"
      ]
     },
     "metadata": {
      "needs_background": "light"
     },
     "output_type": "display_data"
    }
   ],
   "source": [
    "App_std.plot()"
   ]
  },
  {
   "cell_type": "code",
   "execution_count": 697,
   "metadata": {},
   "outputs": [
    {
     "data": {
      "text/plain": [
       "2003-01-02      21.11\n",
       "2003-01-03      42.25\n",
       "2003-01-06      63.77\n",
       "2003-01-07      85.70\n",
       "2003-01-08     107.01\n",
       "               ...   \n",
       "2011-10-10    1844.73\n",
       "2011-10-11    1871.73\n",
       "2011-10-12    1872.83\n",
       "2011-10-13    1874.14\n",
       "2011-10-14    1875.25\n",
       "Freq: B, Name: MSFT, Length: 2292, dtype: float64"
      ]
     },
     "execution_count": 697,
     "metadata": {},
     "output_type": "execute_result"
    }
   ],
   "source": [
    "group_value[\"MSFT\"].rolling(\"100D\").sum()"
   ]
  },
  {
   "cell_type": "code",
   "execution_count": 698,
   "metadata": {},
   "outputs": [
    {
     "data": {
      "text/plain": [
       "<matplotlib.axes._subplots.AxesSubplot at 0x1ad810bab48>"
      ]
     },
     "execution_count": 698,
     "metadata": {},
     "output_type": "execute_result"
    },
    {
     "data": {
      "image/png": "[encoded data removed]",
      "text/plain": [
       "<Figure size 432x288 with 1 Axes>"
      ]
     },
     "metadata": {
      "needs_background": "light"
     },
     "output_type": "display_data"
    }
   ],
   "source": [
    "#  we can pass mutiple number of days as shown below\n",
    "\n",
    "group_value.rolling(\"50D\").mean().plot()  # Here we are passing 50 days to the rolling function"
   ]
  },
  {
   "cell_type": "code",
   "execution_count": 699,
   "metadata": {},
   "outputs": [],
   "source": [
    "# we can use the expanding() method instead to get the overall summation of the passed moving aggregation over thae data passed\n"
   ]
  },
  {
   "cell_type": "code",
   "execution_count": 700,
   "metadata": {},
   "outputs": [
    {
     "data": {
      "text/html": [
       "<div>\n",
       "<style scoped>\n",
       "    .dataframe tbody tr th:only-of-type {\n",
       "        vertical-align: middle;\n",
       "    }\n",
       "\n",
       "    .dataframe tbody tr th {\n",
       "        vertical-align: top;\n",
       "    }\n",
       "\n",
       "    .dataframe thead th {\n",
       "        text-align: right;\n",
       "    }\n",
       "</style>\n",
       "<table border=\"1\" class=\"dataframe\">\n",
       "  <thead>\n",
       "    <tr style=\"text-align: right;\">\n",
       "      <th></th>\n",
       "      <th>AAPL</th>\n",
       "      <th>MSFT</th>\n",
       "      <th>XOM</th>\n",
       "    </tr>\n",
       "  </thead>\n",
       "  <tbody>\n",
       "    <tr>\n",
       "      <th>2003-01-02</th>\n",
       "      <td>7.400000</td>\n",
       "      <td>21.110000</td>\n",
       "      <td>29.220000</td>\n",
       "    </tr>\n",
       "    <tr>\n",
       "      <th>2003-01-03</th>\n",
       "      <td>14.825000</td>\n",
       "      <td>42.235000</td>\n",
       "      <td>58.450000</td>\n",
       "    </tr>\n",
       "    <tr>\n",
       "      <th>2003-01-06</th>\n",
       "      <td>22.258333</td>\n",
       "      <td>63.491667</td>\n",
       "      <td>87.923333</td>\n",
       "    </tr>\n",
       "    <tr>\n",
       "      <th>2003-01-07</th>\n",
       "      <td>29.690833</td>\n",
       "      <td>84.916667</td>\n",
       "      <td>117.265833</td>\n",
       "    </tr>\n",
       "    <tr>\n",
       "      <th>2003-01-08</th>\n",
       "      <td>37.092833</td>\n",
       "      <td>106.318667</td>\n",
       "      <td>146.505833</td>\n",
       "    </tr>\n",
       "    <tr>\n",
       "      <th>...</th>\n",
       "      <td>...</td>\n",
       "      <td>...</td>\n",
       "      <td>...</td>\n",
       "    </tr>\n",
       "    <tr>\n",
       "      <th>2011-10-10</th>\n",
       "      <td>283168.960703</td>\n",
       "      <td>54762.415606</td>\n",
       "      <td>135931.619275</td>\n",
       "    </tr>\n",
       "    <tr>\n",
       "      <th>2011-10-11</th>\n",
       "      <td>283557.465703</td>\n",
       "      <td>54788.089891</td>\n",
       "      <td>136004.454275</td>\n",
       "    </tr>\n",
       "    <tr>\n",
       "      <th>2011-10-12</th>\n",
       "      <td>283945.997132</td>\n",
       "      <td>54813.899891</td>\n",
       "      <td>136077.854990</td>\n",
       "    </tr>\n",
       "    <tr>\n",
       "      <th>2011-10-13</th>\n",
       "      <td>284334.823560</td>\n",
       "      <td>54839.861320</td>\n",
       "      <td>136151.759990</td>\n",
       "    </tr>\n",
       "    <tr>\n",
       "      <th>2011-10-14</th>\n",
       "      <td>284725.861560</td>\n",
       "      <td>54865.909987</td>\n",
       "      <td>136225.945323</td>\n",
       "    </tr>\n",
       "  </tbody>\n",
       "</table>\n",
       "<p>2292 rows × 3 columns</p>\n",
       "</div>"
      ],
      "text/plain": [
       "                     AAPL          MSFT            XOM\n",
       "2003-01-02       7.400000     21.110000      29.220000\n",
       "2003-01-03      14.825000     42.235000      58.450000\n",
       "2003-01-06      22.258333     63.491667      87.923333\n",
       "2003-01-07      29.690833     84.916667     117.265833\n",
       "2003-01-08      37.092833    106.318667     146.505833\n",
       "...                   ...           ...            ...\n",
       "2011-10-10  283168.960703  54762.415606  135931.619275\n",
       "2011-10-11  283557.465703  54788.089891  136004.454275\n",
       "2011-10-12  283945.997132  54813.899891  136077.854990\n",
       "2011-10-13  284334.823560  54839.861320  136151.759990\n",
       "2011-10-14  284725.861560  54865.909987  136225.945323\n",
       "\n",
       "[2292 rows x 3 columns]"
      ]
     },
     "execution_count": 700,
     "metadata": {},
     "output_type": "execute_result"
    }
   ],
   "source": [
    "group_value.rolling(\"20D\").mean().expanding().sum()  #  calling expansion on all the dataFrame 50d mean aggreation"
   ]
  },
  {
   "cell_type": "code",
   "execution_count": 701,
   "metadata": {},
   "outputs": [
    {
     "data": {
      "text/plain": [
       "<matplotlib.axes._subplots.AxesSubplot at 0x1ad8384e388>"
      ]
     },
     "execution_count": 701,
     "metadata": {},
     "output_type": "execute_result"
    },
    {
     "data": {
      "image/png": "[encoded data removed]",
      "text/plain": [
       "<Figure size 432x288 with 1 Axes>"
      ]
     },
     "metadata": {
      "needs_background": "light"
     },
     "output_type": "display_data"
    }
   ],
   "source": [
    "group_value.rolling(200).mean().plot()  # applying rolling to all dataframe data"
   ]
  },
  {
   "cell_type": "code",
   "execution_count": null,
   "metadata": {},
   "outputs": [],
   "source": []
  },
  {
   "cell_type": "markdown",
   "metadata": {},
   "source": [
    "# Exponential Weighted Function"
   ]
  },
  {
   "cell_type": "code",
   "execution_count": 702,
   "metadata": {},
   "outputs": [],
   "source": [
    "# we can pass the exponential weight moving average to get a comparison of the change in the data using what is call\n",
    "# \"span\" period"
   ]
  },
  {
   "cell_type": "code",
   "execution_count": 703,
   "metadata": {},
   "outputs": [
    {
     "data": {
      "text/plain": [
       "2006-01-02     71.89\n",
       "2006-01-03     74.75\n",
       "2006-01-04     74.97\n",
       "2006-01-05     74.38\n",
       "2006-01-06     76.30\n",
       "               ...  \n",
       "2007-12-25    198.80\n",
       "2007-12-26    198.95\n",
       "2007-12-27    198.57\n",
       "2007-12-28    199.83\n",
       "2007-12-31    198.08\n",
       "Freq: B, Name: AAPL, Length: 521, dtype: float64"
      ]
     },
     "execution_count": 703,
     "metadata": {},
     "output_type": "execute_result"
    }
   ],
   "source": [
    "Apple = group_value[\"AAPL\"][\"2006\":\"2007\"]\n",
    "Apple"
   ]
  },
  {
   "cell_type": "code",
   "execution_count": 704,
   "metadata": {},
   "outputs": [
    {
     "data": {
      "text/plain": [
       "2006-01-02         NaN\n",
       "2006-01-03         NaN\n",
       "2006-01-04         NaN\n",
       "2006-01-05         NaN\n",
       "2006-01-06         NaN\n",
       "                ...   \n",
       "2007-12-25    180.8478\n",
       "2007-12-26    181.3718\n",
       "2007-12-27    181.8732\n",
       "2007-12-28    182.4614\n",
       "2007-12-31    182.9358\n",
       "Freq: B, Name: AAPL, Length: 521, dtype: float64"
      ]
     },
     "execution_count": 704,
     "metadata": {},
     "output_type": "execute_result"
    }
   ],
   "source": [
    "Apple_rolling = Apple.rolling(50, min_periods = 20).mean()\n",
    "Apple_rolling"
   ]
  },
  {
   "cell_type": "code",
   "execution_count": 705,
   "metadata": {},
   "outputs": [
    {
     "data": {
      "text/plain": [
       "2006-01-02     71.890000\n",
       "2006-01-03     73.367667\n",
       "2006-01-04     73.937767\n",
       "2006-01-05     74.059619\n",
       "2006-01-06     74.569360\n",
       "                 ...    \n",
       "2007-12-25    184.441771\n",
       "2007-12-26    185.377786\n",
       "2007-12-27    186.228897\n",
       "2007-12-28    187.106387\n",
       "2007-12-31    187.814362\n",
       "Freq: B, Name: AAPL, Length: 521, dtype: float64"
      ]
     },
     "execution_count": 705,
     "metadata": {},
     "output_type": "execute_result"
    }
   ],
   "source": [
    "Apple_ewm = Apple.ewm(span =30).mean()\n",
    "Apple_ewm"
   ]
  },
  {
   "cell_type": "code",
   "execution_count": 706,
   "metadata": {},
   "outputs": [],
   "source": [
    "import matplotlib.pyplot as plt"
   ]
  },
  {
   "cell_type": "code",
   "execution_count": 707,
   "metadata": {},
   "outputs": [
    {
     "data": {
      "text/plain": [
       "<matplotlib.legend.Legend at 0x1ad839da4c8>"
      ]
     },
     "execution_count": 707,
     "metadata": {},
     "output_type": "execute_result"
    },
    {
     "data": {
      "image/png": "[encoded data removed]",
      "text/plain": [
       "<Figure size 432x288 with 1 Axes>"
      ]
     },
     "metadata": {
      "needs_background": "light"
     },
     "output_type": "display_data"
    }
   ],
   "source": [
    "Apple_rolling.plot(label = \"Simple rolling MA\", color = \"b\", linestyle = \"solid\", marker = \"o\")\n",
    "Apple_ewm.plot(label = \"Exponential Moving Average\", color = \"red\", linestyle = \"--\", marker = \"+\")\n",
    "plt.legend()"
   ]
  },
  {
   "cell_type": "code",
   "execution_count": null,
   "metadata": {},
   "outputs": [],
   "source": []
  },
  {
   "cell_type": "markdown",
   "metadata": {},
   "source": [
    "# Binary Moving Window Function"
   ]
  },
  {
   "cell_type": "code",
   "execution_count": 708,
   "metadata": {},
   "outputs": [],
   "source": [
    "# suppose we wanna visualize the correlation of S&P MOving average with the percentage change in their index values in the \n",
    "# data"
   ]
  },
  {
   "cell_type": "code",
   "execution_count": 709,
   "metadata": {},
   "outputs": [
    {
     "data": {
      "text/plain": [
       "2003-01-02         NaN\n",
       "2003-01-03    0.001421\n",
       "2003-01-06    0.017975\n",
       "2003-01-07    0.019052\n",
       "2003-01-08   -0.028272\n",
       "                ...   \n",
       "2011-10-10    0.026286\n",
       "2011-10-11    0.002227\n",
       "2011-10-12   -0.001481\n",
       "2011-10-13    0.008160\n",
       "2011-10-14    0.003311\n",
       "Name: MSFT, Length: 2214, dtype: float64"
      ]
     },
     "execution_count": 709,
     "metadata": {},
     "output_type": "execute_result"
    }
   ],
   "source": [
    "# first we compute the percentent change in s&P columns\n",
    "MSFT_pct_change = Close_value[\"MSFT\"].pct_change()\n",
    "MSFT_pct_change"
   ]
  },
  {
   "cell_type": "code",
   "execution_count": 710,
   "metadata": {},
   "outputs": [
    {
     "data": {
      "text/html": [
       "<div>\n",
       "<style scoped>\n",
       "    .dataframe tbody tr th:only-of-type {\n",
       "        vertical-align: middle;\n",
       "    }\n",
       "\n",
       "    .dataframe tbody tr th {\n",
       "        vertical-align: top;\n",
       "    }\n",
       "\n",
       "    .dataframe thead th {\n",
       "        text-align: right;\n",
       "    }\n",
       "</style>\n",
       "<table border=\"1\" class=\"dataframe\">\n",
       "  <thead>\n",
       "    <tr style=\"text-align: right;\">\n",
       "      <th></th>\n",
       "      <th>AAPL</th>\n",
       "      <th>MSFT</th>\n",
       "      <th>XOM</th>\n",
       "    </tr>\n",
       "  </thead>\n",
       "  <tbody>\n",
       "    <tr>\n",
       "      <th>2003-01-02</th>\n",
       "      <td>NaN</td>\n",
       "      <td>NaN</td>\n",
       "      <td>NaN</td>\n",
       "    </tr>\n",
       "    <tr>\n",
       "      <th>2003-01-03</th>\n",
       "      <td>0.006757</td>\n",
       "      <td>0.001421</td>\n",
       "      <td>0.000684</td>\n",
       "    </tr>\n",
       "    <tr>\n",
       "      <th>2003-01-06</th>\n",
       "      <td>0.000000</td>\n",
       "      <td>0.017975</td>\n",
       "      <td>0.024624</td>\n",
       "    </tr>\n",
       "    <tr>\n",
       "      <th>2003-01-07</th>\n",
       "      <td>-0.002685</td>\n",
       "      <td>0.019052</td>\n",
       "      <td>-0.033712</td>\n",
       "    </tr>\n",
       "    <tr>\n",
       "      <th>2003-01-08</th>\n",
       "      <td>-0.020188</td>\n",
       "      <td>-0.028272</td>\n",
       "      <td>-0.004145</td>\n",
       "    </tr>\n",
       "    <tr>\n",
       "      <th>...</th>\n",
       "      <td>...</td>\n",
       "      <td>...</td>\n",
       "      <td>...</td>\n",
       "    </tr>\n",
       "    <tr>\n",
       "      <th>2011-10-10</th>\n",
       "      <td>0.051406</td>\n",
       "      <td>0.026286</td>\n",
       "      <td>0.036977</td>\n",
       "    </tr>\n",
       "    <tr>\n",
       "      <th>2011-10-11</th>\n",
       "      <td>0.029526</td>\n",
       "      <td>0.002227</td>\n",
       "      <td>-0.000131</td>\n",
       "    </tr>\n",
       "    <tr>\n",
       "      <th>2011-10-12</th>\n",
       "      <td>0.004747</td>\n",
       "      <td>-0.001481</td>\n",
       "      <td>0.011669</td>\n",
       "    </tr>\n",
       "    <tr>\n",
       "      <th>2011-10-13</th>\n",
       "      <td>0.015515</td>\n",
       "      <td>0.008160</td>\n",
       "      <td>-0.010238</td>\n",
       "    </tr>\n",
       "    <tr>\n",
       "      <th>2011-10-14</th>\n",
       "      <td>0.033225</td>\n",
       "      <td>0.003311</td>\n",
       "      <td>0.022784</td>\n",
       "    </tr>\n",
       "  </tbody>\n",
       "</table>\n",
       "<p>2214 rows × 3 columns</p>\n",
       "</div>"
      ],
      "text/plain": [
       "                AAPL      MSFT       XOM\n",
       "2003-01-02       NaN       NaN       NaN\n",
       "2003-01-03  0.006757  0.001421  0.000684\n",
       "2003-01-06  0.000000  0.017975  0.024624\n",
       "2003-01-07 -0.002685  0.019052 -0.033712\n",
       "2003-01-08 -0.020188 -0.028272 -0.004145\n",
       "...              ...       ...       ...\n",
       "2011-10-10  0.051406  0.026286  0.036977\n",
       "2011-10-11  0.029526  0.002227 -0.000131\n",
       "2011-10-12  0.004747 -0.001481  0.011669\n",
       "2011-10-13  0.015515  0.008160 -0.010238\n",
       "2011-10-14  0.033225  0.003311  0.022784\n",
       "\n",
       "[2214 rows x 3 columns]"
      ]
     },
     "execution_count": 710,
     "metadata": {},
     "output_type": "execute_result"
    }
   ],
   "source": [
    "All_pct_change = Close_value.pct_change()\n",
    "All_pct_change"
   ]
  },
  {
   "cell_type": "code",
   "execution_count": 711,
   "metadata": {},
   "outputs": [
    {
     "data": {
      "text/plain": [
       "2003-01-02         NaN\n",
       "2003-01-03         NaN\n",
       "2003-01-06         NaN\n",
       "2003-01-07         NaN\n",
       "2003-01-08         NaN\n",
       "                ...   \n",
       "2011-10-10    0.048099\n",
       "2011-10-11    0.045668\n",
       "2011-10-12    0.043381\n",
       "2011-10-13    0.048569\n",
       "2011-10-14    0.048818\n",
       "Length: 2214, dtype: float64"
      ]
     },
     "execution_count": 711,
     "metadata": {},
     "output_type": "execute_result"
    }
   ],
   "source": [
    "#  we can now do correlation for any columns we want\n",
    "\n",
    "\n",
    "corr1 = Close_value[\"AAPL\"].rolling(200, min_periods = 50).corr(MSFT_pct_change)\n",
    "corr1"
   ]
  },
  {
   "cell_type": "code",
   "execution_count": 712,
   "metadata": {},
   "outputs": [
    {
     "data": {
      "text/plain": [
       "<matplotlib.axes._subplots.AxesSubplot at 0x1ad83a7ae08>"
      ]
     },
     "execution_count": 712,
     "metadata": {},
     "output_type": "execute_result"
    },
    {
     "data": {
      "image/png": "[encoded data removed]",
      "text/plain": [
       "<Figure size 432x288 with 1 Axes>"
      ]
     },
     "metadata": {
      "needs_background": "light"
     },
     "output_type": "display_data"
    }
   ],
   "source": [
    "corr1.plot()  # thats the correlation between the AAPL and S&P using the BInary Average Window function"
   ]
  },
  {
   "cell_type": "code",
   "execution_count": 713,
   "metadata": {},
   "outputs": [
    {
     "data": {
      "text/plain": [
       "<matplotlib.axes._subplots.AxesSubplot at 0x1ad81d8b688>"
      ]
     },
     "execution_count": 713,
     "metadata": {},
     "output_type": "execute_result"
    },
    {
     "data": {
      "image/png": "[encoded data removed]",
      "text/plain": [
       "<Figure size 432x288 with 1 Axes>"
      ]
     },
     "metadata": {
      "needs_background": "light"
     },
     "output_type": "display_data"
    }
   ],
   "source": [
    "All_pct_change.rolling(150, min_periods = 100).corr(MSFT_pct_change).plot()\n",
    "\n",
    "\n",
    "# Output correlation between MSFT"
   ]
  },
  {
   "cell_type": "code",
   "execution_count": 714,
   "metadata": {},
   "outputs": [
    {
     "data": {
      "text/html": [
       "<div>\n",
       "<style scoped>\n",
       "    .dataframe tbody tr th:only-of-type {\n",
       "        vertical-align: middle;\n",
       "    }\n",
       "\n",
       "    .dataframe tbody tr th {\n",
       "        vertical-align: top;\n",
       "    }\n",
       "\n",
       "    .dataframe thead th {\n",
       "        text-align: right;\n",
       "    }\n",
       "</style>\n",
       "<table border=\"1\" class=\"dataframe\">\n",
       "  <thead>\n",
       "    <tr style=\"text-align: right;\">\n",
       "      <th></th>\n",
       "      <th>AAPL</th>\n",
       "      <th>MSFT</th>\n",
       "      <th>XOM</th>\n",
       "    </tr>\n",
       "  </thead>\n",
       "  <tbody>\n",
       "    <tr>\n",
       "      <th>2003-01-02</th>\n",
       "      <td>7.40</td>\n",
       "      <td>21.11</td>\n",
       "      <td>29.22</td>\n",
       "    </tr>\n",
       "    <tr>\n",
       "      <th>2003-01-03</th>\n",
       "      <td>7.45</td>\n",
       "      <td>21.14</td>\n",
       "      <td>29.24</td>\n",
       "    </tr>\n",
       "    <tr>\n",
       "      <th>2003-01-06</th>\n",
       "      <td>7.45</td>\n",
       "      <td>21.52</td>\n",
       "      <td>29.96</td>\n",
       "    </tr>\n",
       "    <tr>\n",
       "      <th>2003-01-07</th>\n",
       "      <td>7.43</td>\n",
       "      <td>21.93</td>\n",
       "      <td>28.95</td>\n",
       "    </tr>\n",
       "    <tr>\n",
       "      <th>2003-01-08</th>\n",
       "      <td>7.28</td>\n",
       "      <td>21.31</td>\n",
       "      <td>28.83</td>\n",
       "    </tr>\n",
       "  </tbody>\n",
       "</table>\n",
       "</div>"
      ],
      "text/plain": [
       "            AAPL   MSFT    XOM\n",
       "2003-01-02  7.40  21.11  29.22\n",
       "2003-01-03  7.45  21.14  29.24\n",
       "2003-01-06  7.45  21.52  29.96\n",
       "2003-01-07  7.43  21.93  28.95\n",
       "2003-01-08  7.28  21.31  28.83"
      ]
     },
     "execution_count": 714,
     "metadata": {},
     "output_type": "execute_result"
    }
   ],
   "source": [
    "Close_value.head()"
   ]
  },
  {
   "cell_type": "code",
   "execution_count": 715,
   "metadata": {},
   "outputs": [
    {
     "data": {
      "text/html": [
       "<div>\n",
       "<style scoped>\n",
       "    .dataframe tbody tr th:only-of-type {\n",
       "        vertical-align: middle;\n",
       "    }\n",
       "\n",
       "    .dataframe tbody tr th {\n",
       "        vertical-align: top;\n",
       "    }\n",
       "\n",
       "    .dataframe thead th {\n",
       "        text-align: right;\n",
       "    }\n",
       "</style>\n",
       "<table border=\"1\" class=\"dataframe\">\n",
       "  <thead>\n",
       "    <tr style=\"text-align: right;\">\n",
       "      <th></th>\n",
       "      <th>AAPL</th>\n",
       "      <th>MSFT</th>\n",
       "      <th>XOM</th>\n",
       "    </tr>\n",
       "  </thead>\n",
       "  <tbody>\n",
       "    <tr>\n",
       "      <th>2003-01-02</th>\n",
       "      <td>7.40</td>\n",
       "      <td>21.11</td>\n",
       "      <td>29.22</td>\n",
       "    </tr>\n",
       "    <tr>\n",
       "      <th>2003-01-03</th>\n",
       "      <td>7.45</td>\n",
       "      <td>21.14</td>\n",
       "      <td>29.24</td>\n",
       "    </tr>\n",
       "    <tr>\n",
       "      <th>2003-01-06</th>\n",
       "      <td>7.45</td>\n",
       "      <td>21.52</td>\n",
       "      <td>29.96</td>\n",
       "    </tr>\n",
       "    <tr>\n",
       "      <th>2003-01-07</th>\n",
       "      <td>7.43</td>\n",
       "      <td>21.93</td>\n",
       "      <td>28.95</td>\n",
       "    </tr>\n",
       "    <tr>\n",
       "      <th>2003-01-08</th>\n",
       "      <td>7.28</td>\n",
       "      <td>21.31</td>\n",
       "      <td>28.83</td>\n",
       "    </tr>\n",
       "    <tr>\n",
       "      <th>...</th>\n",
       "      <td>...</td>\n",
       "      <td>...</td>\n",
       "      <td>...</td>\n",
       "    </tr>\n",
       "    <tr>\n",
       "      <th>2011-10-10</th>\n",
       "      <td>388.81</td>\n",
       "      <td>26.94</td>\n",
       "      <td>76.28</td>\n",
       "    </tr>\n",
       "    <tr>\n",
       "      <th>2011-10-11</th>\n",
       "      <td>400.29</td>\n",
       "      <td>27.00</td>\n",
       "      <td>76.27</td>\n",
       "    </tr>\n",
       "    <tr>\n",
       "      <th>2011-10-12</th>\n",
       "      <td>402.19</td>\n",
       "      <td>26.96</td>\n",
       "      <td>77.16</td>\n",
       "    </tr>\n",
       "    <tr>\n",
       "      <th>2011-10-13</th>\n",
       "      <td>408.43</td>\n",
       "      <td>27.18</td>\n",
       "      <td>76.37</td>\n",
       "    </tr>\n",
       "    <tr>\n",
       "      <th>2011-10-14</th>\n",
       "      <td>422.00</td>\n",
       "      <td>27.27</td>\n",
       "      <td>78.11</td>\n",
       "    </tr>\n",
       "  </tbody>\n",
       "</table>\n",
       "<p>2292 rows × 3 columns</p>\n",
       "</div>"
      ],
      "text/plain": [
       "              AAPL   MSFT    XOM\n",
       "2003-01-02    7.40  21.11  29.22\n",
       "2003-01-03    7.45  21.14  29.24\n",
       "2003-01-06    7.45  21.52  29.96\n",
       "2003-01-07    7.43  21.93  28.95\n",
       "2003-01-08    7.28  21.31  28.83\n",
       "...            ...    ...    ...\n",
       "2011-10-10  388.81  26.94  76.28\n",
       "2011-10-11  400.29  27.00  76.27\n",
       "2011-10-12  402.19  26.96  77.16\n",
       "2011-10-13  408.43  27.18  76.37\n",
       "2011-10-14  422.00  27.27  78.11\n",
       "\n",
       "[2292 rows x 3 columns]"
      ]
     },
     "execution_count": 715,
     "metadata": {},
     "output_type": "execute_result"
    }
   ],
   "source": [
    "Value = Close_value.resample(\"B\").ffill()\n",
    "Value"
   ]
  },
  {
   "cell_type": "code",
   "execution_count": 716,
   "metadata": {},
   "outputs": [],
   "source": [
    "Value = Value.pct_change()"
   ]
  },
  {
   "cell_type": "code",
   "execution_count": 717,
   "metadata": {},
   "outputs": [
    {
     "data": {
      "text/plain": [
       "2003-01-02         NaN\n",
       "2003-01-03    0.006757\n",
       "2003-01-06    0.000000\n",
       "2003-01-07   -0.002685\n",
       "2003-01-08   -0.020188\n",
       "                ...   \n",
       "2011-10-10    0.051406\n",
       "2011-10-11    0.029526\n",
       "2011-10-12    0.004747\n",
       "2011-10-13    0.015515\n",
       "2011-10-14    0.033225\n",
       "Name: AAPL, Length: 2214, dtype: float64"
      ]
     },
     "execution_count": 717,
     "metadata": {},
     "output_type": "execute_result"
    }
   ],
   "source": [
    "Apple_Stock = Close_value[\"AAPL\"].pct_change()\n",
    "Apple_Stock"
   ]
  },
  {
   "cell_type": "code",
   "execution_count": 718,
   "metadata": {},
   "outputs": [
    {
     "data": {
      "text/plain": [
       "2003-01-02         NaN\n",
       "2003-01-03         NaN\n",
       "2003-01-06         NaN\n",
       "2003-01-07         NaN\n",
       "2003-01-08         NaN\n",
       "                ...   \n",
       "2011-10-10    0.637318\n",
       "2011-10-11    0.633206\n",
       "2011-10-12    0.631330\n",
       "2011-10-13    0.643689\n",
       "2011-10-14    0.637365\n",
       "Length: 2292, dtype: float64"
      ]
     },
     "execution_count": 718,
     "metadata": {},
     "output_type": "execute_result"
    }
   ],
   "source": [
    "corr2 = Value[\"MSFT\"].rolling(125, min_periods = 100).corr(Apple_Stock)\n",
    "corr2"
   ]
  },
  {
   "cell_type": "code",
   "execution_count": 719,
   "metadata": {},
   "outputs": [
    {
     "data": {
      "text/plain": [
       "<matplotlib.axes._subplots.AxesSubplot at 0x1ad83bb0fc8>"
      ]
     },
     "execution_count": 719,
     "metadata": {},
     "output_type": "execute_result"
    },
    {
     "data": {
      "image/png": "[encoded data removed]",
      "text/plain": [
       "<Figure size 432x288 with 1 Axes>"
      ]
     },
     "metadata": {
      "needs_background": "light"
     },
     "output_type": "display_data"
    }
   ],
   "source": [
    "corr2.plot()  #  Correlation of apple stock with Sicrosoft"
   ]
  },
  {
   "cell_type": "code",
   "execution_count": 720,
   "metadata": {},
   "outputs": [
    {
     "data": {
      "text/html": [
       "<div>\n",
       "<style scoped>\n",
       "    .dataframe tbody tr th:only-of-type {\n",
       "        vertical-align: middle;\n",
       "    }\n",
       "\n",
       "    .dataframe tbody tr th {\n",
       "        vertical-align: top;\n",
       "    }\n",
       "\n",
       "    .dataframe thead th {\n",
       "        text-align: right;\n",
       "    }\n",
       "</style>\n",
       "<table border=\"1\" class=\"dataframe\">\n",
       "  <thead>\n",
       "    <tr style=\"text-align: right;\">\n",
       "      <th></th>\n",
       "      <th>AAPL</th>\n",
       "      <th>MSFT</th>\n",
       "      <th>XOM</th>\n",
       "    </tr>\n",
       "  </thead>\n",
       "  <tbody>\n",
       "    <tr>\n",
       "      <th>2003-01-02</th>\n",
       "      <td>NaN</td>\n",
       "      <td>NaN</td>\n",
       "      <td>NaN</td>\n",
       "    </tr>\n",
       "    <tr>\n",
       "      <th>2003-01-03</th>\n",
       "      <td>NaN</td>\n",
       "      <td>NaN</td>\n",
       "      <td>NaN</td>\n",
       "    </tr>\n",
       "    <tr>\n",
       "      <th>2003-01-06</th>\n",
       "      <td>NaN</td>\n",
       "      <td>NaN</td>\n",
       "      <td>NaN</td>\n",
       "    </tr>\n",
       "    <tr>\n",
       "      <th>2003-01-07</th>\n",
       "      <td>NaN</td>\n",
       "      <td>NaN</td>\n",
       "      <td>NaN</td>\n",
       "    </tr>\n",
       "    <tr>\n",
       "      <th>2003-01-08</th>\n",
       "      <td>NaN</td>\n",
       "      <td>NaN</td>\n",
       "      <td>NaN</td>\n",
       "    </tr>\n",
       "    <tr>\n",
       "      <th>...</th>\n",
       "      <td>...</td>\n",
       "      <td>...</td>\n",
       "      <td>...</td>\n",
       "    </tr>\n",
       "    <tr>\n",
       "      <th>2011-10-10</th>\n",
       "      <td>1.0</td>\n",
       "      <td>0.637318</td>\n",
       "      <td>0.647073</td>\n",
       "    </tr>\n",
       "    <tr>\n",
       "      <th>2011-10-11</th>\n",
       "      <td>1.0</td>\n",
       "      <td>0.633206</td>\n",
       "      <td>0.639788</td>\n",
       "    </tr>\n",
       "    <tr>\n",
       "      <th>2011-10-12</th>\n",
       "      <td>1.0</td>\n",
       "      <td>0.631330</td>\n",
       "      <td>0.637869</td>\n",
       "    </tr>\n",
       "    <tr>\n",
       "      <th>2011-10-13</th>\n",
       "      <td>1.0</td>\n",
       "      <td>0.643689</td>\n",
       "      <td>0.631607</td>\n",
       "    </tr>\n",
       "    <tr>\n",
       "      <th>2011-10-14</th>\n",
       "      <td>1.0</td>\n",
       "      <td>0.637365</td>\n",
       "      <td>0.638055</td>\n",
       "    </tr>\n",
       "  </tbody>\n",
       "</table>\n",
       "<p>2292 rows × 3 columns</p>\n",
       "</div>"
      ],
      "text/plain": [
       "            AAPL      MSFT       XOM\n",
       "2003-01-02   NaN       NaN       NaN\n",
       "2003-01-03   NaN       NaN       NaN\n",
       "2003-01-06   NaN       NaN       NaN\n",
       "2003-01-07   NaN       NaN       NaN\n",
       "2003-01-08   NaN       NaN       NaN\n",
       "...          ...       ...       ...\n",
       "2011-10-10   1.0  0.637318  0.647073\n",
       "2011-10-11   1.0  0.633206  0.639788\n",
       "2011-10-12   1.0  0.631330  0.637869\n",
       "2011-10-13   1.0  0.643689  0.631607\n",
       "2011-10-14   1.0  0.637365  0.638055\n",
       "\n",
       "[2292 rows x 3 columns]"
      ]
     },
     "execution_count": 720,
     "metadata": {},
     "output_type": "execute_result"
    }
   ],
   "source": [
    "corr3 = Value.rolling(125, min_periods = 100).corr(Apple_Stock)\n",
    "corr3"
   ]
  },
  {
   "cell_type": "code",
   "execution_count": 721,
   "metadata": {},
   "outputs": [
    {
     "data": {
      "text/plain": [
       "<matplotlib.axes._subplots.AxesSubplot at 0x1ad83ca26c8>"
      ]
     },
     "execution_count": 721,
     "metadata": {},
     "output_type": "execute_result"
    },
    {
     "data": {
      "image/png": "[encoded data removed]",
      "text/plain": [
       "<Figure size 432x288 with 1 Axes>"
      ]
     },
     "metadata": {
      "needs_background": "light"
     },
     "output_type": "display_data"
    }
   ],
   "source": [
    "corr3.plot()  #  correlation of other stock with Apple stock"
   ]
  },
  {
   "cell_type": "code",
   "execution_count": null,
   "metadata": {},
   "outputs": [],
   "source": []
  },
  {
   "cell_type": "markdown",
   "metadata": {},
   "source": [
    "# Using Define Moving Window Functiom"
   ]
  },
  {
   "cell_type": "code",
   "execution_count": 722,
   "metadata": {},
   "outputs": [],
   "source": [
    "# we can define a function to a roling function to get other data Analysis measure like quartile and percentile "
   ]
  },
  {
   "cell_type": "code",
   "execution_count": 723,
   "metadata": {},
   "outputs": [],
   "source": [
    "# lets us borrow the percentile method from Scipy"
   ]
  },
  {
   "cell_type": "code",
   "execution_count": 724,
   "metadata": {},
   "outputs": [],
   "source": [
    "from scipy.stats import percentileofscore"
   ]
  },
  {
   "cell_type": "code",
   "execution_count": 725,
   "metadata": {},
   "outputs": [
    {
     "data": {
      "text/plain": [
       "2003-01-02     NaN\n",
       "2003-01-03     NaN\n",
       "2003-01-06     NaN\n",
       "2003-01-07     NaN\n",
       "2003-01-08     NaN\n",
       "              ... \n",
       "2011-10-10    92.4\n",
       "2011-10-11    92.0\n",
       "2011-10-12    92.0\n",
       "2011-10-13    92.0\n",
       "2011-10-14    91.6\n",
       "Freq: B, Name: AAPL, Length: 2292, dtype: float64"
      ]
     },
     "execution_count": 725,
     "metadata": {},
     "output_type": "execute_result"
    }
   ],
   "source": [
    "Value[\"AAPL\"].rolling(250).apply(lambda Group: percentileofscore(Group, 0.02))"
   ]
  },
  {
   "cell_type": "code",
   "execution_count": 726,
   "metadata": {},
   "outputs": [
    {
     "data": {
      "text/plain": [
       "<matplotlib.axes._subplots.AxesSubplot at 0x1ad84b034c8>"
      ]
     },
     "execution_count": 726,
     "metadata": {},
     "output_type": "execute_result"
    },
    {
     "data": {
      "image/png": "[encoded data removed]",
      "text/plain": [
       "<Figure size 432x288 with 1 Axes>"
      ]
     },
     "metadata": {
      "needs_background": "light"
     },
     "output_type": "display_data"
    }
   ],
   "source": [
    "Value[\"AAPL\"].rolling(250).apply(lambda Group: percentileofscore(Group, 0.02)).plot()\n",
    "\n",
    "# 2 Percentile of All apple values at a rolling date of 250."
   ]
  },
  {
   "cell_type": "code",
   "execution_count": null,
   "metadata": {},
   "outputs": [],
   "source": []
  },
  {
   "cell_type": "code",
   "execution_count": 727,
   "metadata": {},
   "outputs": [
    {
     "data": {
      "text/html": [
       "<div>\n",
       "<style scoped>\n",
       "    .dataframe tbody tr th:only-of-type {\n",
       "        vertical-align: middle;\n",
       "    }\n",
       "\n",
       "    .dataframe tbody tr th {\n",
       "        vertical-align: top;\n",
       "    }\n",
       "\n",
       "    .dataframe thead th {\n",
       "        text-align: right;\n",
       "    }\n",
       "</style>\n",
       "<table border=\"1\" class=\"dataframe\">\n",
       "  <thead>\n",
       "    <tr style=\"text-align: right;\">\n",
       "      <th></th>\n",
       "      <th>cardio</th>\n",
       "      <th>variable</th>\n",
       "      <th>value</th>\n",
       "    </tr>\n",
       "  </thead>\n",
       "  <tbody>\n",
       "    <tr>\n",
       "      <th>0</th>\n",
       "      <td>0</td>\n",
       "      <td>Cholesterol</td>\n",
       "      <td>106</td>\n",
       "    </tr>\n",
       "    <tr>\n",
       "      <th>1</th>\n",
       "      <td>1</td>\n",
       "      <td>Overweight</td>\n",
       "      <td>106</td>\n",
       "    </tr>\n",
       "    <tr>\n",
       "      <th>2</th>\n",
       "      <td>0</td>\n",
       "      <td>Cholesterol</td>\n",
       "      <td>106</td>\n",
       "    </tr>\n",
       "    <tr>\n",
       "      <th>3</th>\n",
       "      <td>1</td>\n",
       "      <td>Overweight</td>\n",
       "      <td>106</td>\n",
       "    </tr>\n",
       "    <tr>\n",
       "      <th>4</th>\n",
       "      <td>0</td>\n",
       "      <td>Cholesterol</td>\n",
       "      <td>106</td>\n",
       "    </tr>\n",
       "    <tr>\n",
       "      <th>...</th>\n",
       "      <td>...</td>\n",
       "      <td>...</td>\n",
       "      <td>...</td>\n",
       "    </tr>\n",
       "    <tr>\n",
       "      <th>195</th>\n",
       "      <td>1</td>\n",
       "      <td>Overweight</td>\n",
       "      <td>106</td>\n",
       "    </tr>\n",
       "    <tr>\n",
       "      <th>196</th>\n",
       "      <td>0</td>\n",
       "      <td>Cholesterol</td>\n",
       "      <td>106</td>\n",
       "    </tr>\n",
       "    <tr>\n",
       "      <th>197</th>\n",
       "      <td>1</td>\n",
       "      <td>Overweight</td>\n",
       "      <td>106</td>\n",
       "    </tr>\n",
       "    <tr>\n",
       "      <th>198</th>\n",
       "      <td>0</td>\n",
       "      <td>Cholesterol</td>\n",
       "      <td>106</td>\n",
       "    </tr>\n",
       "    <tr>\n",
       "      <th>199</th>\n",
       "      <td>1</td>\n",
       "      <td>Overweight</td>\n",
       "      <td>106</td>\n",
       "    </tr>\n",
       "  </tbody>\n",
       "</table>\n",
       "<p>200 rows × 3 columns</p>\n",
       "</div>"
      ],
      "text/plain": [
       "     cardio     variable  value\n",
       "0         0  Cholesterol    106\n",
       "1         1   Overweight    106\n",
       "2         0  Cholesterol    106\n",
       "3         1   Overweight    106\n",
       "4         0  Cholesterol    106\n",
       "..      ...          ...    ...\n",
       "195       1   Overweight    106\n",
       "196       0  Cholesterol    106\n",
       "197       1   Overweight    106\n",
       "198       0  Cholesterol    106\n",
       "199       1   Overweight    106\n",
       "\n",
       "[200 rows x 3 columns]"
      ]
     },
     "execution_count": 727,
     "metadata": {},
     "output_type": "execute_result"
    }
   ],
   "source": [
    "data"
   ]
  },
  {
   "cell_type": "code",
   "execution_count": 745,
   "metadata": {},
   "outputs": [],
   "source": [
    "date = pd.DataFrame(np.arange(50), index = pd.date_range(\"1/1/2020\", freq = \"D\", periods = 50 ), columns = [\"Value\"])\n",
    "date.index.name = \"date\""
   ]
  },
  {
   "cell_type": "code",
   "execution_count": 749,
   "metadata": {},
   "outputs": [
    {
     "data": {
      "text/html": [
       "<div>\n",
       "<style scoped>\n",
       "    .dataframe tbody tr th:only-of-type {\n",
       "        vertical-align: middle;\n",
       "    }\n",
       "\n",
       "    .dataframe tbody tr th {\n",
       "        vertical-align: top;\n",
       "    }\n",
       "\n",
       "    .dataframe thead th {\n",
       "        text-align: right;\n",
       "    }\n",
       "</style>\n",
       "<table border=\"1\" class=\"dataframe\">\n",
       "  <thead>\n",
       "    <tr style=\"text-align: right;\">\n",
       "      <th></th>\n",
       "      <th>date</th>\n",
       "      <th>Value</th>\n",
       "    </tr>\n",
       "  </thead>\n",
       "  <tbody>\n",
       "    <tr>\n",
       "      <th>0</th>\n",
       "      <td>2020-01-01</td>\n",
       "      <td>0</td>\n",
       "    </tr>\n",
       "    <tr>\n",
       "      <th>1</th>\n",
       "      <td>2020-01-02</td>\n",
       "      <td>1</td>\n",
       "    </tr>\n",
       "    <tr>\n",
       "      <th>2</th>\n",
       "      <td>2020-01-03</td>\n",
       "      <td>2</td>\n",
       "    </tr>\n",
       "    <tr>\n",
       "      <th>3</th>\n",
       "      <td>2020-01-04</td>\n",
       "      <td>3</td>\n",
       "    </tr>\n",
       "    <tr>\n",
       "      <th>4</th>\n",
       "      <td>2020-01-05</td>\n",
       "      <td>4</td>\n",
       "    </tr>\n",
       "    <tr>\n",
       "      <th>5</th>\n",
       "      <td>2020-01-06</td>\n",
       "      <td>5</td>\n",
       "    </tr>\n",
       "    <tr>\n",
       "      <th>6</th>\n",
       "      <td>2020-01-07</td>\n",
       "      <td>6</td>\n",
       "    </tr>\n",
       "    <tr>\n",
       "      <th>7</th>\n",
       "      <td>2020-01-08</td>\n",
       "      <td>7</td>\n",
       "    </tr>\n",
       "    <tr>\n",
       "      <th>8</th>\n",
       "      <td>2020-01-09</td>\n",
       "      <td>8</td>\n",
       "    </tr>\n",
       "    <tr>\n",
       "      <th>9</th>\n",
       "      <td>2020-01-10</td>\n",
       "      <td>9</td>\n",
       "    </tr>\n",
       "    <tr>\n",
       "      <th>10</th>\n",
       "      <td>2020-01-11</td>\n",
       "      <td>10</td>\n",
       "    </tr>\n",
       "    <tr>\n",
       "      <th>11</th>\n",
       "      <td>2020-01-12</td>\n",
       "      <td>11</td>\n",
       "    </tr>\n",
       "    <tr>\n",
       "      <th>12</th>\n",
       "      <td>2020-01-13</td>\n",
       "      <td>12</td>\n",
       "    </tr>\n",
       "    <tr>\n",
       "      <th>13</th>\n",
       "      <td>2020-01-14</td>\n",
       "      <td>13</td>\n",
       "    </tr>\n",
       "    <tr>\n",
       "      <th>14</th>\n",
       "      <td>2020-01-15</td>\n",
       "      <td>14</td>\n",
       "    </tr>\n",
       "    <tr>\n",
       "      <th>15</th>\n",
       "      <td>2020-01-16</td>\n",
       "      <td>15</td>\n",
       "    </tr>\n",
       "    <tr>\n",
       "      <th>16</th>\n",
       "      <td>2020-01-17</td>\n",
       "      <td>16</td>\n",
       "    </tr>\n",
       "    <tr>\n",
       "      <th>17</th>\n",
       "      <td>2020-01-18</td>\n",
       "      <td>17</td>\n",
       "    </tr>\n",
       "    <tr>\n",
       "      <th>18</th>\n",
       "      <td>2020-01-19</td>\n",
       "      <td>18</td>\n",
       "    </tr>\n",
       "    <tr>\n",
       "      <th>19</th>\n",
       "      <td>2020-01-20</td>\n",
       "      <td>19</td>\n",
       "    </tr>\n",
       "    <tr>\n",
       "      <th>20</th>\n",
       "      <td>2020-01-21</td>\n",
       "      <td>20</td>\n",
       "    </tr>\n",
       "    <tr>\n",
       "      <th>21</th>\n",
       "      <td>2020-01-22</td>\n",
       "      <td>21</td>\n",
       "    </tr>\n",
       "    <tr>\n",
       "      <th>22</th>\n",
       "      <td>2020-01-23</td>\n",
       "      <td>22</td>\n",
       "    </tr>\n",
       "    <tr>\n",
       "      <th>23</th>\n",
       "      <td>2020-01-24</td>\n",
       "      <td>23</td>\n",
       "    </tr>\n",
       "    <tr>\n",
       "      <th>24</th>\n",
       "      <td>2020-01-25</td>\n",
       "      <td>24</td>\n",
       "    </tr>\n",
       "    <tr>\n",
       "      <th>25</th>\n",
       "      <td>2020-01-26</td>\n",
       "      <td>25</td>\n",
       "    </tr>\n",
       "    <tr>\n",
       "      <th>26</th>\n",
       "      <td>2020-01-27</td>\n",
       "      <td>26</td>\n",
       "    </tr>\n",
       "    <tr>\n",
       "      <th>27</th>\n",
       "      <td>2020-01-28</td>\n",
       "      <td>27</td>\n",
       "    </tr>\n",
       "    <tr>\n",
       "      <th>28</th>\n",
       "      <td>2020-01-29</td>\n",
       "      <td>28</td>\n",
       "    </tr>\n",
       "    <tr>\n",
       "      <th>29</th>\n",
       "      <td>2020-01-30</td>\n",
       "      <td>29</td>\n",
       "    </tr>\n",
       "    <tr>\n",
       "      <th>30</th>\n",
       "      <td>2020-01-31</td>\n",
       "      <td>30</td>\n",
       "    </tr>\n",
       "    <tr>\n",
       "      <th>31</th>\n",
       "      <td>2020-02-01</td>\n",
       "      <td>31</td>\n",
       "    </tr>\n",
       "    <tr>\n",
       "      <th>32</th>\n",
       "      <td>2020-02-02</td>\n",
       "      <td>32</td>\n",
       "    </tr>\n",
       "    <tr>\n",
       "      <th>33</th>\n",
       "      <td>2020-02-03</td>\n",
       "      <td>33</td>\n",
       "    </tr>\n",
       "    <tr>\n",
       "      <th>34</th>\n",
       "      <td>2020-02-04</td>\n",
       "      <td>34</td>\n",
       "    </tr>\n",
       "    <tr>\n",
       "      <th>35</th>\n",
       "      <td>2020-02-05</td>\n",
       "      <td>35</td>\n",
       "    </tr>\n",
       "    <tr>\n",
       "      <th>36</th>\n",
       "      <td>2020-02-06</td>\n",
       "      <td>36</td>\n",
       "    </tr>\n",
       "    <tr>\n",
       "      <th>37</th>\n",
       "      <td>2020-02-07</td>\n",
       "      <td>37</td>\n",
       "    </tr>\n",
       "    <tr>\n",
       "      <th>38</th>\n",
       "      <td>2020-02-08</td>\n",
       "      <td>38</td>\n",
       "    </tr>\n",
       "    <tr>\n",
       "      <th>39</th>\n",
       "      <td>2020-02-09</td>\n",
       "      <td>39</td>\n",
       "    </tr>\n",
       "    <tr>\n",
       "      <th>40</th>\n",
       "      <td>2020-02-10</td>\n",
       "      <td>40</td>\n",
       "    </tr>\n",
       "    <tr>\n",
       "      <th>41</th>\n",
       "      <td>2020-02-11</td>\n",
       "      <td>41</td>\n",
       "    </tr>\n",
       "    <tr>\n",
       "      <th>42</th>\n",
       "      <td>2020-02-12</td>\n",
       "      <td>42</td>\n",
       "    </tr>\n",
       "    <tr>\n",
       "      <th>43</th>\n",
       "      <td>2020-02-13</td>\n",
       "      <td>43</td>\n",
       "    </tr>\n",
       "    <tr>\n",
       "      <th>44</th>\n",
       "      <td>2020-02-14</td>\n",
       "      <td>44</td>\n",
       "    </tr>\n",
       "    <tr>\n",
       "      <th>45</th>\n",
       "      <td>2020-02-15</td>\n",
       "      <td>45</td>\n",
       "    </tr>\n",
       "    <tr>\n",
       "      <th>46</th>\n",
       "      <td>2020-02-16</td>\n",
       "      <td>46</td>\n",
       "    </tr>\n",
       "    <tr>\n",
       "      <th>47</th>\n",
       "      <td>2020-02-17</td>\n",
       "      <td>47</td>\n",
       "    </tr>\n",
       "    <tr>\n",
       "      <th>48</th>\n",
       "      <td>2020-02-18</td>\n",
       "      <td>48</td>\n",
       "    </tr>\n",
       "    <tr>\n",
       "      <th>49</th>\n",
       "      <td>2020-02-19</td>\n",
       "      <td>49</td>\n",
       "    </tr>\n",
       "  </tbody>\n",
       "</table>\n",
       "</div>"
      ],
      "text/plain": [
       "         date  Value\n",
       "0  2020-01-01      0\n",
       "1  2020-01-02      1\n",
       "2  2020-01-03      2\n",
       "3  2020-01-04      3\n",
       "4  2020-01-05      4\n",
       "5  2020-01-06      5\n",
       "6  2020-01-07      6\n",
       "7  2020-01-08      7\n",
       "8  2020-01-09      8\n",
       "9  2020-01-10      9\n",
       "10 2020-01-11     10\n",
       "11 2020-01-12     11\n",
       "12 2020-01-13     12\n",
       "13 2020-01-14     13\n",
       "14 2020-01-15     14\n",
       "15 2020-01-16     15\n",
       "16 2020-01-17     16\n",
       "17 2020-01-18     17\n",
       "18 2020-01-19     18\n",
       "19 2020-01-20     19\n",
       "20 2020-01-21     20\n",
       "21 2020-01-22     21\n",
       "22 2020-01-23     22\n",
       "23 2020-01-24     23\n",
       "24 2020-01-25     24\n",
       "25 2020-01-26     25\n",
       "26 2020-01-27     26\n",
       "27 2020-01-28     27\n",
       "28 2020-01-29     28\n",
       "29 2020-01-30     29\n",
       "30 2020-01-31     30\n",
       "31 2020-02-01     31\n",
       "32 2020-02-02     32\n",
       "33 2020-02-03     33\n",
       "34 2020-02-04     34\n",
       "35 2020-02-05     35\n",
       "36 2020-02-06     36\n",
       "37 2020-02-07     37\n",
       "38 2020-02-08     38\n",
       "39 2020-02-09     39\n",
       "40 2020-02-10     40\n",
       "41 2020-02-11     41\n",
       "42 2020-02-12     42\n",
       "43 2020-02-13     43\n",
       "44 2020-02-14     44\n",
       "45 2020-02-15     45\n",
       "46 2020-02-16     46\n",
       "47 2020-02-17     47\n",
       "48 2020-02-18     48\n",
       "49 2020-02-19     49"
      ]
     },
     "execution_count": 749,
     "metadata": {},
     "output_type": "execute_result"
    }
   ],
   "source": [
    "date = date.reset_index()\n",
    "date"
   ]
  },
  {
   "cell_type": "code",
   "execution_count": 750,
   "metadata": {},
   "outputs": [],
   "source": [
    "date[\"year\"] = date[\"date\"].dt.year"
   ]
  },
  {
   "cell_type": "code",
   "execution_count": 751,
   "metadata": {},
   "outputs": [],
   "source": [
    "date[\"Month\"] = date[\"date\"].dt.month"
   ]
  },
  {
   "cell_type": "code",
   "execution_count": 752,
   "metadata": {},
   "outputs": [],
   "source": [
    "date[\"Day\"] = date[\"date\"].dt.day"
   ]
  },
  {
   "cell_type": "code",
   "execution_count": 754,
   "metadata": {},
   "outputs": [],
   "source": [
    "date[\"Month-Year\"] = date[\"date\"].dt.strftime(\"%b-%Y\")"
   ]
  },
  {
   "cell_type": "code",
   "execution_count": 762,
   "metadata": {},
   "outputs": [],
   "source": [
    "date[\"MonthName\"] = date[\"date\"].dt.strftime(\"%b\")"
   ]
  },
  {
   "cell_type": "code",
   "execution_count": 765,
   "metadata": {},
   "outputs": [],
   "source": [
    "date[\"Year\"] = date[\"date\"].dt.strftime(\"%Y\")"
   ]
  },
  {
   "cell_type": "code",
   "execution_count": 772,
   "metadata": {},
   "outputs": [],
   "source": [
    "date[\"DATE\"] = date[\"date\"].dt.strftime(\"%D\")  #  Formatting the date"
   ]
  },
  {
   "cell_type": "code",
   "execution_count": 773,
   "metadata": {},
   "outputs": [
    {
     "data": {
      "text/html": [
       "<div>\n",
       "<style scoped>\n",
       "    .dataframe tbody tr th:only-of-type {\n",
       "        vertical-align: middle;\n",
       "    }\n",
       "\n",
       "    .dataframe tbody tr th {\n",
       "        vertical-align: top;\n",
       "    }\n",
       "\n",
       "    .dataframe thead th {\n",
       "        text-align: right;\n",
       "    }\n",
       "</style>\n",
       "<table border=\"1\" class=\"dataframe\">\n",
       "  <thead>\n",
       "    <tr style=\"text-align: right;\">\n",
       "      <th></th>\n",
       "      <th>date</th>\n",
       "      <th>Value</th>\n",
       "      <th>year</th>\n",
       "      <th>Month</th>\n",
       "      <th>Day</th>\n",
       "      <th>Month-Year</th>\n",
       "      <th>MonthName</th>\n",
       "      <th>Year</th>\n",
       "      <th>days</th>\n",
       "      <th>DATE</th>\n",
       "    </tr>\n",
       "  </thead>\n",
       "  <tbody>\n",
       "    <tr>\n",
       "      <th>0</th>\n",
       "      <td>2020-01-01</td>\n",
       "      <td>0</td>\n",
       "      <td>2020</td>\n",
       "      <td>1</td>\n",
       "      <td>1</td>\n",
       "      <td>Jan-2020</td>\n",
       "      <td>Jan</td>\n",
       "      <td>2020</td>\n",
       "      <td>01/01/20</td>\n",
       "      <td>01/01/20</td>\n",
       "    </tr>\n",
       "    <tr>\n",
       "      <th>1</th>\n",
       "      <td>2020-01-02</td>\n",
       "      <td>1</td>\n",
       "      <td>2020</td>\n",
       "      <td>1</td>\n",
       "      <td>2</td>\n",
       "      <td>Jan-2020</td>\n",
       "      <td>Jan</td>\n",
       "      <td>2020</td>\n",
       "      <td>01/02/20</td>\n",
       "      <td>01/02/20</td>\n",
       "    </tr>\n",
       "    <tr>\n",
       "      <th>2</th>\n",
       "      <td>2020-01-03</td>\n",
       "      <td>2</td>\n",
       "      <td>2020</td>\n",
       "      <td>1</td>\n",
       "      <td>3</td>\n",
       "      <td>Jan-2020</td>\n",
       "      <td>Jan</td>\n",
       "      <td>2020</td>\n",
       "      <td>01/03/20</td>\n",
       "      <td>01/03/20</td>\n",
       "    </tr>\n",
       "    <tr>\n",
       "      <th>3</th>\n",
       "      <td>2020-01-04</td>\n",
       "      <td>3</td>\n",
       "      <td>2020</td>\n",
       "      <td>1</td>\n",
       "      <td>4</td>\n",
       "      <td>Jan-2020</td>\n",
       "      <td>Jan</td>\n",
       "      <td>2020</td>\n",
       "      <td>01/04/20</td>\n",
       "      <td>01/04/20</td>\n",
       "    </tr>\n",
       "    <tr>\n",
       "      <th>4</th>\n",
       "      <td>2020-01-05</td>\n",
       "      <td>4</td>\n",
       "      <td>2020</td>\n",
       "      <td>1</td>\n",
       "      <td>5</td>\n",
       "      <td>Jan-2020</td>\n",
       "      <td>Jan</td>\n",
       "      <td>2020</td>\n",
       "      <td>01/05/20</td>\n",
       "      <td>01/05/20</td>\n",
       "    </tr>\n",
       "    <tr>\n",
       "      <th>5</th>\n",
       "      <td>2020-01-06</td>\n",
       "      <td>5</td>\n",
       "      <td>2020</td>\n",
       "      <td>1</td>\n",
       "      <td>6</td>\n",
       "      <td>Jan-2020</td>\n",
       "      <td>Jan</td>\n",
       "      <td>2020</td>\n",
       "      <td>01/06/20</td>\n",
       "      <td>01/06/20</td>\n",
       "    </tr>\n",
       "    <tr>\n",
       "      <th>6</th>\n",
       "      <td>2020-01-07</td>\n",
       "      <td>6</td>\n",
       "      <td>2020</td>\n",
       "      <td>1</td>\n",
       "      <td>7</td>\n",
       "      <td>Jan-2020</td>\n",
       "      <td>Jan</td>\n",
       "      <td>2020</td>\n",
       "      <td>01/07/20</td>\n",
       "      <td>01/07/20</td>\n",
       "    </tr>\n",
       "    <tr>\n",
       "      <th>7</th>\n",
       "      <td>2020-01-08</td>\n",
       "      <td>7</td>\n",
       "      <td>2020</td>\n",
       "      <td>1</td>\n",
       "      <td>8</td>\n",
       "      <td>Jan-2020</td>\n",
       "      <td>Jan</td>\n",
       "      <td>2020</td>\n",
       "      <td>01/08/20</td>\n",
       "      <td>01/08/20</td>\n",
       "    </tr>\n",
       "    <tr>\n",
       "      <th>8</th>\n",
       "      <td>2020-01-09</td>\n",
       "      <td>8</td>\n",
       "      <td>2020</td>\n",
       "      <td>1</td>\n",
       "      <td>9</td>\n",
       "      <td>Jan-2020</td>\n",
       "      <td>Jan</td>\n",
       "      <td>2020</td>\n",
       "      <td>01/09/20</td>\n",
       "      <td>01/09/20</td>\n",
       "    </tr>\n",
       "    <tr>\n",
       "      <th>9</th>\n",
       "      <td>2020-01-10</td>\n",
       "      <td>9</td>\n",
       "      <td>2020</td>\n",
       "      <td>1</td>\n",
       "      <td>10</td>\n",
       "      <td>Jan-2020</td>\n",
       "      <td>Jan</td>\n",
       "      <td>2020</td>\n",
       "      <td>01/10/20</td>\n",
       "      <td>01/10/20</td>\n",
       "    </tr>\n",
       "    <tr>\n",
       "      <th>10</th>\n",
       "      <td>2020-01-11</td>\n",
       "      <td>10</td>\n",
       "      <td>2020</td>\n",
       "      <td>1</td>\n",
       "      <td>11</td>\n",
       "      <td>Jan-2020</td>\n",
       "      <td>Jan</td>\n",
       "      <td>2020</td>\n",
       "      <td>01/11/20</td>\n",
       "      <td>01/11/20</td>\n",
       "    </tr>\n",
       "    <tr>\n",
       "      <th>11</th>\n",
       "      <td>2020-01-12</td>\n",
       "      <td>11</td>\n",
       "      <td>2020</td>\n",
       "      <td>1</td>\n",
       "      <td>12</td>\n",
       "      <td>Jan-2020</td>\n",
       "      <td>Jan</td>\n",
       "      <td>2020</td>\n",
       "      <td>01/12/20</td>\n",
       "      <td>01/12/20</td>\n",
       "    </tr>\n",
       "    <tr>\n",
       "      <th>12</th>\n",
       "      <td>2020-01-13</td>\n",
       "      <td>12</td>\n",
       "      <td>2020</td>\n",
       "      <td>1</td>\n",
       "      <td>13</td>\n",
       "      <td>Jan-2020</td>\n",
       "      <td>Jan</td>\n",
       "      <td>2020</td>\n",
       "      <td>01/13/20</td>\n",
       "      <td>01/13/20</td>\n",
       "    </tr>\n",
       "    <tr>\n",
       "      <th>13</th>\n",
       "      <td>2020-01-14</td>\n",
       "      <td>13</td>\n",
       "      <td>2020</td>\n",
       "      <td>1</td>\n",
       "      <td>14</td>\n",
       "      <td>Jan-2020</td>\n",
       "      <td>Jan</td>\n",
       "      <td>2020</td>\n",
       "      <td>01/14/20</td>\n",
       "      <td>01/14/20</td>\n",
       "    </tr>\n",
       "    <tr>\n",
       "      <th>14</th>\n",
       "      <td>2020-01-15</td>\n",
       "      <td>14</td>\n",
       "      <td>2020</td>\n",
       "      <td>1</td>\n",
       "      <td>15</td>\n",
       "      <td>Jan-2020</td>\n",
       "      <td>Jan</td>\n",
       "      <td>2020</td>\n",
       "      <td>01/15/20</td>\n",
       "      <td>01/15/20</td>\n",
       "    </tr>\n",
       "    <tr>\n",
       "      <th>15</th>\n",
       "      <td>2020-01-16</td>\n",
       "      <td>15</td>\n",
       "      <td>2020</td>\n",
       "      <td>1</td>\n",
       "      <td>16</td>\n",
       "      <td>Jan-2020</td>\n",
       "      <td>Jan</td>\n",
       "      <td>2020</td>\n",
       "      <td>01/16/20</td>\n",
       "      <td>01/16/20</td>\n",
       "    </tr>\n",
       "    <tr>\n",
       "      <th>16</th>\n",
       "      <td>2020-01-17</td>\n",
       "      <td>16</td>\n",
       "      <td>2020</td>\n",
       "      <td>1</td>\n",
       "      <td>17</td>\n",
       "      <td>Jan-2020</td>\n",
       "      <td>Jan</td>\n",
       "      <td>2020</td>\n",
       "      <td>01/17/20</td>\n",
       "      <td>01/17/20</td>\n",
       "    </tr>\n",
       "    <tr>\n",
       "      <th>17</th>\n",
       "      <td>2020-01-18</td>\n",
       "      <td>17</td>\n",
       "      <td>2020</td>\n",
       "      <td>1</td>\n",
       "      <td>18</td>\n",
       "      <td>Jan-2020</td>\n",
       "      <td>Jan</td>\n",
       "      <td>2020</td>\n",
       "      <td>01/18/20</td>\n",
       "      <td>01/18/20</td>\n",
       "    </tr>\n",
       "    <tr>\n",
       "      <th>18</th>\n",
       "      <td>2020-01-19</td>\n",
       "      <td>18</td>\n",
       "      <td>2020</td>\n",
       "      <td>1</td>\n",
       "      <td>19</td>\n",
       "      <td>Jan-2020</td>\n",
       "      <td>Jan</td>\n",
       "      <td>2020</td>\n",
       "      <td>01/19/20</td>\n",
       "      <td>01/19/20</td>\n",
       "    </tr>\n",
       "    <tr>\n",
       "      <th>19</th>\n",
       "      <td>2020-01-20</td>\n",
       "      <td>19</td>\n",
       "      <td>2020</td>\n",
       "      <td>1</td>\n",
       "      <td>20</td>\n",
       "      <td>Jan-2020</td>\n",
       "      <td>Jan</td>\n",
       "      <td>2020</td>\n",
       "      <td>01/20/20</td>\n",
       "      <td>01/20/20</td>\n",
       "    </tr>\n",
       "    <tr>\n",
       "      <th>20</th>\n",
       "      <td>2020-01-21</td>\n",
       "      <td>20</td>\n",
       "      <td>2020</td>\n",
       "      <td>1</td>\n",
       "      <td>21</td>\n",
       "      <td>Jan-2020</td>\n",
       "      <td>Jan</td>\n",
       "      <td>2020</td>\n",
       "      <td>01/21/20</td>\n",
       "      <td>01/21/20</td>\n",
       "    </tr>\n",
       "    <tr>\n",
       "      <th>21</th>\n",
       "      <td>2020-01-22</td>\n",
       "      <td>21</td>\n",
       "      <td>2020</td>\n",
       "      <td>1</td>\n",
       "      <td>22</td>\n",
       "      <td>Jan-2020</td>\n",
       "      <td>Jan</td>\n",
       "      <td>2020</td>\n",
       "      <td>01/22/20</td>\n",
       "      <td>01/22/20</td>\n",
       "    </tr>\n",
       "    <tr>\n",
       "      <th>22</th>\n",
       "      <td>2020-01-23</td>\n",
       "      <td>22</td>\n",
       "      <td>2020</td>\n",
       "      <td>1</td>\n",
       "      <td>23</td>\n",
       "      <td>Jan-2020</td>\n",
       "      <td>Jan</td>\n",
       "      <td>2020</td>\n",
       "      <td>01/23/20</td>\n",
       "      <td>01/23/20</td>\n",
       "    </tr>\n",
       "    <tr>\n",
       "      <th>23</th>\n",
       "      <td>2020-01-24</td>\n",
       "      <td>23</td>\n",
       "      <td>2020</td>\n",
       "      <td>1</td>\n",
       "      <td>24</td>\n",
       "      <td>Jan-2020</td>\n",
       "      <td>Jan</td>\n",
       "      <td>2020</td>\n",
       "      <td>01/24/20</td>\n",
       "      <td>01/24/20</td>\n",
       "    </tr>\n",
       "    <tr>\n",
       "      <th>24</th>\n",
       "      <td>2020-01-25</td>\n",
       "      <td>24</td>\n",
       "      <td>2020</td>\n",
       "      <td>1</td>\n",
       "      <td>25</td>\n",
       "      <td>Jan-2020</td>\n",
       "      <td>Jan</td>\n",
       "      <td>2020</td>\n",
       "      <td>01/25/20</td>\n",
       "      <td>01/25/20</td>\n",
       "    </tr>\n",
       "    <tr>\n",
       "      <th>25</th>\n",
       "      <td>2020-01-26</td>\n",
       "      <td>25</td>\n",
       "      <td>2020</td>\n",
       "      <td>1</td>\n",
       "      <td>26</td>\n",
       "      <td>Jan-2020</td>\n",
       "      <td>Jan</td>\n",
       "      <td>2020</td>\n",
       "      <td>01/26/20</td>\n",
       "      <td>01/26/20</td>\n",
       "    </tr>\n",
       "    <tr>\n",
       "      <th>26</th>\n",
       "      <td>2020-01-27</td>\n",
       "      <td>26</td>\n",
       "      <td>2020</td>\n",
       "      <td>1</td>\n",
       "      <td>27</td>\n",
       "      <td>Jan-2020</td>\n",
       "      <td>Jan</td>\n",
       "      <td>2020</td>\n",
       "      <td>01/27/20</td>\n",
       "      <td>01/27/20</td>\n",
       "    </tr>\n",
       "    <tr>\n",
       "      <th>27</th>\n",
       "      <td>2020-01-28</td>\n",
       "      <td>27</td>\n",
       "      <td>2020</td>\n",
       "      <td>1</td>\n",
       "      <td>28</td>\n",
       "      <td>Jan-2020</td>\n",
       "      <td>Jan</td>\n",
       "      <td>2020</td>\n",
       "      <td>01/28/20</td>\n",
       "      <td>01/28/20</td>\n",
       "    </tr>\n",
       "    <tr>\n",
       "      <th>28</th>\n",
       "      <td>2020-01-29</td>\n",
       "      <td>28</td>\n",
       "      <td>2020</td>\n",
       "      <td>1</td>\n",
       "      <td>29</td>\n",
       "      <td>Jan-2020</td>\n",
       "      <td>Jan</td>\n",
       "      <td>2020</td>\n",
       "      <td>01/29/20</td>\n",
       "      <td>01/29/20</td>\n",
       "    </tr>\n",
       "    <tr>\n",
       "      <th>29</th>\n",
       "      <td>2020-01-30</td>\n",
       "      <td>29</td>\n",
       "      <td>2020</td>\n",
       "      <td>1</td>\n",
       "      <td>30</td>\n",
       "      <td>Jan-2020</td>\n",
       "      <td>Jan</td>\n",
       "      <td>2020</td>\n",
       "      <td>01/30/20</td>\n",
       "      <td>01/30/20</td>\n",
       "    </tr>\n",
       "    <tr>\n",
       "      <th>30</th>\n",
       "      <td>2020-01-31</td>\n",
       "      <td>30</td>\n",
       "      <td>2020</td>\n",
       "      <td>1</td>\n",
       "      <td>31</td>\n",
       "      <td>Jan-2020</td>\n",
       "      <td>Jan</td>\n",
       "      <td>2020</td>\n",
       "      <td>01/31/20</td>\n",
       "      <td>01/31/20</td>\n",
       "    </tr>\n",
       "    <tr>\n",
       "      <th>31</th>\n",
       "      <td>2020-02-01</td>\n",
       "      <td>31</td>\n",
       "      <td>2020</td>\n",
       "      <td>2</td>\n",
       "      <td>1</td>\n",
       "      <td>Feb-2020</td>\n",
       "      <td>Feb</td>\n",
       "      <td>2020</td>\n",
       "      <td>02/01/20</td>\n",
       "      <td>02/01/20</td>\n",
       "    </tr>\n",
       "    <tr>\n",
       "      <th>32</th>\n",
       "      <td>2020-02-02</td>\n",
       "      <td>32</td>\n",
       "      <td>2020</td>\n",
       "      <td>2</td>\n",
       "      <td>2</td>\n",
       "      <td>Feb-2020</td>\n",
       "      <td>Feb</td>\n",
       "      <td>2020</td>\n",
       "      <td>02/02/20</td>\n",
       "      <td>02/02/20</td>\n",
       "    </tr>\n",
       "    <tr>\n",
       "      <th>33</th>\n",
       "      <td>2020-02-03</td>\n",
       "      <td>33</td>\n",
       "      <td>2020</td>\n",
       "      <td>2</td>\n",
       "      <td>3</td>\n",
       "      <td>Feb-2020</td>\n",
       "      <td>Feb</td>\n",
       "      <td>2020</td>\n",
       "      <td>02/03/20</td>\n",
       "      <td>02/03/20</td>\n",
       "    </tr>\n",
       "    <tr>\n",
       "      <th>34</th>\n",
       "      <td>2020-02-04</td>\n",
       "      <td>34</td>\n",
       "      <td>2020</td>\n",
       "      <td>2</td>\n",
       "      <td>4</td>\n",
       "      <td>Feb-2020</td>\n",
       "      <td>Feb</td>\n",
       "      <td>2020</td>\n",
       "      <td>02/04/20</td>\n",
       "      <td>02/04/20</td>\n",
       "    </tr>\n",
       "    <tr>\n",
       "      <th>35</th>\n",
       "      <td>2020-02-05</td>\n",
       "      <td>35</td>\n",
       "      <td>2020</td>\n",
       "      <td>2</td>\n",
       "      <td>5</td>\n",
       "      <td>Feb-2020</td>\n",
       "      <td>Feb</td>\n",
       "      <td>2020</td>\n",
       "      <td>02/05/20</td>\n",
       "      <td>02/05/20</td>\n",
       "    </tr>\n",
       "    <tr>\n",
       "      <th>36</th>\n",
       "      <td>2020-02-06</td>\n",
       "      <td>36</td>\n",
       "      <td>2020</td>\n",
       "      <td>2</td>\n",
       "      <td>6</td>\n",
       "      <td>Feb-2020</td>\n",
       "      <td>Feb</td>\n",
       "      <td>2020</td>\n",
       "      <td>02/06/20</td>\n",
       "      <td>02/06/20</td>\n",
       "    </tr>\n",
       "    <tr>\n",
       "      <th>37</th>\n",
       "      <td>2020-02-07</td>\n",
       "      <td>37</td>\n",
       "      <td>2020</td>\n",
       "      <td>2</td>\n",
       "      <td>7</td>\n",
       "      <td>Feb-2020</td>\n",
       "      <td>Feb</td>\n",
       "      <td>2020</td>\n",
       "      <td>02/07/20</td>\n",
       "      <td>02/07/20</td>\n",
       "    </tr>\n",
       "    <tr>\n",
       "      <th>38</th>\n",
       "      <td>2020-02-08</td>\n",
       "      <td>38</td>\n",
       "      <td>2020</td>\n",
       "      <td>2</td>\n",
       "      <td>8</td>\n",
       "      <td>Feb-2020</td>\n",
       "      <td>Feb</td>\n",
       "      <td>2020</td>\n",
       "      <td>02/08/20</td>\n",
       "      <td>02/08/20</td>\n",
       "    </tr>\n",
       "    <tr>\n",
       "      <th>39</th>\n",
       "      <td>2020-02-09</td>\n",
       "      <td>39</td>\n",
       "      <td>2020</td>\n",
       "      <td>2</td>\n",
       "      <td>9</td>\n",
       "      <td>Feb-2020</td>\n",
       "      <td>Feb</td>\n",
       "      <td>2020</td>\n",
       "      <td>02/09/20</td>\n",
       "      <td>02/09/20</td>\n",
       "    </tr>\n",
       "    <tr>\n",
       "      <th>40</th>\n",
       "      <td>2020-02-10</td>\n",
       "      <td>40</td>\n",
       "      <td>2020</td>\n",
       "      <td>2</td>\n",
       "      <td>10</td>\n",
       "      <td>Feb-2020</td>\n",
       "      <td>Feb</td>\n",
       "      <td>2020</td>\n",
       "      <td>02/10/20</td>\n",
       "      <td>02/10/20</td>\n",
       "    </tr>\n",
       "    <tr>\n",
       "      <th>41</th>\n",
       "      <td>2020-02-11</td>\n",
       "      <td>41</td>\n",
       "      <td>2020</td>\n",
       "      <td>2</td>\n",
       "      <td>11</td>\n",
       "      <td>Feb-2020</td>\n",
       "      <td>Feb</td>\n",
       "      <td>2020</td>\n",
       "      <td>02/11/20</td>\n",
       "      <td>02/11/20</td>\n",
       "    </tr>\n",
       "    <tr>\n",
       "      <th>42</th>\n",
       "      <td>2020-02-12</td>\n",
       "      <td>42</td>\n",
       "      <td>2020</td>\n",
       "      <td>2</td>\n",
       "      <td>12</td>\n",
       "      <td>Feb-2020</td>\n",
       "      <td>Feb</td>\n",
       "      <td>2020</td>\n",
       "      <td>02/12/20</td>\n",
       "      <td>02/12/20</td>\n",
       "    </tr>\n",
       "    <tr>\n",
       "      <th>43</th>\n",
       "      <td>2020-02-13</td>\n",
       "      <td>43</td>\n",
       "      <td>2020</td>\n",
       "      <td>2</td>\n",
       "      <td>13</td>\n",
       "      <td>Feb-2020</td>\n",
       "      <td>Feb</td>\n",
       "      <td>2020</td>\n",
       "      <td>02/13/20</td>\n",
       "      <td>02/13/20</td>\n",
       "    </tr>\n",
       "    <tr>\n",
       "      <th>44</th>\n",
       "      <td>2020-02-14</td>\n",
       "      <td>44</td>\n",
       "      <td>2020</td>\n",
       "      <td>2</td>\n",
       "      <td>14</td>\n",
       "      <td>Feb-2020</td>\n",
       "      <td>Feb</td>\n",
       "      <td>2020</td>\n",
       "      <td>02/14/20</td>\n",
       "      <td>02/14/20</td>\n",
       "    </tr>\n",
       "    <tr>\n",
       "      <th>45</th>\n",
       "      <td>2020-02-15</td>\n",
       "      <td>45</td>\n",
       "      <td>2020</td>\n",
       "      <td>2</td>\n",
       "      <td>15</td>\n",
       "      <td>Feb-2020</td>\n",
       "      <td>Feb</td>\n",
       "      <td>2020</td>\n",
       "      <td>02/15/20</td>\n",
       "      <td>02/15/20</td>\n",
       "    </tr>\n",
       "    <tr>\n",
       "      <th>46</th>\n",
       "      <td>2020-02-16</td>\n",
       "      <td>46</td>\n",
       "      <td>2020</td>\n",
       "      <td>2</td>\n",
       "      <td>16</td>\n",
       "      <td>Feb-2020</td>\n",
       "      <td>Feb</td>\n",
       "      <td>2020</td>\n",
       "      <td>02/16/20</td>\n",
       "      <td>02/16/20</td>\n",
       "    </tr>\n",
       "    <tr>\n",
       "      <th>47</th>\n",
       "      <td>2020-02-17</td>\n",
       "      <td>47</td>\n",
       "      <td>2020</td>\n",
       "      <td>2</td>\n",
       "      <td>17</td>\n",
       "      <td>Feb-2020</td>\n",
       "      <td>Feb</td>\n",
       "      <td>2020</td>\n",
       "      <td>02/17/20</td>\n",
       "      <td>02/17/20</td>\n",
       "    </tr>\n",
       "    <tr>\n",
       "      <th>48</th>\n",
       "      <td>2020-02-18</td>\n",
       "      <td>48</td>\n",
       "      <td>2020</td>\n",
       "      <td>2</td>\n",
       "      <td>18</td>\n",
       "      <td>Feb-2020</td>\n",
       "      <td>Feb</td>\n",
       "      <td>2020</td>\n",
       "      <td>02/18/20</td>\n",
       "      <td>02/18/20</td>\n",
       "    </tr>\n",
       "    <tr>\n",
       "      <th>49</th>\n",
       "      <td>2020-02-19</td>\n",
       "      <td>49</td>\n",
       "      <td>2020</td>\n",
       "      <td>2</td>\n",
       "      <td>19</td>\n",
       "      <td>Feb-2020</td>\n",
       "      <td>Feb</td>\n",
       "      <td>2020</td>\n",
       "      <td>02/19/20</td>\n",
       "      <td>02/19/20</td>\n",
       "    </tr>\n",
       "  </tbody>\n",
       "</table>\n",
       "</div>"
      ],
      "text/plain": [
       "         date  Value  year  Month  Day Month-Year MonthName  Year      days  \\\n",
       "0  2020-01-01      0  2020      1    1   Jan-2020       Jan  2020  01/01/20   \n",
       "1  2020-01-02      1  2020      1    2   Jan-2020       Jan  2020  01/02/20   \n",
       "2  2020-01-03      2  2020      1    3   Jan-2020       Jan  2020  01/03/20   \n",
       "3  2020-01-04      3  2020      1    4   Jan-2020       Jan  2020  01/04/20   \n",
       "4  2020-01-05      4  2020      1    5   Jan-2020       Jan  2020  01/05/20   \n",
       "5  2020-01-06      5  2020      1    6   Jan-2020       Jan  2020  01/06/20   \n",
       "6  2020-01-07      6  2020      1    7   Jan-2020       Jan  2020  01/07/20   \n",
       "7  2020-01-08      7  2020      1    8   Jan-2020       Jan  2020  01/08/20   \n",
       "8  2020-01-09      8  2020      1    9   Jan-2020       Jan  2020  01/09/20   \n",
       "9  2020-01-10      9  2020      1   10   Jan-2020       Jan  2020  01/10/20   \n",
       "10 2020-01-11     10  2020      1   11   Jan-2020       Jan  2020  01/11/20   \n",
       "11 2020-01-12     11  2020      1   12   Jan-2020       Jan  2020  01/12/20   \n",
       "12 2020-01-13     12  2020      1   13   Jan-2020       Jan  2020  01/13/20   \n",
       "13 2020-01-14     13  2020      1   14   Jan-2020       Jan  2020  01/14/20   \n",
       "14 2020-01-15     14  2020      1   15   Jan-2020       Jan  2020  01/15/20   \n",
       "15 2020-01-16     15  2020      1   16   Jan-2020       Jan  2020  01/16/20   \n",
       "16 2020-01-17     16  2020      1   17   Jan-2020       Jan  2020  01/17/20   \n",
       "17 2020-01-18     17  2020      1   18   Jan-2020       Jan  2020  01/18/20   \n",
       "18 2020-01-19     18  2020      1   19   Jan-2020       Jan  2020  01/19/20   \n",
       "19 2020-01-20     19  2020      1   20   Jan-2020       Jan  2020  01/20/20   \n",
       "20 2020-01-21     20  2020      1   21   Jan-2020       Jan  2020  01/21/20   \n",
       "21 2020-01-22     21  2020      1   22   Jan-2020       Jan  2020  01/22/20   \n",
       "22 2020-01-23     22  2020      1   23   Jan-2020       Jan  2020  01/23/20   \n",
       "23 2020-01-24     23  2020      1   24   Jan-2020       Jan  2020  01/24/20   \n",
       "24 2020-01-25     24  2020      1   25   Jan-2020       Jan  2020  01/25/20   \n",
       "25 2020-01-26     25  2020      1   26   Jan-2020       Jan  2020  01/26/20   \n",
       "26 2020-01-27     26  2020      1   27   Jan-2020       Jan  2020  01/27/20   \n",
       "27 2020-01-28     27  2020      1   28   Jan-2020       Jan  2020  01/28/20   \n",
       "28 2020-01-29     28  2020      1   29   Jan-2020       Jan  2020  01/29/20   \n",
       "29 2020-01-30     29  2020      1   30   Jan-2020       Jan  2020  01/30/20   \n",
       "30 2020-01-31     30  2020      1   31   Jan-2020       Jan  2020  01/31/20   \n",
       "31 2020-02-01     31  2020      2    1   Feb-2020       Feb  2020  02/01/20   \n",
       "32 2020-02-02     32  2020      2    2   Feb-2020       Feb  2020  02/02/20   \n",
       "33 2020-02-03     33  2020      2    3   Feb-2020       Feb  2020  02/03/20   \n",
       "34 2020-02-04     34  2020      2    4   Feb-2020       Feb  2020  02/04/20   \n",
       "35 2020-02-05     35  2020      2    5   Feb-2020       Feb  2020  02/05/20   \n",
       "36 2020-02-06     36  2020      2    6   Feb-2020       Feb  2020  02/06/20   \n",
       "37 2020-02-07     37  2020      2    7   Feb-2020       Feb  2020  02/07/20   \n",
       "38 2020-02-08     38  2020      2    8   Feb-2020       Feb  2020  02/08/20   \n",
       "39 2020-02-09     39  2020      2    9   Feb-2020       Feb  2020  02/09/20   \n",
       "40 2020-02-10     40  2020      2   10   Feb-2020       Feb  2020  02/10/20   \n",
       "41 2020-02-11     41  2020      2   11   Feb-2020       Feb  2020  02/11/20   \n",
       "42 2020-02-12     42  2020      2   12   Feb-2020       Feb  2020  02/12/20   \n",
       "43 2020-02-13     43  2020      2   13   Feb-2020       Feb  2020  02/13/20   \n",
       "44 2020-02-14     44  2020      2   14   Feb-2020       Feb  2020  02/14/20   \n",
       "45 2020-02-15     45  2020      2   15   Feb-2020       Feb  2020  02/15/20   \n",
       "46 2020-02-16     46  2020      2   16   Feb-2020       Feb  2020  02/16/20   \n",
       "47 2020-02-17     47  2020      2   17   Feb-2020       Feb  2020  02/17/20   \n",
       "48 2020-02-18     48  2020      2   18   Feb-2020       Feb  2020  02/18/20   \n",
       "49 2020-02-19     49  2020      2   19   Feb-2020       Feb  2020  02/19/20   \n",
       "\n",
       "        DATE  \n",
       "0   01/01/20  \n",
       "1   01/02/20  \n",
       "2   01/03/20  \n",
       "3   01/04/20  \n",
       "4   01/05/20  \n",
       "5   01/06/20  \n",
       "6   01/07/20  \n",
       "7   01/08/20  \n",
       "8   01/09/20  \n",
       "9   01/10/20  \n",
       "10  01/11/20  \n",
       "11  01/12/20  \n",
       "12  01/13/20  \n",
       "13  01/14/20  \n",
       "14  01/15/20  \n",
       "15  01/16/20  \n",
       "16  01/17/20  \n",
       "17  01/18/20  \n",
       "18  01/19/20  \n",
       "19  01/20/20  \n",
       "20  01/21/20  \n",
       "21  01/22/20  \n",
       "22  01/23/20  \n",
       "23  01/24/20  \n",
       "24  01/25/20  \n",
       "25  01/26/20  \n",
       "26  01/27/20  \n",
       "27  01/28/20  \n",
       "28  01/29/20  \n",
       "29  01/30/20  \n",
       "30  01/31/20  \n",
       "31  02/01/20  \n",
       "32  02/02/20  \n",
       "33  02/03/20  \n",
       "34  02/04/20  \n",
       "35  02/05/20  \n",
       "36  02/06/20  \n",
       "37  02/07/20  \n",
       "38  02/08/20  \n",
       "39  02/09/20  \n",
       "40  02/10/20  \n",
       "41  02/11/20  \n",
       "42  02/12/20  \n",
       "43  02/13/20  \n",
       "44  02/14/20  \n",
       "45  02/15/20  \n",
       "46  02/16/20  \n",
       "47  02/17/20  \n",
       "48  02/18/20  \n",
       "49  02/19/20  "
      ]
     },
     "execution_count": 773,
     "metadata": {},
     "output_type": "execute_result"
    }
   ],
   "source": [
    "date\n"
   ]
  },
  {
   "cell_type": "code",
   "execution_count": null,
   "metadata": {},
   "outputs": [],
   "source": []
  },
  {
   "cell_type": "code",
   "execution_count": null,
   "metadata": {},
   "outputs": [],
   "source": []
  }
 ],
 "metadata": {
  "kernelspec": {
   "display_name": "Python 3",
   "language": "python",
   "name": "python3"
  },
  "language_info": {
   "codemirror_mode": {
    "name": "ipython",
    "version": 3
   },
   "file_extension": ".py",
   "mimetype": "text/x-python",
   "name": "python",
   "nbconvert_exporter": "python",
   "pygments_lexer": "ipython3",
   "version": "3.7.9"
  }
 },
 "nbformat": 4,
 "nbformat_minor": 4
}

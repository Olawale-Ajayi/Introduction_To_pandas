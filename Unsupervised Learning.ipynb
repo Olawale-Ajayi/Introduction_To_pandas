{
 "cells": [
  {
   "cell_type": "code",
   "execution_count": null,
   "metadata": {},
   "outputs": [],
   "source": []
  },
  {
   "cell_type": "markdown",
   "metadata": {},
   "source": [
    "# Unsupervised Learning"
   ]
  },
  {
   "cell_type": "code",
   "execution_count": 2,
   "metadata": {},
   "outputs": [],
   "source": [
    "import numpy as np\n",
    "import pandas as pd\n",
    "import matplotlib.pyplot as plt\n",
    "import matplotlib as mpl\n",
    "import seaborn as sb"
   ]
  },
  {
   "cell_type": "code",
   "execution_count": 3,
   "metadata": {},
   "outputs": [],
   "source": [
    "# unsupervised learning is the machine learning algorithm that helps to classify unlabels datasets with labels in a pool of features datasets\n"
   ]
  },
  {
   "cell_type": "markdown",
   "metadata": {},
   "source": [
    "Types of unsupervised learning:\n",
    "1. clustering : Used to group similar instances together\n",
    "2. anomally detection : used to detect abnormal instances to get a hand on what a normal data look like. example, detecting defective items in production\n",
    "3. Density estimation: this is the task of estimating the probability density function(PDF) of the random process that generated the dataset. This is commonly used<br>\n",
    "for anomaly detection: instances located in very low-density regions are likely tobe anomalies. It is also useful for data analysis and visualization."
   ]
  },
  {
   "cell_type": "code",
   "execution_count": null,
   "metadata": {},
   "outputs": [],
   "source": []
  },
  {
   "cell_type": "markdown",
   "metadata": {},
   "source": [
    "# Clustering"
   ]
  },
  {
   "cell_type": "code",
   "execution_count": 4,
   "metadata": {},
   "outputs": [],
   "source": [
    "# it is the task of identifying similar instances and assigning them to clusters, i.e., groups of similar instances.\n",
    "# Each instance get assigned to a group"
   ]
  },
  {
   "cell_type": "markdown",
   "metadata": {},
   "source": [
    "Clustering find application in variuos application viz:\n",
    "1. customer segmentation ( dividing customers on a website into a cluster based on their activity)\n",
    "2. for anomally detection (say fraud detection in bank transaction)\n",
    "3. Usec in search engine also to output a cluster of pictured given a reference picture\n",
    "4. recommendation system\n",
    "5. segmentation of image\n",
    "6. semi supervised learning"
   ]
  },
  {
   "cell_type": "code",
   "execution_count": null,
   "metadata": {},
   "outputs": [],
   "source": []
  },
  {
   "cell_type": "markdown",
   "metadata": {},
   "source": [
    "Types of clustering\n",
    "1.  KMean Clustering\n",
    "2. DBSCAN"
   ]
  },
  {
   "cell_type": "code",
   "execution_count": null,
   "metadata": {},
   "outputs": [],
   "source": []
  },
  {
   "cell_type": "markdown",
   "metadata": {},
   "source": [
    "# K-Means Clustering"
   ]
  },
  {
   "cell_type": "code",
   "execution_count": 5,
   "metadata": {},
   "outputs": [],
   "source": [
    "#  K-Mean algorithm is an algorithm capable clusterng the datasets. it was proposed by Stuart Lloyd at the bell labs in 1957 in a paper titled \"least square Quantization in PCM in a paper published in 1982\". \n",
    "# in 1965, Edward W Lloyd has virtually pubished the same algorithm.\n",
    "# sbecause of this, k-mean is usually called Lloyd-Forgy "
   ]
  },
  {
   "cell_type": "code",
   "execution_count": 6,
   "metadata": {},
   "outputs": [],
   "source": [
    "# lets execute Clustering with a datasets"
   ]
  },
  {
   "cell_type": "code",
   "execution_count": 7,
   "metadata": {},
   "outputs": [],
   "source": [
    "# we will be using the Iris Datasets (Though this is a classification datasets, we will be using it for experimenting k-mean)"
   ]
  },
  {
   "cell_type": "code",
   "execution_count": null,
   "metadata": {},
   "outputs": [],
   "source": []
  },
  {
   "cell_type": "code",
   "execution_count": 8,
   "metadata": {},
   "outputs": [],
   "source": [
    "from sklearn import datasets"
   ]
  },
  {
   "cell_type": "code",
   "execution_count": 9,
   "metadata": {},
   "outputs": [],
   "source": [
    "iris = datasets.load_iris()"
   ]
  },
  {
   "cell_type": "code",
   "execution_count": 10,
   "metadata": {},
   "outputs": [
    {
     "data": {
      "text/plain": [
       "dict_keys(['data', 'target', 'target_names', 'DESCR', 'feature_names', 'filename'])"
      ]
     },
     "execution_count": 10,
     "metadata": {},
     "output_type": "execute_result"
    }
   ],
   "source": [
    "iris.keys()"
   ]
  },
  {
   "cell_type": "code",
   "execution_count": 11,
   "metadata": {},
   "outputs": [],
   "source": [
    "X = iris[\"data\"]"
   ]
  },
  {
   "cell_type": "code",
   "execution_count": 12,
   "metadata": {},
   "outputs": [
    {
     "data": {
      "text/plain": [
       "array([[5.1, 3.5, 1.4, 0.2],\n",
       "       [4.9, 3. , 1.4, 0.2],\n",
       "       [4.7, 3.2, 1.3, 0.2],\n",
       "       [4.6, 3.1, 1.5, 0.2],\n",
       "       [5. , 3.6, 1.4, 0.2],\n",
       "       [5.4, 3.9, 1.7, 0.4],\n",
       "       [4.6, 3.4, 1.4, 0.3],\n",
       "       [5. , 3.4, 1.5, 0.2],\n",
       "       [4.4, 2.9, 1.4, 0.2],\n",
       "       [4.9, 3.1, 1.5, 0.1]])"
      ]
     },
     "execution_count": 12,
     "metadata": {},
     "output_type": "execute_result"
    }
   ],
   "source": [
    "X[:10]"
   ]
  },
  {
   "cell_type": "code",
   "execution_count": 13,
   "metadata": {},
   "outputs": [],
   "source": [
    "features = pd.DataFrame(iris[\"data\"], columns = iris[\"feature_names\"])"
   ]
  },
  {
   "cell_type": "code",
   "execution_count": 14,
   "metadata": {},
   "outputs": [
    {
     "data": {
      "text/html": [
       "<div>\n",
       "<style scoped>\n",
       "    .dataframe tbody tr th:only-of-type {\n",
       "        vertical-align: middle;\n",
       "    }\n",
       "\n",
       "    .dataframe tbody tr th {\n",
       "        vertical-align: top;\n",
       "    }\n",
       "\n",
       "    .dataframe thead th {\n",
       "        text-align: right;\n",
       "    }\n",
       "</style>\n",
       "<table border=\"1\" class=\"dataframe\">\n",
       "  <thead>\n",
       "    <tr style=\"text-align: right;\">\n",
       "      <th></th>\n",
       "      <th>sepal length (cm)</th>\n",
       "      <th>sepal width (cm)</th>\n",
       "      <th>petal length (cm)</th>\n",
       "      <th>petal width (cm)</th>\n",
       "      <th>Species</th>\n",
       "    </tr>\n",
       "  </thead>\n",
       "  <tbody>\n",
       "    <tr>\n",
       "      <th>0</th>\n",
       "      <td>5.1</td>\n",
       "      <td>3.5</td>\n",
       "      <td>1.4</td>\n",
       "      <td>0.2</td>\n",
       "      <td>setosa</td>\n",
       "    </tr>\n",
       "    <tr>\n",
       "      <th>1</th>\n",
       "      <td>4.9</td>\n",
       "      <td>3.0</td>\n",
       "      <td>1.4</td>\n",
       "      <td>0.2</td>\n",
       "      <td>setosa</td>\n",
       "    </tr>\n",
       "    <tr>\n",
       "      <th>2</th>\n",
       "      <td>4.7</td>\n",
       "      <td>3.2</td>\n",
       "      <td>1.3</td>\n",
       "      <td>0.2</td>\n",
       "      <td>setosa</td>\n",
       "    </tr>\n",
       "    <tr>\n",
       "      <th>3</th>\n",
       "      <td>4.6</td>\n",
       "      <td>3.1</td>\n",
       "      <td>1.5</td>\n",
       "      <td>0.2</td>\n",
       "      <td>setosa</td>\n",
       "    </tr>\n",
       "    <tr>\n",
       "      <th>4</th>\n",
       "      <td>5.0</td>\n",
       "      <td>3.6</td>\n",
       "      <td>1.4</td>\n",
       "      <td>0.2</td>\n",
       "      <td>setosa</td>\n",
       "    </tr>\n",
       "    <tr>\n",
       "      <th>...</th>\n",
       "      <td>...</td>\n",
       "      <td>...</td>\n",
       "      <td>...</td>\n",
       "      <td>...</td>\n",
       "      <td>...</td>\n",
       "    </tr>\n",
       "    <tr>\n",
       "      <th>145</th>\n",
       "      <td>6.7</td>\n",
       "      <td>3.0</td>\n",
       "      <td>5.2</td>\n",
       "      <td>2.3</td>\n",
       "      <td>virginica</td>\n",
       "    </tr>\n",
       "    <tr>\n",
       "      <th>146</th>\n",
       "      <td>6.3</td>\n",
       "      <td>2.5</td>\n",
       "      <td>5.0</td>\n",
       "      <td>1.9</td>\n",
       "      <td>virginica</td>\n",
       "    </tr>\n",
       "    <tr>\n",
       "      <th>147</th>\n",
       "      <td>6.5</td>\n",
       "      <td>3.0</td>\n",
       "      <td>5.2</td>\n",
       "      <td>2.0</td>\n",
       "      <td>virginica</td>\n",
       "    </tr>\n",
       "    <tr>\n",
       "      <th>148</th>\n",
       "      <td>6.2</td>\n",
       "      <td>3.4</td>\n",
       "      <td>5.4</td>\n",
       "      <td>2.3</td>\n",
       "      <td>virginica</td>\n",
       "    </tr>\n",
       "    <tr>\n",
       "      <th>149</th>\n",
       "      <td>5.9</td>\n",
       "      <td>3.0</td>\n",
       "      <td>5.1</td>\n",
       "      <td>1.8</td>\n",
       "      <td>virginica</td>\n",
       "    </tr>\n",
       "  </tbody>\n",
       "</table>\n",
       "<p>150 rows × 5 columns</p>\n",
       "</div>"
      ],
      "text/plain": [
       "     sepal length (cm)  sepal width (cm)  petal length (cm)  petal width (cm)  \\\n",
       "0                  5.1               3.5                1.4               0.2   \n",
       "1                  4.9               3.0                1.4               0.2   \n",
       "2                  4.7               3.2                1.3               0.2   \n",
       "3                  4.6               3.1                1.5               0.2   \n",
       "4                  5.0               3.6                1.4               0.2   \n",
       "..                 ...               ...                ...               ...   \n",
       "145                6.7               3.0                5.2               2.3   \n",
       "146                6.3               2.5                5.0               1.9   \n",
       "147                6.5               3.0                5.2               2.0   \n",
       "148                6.2               3.4                5.4               2.3   \n",
       "149                5.9               3.0                5.1               1.8   \n",
       "\n",
       "       Species  \n",
       "0       setosa  \n",
       "1       setosa  \n",
       "2       setosa  \n",
       "3       setosa  \n",
       "4       setosa  \n",
       "..         ...  \n",
       "145  virginica  \n",
       "146  virginica  \n",
       "147  virginica  \n",
       "148  virginica  \n",
       "149  virginica  \n",
       "\n",
       "[150 rows x 5 columns]"
      ]
     },
     "execution_count": 14,
     "metadata": {},
     "output_type": "execute_result"
    }
   ],
   "source": [
    "features[\"Species\"] = pd.Categorical.from_codes(iris[\"target\"], iris[\"target_names\"])\n",
    "features"
   ]
  },
  {
   "cell_type": "code",
   "execution_count": 15,
   "metadata": {},
   "outputs": [
    {
     "data": {
      "text/plain": [
       "<matplotlib.axes._subplots.AxesSubplot at 0x209fe593048>"
      ]
     },
     "execution_count": 15,
     "metadata": {},
     "output_type": "execute_result"
    },
    {
     "data": {
      "image/png": "[encoded data removed]",
      "text/plain": [
       "<Figure size 432x288 with 1 Axes>"
      ]
     },
     "metadata": {
      "needs_background": "light"
     },
     "output_type": "display_data"
    }
   ],
   "source": [
    "sb.scatterplot(x = \"petal length (cm)\", y = \"sepal length (cm)\", data = features, hue = \"Species\")  #  this is the label datasets"
   ]
  },
  {
   "cell_type": "code",
   "execution_count": 16,
   "metadata": {},
   "outputs": [
    {
     "data": {
      "text/plain": [
       "<matplotlib.axes._subplots.AxesSubplot at 0x2098005cac8>"
      ]
     },
     "execution_count": 16,
     "metadata": {},
     "output_type": "execute_result"
    },
    {
     "data": {
      "image/png": "[encoded data removed]",
      "text/plain": [
       "<Figure size 432x288 with 1 Axes>"
      ]
     },
     "metadata": {
      "needs_background": "light"
     },
     "output_type": "display_data"
    }
   ],
   "source": [
    "sb.scatterplot(x = \"petal length (cm)\", y = \"sepal length (cm)\", data = features)   # This is the Unlabel data suited for clustering"
   ]
  },
  {
   "cell_type": "code",
   "execution_count": 17,
   "metadata": {},
   "outputs": [],
   "source": [
    "from sklearn.cluster import KMeans"
   ]
  },
  {
   "cell_type": "code",
   "execution_count": 18,
   "metadata": {},
   "outputs": [],
   "source": [
    "k = 3\n",
    "cluster = KMeans(n_clusters = k)  "
   ]
  },
  {
   "cell_type": "code",
   "execution_count": 19,
   "metadata": {},
   "outputs": [
    {
     "data": {
      "text/plain": [
       "array([1, 1, 1, 1, 1, 1, 1, 1, 1, 1, 1, 1, 1, 1, 1, 1, 1, 1, 1, 1, 1, 1,\n",
       "       1, 1, 1, 1, 1, 1, 1, 1, 1, 1, 1, 1, 1, 1, 1, 1, 1, 1, 1, 1, 1, 1,\n",
       "       1, 1, 1, 1, 1, 1, 0, 0, 2, 0, 0, 0, 0, 0, 0, 0, 0, 0, 0, 0, 0, 0,\n",
       "       0, 0, 0, 0, 0, 0, 0, 0, 0, 0, 0, 2, 0, 0, 0, 0, 0, 0, 0, 0, 0, 0,\n",
       "       0, 0, 0, 0, 0, 0, 0, 0, 0, 0, 0, 0, 2, 0, 2, 2, 2, 2, 0, 2, 2, 2,\n",
       "       2, 2, 2, 0, 0, 2, 2, 2, 2, 0, 2, 0, 2, 0, 2, 2, 0, 0, 2, 2, 2, 2,\n",
       "       2, 0, 2, 2, 2, 2, 0, 2, 2, 2, 0, 2, 2, 2, 0, 2, 2, 0])"
      ]
     },
     "execution_count": 19,
     "metadata": {},
     "output_type": "execute_result"
    }
   ],
   "source": [
    "label = cluster.fit_predict(X)\n",
    "label"
   ]
  },
  {
   "cell_type": "code",
   "execution_count": 20,
   "metadata": {},
   "outputs": [
    {
     "data": {
      "text/plain": [
       "array([1, 1, 1, 1, 1, 1, 1, 1, 1, 1, 1, 1, 1, 1, 1, 1, 1, 1, 1, 1, 1, 1,\n",
       "       1, 1, 1, 1, 1, 1, 1, 1, 1, 1, 1, 1, 1, 1, 1, 1, 1, 1, 1, 1, 1, 1,\n",
       "       1, 1, 1, 1, 1, 1, 0, 0, 2, 0, 0, 0, 0, 0, 0, 0, 0, 0, 0, 0, 0, 0,\n",
       "       0, 0, 0, 0, 0, 0, 0, 0, 0, 0, 0, 2, 0, 0, 0, 0, 0, 0, 0, 0, 0, 0,\n",
       "       0, 0, 0, 0, 0, 0, 0, 0, 0, 0, 0, 0, 2, 0, 2, 2, 2, 2, 0, 2, 2, 2,\n",
       "       2, 2, 2, 0, 0, 2, 2, 2, 2, 0, 2, 0, 2, 0, 2, 2, 0, 0, 2, 2, 2, 2,\n",
       "       2, 0, 2, 2, 2, 2, 0, 2, 2, 2, 0, 2, 2, 2, 0, 2, 2, 0])"
      ]
     },
     "execution_count": 20,
     "metadata": {},
     "output_type": "execute_result"
    }
   ],
   "source": [
    "cluster.labels_   # accessing the labels"
   ]
  },
  {
   "cell_type": "code",
   "execution_count": 21,
   "metadata": {},
   "outputs": [
    {
     "data": {
      "text/plain": [
       "array([[5.9016129 , 2.7483871 , 4.39354839, 1.43387097],\n",
       "       [5.006     , 3.428     , 1.462     , 0.246     ],\n",
       "       [6.85      , 3.07368421, 5.74210526, 2.07105263]])"
      ]
     },
     "execution_count": 21,
     "metadata": {},
     "output_type": "execute_result"
    }
   ],
   "source": [
    "cluster.cluster_centers_  #  gives the cluster centroid for the 3 clusters"
   ]
  },
  {
   "cell_type": "code",
   "execution_count": 22,
   "metadata": {},
   "outputs": [
    {
     "data": {
      "text/plain": [
       "78.85144142614601"
      ]
     },
     "execution_count": 22,
     "metadata": {},
     "output_type": "execute_result"
    }
   ],
   "source": [
    "cluster.inertia_"
   ]
  },
  {
   "cell_type": "code",
   "execution_count": 23,
   "metadata": {},
   "outputs": [
    {
     "data": {
      "text/plain": [
       "True"
      ]
     },
     "execution_count": 23,
     "metadata": {},
     "output_type": "execute_result"
    }
   ],
   "source": [
    "cluster.labels_ is label"
   ]
  },
  {
   "cell_type": "code",
   "execution_count": 24,
   "metadata": {},
   "outputs": [
    {
     "data": {
      "text/plain": [
       "array([0, 0, 0, 0, 0, 0, 0, 0, 0, 0, 0, 0, 0, 0, 0, 0, 0, 0, 0, 0, 0, 0,\n",
       "       0, 0, 0, 0, 0, 0, 0, 0, 0, 0, 0, 0, 0, 0, 0, 0, 0, 0, 0, 0, 0, 0,\n",
       "       0, 0, 0, 0, 0, 0, 1, 1, 1, 1, 1, 1, 1, 1, 1, 1, 1, 1, 1, 1, 1, 1,\n",
       "       1, 1, 1, 1, 1, 1, 1, 1, 1, 1, 1, 1, 1, 1, 1, 1, 1, 1, 1, 1, 1, 1,\n",
       "       1, 1, 1, 1, 1, 1, 1, 1, 1, 1, 1, 1, 2, 2, 2, 2, 2, 2, 2, 2, 2, 2,\n",
       "       2, 2, 2, 2, 2, 2, 2, 2, 2, 2, 2, 2, 2, 2, 2, 2, 2, 2, 2, 2, 2, 2,\n",
       "       2, 2, 2, 2, 2, 2, 2, 2, 2, 2, 2, 2, 2, 2, 2, 2, 2, 2])"
      ]
     },
     "execution_count": 24,
     "metadata": {},
     "output_type": "execute_result"
    }
   ],
   "source": [
    "iris[\"target\"]"
   ]
  },
  {
   "cell_type": "code",
   "execution_count": 25,
   "metadata": {},
   "outputs": [],
   "source": [
    "\n",
    "from sklearn.metrics import accuracy_score"
   ]
  },
  {
   "cell_type": "code",
   "execution_count": 26,
   "metadata": {},
   "outputs": [
    {
     "data": {
      "text/plain": [
       "0.24"
      ]
     },
     "execution_count": 26,
     "metadata": {},
     "output_type": "execute_result"
    }
   ],
   "source": [
    "accuracy_score(label, iris[\"target\"])"
   ]
  },
  {
   "cell_type": "code",
   "execution_count": 27,
   "metadata": {},
   "outputs": [
    {
     "data": {
      "text/plain": [
       "36"
      ]
     },
     "execution_count": 27,
     "metadata": {},
     "output_type": "execute_result"
    }
   ],
   "source": [
    "sum(label == iris[\"target\"])"
   ]
  },
  {
   "cell_type": "code",
   "execution_count": 28,
   "metadata": {},
   "outputs": [],
   "source": [
    "# we can predict new cluster for new instance of dataset"
   ]
  },
  {
   "cell_type": "code",
   "execution_count": 29,
   "metadata": {},
   "outputs": [
    {
     "data": {
      "text/plain": [
       "array([0, 0, 1])"
      ]
     },
     "execution_count": 29,
     "metadata": {},
     "output_type": "execute_result"
    }
   ],
   "source": [
    "cluster.predict([[0.2, 3.4, 4.2, 3.4], [4.2, 0.2, 3.2, 3.4], [0.26, 3.6, 1.5, 0.3]])  #  This new instance predict the cluster if the new instance is  passed to the fit cluster"
   ]
  },
  {
   "cell_type": "code",
   "execution_count": 30,
   "metadata": {},
   "outputs": [],
   "source": [
    "# The K-Mean algorithm helps to determine the distance between instance in the new test datasets and the centroid of a fit k-mean fit algo"
   ]
  },
  {
   "cell_type": "code",
   "execution_count": 31,
   "metadata": {},
   "outputs": [
    {
     "data": {
      "text/plain": [
       "array([[5.1, 3.5, 1.4, 0.2],\n",
       "       [4.9, 3. , 1.4, 0.2],\n",
       "       [4.7, 3.2, 1.3, 0.2],\n",
       "       [4.6, 3.1, 1.5, 0.2],\n",
       "       [5. , 3.6, 1.4, 0.2],\n",
       "       [5.4, 3.9, 1.7, 0.4],\n",
       "       [4.6, 3.4, 1.4, 0.3],\n",
       "       [5. , 3.4, 1.5, 0.2],\n",
       "       [4.4, 2.9, 1.4, 0.2],\n",
       "       [4.9, 3.1, 1.5, 0.1]])"
      ]
     },
     "execution_count": 31,
     "metadata": {},
     "output_type": "execute_result"
    }
   ],
   "source": [
    "New_X = X[:np.random.randint(X.shape[0])]  # Picking a random array from the dataset \n",
    "New_X[:10]"
   ]
  },
  {
   "cell_type": "code",
   "execution_count": 32,
   "metadata": {},
   "outputs": [
    {
     "data": {
      "text/plain": [
       "array([[5.1, 3.5, 1.4, 0.2],\n",
       "       [4.9, 3. , 1.4, 0.2],\n",
       "       [4.7, 3.2, 1.3, 0.2],\n",
       "       [4.6, 3.1, 1.5, 0.2],\n",
       "       [5. , 3.6, 1.4, 0.2],\n",
       "       [5.4, 3.9, 1.7, 0.4],\n",
       "       [4.6, 3.4, 1.4, 0.3],\n",
       "       [5. , 3.4, 1.5, 0.2],\n",
       "       [4.4, 2.9, 1.4, 0.2],\n",
       "       [4.9, 3.1, 1.5, 0.1]])"
      ]
     },
     "execution_count": 32,
     "metadata": {},
     "output_type": "execute_result"
    }
   ],
   "source": [
    "New_X[:10]"
   ]
  },
  {
   "cell_type": "code",
   "execution_count": 33,
   "metadata": {},
   "outputs": [
    {
     "data": {
      "text/plain": [
       "array([[3.41925061, 0.14135063, 5.0595416 ],\n",
       "       [3.39857426, 0.44763825, 5.11494335],\n",
       "       [3.56935666, 0.4171091 , 5.27935534],\n",
       "       [3.42240962, 0.52533799, 5.15358977],\n",
       "       [3.46726403, 0.18862662, 5.10433388],\n",
       "       [3.14673162, 0.67703767, 4.68148797],\n",
       "       [3.51650264, 0.4151867 , 5.21147652],\n",
       "       [3.33654987, 0.06618157, 5.00252706],\n",
       "       [3.57233779, 0.80745278, 5.32798107],\n",
       "       [3.3583767 , 0.37627118, 5.06790865],\n",
       "       [3.32449131, 0.4824728 , 4.89806763],\n",
       "       [3.31126872, 0.25373214, 4.9966845 ],\n",
       "       [3.46661272, 0.50077939, 5.19103612],\n",
       "       [3.90578362, 0.91322505, 5.65173594],\n",
       "       [3.646649  , 1.01409073, 5.10804455],\n",
       "       [3.49427881, 1.20481534, 4.88564095],\n",
       "       [3.495248  , 0.6542018 , 5.03090587],\n",
       "       [3.38444981, 0.1441527 , 5.02342022],\n",
       "       [3.11245944, 0.82436642, 4.61792995],\n",
       "       [3.37738931, 0.38933276, 4.97213426],\n",
       "       [3.07471224, 0.46344363, 4.6955761 ],\n",
       "       [3.31506588, 0.3286031 , 4.9236821 ],\n",
       "       [3.93167253, 0.64029681, 5.59713396],\n",
       "       [3.01233762, 0.38259639, 4.68193765],\n",
       "       [3.06241269, 0.48701129, 4.75095704],\n",
       "       [3.19414543, 0.45208406, 4.90772894],\n",
       "       [3.17967089, 0.20875823, 4.84545508],\n",
       "       [3.30941724, 0.21536016, 4.93969029],\n",
       "       [3.37648183, 0.21066561, 5.01833618],\n",
       "       [3.31272968, 0.40838707, 5.02954567]])"
      ]
     },
     "execution_count": 33,
     "metadata": {},
     "output_type": "execute_result"
    }
   ],
   "source": [
    "cluster.transform(New_X)  #  The Transform method gives the distance of the each instance of the data from the centroid(which is chosen at random)\n",
    "\n",
    "# This can be very useful for Dimentional reduction of large datasets"
   ]
  },
  {
   "cell_type": "code",
   "execution_count": 34,
   "metadata": {},
   "outputs": [],
   "source": [
    "# The first instance in New_X is 3.4192 away from the first_centroid,  0.141 away from the second_centroid and 5.059 away from the Third_centroid where the iteration stops"
   ]
  },
  {
   "cell_type": "markdown",
   "metadata": {},
   "source": [
    "# Understanding The K-Mean Algorithm"
   ]
  },
  {
   "cell_type": "markdown",
   "metadata": {},
   "source": [
    "So how does the algorithm work? Well it is really quite simple. Suppose you were<br>\n",
    "given the centroids: you could easily label all the instances in the dataset by assigning<br>\n",
    "each of them to the cluster whose centroid is closest. Conversely, if you were given all<br>\n",
    "the instance labels, you could easily locate all the centroids by computing the mean of<br>\n",
    "the instances for each cluster. But you are given neither the labels nor the centroids,<br>\n",
    "so how can you proceed? Well, just start by placing the centroids randomly (e.g., by\n",
    "picking k instances at random and using their locations as centroids). Then label the<br>\n",
    "instances, update the centroids, label the instances, update the centroids, and so on<br>\n",
    "until the centroids stop moving. The algorithm is guaranteed to converge in a finite<br>\n",
    "number of steps (usually quite small), it will not oscillate forever\n",
    "\n"
   ]
  },
  {
   "cell_type": "code",
   "execution_count": 35,
   "metadata": {},
   "outputs": [],
   "source": [
    "# The cenroid position are initialized randomly"
   ]
  },
  {
   "cell_type": "code",
   "execution_count": 36,
   "metadata": {},
   "outputs": [],
   "source": [
    "#  picking a random initialization of k-Mean centroid can actually make the algorithm converge to a wrong solution i.e local optimum"
   ]
  },
  {
   "cell_type": "code",
   "execution_count": 37,
   "metadata": {},
   "outputs": [],
   "source": [
    "# The performnace metrics inertia which is the mean square distance between the the datasets instance and the closest centroid is used to pick the optimal performig algorithm\n",
    "# The smaller the inertia, the better the convergence of the algorithm, the better the clustering"
   ]
  },
  {
   "cell_type": "markdown",
   "metadata": {},
   "source": [
    "# Centroid Initialization method"
   ]
  },
  {
   "cell_type": "code",
   "execution_count": 38,
   "metadata": {},
   "outputs": [
    {
     "data": {
      "text/plain": [
       "array([[5.9016129 , 2.7483871 , 4.39354839, 1.43387097],\n",
       "       [5.006     , 3.428     , 1.462     , 0.246     ],\n",
       "       [6.85      , 3.07368421, 5.74210526, 2.07105263]])"
      ]
     },
     "execution_count": 38,
     "metadata": {},
     "output_type": "execute_result"
    }
   ],
   "source": [
    "cluster.cluster_centers_"
   ]
  },
  {
   "cell_type": "code",
   "execution_count": 39,
   "metadata": {},
   "outputs": [],
   "source": [
    "# to avoid the local optimal convergence of the algorithm, we can randomly pass an array to initilize clustering position foreach cluster in the datasets and used the the one with lowest inertia score"
   ]
  },
  {
   "cell_type": "code",
   "execution_count": 40,
   "metadata": {},
   "outputs": [
    {
     "data": {
      "text/plain": [
       "array([[5.9016129 , 2.7483871 , 4.39354839, 1.43387097],\n",
       "       [5.006     , 3.428     , 1.462     , 0.246     ],\n",
       "       [6.85      , 3.07368421, 5.74210526, 2.07105263]])"
      ]
     },
     "execution_count": 40,
     "metadata": {},
     "output_type": "execute_result"
    }
   ],
   "source": [
    "cluster.cluster_centers_"
   ]
  },
  {
   "cell_type": "code",
   "execution_count": 41,
   "metadata": {},
   "outputs": [],
   "source": [
    "Test_init = np.array([[2, 2,3,5], [1,3,5,7],  [1,2,3,8]])  #  we are setting a starting point for the 3 clusters\n",
    "new_cluster = KMeans(n_clusters = 3, init = Test_init, n_init = 1)  # The n_init is the number of times for the algo to run while init is the hyper parameter we are experimenting with(by default, this number is 10)"
   ]
  },
  {
   "cell_type": "code",
   "execution_count": 42,
   "metadata": {},
   "outputs": [
    {
     "data": {
      "text/plain": [
       "array([[2, 2, 3, 5],\n",
       "       [1, 3, 5, 7],\n",
       "       [1, 2, 3, 8]])"
      ]
     },
     "execution_count": 42,
     "metadata": {},
     "output_type": "execute_result"
    }
   ],
   "source": [
    "Test_init"
   ]
  },
  {
   "cell_type": "code",
   "execution_count": 43,
   "metadata": {},
   "outputs": [
    {
     "data": {
      "text/plain": [
       "array([0, 0, 0, 0, 0, 0, 0, 0, 0, 0, 0, 0, 0, 0, 0, 0, 0, 0, 0, 0, 0, 0,\n",
       "       0, 0, 0, 0, 0, 0, 0, 0, 0, 0, 0, 0, 0, 0, 0, 0, 0, 0, 0, 0, 0, 0,\n",
       "       0, 0, 0, 0, 0, 0, 1, 1, 2, 1, 1, 1, 1, 1, 1, 1, 1, 1, 1, 1, 1, 1,\n",
       "       1, 1, 1, 1, 1, 1, 1, 1, 1, 1, 1, 2, 1, 1, 1, 1, 1, 1, 1, 1, 1, 1,\n",
       "       1, 1, 1, 1, 1, 1, 1, 1, 1, 1, 1, 1, 2, 1, 2, 2, 2, 2, 1, 2, 2, 2,\n",
       "       2, 2, 2, 1, 1, 2, 2, 2, 2, 1, 2, 1, 2, 1, 2, 2, 1, 1, 2, 2, 2, 2,\n",
       "       2, 1, 2, 2, 2, 2, 1, 2, 2, 2, 1, 2, 2, 2, 1, 2, 2, 1])"
      ]
     },
     "execution_count": 43,
     "metadata": {},
     "output_type": "execute_result"
    }
   ],
   "source": [
    "new_cluster.fit_predict(X)"
   ]
  },
  {
   "cell_type": "code",
   "execution_count": 44,
   "metadata": {},
   "outputs": [
    {
     "data": {
      "text/plain": [
       "78.85144142614601"
      ]
     },
     "execution_count": 44,
     "metadata": {},
     "output_type": "execute_result"
    }
   ],
   "source": [
    "new_cluster.inertia_  # This is the Resukt of the Hyper parameter. # giving similar result with the pure random initialized clustering"
   ]
  },
  {
   "cell_type": "code",
   "execution_count": 45,
   "metadata": {},
   "outputs": [
    {
     "data": {
      "text/plain": [
       "78.85144142614601"
      ]
     },
     "execution_count": 45,
     "metadata": {},
     "output_type": "execute_result"
    }
   ],
   "source": [
    "cluster.inertia_"
   ]
  },
  {
   "cell_type": "code",
   "execution_count": 46,
   "metadata": {},
   "outputs": [
    {
     "data": {
      "text/plain": [
       "-78.85144142614597"
      ]
     },
     "execution_count": 46,
     "metadata": {},
     "output_type": "execute_result"
    }
   ],
   "source": [
    "new_cluster.score(X)  # The Kmean Score Method will out put the negative value of the inertia method"
   ]
  },
  {
   "cell_type": "code",
   "execution_count": 47,
   "metadata": {},
   "outputs": [
    {
     "data": {
      "text/plain": [
       "KMeans(algorithm='auto', copy_x=True, init='k-means++', max_iter=300,\n",
       "       n_clusters=3, n_init=10, n_jobs=None, precompute_distances='auto',\n",
       "       random_state=None, tol=0.0001, verbose=0)"
      ]
     },
     "execution_count": 47,
     "metadata": {},
     "output_type": "execute_result"
    }
   ],
   "source": [
    "cluster  "
   ]
  },
  {
   "cell_type": "markdown",
   "metadata": {},
   "source": [
    "# K-Mean Parameter Tuning"
   ]
  },
  {
   "cell_type": "code",
   "execution_count": 48,
   "metadata": {},
   "outputs": [],
   "source": [
    "# The K-Means used the K-means++ parameter which set to randomised the initialization of the centroid away fro each other by taking the probability of each instance and the centroid\n",
    "# It is the best appraoch to initialize the Cluster\n",
    "# If we like we can go through the hassle of passsing a random init parameter like we did above"
   ]
  },
  {
   "cell_type": "code",
   "execution_count": null,
   "metadata": {},
   "outputs": [],
   "source": []
  },
  {
   "cell_type": "markdown",
   "metadata": {},
   "source": [
    "# Accelerated K-Mean and Mini Batch k_Mean"
   ]
  },
  {
   "cell_type": "markdown",
   "metadata": {},
   "source": [
    "Instead of using the full dataset at each iteration, the algorithm is capable of using mini-batches, moving the centroids just slightly at each iter‐\n",
    "ation. <br>\n",
    "This speeds up the algorithm typically by a factor of 3 or 4 and makes it<br>\n",
    "possible to cluster huge datasets that do not fit in memory. Scikit-Learn implements\n",
    "this algorithm in the MiniBatchKMeans class."
   ]
  },
  {
   "cell_type": "code",
   "execution_count": 49,
   "metadata": {},
   "outputs": [],
   "source": [
    "# Implementing k-Means Mini Batch with scikit-Learn\n"
   ]
  },
  {
   "cell_type": "code",
   "execution_count": 50,
   "metadata": {},
   "outputs": [],
   "source": [
    "from sklearn.cluster import MiniBatchKMeans"
   ]
  },
  {
   "cell_type": "code",
   "execution_count": 51,
   "metadata": {},
   "outputs": [
    {
     "data": {
      "text/plain": [
       "MiniBatchKMeans(batch_size=20, compute_labels=True, init='k-means++',\n",
       "                init_size=None, max_iter=100, max_no_improvement=10,\n",
       "                n_clusters=5, n_init=3, random_state=None,\n",
       "                reassignment_ratio=0.01, tol=0.0, verbose=0)"
      ]
     },
     "execution_count": 51,
     "metadata": {},
     "output_type": "execute_result"
    }
   ],
   "source": [
    "MK = MiniBatchKMeans(n_clusters = 5, batch_size = 20)  #  We are setting the batch numbers and cluster.\n",
    "MK.fit(X)"
   ]
  },
  {
   "cell_type": "code",
   "execution_count": 52,
   "metadata": {},
   "outputs": [],
   "source": [
    "# The MiniBatch KMeans and the Kmeans algo are fairly similar in output with the inertia performing metrics. the difference becomes more clear when the k(N_cluster increases) and inertia get reduced drastically\n",
    "#  The Fall back with miniBatchKmeans is that, as the number of clusters increases, the performing metrics inertia becomes worse.\n",
    "# the advantage is that, the training time is less as it trains faster than the ordiary KMeans\n",
    "# The MiniBacthKmeans Run faster than the oridary Kmeans Algo as K increases"
   ]
  },
  {
   "cell_type": "code",
   "execution_count": 53,
   "metadata": {},
   "outputs": [
    {
     "data": {
      "text/plain": [
       "78.85144142614601"
      ]
     },
     "execution_count": 53,
     "metadata": {},
     "output_type": "execute_result"
    }
   ],
   "source": [
    "cluster.inertia_"
   ]
  },
  {
   "cell_type": "markdown",
   "metadata": {},
   "source": [
    "# Finding Optimal Numer of Clusters (K)\n",
    "\n"
   ]
  },
  {
   "cell_type": "code",
   "execution_count": 54,
   "metadata": {},
   "outputs": [],
   "source": [
    "# to find the optimal cluster for the datasets, we can plot range of clusters against performance metrics like inertia to determine the least possible cluster where the inertia drop drastially\n",
    "# This is known as elbow joint method"
   ]
  },
  {
   "cell_type": "code",
   "execution_count": null,
   "metadata": {},
   "outputs": [],
   "source": []
  },
  {
   "cell_type": "code",
   "execution_count": 55,
   "metadata": {},
   "outputs": [],
   "source": [
    "from sklearn.cluster import KMeans"
   ]
  },
  {
   "cell_type": "code",
   "execution_count": 56,
   "metadata": {},
   "outputs": [],
   "source": [
    "Inertia = []\n",
    "s = range(1,10)\n",
    "for i in s:\n",
    "\n",
    "    KMean = KMeans(n_clusters = i)\n",
    "    KMean.fit(X)\n",
    "    Inertia.append(KMean.inertia_)\n",
    "    \n",
    "    \n",
    "    "
   ]
  },
  {
   "cell_type": "code",
   "execution_count": 57,
   "metadata": {},
   "outputs": [
    {
     "data": {
      "text/plain": [
       "[681.3706,\n",
       " 152.34795176035792,\n",
       " 78.85144142614601,\n",
       " 57.25600931571815,\n",
       " 46.44618205128205,\n",
       " 39.03998724608725,\n",
       " 34.40900974025974,\n",
       " 29.990426406926414,\n",
       " 27.983703661327233]"
      ]
     },
     "execution_count": 57,
     "metadata": {},
     "output_type": "execute_result"
    }
   ],
   "source": [
    "Inertia"
   ]
  },
  {
   "cell_type": "code",
   "execution_count": null,
   "metadata": {},
   "outputs": [],
   "source": []
  },
  {
   "cell_type": "code",
   "execution_count": 58,
   "metadata": {},
   "outputs": [
    {
     "data": {
      "text/plain": [
       "Text(0, 0.5, 'inertia')"
      ]
     },
     "execution_count": 58,
     "metadata": {},
     "output_type": "execute_result"
    },
    {
     "data": {
      "image/png": "[encoded data removed]",
      "text/plain": [
       "<Figure size 864x576 with 1 Axes>"
      ]
     },
     "metadata": {
      "needs_background": "light"
     },
     "output_type": "display_data"
    }
   ],
   "source": [
    "plt.figure(figsize = (12, 8))\n",
    "plt.plot(s, Inertia, marker = \"o\", c = \"red\")\n",
    "plt.xlabel(\"cluster (k)\", size = 12)\n",
    "plt.ylabel(\"inertia\", size =12)\n"
   ]
  },
  {
   "cell_type": "code",
   "execution_count": 59,
   "metadata": {},
   "outputs": [],
   "source": [
    "# As shown above, the optimum cluster is chosen at the range in elbow from the plot above. \n",
    "# picking 3 or two for the clusters will be perfect"
   ]
  },
  {
   "cell_type": "code",
   "execution_count": null,
   "metadata": {},
   "outputs": [],
   "source": []
  },
  {
   "cell_type": "code",
   "execution_count": 60,
   "metadata": {},
   "outputs": [
    {
     "data": {
      "text/plain": [
       "KMeans(algorithm='auto', copy_x=True, init='k-means++', max_iter=300,\n",
       "       n_clusters=2, n_init=10, n_jobs=-1, precompute_distances='auto',\n",
       "       random_state=None, tol=0.0001, verbose=0)"
      ]
     },
     "execution_count": 60,
     "metadata": {},
     "output_type": "execute_result"
    }
   ],
   "source": [
    "Final_Cluster = KMeans(n_clusters = 2, n_jobs = -1)\n",
    "Final_Cluster.fit(X)"
   ]
  },
  {
   "cell_type": "code",
   "execution_count": 61,
   "metadata": {},
   "outputs": [
    {
     "data": {
      "text/plain": [
       "array([0, 0, 0, 0, 0, 0, 0, 0, 0, 0, 0, 0, 0, 0, 0, 0, 0, 0, 0, 0, 0, 0,\n",
       "       0, 0, 0, 0, 0, 0, 0, 0, 0, 0, 0, 0, 0, 0, 0, 0, 0, 0, 0, 0, 0, 0,\n",
       "       0, 0, 0, 0, 0, 0, 1, 1, 1, 1, 1, 1, 1, 0, 1, 1, 1, 1, 1, 1, 1, 1,\n",
       "       1, 1, 1, 1, 1, 1, 1, 1, 1, 1, 1, 1, 1, 1, 1, 1, 1, 1, 1, 1, 1, 1,\n",
       "       1, 1, 1, 1, 1, 0, 1, 1, 1, 1, 0, 1, 1, 1, 1, 1, 1, 1, 1, 1, 1, 1,\n",
       "       1, 1, 1, 1, 1, 1, 1, 1, 1, 1, 1, 1, 1, 1, 1, 1, 1, 1, 1, 1, 1, 1,\n",
       "       1, 1, 1, 1, 1, 1, 1, 1, 1, 1, 1, 1, 1, 1, 1, 1, 1, 1])"
      ]
     },
     "execution_count": 61,
     "metadata": {},
     "output_type": "execute_result"
    }
   ],
   "source": [
    "pred = Final_Cluster.predict(X)\n",
    "pred"
   ]
  },
  {
   "cell_type": "code",
   "execution_count": 62,
   "metadata": {},
   "outputs": [
    {
     "data": {
      "text/plain": [
       "0.681046169211746"
      ]
     },
     "execution_count": 62,
     "metadata": {},
     "output_type": "execute_result"
    }
   ],
   "source": [
    "from sklearn.metrics import silhouette_score\n",
    "silhouette_score(X, Final_Cluster.labels_)\n"
   ]
  },
  {
   "cell_type": "markdown",
   "metadata": {},
   "source": [
    "#  Using The Silhouette score for cluster_number Optimal values\n",
    "\n"
   ]
  },
  {
   "cell_type": "markdown",
   "metadata": {},
   "source": [
    "A more precise approach (but also more computationally expensive) is to use the silhouette score, which is the mean silhouette<br>\n",
    "coefficient over all the instances. An instance’s silhouette coefficient is equal to (b – a) / max(a, b) where a is the mean distance<br>\n",
    "to the other instances in the same cluster (it is the mean intra-cluster distance), and b is the mean nearest-cluster distance, that is the mean distance to the instances of the<br>\n",
    "next closest cluster (defined as the one that minimizes b, excluding the instance’s owncluster).<br>\n",
    "The silhouette coefficient can vary between -1 and +1: a coefficient close to +1 means that the instance is well inside its own cluster and far from other clusters,\n",
    "while a coefficient close to 0 means that it is close to a cluster boundary, and finally a coefficient close to -1 means that the instance may have been assigned to the wrong<br>\n",
    "cluster. To compute the silhouette score, you can use Scikit-Learn’s silhouette_score() function, giving it all the instances in the dataset, and the labels they\n",
    "were assigned"
   ]
  },
  {
   "cell_type": "code",
   "execution_count": 63,
   "metadata": {},
   "outputs": [],
   "source": [
    "# we can conpute the silhoutte score for each cluater using scikit-learn metrics"
   ]
  },
  {
   "cell_type": "code",
   "execution_count": 64,
   "metadata": {},
   "outputs": [],
   "source": [
    "# implemeting silhoutte score"
   ]
  },
  {
   "cell_type": "code",
   "execution_count": 65,
   "metadata": {},
   "outputs": [],
   "source": [
    "from sklearn.metrics import silhouette_score\n",
    "# Note, valid starting point for clusters is 2."
   ]
  },
  {
   "cell_type": "code",
   "execution_count": 66,
   "metadata": {},
   "outputs": [],
   "source": [
    "store = []\n",
    "k = range(2,10)\n",
    "for cluster in k:\n",
    "    SL = KMeans(n_clusters = cluster, n_jobs = -1)\n",
    "    SL.fit(X)\n",
    "    store.append(silhouette_score(X, SL.labels_))\n",
    "    \n",
    "    \n",
    "    \n",
    "    \n",
    "    "
   ]
  },
  {
   "cell_type": "code",
   "execution_count": 67,
   "metadata": {},
   "outputs": [
    {
     "data": {
      "text/plain": [
       "[0.681046169211746,\n",
       " 0.5528190123564091,\n",
       " 0.4980505049972866,\n",
       " 0.4887488870931048,\n",
       " 0.3648340039670018,\n",
       " 0.3588294450965675,\n",
       " 0.35974549238457515,\n",
       " 0.33413129604348124]"
      ]
     },
     "execution_count": 67,
     "metadata": {},
     "output_type": "execute_result"
    }
   ],
   "source": [
    "store"
   ]
  },
  {
   "cell_type": "code",
   "execution_count": 68,
   "metadata": {},
   "outputs": [
    {
     "data": {
      "text/plain": [
       "Text(0, 0.5, 'Silhoutte score')"
      ]
     },
     "execution_count": 68,
     "metadata": {},
     "output_type": "execute_result"
    },
    {
     "data": {
      "image/png": "[encoded data removed]",
      "text/plain": [
       "<Figure size 720x576 with 1 Axes>"
      ]
     },
     "metadata": {
      "needs_background": "light"
     },
     "output_type": "display_data"
    }
   ],
   "source": [
    "plt.figure(figsize = (10,8))\n",
    "plt.plot(k, store, marker = \"o\")\n",
    "plt.xlabel(\"cluster (k)\", size = 12)\n",
    "plt.ylabel(\"Silhoutte score\", size =12)\n",
    "\n",
    "# The plot authenticate the previous elbow metho. showing that 2 will give the optimim cluster and of course, 3 wont be bad as well"
   ]
  },
  {
   "cell_type": "code",
   "execution_count": 69,
   "metadata": {},
   "outputs": [],
   "source": [
    "# Note to get an optimal result for KMeans, The datset is scaled to avoid overstretching the data"
   ]
  },
  {
   "cell_type": "code",
   "execution_count": null,
   "metadata": {},
   "outputs": [],
   "source": []
  },
  {
   "cell_type": "markdown",
   "metadata": {},
   "source": [
    "\n",
    "# Limit of K-Means"
   ]
  },
  {
   "cell_type": "code",
   "execution_count": 70,
   "metadata": {},
   "outputs": [],
   "source": [
    "# It does not produce good result when we have varying sizes or different densities, or non spherical shapes\n",
    "# The hassle of getting the right number of clusters\n",
    "# could takes a long running time in order to avoid converging to sub optimal solutions"
   ]
  },
  {
   "cell_type": "code",
   "execution_count": null,
   "metadata": {},
   "outputs": [],
   "source": []
  },
  {
   "cell_type": "markdown",
   "metadata": {},
   "source": [
    "# Using Clusters for image segmentation"
   ]
  },
  {
   "cell_type": "code",
   "execution_count": 71,
   "metadata": {},
   "outputs": [],
   "source": [
    "from matplotlib.image import imread\n",
    "import os"
   ]
  },
  {
   "cell_type": "markdown",
   "metadata": {},
   "source": [
    ">>> image = imread(os.path.join(\"images\",\"clustering\",\"ladybug.png\"))\n",
    "\n",
    "the above is the firmat to naviagaye through a folder\n"
   ]
  },
  {
   "cell_type": "code",
   "execution_count": 72,
   "metadata": {},
   "outputs": [],
   "source": [
    "image = imread(\"C:/Users/admin/Pictures/Camera Roll/IMG_20200613_010050 (2).jpg\")"
   ]
  },
  {
   "cell_type": "code",
   "execution_count": 73,
   "metadata": {},
   "outputs": [
    {
     "data": {
      "text/plain": [
       "array([[[212, 190, 151],\n",
       "        [211, 189, 152],\n",
       "        [211, 189, 152],\n",
       "        ...,\n",
       "        [ 13,  13,  11],\n",
       "        [ 13,  13,  11],\n",
       "        [ 12,  12,  10]],\n",
       "\n",
       "       [[213, 191, 154],\n",
       "        [212, 190, 153],\n",
       "        [212, 190, 153],\n",
       "        ...,\n",
       "        [ 14,  14,  12],\n",
       "        [ 13,  13,  11],\n",
       "        [ 13,  13,  11]],\n",
       "\n",
       "       [[215, 191, 155],\n",
       "        [214, 190, 156],\n",
       "        [213, 190, 156],\n",
       "        ...,\n",
       "        [ 14,  14,  12],\n",
       "        [ 14,  14,  12],\n",
       "        [ 13,  13,  11]],\n",
       "\n",
       "       ...,\n",
       "\n",
       "       [[ 89,  89,  89],\n",
       "        [ 89,  89,  89],\n",
       "        [ 89,  89,  89],\n",
       "        ...,\n",
       "        [ 89,  89,  89],\n",
       "        [ 89,  89,  89],\n",
       "        [ 89,  89,  89]],\n",
       "\n",
       "       [[ 89,  89,  89],\n",
       "        [ 89,  89,  89],\n",
       "        [ 89,  89,  89],\n",
       "        ...,\n",
       "        [ 89,  89,  89],\n",
       "        [ 89,  89,  89],\n",
       "        [ 89,  89,  89]],\n",
       "\n",
       "       [[ 89,  89,  89],\n",
       "        [ 89,  89,  89],\n",
       "        [ 89,  89,  89],\n",
       "        ...,\n",
       "        [ 89,  89,  89],\n",
       "        [ 89,  89,  89],\n",
       "        [ 89,  89,  89]]], dtype=uint8)"
      ]
     },
     "execution_count": 73,
     "metadata": {},
     "output_type": "execute_result"
    }
   ],
   "source": [
    "image"
   ]
  },
  {
   "cell_type": "code",
   "execution_count": 74,
   "metadata": {},
   "outputs": [
    {
     "data": {
      "text/plain": [
       "(631, 547, 3)"
      ]
     },
     "execution_count": 74,
     "metadata": {},
     "output_type": "execute_result"
    }
   ],
   "source": [
    "image.shape"
   ]
  },
  {
   "cell_type": "code",
   "execution_count": 75,
   "metadata": {},
   "outputs": [],
   "source": [
    "# we can also use openCV to read the picture (Computer Vision)"
   ]
  },
  {
   "cell_type": "code",
   "execution_count": 76,
   "metadata": {},
   "outputs": [],
   "source": [
    "import cv2"
   ]
  },
  {
   "cell_type": "code",
   "execution_count": null,
   "metadata": {},
   "outputs": [],
   "source": []
  },
  {
   "cell_type": "code",
   "execution_count": 77,
   "metadata": {},
   "outputs": [
    {
     "data": {
      "text/plain": [
       "(-0.5, 546.5, 630.5, -0.5)"
      ]
     },
     "execution_count": 77,
     "metadata": {},
     "output_type": "execute_result"
    },
    {
     "data": {
      "image/png": "[encoded data removed]",
      "text/plain": [
       "<Figure size 432x288 with 1 Axes>"
      ]
     },
     "metadata": {
      "needs_background": "light"
     },
     "output_type": "display_data"
    }
   ],
   "source": [
    "plt.imshow(cv2.imread(\"C:/Users/admin/Pictures/Camera Roll/IMG_20200613_010050 (2).jpg\"))\n",
    "plt.axis(\"off\")"
   ]
  },
  {
   "cell_type": "code",
   "execution_count": 78,
   "metadata": {},
   "outputs": [
    {
     "data": {
      "text/plain": [
       "array([[151, 190, 212],\n",
       "       [150, 189, 211],\n",
       "       [154, 188, 211],\n",
       "       ...,\n",
       "       [ 89,  89,  89],\n",
       "       [ 89,  89,  89],\n",
       "       [ 89,  89,  89]], dtype=uint8)"
      ]
     },
     "execution_count": 78,
     "metadata": {},
     "output_type": "execute_result"
    }
   ],
   "source": [
    "pics = cv2.imread(\"C:/Users/admin\\Pictures/Camera Roll/IMG_20200613_010050 (2).jpg\").reshape(-1,3)\n",
    "pics"
   ]
  },
  {
   "cell_type": "code",
   "execution_count": 79,
   "metadata": {},
   "outputs": [
    {
     "data": {
      "text/plain": [
       "<matplotlib.image.AxesImage at 0x2098174c508>"
      ]
     },
     "execution_count": 79,
     "metadata": {},
     "output_type": "execute_result"
    },
    {
     "data": {
      "image/png": "[encoded data removed]",
      "text/plain": [
       "<Figure size 432x288 with 1 Axes>"
      ]
     },
     "metadata": {
      "needs_background": "light"
     },
     "output_type": "display_data"
    }
   ],
   "source": [
    "plt.imshow(image)"
   ]
  },
  {
   "cell_type": "code",
   "execution_count": 80,
   "metadata": {},
   "outputs": [
    {
     "data": {
      "text/plain": [
       "(631, 547, 3)"
      ]
     },
     "execution_count": 80,
     "metadata": {},
     "output_type": "execute_result"
    }
   ],
   "source": [
    "image.shape"
   ]
  },
  {
   "cell_type": "code",
   "execution_count": 81,
   "metadata": {},
   "outputs": [
    {
     "data": {
      "text/plain": [
       "(array([[212, 190, 151],\n",
       "        [211, 189, 152],\n",
       "        [211, 189, 152],\n",
       "        ...,\n",
       "        [ 89,  89,  89],\n",
       "        [ 89,  89,  89],\n",
       "        [ 89,  89,  89]], dtype=uint8),\n",
       " (345157, 3))"
      ]
     },
     "execution_count": 81,
     "metadata": {},
     "output_type": "execute_result"
    }
   ],
   "source": [
    "# Kmean will not work with 3D array\n",
    "# so we have to reshape it to 2D\n",
    "X = image.reshape(-1,3)\n",
    "X, X.shape"
   ]
  },
  {
   "cell_type": "code",
   "execution_count": 82,
   "metadata": {},
   "outputs": [
    {
     "data": {
      "text/plain": [
       "2"
      ]
     },
     "execution_count": 82,
     "metadata": {},
     "output_type": "execute_result"
    }
   ],
   "source": [
    "X.ndim  # We can now go ahead and look for clusters in the image"
   ]
  },
  {
   "cell_type": "code",
   "execution_count": 83,
   "metadata": {},
   "outputs": [
    {
     "data": {
      "text/plain": [
       "KMeans(algorithm='auto', copy_x=True, init='k-means++', max_iter=300,\n",
       "       n_clusters=3, n_init=10, n_jobs=-1, precompute_distances='auto',\n",
       "       random_state=None, tol=0.0001, verbose=0)"
      ]
     },
     "execution_count": 83,
     "metadata": {},
     "output_type": "execute_result"
    }
   ],
   "source": [
    "Face = KMeans(n_clusters = 3, n_jobs = -1)\n",
    "Face.fit(X)"
   ]
  },
  {
   "cell_type": "code",
   "execution_count": 84,
   "metadata": {},
   "outputs": [
    {
     "data": {
      "text/plain": [
       "array([[211, 194, 175],\n",
       "       [ 19,  17,  12],\n",
       "       [128, 112,  96]])"
      ]
     },
     "execution_count": 84,
     "metadata": {},
     "output_type": "execute_result"
    }
   ],
   "source": [
    "centers = Face.cluster_centers_\n",
    "centers = centers.astype(int)\n",
    "centers"
   ]
  },
  {
   "cell_type": "code",
   "execution_count": 85,
   "metadata": {},
   "outputs": [
    {
     "data": {
      "text/plain": [
       "array([0, 0, 0, ..., 2, 2, 2])"
      ]
     },
     "execution_count": 85,
     "metadata": {},
     "output_type": "execute_result"
    }
   ],
   "source": [
    "labels = Face.labels_\n",
    "labels"
   ]
  },
  {
   "cell_type": "code",
   "execution_count": 86,
   "metadata": {},
   "outputs": [
    {
     "data": {
      "text/plain": [
       "array([[211, 194, 175],\n",
       "       [211, 194, 175],\n",
       "       [211, 194, 175],\n",
       "       ...,\n",
       "       [128, 112,  96],\n",
       "       [128, 112,  96],\n",
       "       [128, 112,  96]])"
      ]
     },
     "execution_count": 86,
     "metadata": {},
     "output_type": "execute_result"
    }
   ],
   "source": [
    "new_clusters = centers[labels]\n",
    "new_clusters"
   ]
  },
  {
   "cell_type": "code",
   "execution_count": 87,
   "metadata": {},
   "outputs": [
    {
     "data": {
      "text/plain": [
       "array([[[211, 194, 175],\n",
       "        [211, 194, 175],\n",
       "        [211, 194, 175],\n",
       "        ...,\n",
       "        [ 19,  17,  12],\n",
       "        [ 19,  17,  12],\n",
       "        [ 19,  17,  12]],\n",
       "\n",
       "       [[211, 194, 175],\n",
       "        [211, 194, 175],\n",
       "        [211, 194, 175],\n",
       "        ...,\n",
       "        [ 19,  17,  12],\n",
       "        [ 19,  17,  12],\n",
       "        [ 19,  17,  12]],\n",
       "\n",
       "       [[211, 194, 175],\n",
       "        [211, 194, 175],\n",
       "        [211, 194, 175],\n",
       "        ...,\n",
       "        [ 19,  17,  12],\n",
       "        [ 19,  17,  12],\n",
       "        [ 19,  17,  12]],\n",
       "\n",
       "       ...,\n",
       "\n",
       "       [[128, 112,  96],\n",
       "        [128, 112,  96],\n",
       "        [128, 112,  96],\n",
       "        ...,\n",
       "        [128, 112,  96],\n",
       "        [128, 112,  96],\n",
       "        [128, 112,  96]],\n",
       "\n",
       "       [[128, 112,  96],\n",
       "        [128, 112,  96],\n",
       "        [128, 112,  96],\n",
       "        ...,\n",
       "        [128, 112,  96],\n",
       "        [128, 112,  96],\n",
       "        [128, 112,  96]],\n",
       "\n",
       "       [[128, 112,  96],\n",
       "        [128, 112,  96],\n",
       "        [128, 112,  96],\n",
       "        ...,\n",
       "        [128, 112,  96],\n",
       "        [128, 112,  96],\n",
       "        [128, 112,  96]]])"
      ]
     },
     "execution_count": 87,
     "metadata": {},
     "output_type": "execute_result"
    }
   ],
   "source": [
    "# Reshaping back to original image size\n",
    "new_cluster = new_clusters.reshape(image.shape)\n",
    "new_cluster"
   ]
  },
  {
   "cell_type": "code",
   "execution_count": 88,
   "metadata": {},
   "outputs": [
    {
     "data": {
      "text/plain": [
       "(-0.5, 546.5, 630.5, -0.5)"
      ]
     },
     "execution_count": 88,
     "metadata": {},
     "output_type": "execute_result"
    },
    {
     "data": {
      "image/png": "[encoded data removed]",
      "text/plain": [
       "<Figure size 864x576 with 1 Axes>"
      ]
     },
     "metadata": {
      "needs_background": "light"
     },
     "output_type": "display_data"
    }
   ],
   "source": [
    "plt.figure(figsize = (12,8))\n",
    "plt.imshow(new_cluster, interpolation = \"nearest\")\n",
    "plt.axis(\"off\")  #  The Cluster here segmmented the image into 3 colour (from the cluster) 1.e, it group the image into 3 distinct clusters\n",
    "# If we observed very well, black air and black background are grouped together with the same black colour.\n",
    "# Face too got a distinct colour\n",
    "# the bears on the face are also cluster to the same colour"
   ]
  },
  {
   "cell_type": "code",
   "execution_count": null,
   "metadata": {},
   "outputs": [],
   "source": []
  },
  {
   "cell_type": "code",
   "execution_count": null,
   "metadata": {},
   "outputs": [],
   "source": []
  },
  {
   "cell_type": "markdown",
   "metadata": {},
   "source": [
    "# Using Clustering for preprocessing"
   ]
  },
  {
   "cell_type": "markdown",
   "metadata": {},
   "source": [
    "Clustering can be an efficient approach to dimensionality reduction, in particular as a\n",
    "preprocessing step before a supervised learning algorithm"
   ]
  },
  {
   "cell_type": "code",
   "execution_count": 89,
   "metadata": {},
   "outputs": [],
   "source": [
    "# Lets experiment this with the digits datasets from sklearn"
   ]
  },
  {
   "cell_type": "code",
   "execution_count": 90,
   "metadata": {},
   "outputs": [],
   "source": [
    "from sklearn.datasets import load_digits\n",
    "X, Y = load_digits(return_X_y = True)"
   ]
  },
  {
   "cell_type": "code",
   "execution_count": 91,
   "metadata": {},
   "outputs": [
    {
     "data": {
      "text/plain": [
       "array([[ 0.,  0.,  5., 13.,  9.,  1.,  0.,  0.,  0.,  0., 13., 15., 10.,\n",
       "        15.,  5.,  0.,  0.,  3., 15.,  2.,  0., 11.,  8.,  0.,  0.,  4.,\n",
       "        12.,  0.,  0.,  8.,  8.,  0.,  0.,  5.,  8.,  0.,  0.,  9.,  8.,\n",
       "         0.,  0.,  4., 11.,  0.,  1., 12.,  7.,  0.,  0.,  2., 14.,  5.,\n",
       "        10., 12.,  0.,  0.,  0.,  0.,  6., 13., 10.,  0.,  0.,  0.],\n",
       "       [ 0.,  0.,  0., 12., 13.,  5.,  0.,  0.,  0.,  0.,  0., 11., 16.,\n",
       "         9.,  0.,  0.,  0.,  0.,  3., 15., 16.,  6.,  0.,  0.,  0.,  7.,\n",
       "        15., 16., 16.,  2.,  0.,  0.,  0.,  0.,  1., 16., 16.,  3.,  0.,\n",
       "         0.,  0.,  0.,  1., 16., 16.,  6.,  0.,  0.,  0.,  0.,  1., 16.,\n",
       "        16.,  6.,  0.,  0.,  0.,  0.,  0., 11., 16., 10.,  0.,  0.],\n",
       "       [ 0.,  0.,  0.,  4., 15., 12.,  0.,  0.,  0.,  0.,  3., 16., 15.,\n",
       "        14.,  0.,  0.,  0.,  0.,  8., 13.,  8., 16.,  0.,  0.,  0.,  0.,\n",
       "         1.,  6., 15., 11.,  0.,  0.,  0.,  1.,  8., 13., 15.,  1.,  0.,\n",
       "         0.,  0.,  9., 16., 16.,  5.,  0.,  0.,  0.,  0.,  3., 13., 16.,\n",
       "        16., 11.,  5.,  0.,  0.,  0.,  0.,  3., 11., 16.,  9.,  0.],\n",
       "       [ 0.,  0.,  7., 15., 13.,  1.,  0.,  0.,  0.,  8., 13.,  6., 15.,\n",
       "         4.,  0.,  0.,  0.,  2.,  1., 13., 13.,  0.,  0.,  0.,  0.,  0.,\n",
       "         2., 15., 11.,  1.,  0.,  0.,  0.,  0.,  0.,  1., 12., 12.,  1.,\n",
       "         0.,  0.,  0.,  0.,  0.,  1., 10.,  8.,  0.,  0.,  0.,  8.,  4.,\n",
       "         5., 14.,  9.,  0.,  0.,  0.,  7., 13., 13.,  9.,  0.,  0.],\n",
       "       [ 0.,  0.,  0.,  1., 11.,  0.,  0.,  0.,  0.,  0.,  0.,  7.,  8.,\n",
       "         0.,  0.,  0.,  0.,  0.,  1., 13.,  6.,  2.,  2.,  0.,  0.,  0.,\n",
       "         7., 15.,  0.,  9.,  8.,  0.,  0.,  5., 16., 10.,  0., 16.,  6.,\n",
       "         0.,  0.,  4., 15., 16., 13., 16.,  1.,  0.,  0.,  0.,  0.,  3.,\n",
       "        15., 10.,  0.,  0.,  0.,  0.,  0.,  2., 16.,  4.,  0.,  0.],\n",
       "       [ 0.,  0., 12., 10.,  0.,  0.,  0.,  0.,  0.,  0., 14., 16., 16.,\n",
       "        14.,  0.,  0.,  0.,  0., 13., 16., 15., 10.,  1.,  0.,  0.,  0.,\n",
       "        11., 16., 16.,  7.,  0.,  0.,  0.,  0.,  0.,  4.,  7., 16.,  7.,\n",
       "         0.,  0.,  0.,  0.,  0.,  4., 16.,  9.,  0.,  0.,  0.,  5.,  4.,\n",
       "        12., 16.,  4.,  0.,  0.,  0.,  9., 16., 16., 10.,  0.,  0.],\n",
       "       [ 0.,  0.,  0., 12., 13.,  0.,  0.,  0.,  0.,  0.,  5., 16.,  8.,\n",
       "         0.,  0.,  0.,  0.,  0., 13., 16.,  3.,  0.,  0.,  0.,  0.,  0.,\n",
       "        14., 13.,  0.,  0.,  0.,  0.,  0.,  0., 15., 12.,  7.,  2.,  0.,\n",
       "         0.,  0.,  0., 13., 16., 13., 16.,  3.,  0.,  0.,  0.,  7., 16.,\n",
       "        11., 15.,  8.,  0.,  0.,  0.,  1.,  9., 15., 11.,  3.,  0.],\n",
       "       [ 0.,  0.,  7.,  8., 13., 16., 15.,  1.,  0.,  0.,  7.,  7.,  4.,\n",
       "        11., 12.,  0.,  0.,  0.,  0.,  0.,  8., 13.,  1.,  0.,  0.,  4.,\n",
       "         8.,  8., 15., 15.,  6.,  0.,  0.,  2., 11., 15., 15.,  4.,  0.,\n",
       "         0.,  0.,  0.,  0., 16.,  5.,  0.,  0.,  0.,  0.,  0.,  9., 15.,\n",
       "         1.,  0.,  0.,  0.,  0.,  0., 13.,  5.,  0.,  0.,  0.,  0.],\n",
       "       [ 0.,  0.,  9., 14.,  8.,  1.,  0.,  0.,  0.,  0., 12., 14., 14.,\n",
       "        12.,  0.,  0.,  0.,  0.,  9., 10.,  0., 15.,  4.,  0.,  0.,  0.,\n",
       "         3., 16., 12., 14.,  2.,  0.,  0.,  0.,  4., 16., 16.,  2.,  0.,\n",
       "         0.,  0.,  3., 16.,  8., 10., 13.,  2.,  0.,  0.,  1., 15.,  1.,\n",
       "         3., 16.,  8.,  0.,  0.,  0., 11., 16., 15., 11.,  1.,  0.],\n",
       "       [ 0.,  0., 11., 12.,  0.,  0.,  0.,  0.,  0.,  2., 16., 16., 16.,\n",
       "        13.,  0.,  0.,  0.,  3., 16., 12., 10., 14.,  0.,  0.,  0.,  1.,\n",
       "        16.,  1., 12., 15.,  0.,  0.,  0.,  0., 13., 16.,  9., 15.,  2.,\n",
       "         0.,  0.,  0.,  0.,  3.,  0.,  9., 11.,  0.,  0.,  0.,  0.,  0.,\n",
       "         9., 15.,  4.,  0.,  0.,  0.,  9., 12., 13.,  3.,  0.,  0.]])"
      ]
     },
     "execution_count": 91,
     "metadata": {},
     "output_type": "execute_result"
    }
   ],
   "source": [
    "X[:10]"
   ]
  },
  {
   "cell_type": "code",
   "execution_count": 92,
   "metadata": {},
   "outputs": [
    {
     "data": {
      "text/plain": [
       "array([0, 1, 2, 3, 4, 5, 6, 7, 8, 9, 0, 1, 2, 3, 4, 5, 6, 7, 8, 9])"
      ]
     },
     "execution_count": 92,
     "metadata": {},
     "output_type": "execute_result"
    }
   ],
   "source": [
    "Y[:20]"
   ]
  },
  {
   "cell_type": "code",
   "execution_count": 93,
   "metadata": {},
   "outputs": [
    {
     "data": {
      "text/plain": [
       "array([[ 0.,  0.,  0.,  4., 15., 12.,  0.,  0.],\n",
       "       [ 0.,  0.,  3., 16., 15., 14.,  0.,  0.],\n",
       "       [ 0.,  0.,  8., 13.,  8., 16.,  0.,  0.],\n",
       "       [ 0.,  0.,  1.,  6., 15., 11.,  0.,  0.],\n",
       "       [ 0.,  1.,  8., 13., 15.,  1.,  0.,  0.],\n",
       "       [ 0.,  9., 16., 16.,  5.,  0.,  0.,  0.],\n",
       "       [ 0.,  3., 13., 16., 16., 11.,  5.,  0.],\n",
       "       [ 0.,  0.,  0.,  3., 11., 16.,  9.,  0.]])"
      ]
     },
     "execution_count": 93,
     "metadata": {},
     "output_type": "execute_result"
    }
   ],
   "source": [
    "X[2].reshape((-1,8))"
   ]
  },
  {
   "cell_type": "code",
   "execution_count": 94,
   "metadata": {},
   "outputs": [
    {
     "data": {
      "text/plain": [
       "<matplotlib.image.AxesImage at 0x20982f54c48>"
      ]
     },
     "execution_count": 94,
     "metadata": {},
     "output_type": "execute_result"
    },
    {
     "data": {
      "image/png": "[encoded data removed]",
      "text/plain": [
       "<Figure size 432x288 with 1 Axes>"
      ]
     },
     "metadata": {
      "needs_background": "light"
     },
     "output_type": "display_data"
    }
   ],
   "source": [
    "plt.imshow(X[100].reshape((-1,8)), interpolation = \"nearest\", cmap = mpl.cm.binary )"
   ]
  },
  {
   "cell_type": "code",
   "execution_count": 95,
   "metadata": {},
   "outputs": [
    {
     "data": {
      "text/plain": [
       "4"
      ]
     },
     "execution_count": 95,
     "metadata": {},
     "output_type": "execute_result"
    }
   ],
   "source": [
    "Y[100]"
   ]
  },
  {
   "cell_type": "code",
   "execution_count": 96,
   "metadata": {},
   "outputs": [],
   "source": [
    "# splitting the datasets into train and test set\n",
    "from sklearn.model_selection import train_test_split"
   ]
  },
  {
   "cell_type": "code",
   "execution_count": 97,
   "metadata": {},
   "outputs": [
    {
     "data": {
      "text/plain": [
       "((1437, 64), (360, 64))"
      ]
     },
     "execution_count": 97,
     "metadata": {},
     "output_type": "execute_result"
    }
   ],
   "source": [
    "X_Train, X_Test, Y_Train, Y_Test = train_test_split(X, Y, random_state = 42, test_size = 0.2)\n",
    "X_Train.shape, X_Test.shape"
   ]
  },
  {
   "cell_type": "code",
   "execution_count": 98,
   "metadata": {},
   "outputs": [],
   "source": [
    "# Experimenting Logistics regression with the data"
   ]
  },
  {
   "cell_type": "code",
   "execution_count": 99,
   "metadata": {},
   "outputs": [
    {
     "data": {
      "text/plain": [
       "LogisticRegression(C=1.0, class_weight=None, dual=False, fit_intercept=True,\n",
       "                   intercept_scaling=1, l1_ratio=None, max_iter=100,\n",
       "                   multi_class='auto', n_jobs=-1, penalty='l2', random_state=42,\n",
       "                   solver='lbfgs', tol=0.0001, verbose=0, warm_start=False)"
      ]
     },
     "execution_count": 99,
     "metadata": {},
     "output_type": "execute_result"
    }
   ],
   "source": [
    "from sklearn.linear_model import LogisticRegression\n",
    "LR = LogisticRegression(n_jobs = -1, random_state = 42)\n",
    "LR.fit(X_Train, Y_Train)"
   ]
  },
  {
   "cell_type": "code",
   "execution_count": 100,
   "metadata": {},
   "outputs": [
    {
     "data": {
      "text/plain": [
       "0.9694444444444444"
      ]
     },
     "execution_count": 100,
     "metadata": {},
     "output_type": "execute_result"
    }
   ],
   "source": [
    "#  lets get the accuracy from the Test Set\n",
    "LR.score(X_Test, Y_Test)  # 95% accuracy seems like a great figure. we can actually use clustering to imrove this"
   ]
  },
  {
   "cell_type": "code",
   "execution_count": null,
   "metadata": {},
   "outputs": [],
   "source": []
  },
  {
   "cell_type": "code",
   "execution_count": 101,
   "metadata": {},
   "outputs": [],
   "source": [
    "from sklearn.pipeline import Pipeline"
   ]
  },
  {
   "cell_type": "code",
   "execution_count": 102,
   "metadata": {},
   "outputs": [],
   "source": [
    "pipeline = Pipeline([\n",
    "    (\"Kmeans\", KMeans(n_clusters = 50, max_iter = 500)),\n",
    "    (\"LogR\", LogisticRegression(n_jobs = -1, solver = \"lbfgs\"))\n",
    "])"
   ]
  },
  {
   "cell_type": "code",
   "execution_count": 103,
   "metadata": {},
   "outputs": [
    {
     "data": {
      "text/plain": [
       "Pipeline(memory=None,\n",
       "         steps=[('Kmeans',\n",
       "                 KMeans(algorithm='auto', copy_x=True, init='k-means++',\n",
       "                        max_iter=500, n_clusters=50, n_init=10, n_jobs=None,\n",
       "                        precompute_distances='auto', random_state=None,\n",
       "                        tol=0.0001, verbose=0)),\n",
       "                ('LogR',\n",
       "                 LogisticRegression(C=1.0, class_weight=None, dual=False,\n",
       "                                    fit_intercept=True, intercept_scaling=1,\n",
       "                                    l1_ratio=None, max_iter=100,\n",
       "                                    multi_class='auto', n_jobs=-1, penalty='l2',\n",
       "                                    random_state=None, solver='lbfgs',\n",
       "                                    tol=0.0001, verbose=0, warm_start=False))],\n",
       "         verbose=False)"
      ]
     },
     "execution_count": 103,
     "metadata": {},
     "output_type": "execute_result"
    }
   ],
   "source": [
    "pipeline.fit(X_Train, Y_Train)"
   ]
  },
  {
   "cell_type": "code",
   "execution_count": 104,
   "metadata": {},
   "outputs": [
    {
     "data": {
      "text/plain": [
       "0.9666666666666667"
      ]
     },
     "execution_count": 104,
     "metadata": {},
     "output_type": "execute_result"
    }
   ],
   "source": [
    "pipeline.score(X_Test, Y_Test)  #  Clustering has helped increased the accuracy"
   ]
  },
  {
   "cell_type": "code",
   "execution_count": 105,
   "metadata": {},
   "outputs": [],
   "source": [
    "# We can now proceed to GridSearch with Tuning parameters to cros validate and get the best clustering_parameters"
   ]
  },
  {
   "cell_type": "code",
   "execution_count": 106,
   "metadata": {},
   "outputs": [],
   "source": [
    "from sklearn.model_selection import GridSearchCV"
   ]
  },
  {
   "cell_type": "code",
   "execution_count": 107,
   "metadata": {},
   "outputs": [],
   "source": [
    "param_grid = dict(Kmeans__n_clusters = range(2,100))"
   ]
  },
  {
   "cell_type": "code",
   "execution_count": 108,
   "metadata": {},
   "outputs": [],
   "source": [
    "Best_Model = GridSearchCV(pipeline, param_grid, cv = 3, verbose =2, scoring = \"accuracy\")"
   ]
  },
  {
   "cell_type": "code",
   "execution_count": 109,
   "metadata": {},
   "outputs": [
    {
     "name": "stdout",
     "output_type": "stream",
     "text": [
      "Fitting 3 folds for each of 98 candidates, totalling 294 fits\n",
      "[CV] Kmeans__n_clusters=2 ............................................\n"
     ]
    },
    {
     "name": "stderr",
     "output_type": "stream",
     "text": [
      "[Parallel(n_jobs=1)]: Using backend SequentialBackend with 1 concurrent workers.\n"
     ]
    },
    {
     "name": "stdout",
     "output_type": "stream",
     "text": [
      "[CV] ............................. Kmeans__n_clusters=2, total=   0.3s\n",
      "[CV] Kmeans__n_clusters=2 ............................................\n"
     ]
    },
    {
     "name": "stderr",
     "output_type": "stream",
     "text": [
      "[Parallel(n_jobs=1)]: Done   1 out of   1 | elapsed:    0.2s remaining:    0.0s\n"
     ]
    },
    {
     "name": "stdout",
     "output_type": "stream",
     "text": [
      "[CV] ............................. Kmeans__n_clusters=2, total=   0.2s\n",
      "[CV] Kmeans__n_clusters=2 ............................................\n",
      "[CV] ............................. Kmeans__n_clusters=2, total=   0.3s\n",
      "[CV] Kmeans__n_clusters=3 ............................................\n",
      "[CV] ............................. Kmeans__n_clusters=3, total=   0.3s\n",
      "[CV] Kmeans__n_clusters=3 ............................................\n",
      "[CV] ............................. Kmeans__n_clusters=3, total=   0.3s\n",
      "[CV] Kmeans__n_clusters=3 ............................................\n",
      "[CV] ............................. Kmeans__n_clusters=3, total=   0.3s\n",
      "[CV] Kmeans__n_clusters=4 ............................................\n",
      "[CV] ............................. Kmeans__n_clusters=4, total=   0.3s\n",
      "[CV] Kmeans__n_clusters=4 ............................................\n",
      "[CV] ............................. Kmeans__n_clusters=4, total=   0.2s\n",
      "[CV] Kmeans__n_clusters=4 ............................................\n",
      "[CV] ............................. Kmeans__n_clusters=4, total=   0.3s\n",
      "[CV] Kmeans__n_clusters=5 ............................................\n",
      "[CV] ............................. Kmeans__n_clusters=5, total=   0.3s\n",
      "[CV] Kmeans__n_clusters=5 ............................................\n",
      "[CV] ............................. Kmeans__n_clusters=5, total=   0.3s\n",
      "[CV] Kmeans__n_clusters=5 ............................................\n",
      "[CV] ............................. Kmeans__n_clusters=5, total=   0.3s\n",
      "[CV] Kmeans__n_clusters=6 ............................................\n",
      "[CV] ............................. Kmeans__n_clusters=6, total=   0.4s\n",
      "[CV] Kmeans__n_clusters=6 ............................................\n",
      "[CV] ............................. Kmeans__n_clusters=6, total=   0.5s\n",
      "[CV] Kmeans__n_clusters=6 ............................................\n",
      "[CV] ............................. Kmeans__n_clusters=6, total=   0.5s\n",
      "[CV] Kmeans__n_clusters=7 ............................................\n",
      "[CV] ............................. Kmeans__n_clusters=7, total=   0.3s\n",
      "[CV] Kmeans__n_clusters=7 ............................................\n",
      "[CV] ............................. Kmeans__n_clusters=7, total=   0.3s\n",
      "[CV] Kmeans__n_clusters=7 ............................................\n",
      "[CV] ............................. Kmeans__n_clusters=7, total=   0.3s\n",
      "[CV] Kmeans__n_clusters=8 ............................................\n",
      "[CV] ............................. Kmeans__n_clusters=8, total=   0.3s\n",
      "[CV] Kmeans__n_clusters=8 ............................................\n",
      "[CV] ............................. Kmeans__n_clusters=8, total=   0.3s\n",
      "[CV] Kmeans__n_clusters=8 ............................................\n",
      "[CV] ............................. Kmeans__n_clusters=8, total=   0.3s\n",
      "[CV] Kmeans__n_clusters=9 ............................................\n",
      "[CV] ............................. Kmeans__n_clusters=9, total=   0.3s\n",
      "[CV] Kmeans__n_clusters=9 ............................................\n",
      "[CV] ............................. Kmeans__n_clusters=9, total=   0.3s\n",
      "[CV] Kmeans__n_clusters=9 ............................................\n",
      "[CV] ............................. Kmeans__n_clusters=9, total=   0.3s\n",
      "[CV] Kmeans__n_clusters=10 ...........................................\n",
      "[CV] ............................ Kmeans__n_clusters=10, total=   0.4s\n",
      "[CV] Kmeans__n_clusters=10 ...........................................\n",
      "[CV] ............................ Kmeans__n_clusters=10, total=   0.3s\n",
      "[CV] Kmeans__n_clusters=10 ...........................................\n",
      "[CV] ............................ Kmeans__n_clusters=10, total=   0.3s\n",
      "[CV] Kmeans__n_clusters=11 ...........................................\n",
      "[CV] ............................ Kmeans__n_clusters=11, total=   0.4s\n",
      "[CV] Kmeans__n_clusters=11 ...........................................\n",
      "[CV] ............................ Kmeans__n_clusters=11, total=   0.4s\n",
      "[CV] Kmeans__n_clusters=11 ...........................................\n",
      "[CV] ............................ Kmeans__n_clusters=11, total=   0.5s\n",
      "[CV] Kmeans__n_clusters=12 ...........................................\n",
      "[CV] ............................ Kmeans__n_clusters=12, total=   0.4s\n",
      "[CV] Kmeans__n_clusters=12 ...........................................\n",
      "[CV] ............................ Kmeans__n_clusters=12, total=   0.4s\n",
      "[CV] Kmeans__n_clusters=12 ...........................................\n",
      "[CV] ............................ Kmeans__n_clusters=12, total=   0.4s\n",
      "[CV] Kmeans__n_clusters=13 ...........................................\n",
      "[CV] ............................ Kmeans__n_clusters=13, total=   0.3s\n",
      "[CV] Kmeans__n_clusters=13 ...........................................\n",
      "[CV] ............................ Kmeans__n_clusters=13, total=   0.4s\n",
      "[CV] Kmeans__n_clusters=13 ...........................................\n",
      "[CV] ............................ Kmeans__n_clusters=13, total=   0.4s\n",
      "[CV] Kmeans__n_clusters=14 ...........................................\n",
      "[CV] ............................ Kmeans__n_clusters=14, total=   0.3s\n",
      "[CV] Kmeans__n_clusters=14 ...........................................\n",
      "[CV] ............................ Kmeans__n_clusters=14, total=   0.3s\n",
      "[CV] Kmeans__n_clusters=14 ...........................................\n",
      "[CV] ............................ Kmeans__n_clusters=14, total=   0.3s\n",
      "[CV] Kmeans__n_clusters=15 ...........................................\n",
      "[CV] ............................ Kmeans__n_clusters=15, total=   0.4s\n",
      "[CV] Kmeans__n_clusters=15 ...........................................\n",
      "[CV] ............................ Kmeans__n_clusters=15, total=   0.4s\n",
      "[CV] Kmeans__n_clusters=15 ...........................................\n",
      "[CV] ............................ Kmeans__n_clusters=15, total=   0.4s\n",
      "[CV] Kmeans__n_clusters=16 ...........................................\n",
      "[CV] ............................ Kmeans__n_clusters=16, total=   0.4s\n",
      "[CV] Kmeans__n_clusters=16 ...........................................\n",
      "[CV] ............................ Kmeans__n_clusters=16, total=   0.5s\n",
      "[CV] Kmeans__n_clusters=16 ...........................................\n",
      "[CV] ............................ Kmeans__n_clusters=16, total=   0.4s\n",
      "[CV] Kmeans__n_clusters=17 ...........................................\n",
      "[CV] ............................ Kmeans__n_clusters=17, total=   0.4s\n",
      "[CV] Kmeans__n_clusters=17 ...........................................\n",
      "[CV] ............................ Kmeans__n_clusters=17, total=   0.4s\n",
      "[CV] Kmeans__n_clusters=17 ...........................................\n",
      "[CV] ............................ Kmeans__n_clusters=17, total=   0.4s\n",
      "[CV] Kmeans__n_clusters=18 ...........................................\n",
      "[CV] ............................ Kmeans__n_clusters=18, total=   0.4s\n",
      "[CV] Kmeans__n_clusters=18 ...........................................\n",
      "[CV] ............................ Kmeans__n_clusters=18, total=   0.5s\n",
      "[CV] Kmeans__n_clusters=18 ...........................................\n",
      "[CV] ............................ Kmeans__n_clusters=18, total=   0.4s\n",
      "[CV] Kmeans__n_clusters=19 ...........................................\n",
      "[CV] ............................ Kmeans__n_clusters=19, total=   0.4s\n",
      "[CV] Kmeans__n_clusters=19 ...........................................\n",
      "[CV] ............................ Kmeans__n_clusters=19, total=   0.4s\n",
      "[CV] Kmeans__n_clusters=19 ...........................................\n",
      "[CV] ............................ Kmeans__n_clusters=19, total=   0.4s\n",
      "[CV] Kmeans__n_clusters=20 ...........................................\n",
      "[CV] ............................ Kmeans__n_clusters=20, total=   0.5s\n",
      "[CV] Kmeans__n_clusters=20 ...........................................\n",
      "[CV] ............................ Kmeans__n_clusters=20, total=   0.7s\n",
      "[CV] Kmeans__n_clusters=20 ...........................................\n",
      "[CV] ............................ Kmeans__n_clusters=20, total=   0.4s\n",
      "[CV] Kmeans__n_clusters=21 ...........................................\n",
      "[CV] ............................ Kmeans__n_clusters=21, total=   0.4s\n",
      "[CV] Kmeans__n_clusters=21 ...........................................\n",
      "[CV] ............................ Kmeans__n_clusters=21, total=   0.4s\n",
      "[CV] Kmeans__n_clusters=21 ...........................................\n",
      "[CV] ............................ Kmeans__n_clusters=21, total=   0.4s\n",
      "[CV] Kmeans__n_clusters=22 ...........................................\n",
      "[CV] ............................ Kmeans__n_clusters=22, total=   0.5s\n",
      "[CV] Kmeans__n_clusters=22 ...........................................\n",
      "[CV] ............................ Kmeans__n_clusters=22, total=   0.5s\n",
      "[CV] Kmeans__n_clusters=22 ...........................................\n",
      "[CV] ............................ Kmeans__n_clusters=22, total=   0.5s\n",
      "[CV] Kmeans__n_clusters=23 ...........................................\n",
      "[CV] ............................ Kmeans__n_clusters=23, total=   0.5s\n",
      "[CV] Kmeans__n_clusters=23 ...........................................\n",
      "[CV] ............................ Kmeans__n_clusters=23, total=   0.4s\n",
      "[CV] Kmeans__n_clusters=23 ...........................................\n",
      "[CV] ............................ Kmeans__n_clusters=23, total=   0.5s\n",
      "[CV] Kmeans__n_clusters=24 ...........................................\n",
      "[CV] ............................ Kmeans__n_clusters=24, total=   0.6s\n",
      "[CV] Kmeans__n_clusters=24 ...........................................\n",
      "[CV] ............................ Kmeans__n_clusters=24, total=   0.5s\n",
      "[CV] Kmeans__n_clusters=24 ...........................................\n",
      "[CV] ............................ Kmeans__n_clusters=24, total=   0.5s\n",
      "[CV] Kmeans__n_clusters=25 ...........................................\n",
      "[CV] ............................ Kmeans__n_clusters=25, total=   0.4s\n",
      "[CV] Kmeans__n_clusters=25 ...........................................\n",
      "[CV] ............................ Kmeans__n_clusters=25, total=   0.5s\n",
      "[CV] Kmeans__n_clusters=25 ...........................................\n",
      "[CV] ............................ Kmeans__n_clusters=25, total=   0.4s\n",
      "[CV] Kmeans__n_clusters=26 ...........................................\n",
      "[CV] ............................ Kmeans__n_clusters=26, total=   0.5s\n",
      "[CV] Kmeans__n_clusters=26 ...........................................\n",
      "[CV] ............................ Kmeans__n_clusters=26, total=   0.5s\n",
      "[CV] Kmeans__n_clusters=26 ...........................................\n",
      "[CV] ............................ Kmeans__n_clusters=26, total=   0.5s\n",
      "[CV] Kmeans__n_clusters=27 ...........................................\n",
      "[CV] ............................ Kmeans__n_clusters=27, total=   0.5s\n",
      "[CV] Kmeans__n_clusters=27 ...........................................\n",
      "[CV] ............................ Kmeans__n_clusters=27, total=   0.4s\n",
      "[CV] Kmeans__n_clusters=27 ...........................................\n",
      "[CV] ............................ Kmeans__n_clusters=27, total=   0.9s\n",
      "[CV] Kmeans__n_clusters=28 ...........................................\n",
      "[CV] ............................ Kmeans__n_clusters=28, total=   0.5s\n",
      "[CV] Kmeans__n_clusters=28 ...........................................\n",
      "[CV] ............................ Kmeans__n_clusters=28, total=   0.5s\n",
      "[CV] Kmeans__n_clusters=28 ...........................................\n",
      "[CV] ............................ Kmeans__n_clusters=28, total=   0.5s\n",
      "[CV] Kmeans__n_clusters=29 ...........................................\n",
      "[CV] ............................ Kmeans__n_clusters=29, total=   0.5s\n",
      "[CV] Kmeans__n_clusters=29 ...........................................\n",
      "[CV] ............................ Kmeans__n_clusters=29, total=   0.6s\n",
      "[CV] Kmeans__n_clusters=29 ...........................................\n",
      "[CV] ............................ Kmeans__n_clusters=29, total=   0.5s\n",
      "[CV] Kmeans__n_clusters=30 ...........................................\n",
      "[CV] ............................ Kmeans__n_clusters=30, total=   0.5s\n",
      "[CV] Kmeans__n_clusters=30 ...........................................\n",
      "[CV] ............................ Kmeans__n_clusters=30, total=   0.5s\n",
      "[CV] Kmeans__n_clusters=30 ...........................................\n",
      "[CV] ............................ Kmeans__n_clusters=30, total=   0.5s\n",
      "[CV] Kmeans__n_clusters=31 ...........................................\n",
      "[CV] ............................ Kmeans__n_clusters=31, total=   0.7s\n",
      "[CV] Kmeans__n_clusters=31 ...........................................\n",
      "[CV] ............................ Kmeans__n_clusters=31, total=   0.5s\n",
      "[CV] Kmeans__n_clusters=31 ...........................................\n",
      "[CV] ............................ Kmeans__n_clusters=31, total=   0.5s\n",
      "[CV] Kmeans__n_clusters=32 ...........................................\n",
      "[CV] ............................ Kmeans__n_clusters=32, total=   0.6s\n",
      "[CV] Kmeans__n_clusters=32 ...........................................\n",
      "[CV] ............................ Kmeans__n_clusters=32, total=   0.5s\n",
      "[CV] Kmeans__n_clusters=32 ...........................................\n",
      "[CV] ............................ Kmeans__n_clusters=32, total=   0.5s\n",
      "[CV] Kmeans__n_clusters=33 ...........................................\n",
      "[CV] ............................ Kmeans__n_clusters=33, total=   0.6s\n",
      "[CV] Kmeans__n_clusters=33 ...........................................\n",
      "[CV] ............................ Kmeans__n_clusters=33, total=   0.5s\n",
      "[CV] Kmeans__n_clusters=33 ...........................................\n",
      "[CV] ............................ Kmeans__n_clusters=33, total=   0.5s\n",
      "[CV] Kmeans__n_clusters=34 ...........................................\n",
      "[CV] ............................ Kmeans__n_clusters=34, total=   0.6s\n",
      "[CV] Kmeans__n_clusters=34 ...........................................\n",
      "[CV] ............................ Kmeans__n_clusters=34, total=   0.8s\n",
      "[CV] Kmeans__n_clusters=34 ...........................................\n",
      "[CV] ............................ Kmeans__n_clusters=34, total=   0.5s\n",
      "[CV] Kmeans__n_clusters=35 ...........................................\n",
      "[CV] ............................ Kmeans__n_clusters=35, total=   0.5s\n",
      "[CV] Kmeans__n_clusters=35 ...........................................\n",
      "[CV] ............................ Kmeans__n_clusters=35, total=   0.6s\n",
      "[CV] Kmeans__n_clusters=35 ...........................................\n",
      "[CV] ............................ Kmeans__n_clusters=35, total=   0.6s\n",
      "[CV] Kmeans__n_clusters=36 ...........................................\n",
      "[CV] ............................ Kmeans__n_clusters=36, total=   0.6s\n",
      "[CV] Kmeans__n_clusters=36 ...........................................\n",
      "[CV] ............................ Kmeans__n_clusters=36, total=   0.7s\n",
      "[CV] Kmeans__n_clusters=36 ...........................................\n",
      "[CV] ............................ Kmeans__n_clusters=36, total=   0.7s\n",
      "[CV] Kmeans__n_clusters=37 ...........................................\n",
      "[CV] ............................ Kmeans__n_clusters=37, total=   1.0s\n",
      "[CV] Kmeans__n_clusters=37 ...........................................\n",
      "[CV] ............................ Kmeans__n_clusters=37, total=   0.6s\n",
      "[CV] Kmeans__n_clusters=37 ...........................................\n",
      "[CV] ............................ Kmeans__n_clusters=37, total=   0.6s\n",
      "[CV] Kmeans__n_clusters=38 ...........................................\n",
      "[CV] ............................ Kmeans__n_clusters=38, total=   0.5s\n",
      "[CV] Kmeans__n_clusters=38 ...........................................\n",
      "[CV] ............................ Kmeans__n_clusters=38, total=   0.6s\n",
      "[CV] Kmeans__n_clusters=38 ...........................................\n",
      "[CV] ............................ Kmeans__n_clusters=38, total=   0.5s\n",
      "[CV] Kmeans__n_clusters=39 ...........................................\n",
      "[CV] ............................ Kmeans__n_clusters=39, total=   0.6s\n",
      "[CV] Kmeans__n_clusters=39 ...........................................\n",
      "[CV] ............................ Kmeans__n_clusters=39, total=   0.5s\n",
      "[CV] Kmeans__n_clusters=39 ...........................................\n",
      "[CV] ............................ Kmeans__n_clusters=39, total=   0.6s\n",
      "[CV] Kmeans__n_clusters=40 ...........................................\n",
      "[CV] ............................ Kmeans__n_clusters=40, total=   0.7s\n",
      "[CV] Kmeans__n_clusters=40 ...........................................\n",
      "[CV] ............................ Kmeans__n_clusters=40, total=   0.6s\n",
      "[CV] Kmeans__n_clusters=40 ...........................................\n",
      "[CV] ............................ Kmeans__n_clusters=40, total=   0.7s\n",
      "[CV] Kmeans__n_clusters=41 ...........................................\n",
      "[CV] ............................ Kmeans__n_clusters=41, total=   0.5s\n",
      "[CV] Kmeans__n_clusters=41 ...........................................\n",
      "[CV] ............................ Kmeans__n_clusters=41, total=   0.6s\n",
      "[CV] Kmeans__n_clusters=41 ...........................................\n",
      "[CV] ............................ Kmeans__n_clusters=41, total=   0.6s\n",
      "[CV] Kmeans__n_clusters=42 ...........................................\n",
      "[CV] ............................ Kmeans__n_clusters=42, total=   0.6s\n",
      "[CV] Kmeans__n_clusters=42 ...........................................\n",
      "[CV] ............................ Kmeans__n_clusters=42, total=   0.6s\n",
      "[CV] Kmeans__n_clusters=42 ...........................................\n",
      "[CV] ............................ Kmeans__n_clusters=42, total=   0.6s\n",
      "[CV] Kmeans__n_clusters=43 ...........................................\n",
      "[CV] ............................ Kmeans__n_clusters=43, total=   0.9s\n",
      "[CV] Kmeans__n_clusters=43 ...........................................\n",
      "[CV] ............................ Kmeans__n_clusters=43, total=   0.6s\n",
      "[CV] Kmeans__n_clusters=43 ...........................................\n",
      "[CV] ............................ Kmeans__n_clusters=43, total=   0.6s\n",
      "[CV] Kmeans__n_clusters=44 ...........................................\n",
      "[CV] ............................ Kmeans__n_clusters=44, total=   0.6s\n",
      "[CV] Kmeans__n_clusters=44 ...........................................\n",
      "[CV] ............................ Kmeans__n_clusters=44, total=   0.6s\n",
      "[CV] Kmeans__n_clusters=44 ...........................................\n",
      "[CV] ............................ Kmeans__n_clusters=44, total=   0.6s\n",
      "[CV] Kmeans__n_clusters=45 ...........................................\n",
      "[CV] ............................ Kmeans__n_clusters=45, total=   0.6s\n",
      "[CV] Kmeans__n_clusters=45 ...........................................\n",
      "[CV] ............................ Kmeans__n_clusters=45, total=   0.7s\n",
      "[CV] Kmeans__n_clusters=45 ...........................................\n",
      "[CV] ............................ Kmeans__n_clusters=45, total=   1.0s\n",
      "[CV] Kmeans__n_clusters=46 ...........................................\n",
      "[CV] ............................ Kmeans__n_clusters=46, total=   0.6s\n",
      "[CV] Kmeans__n_clusters=46 ...........................................\n",
      "[CV] ............................ Kmeans__n_clusters=46, total=   0.7s\n",
      "[CV] Kmeans__n_clusters=46 ...........................................\n",
      "[CV] ............................ Kmeans__n_clusters=46, total=   0.6s\n",
      "[CV] Kmeans__n_clusters=47 ...........................................\n",
      "[CV] ............................ Kmeans__n_clusters=47, total=   0.6s\n",
      "[CV] Kmeans__n_clusters=47 ...........................................\n",
      "[CV] ............................ Kmeans__n_clusters=47, total=   0.6s\n",
      "[CV] Kmeans__n_clusters=47 ...........................................\n",
      "[CV] ............................ Kmeans__n_clusters=47, total=   0.7s\n",
      "[CV] Kmeans__n_clusters=48 ...........................................\n",
      "[CV] ............................ Kmeans__n_clusters=48, total=   0.7s\n",
      "[CV] Kmeans__n_clusters=48 ...........................................\n",
      "[CV] ............................ Kmeans__n_clusters=48, total=   0.8s\n",
      "[CV] Kmeans__n_clusters=48 ...........................................\n",
      "[CV] ............................ Kmeans__n_clusters=48, total=   0.7s\n",
      "[CV] Kmeans__n_clusters=49 ...........................................\n",
      "[CV] ............................ Kmeans__n_clusters=49, total=   0.6s\n",
      "[CV] Kmeans__n_clusters=49 ...........................................\n",
      "[CV] ............................ Kmeans__n_clusters=49, total=   0.7s\n",
      "[CV] Kmeans__n_clusters=49 ...........................................\n",
      "[CV] ............................ Kmeans__n_clusters=49, total=   0.7s\n",
      "[CV] Kmeans__n_clusters=50 ...........................................\n",
      "[CV] ............................ Kmeans__n_clusters=50, total=   0.8s\n",
      "[CV] Kmeans__n_clusters=50 ...........................................\n",
      "[CV] ............................ Kmeans__n_clusters=50, total=   0.7s\n",
      "[CV] Kmeans__n_clusters=50 ...........................................\n",
      "[CV] ............................ Kmeans__n_clusters=50, total=   0.9s\n",
      "[CV] Kmeans__n_clusters=51 ...........................................\n",
      "[CV] ............................ Kmeans__n_clusters=51, total=   0.7s\n",
      "[CV] Kmeans__n_clusters=51 ...........................................\n",
      "[CV] ............................ Kmeans__n_clusters=51, total=   0.6s\n",
      "[CV] Kmeans__n_clusters=51 ...........................................\n",
      "[CV] ............................ Kmeans__n_clusters=51, total=   0.7s\n",
      "[CV] Kmeans__n_clusters=52 ...........................................\n",
      "[CV] ............................ Kmeans__n_clusters=52, total=   0.7s\n",
      "[CV] Kmeans__n_clusters=52 ...........................................\n",
      "[CV] ............................ Kmeans__n_clusters=52, total=   0.7s\n",
      "[CV] Kmeans__n_clusters=52 ...........................................\n",
      "[CV] ............................ Kmeans__n_clusters=52, total=   0.6s\n",
      "[CV] Kmeans__n_clusters=53 ...........................................\n",
      "[CV] ............................ Kmeans__n_clusters=53, total=   0.6s\n",
      "[CV] Kmeans__n_clusters=53 ...........................................\n",
      "[CV] ............................ Kmeans__n_clusters=53, total=   0.8s\n",
      "[CV] Kmeans__n_clusters=53 ...........................................\n",
      "[CV] ............................ Kmeans__n_clusters=53, total=   0.6s\n",
      "[CV] Kmeans__n_clusters=54 ...........................................\n",
      "[CV] ............................ Kmeans__n_clusters=54, total=   0.6s\n",
      "[CV] Kmeans__n_clusters=54 ...........................................\n",
      "[CV] ............................ Kmeans__n_clusters=54, total=   0.7s\n",
      "[CV] Kmeans__n_clusters=54 ...........................................\n",
      "[CV] ............................ Kmeans__n_clusters=54, total=   0.7s\n",
      "[CV] Kmeans__n_clusters=55 ...........................................\n",
      "[CV] ............................ Kmeans__n_clusters=55, total=   0.6s\n",
      "[CV] Kmeans__n_clusters=55 ...........................................\n",
      "[CV] ............................ Kmeans__n_clusters=55, total=   0.6s\n",
      "[CV] Kmeans__n_clusters=55 ...........................................\n",
      "[CV] ............................ Kmeans__n_clusters=55, total=   0.7s\n",
      "[CV] Kmeans__n_clusters=56 ...........................................\n",
      "[CV] ............................ Kmeans__n_clusters=56, total=   0.9s\n",
      "[CV] Kmeans__n_clusters=56 ...........................................\n",
      "[CV] ............................ Kmeans__n_clusters=56, total=   0.7s\n",
      "[CV] Kmeans__n_clusters=56 ...........................................\n",
      "[CV] ............................ Kmeans__n_clusters=56, total=   0.6s\n",
      "[CV] Kmeans__n_clusters=57 ...........................................\n",
      "[CV] ............................ Kmeans__n_clusters=57, total=   0.6s\n",
      "[CV] Kmeans__n_clusters=57 ...........................................\n",
      "[CV] ............................ Kmeans__n_clusters=57, total=   0.6s\n",
      "[CV] Kmeans__n_clusters=57 ...........................................\n",
      "[CV] ............................ Kmeans__n_clusters=57, total=   0.7s\n",
      "[CV] Kmeans__n_clusters=58 ...........................................\n",
      "[CV] ............................ Kmeans__n_clusters=58, total=   0.7s\n",
      "[CV] Kmeans__n_clusters=58 ...........................................\n",
      "[CV] ............................ Kmeans__n_clusters=58, total=   0.6s\n",
      "[CV] Kmeans__n_clusters=58 ...........................................\n",
      "[CV] ............................ Kmeans__n_clusters=58, total=   0.9s\n",
      "[CV] Kmeans__n_clusters=59 ...........................................\n",
      "[CV] ............................ Kmeans__n_clusters=59, total=   0.7s\n",
      "[CV] Kmeans__n_clusters=59 ...........................................\n",
      "[CV] ............................ Kmeans__n_clusters=59, total=   0.6s\n",
      "[CV] Kmeans__n_clusters=59 ...........................................\n",
      "[CV] ............................ Kmeans__n_clusters=59, total=   0.8s\n",
      "[CV] Kmeans__n_clusters=60 ...........................................\n",
      "[CV] ............................ Kmeans__n_clusters=60, total=   0.6s\n",
      "[CV] Kmeans__n_clusters=60 ...........................................\n",
      "[CV] ............................ Kmeans__n_clusters=60, total=   0.7s\n",
      "[CV] Kmeans__n_clusters=60 ...........................................\n",
      "[CV] ............................ Kmeans__n_clusters=60, total=   0.6s\n",
      "[CV] Kmeans__n_clusters=61 ...........................................\n",
      "[CV] ............................ Kmeans__n_clusters=61, total=   0.9s\n",
      "[CV] Kmeans__n_clusters=61 ...........................................\n",
      "[CV] ............................ Kmeans__n_clusters=61, total=   0.7s\n",
      "[CV] Kmeans__n_clusters=61 ...........................................\n",
      "[CV] ............................ Kmeans__n_clusters=61, total=   0.7s\n",
      "[CV] Kmeans__n_clusters=62 ...........................................\n",
      "[CV] ............................ Kmeans__n_clusters=62, total=   0.7s\n",
      "[CV] Kmeans__n_clusters=62 ...........................................\n",
      "[CV] ............................ Kmeans__n_clusters=62, total=   0.9s\n",
      "[CV] Kmeans__n_clusters=62 ...........................................\n",
      "[CV] ............................ Kmeans__n_clusters=62, total=   0.8s\n",
      "[CV] Kmeans__n_clusters=63 ...........................................\n",
      "[CV] ............................ Kmeans__n_clusters=63, total=   0.8s\n",
      "[CV] Kmeans__n_clusters=63 ...........................................\n",
      "[CV] ............................ Kmeans__n_clusters=63, total=   0.9s\n",
      "[CV] Kmeans__n_clusters=63 ...........................................\n",
      "[CV] ............................ Kmeans__n_clusters=63, total=   0.7s\n",
      "[CV] Kmeans__n_clusters=64 ...........................................\n",
      "[CV] ............................ Kmeans__n_clusters=64, total=   0.8s\n",
      "[CV] Kmeans__n_clusters=64 ...........................................\n",
      "[CV] ............................ Kmeans__n_clusters=64, total=   0.7s\n",
      "[CV] Kmeans__n_clusters=64 ...........................................\n",
      "[CV] ............................ Kmeans__n_clusters=64, total=   0.8s\n",
      "[CV] Kmeans__n_clusters=65 ...........................................\n",
      "[CV] ............................ Kmeans__n_clusters=65, total=   0.7s\n",
      "[CV] Kmeans__n_clusters=65 ...........................................\n",
      "[CV] ............................ Kmeans__n_clusters=65, total=   0.7s\n",
      "[CV] Kmeans__n_clusters=65 ...........................................\n",
      "[CV] ............................ Kmeans__n_clusters=65, total=   1.0s\n",
      "[CV] Kmeans__n_clusters=66 ...........................................\n",
      "[CV] ............................ Kmeans__n_clusters=66, total=   0.7s\n",
      "[CV] Kmeans__n_clusters=66 ...........................................\n",
      "[CV] ............................ Kmeans__n_clusters=66, total=   0.7s\n",
      "[CV] Kmeans__n_clusters=66 ...........................................\n",
      "[CV] ............................ Kmeans__n_clusters=66, total=   0.7s\n",
      "[CV] Kmeans__n_clusters=67 ...........................................\n",
      "[CV] ............................ Kmeans__n_clusters=67, total=   0.7s\n",
      "[CV] Kmeans__n_clusters=67 ...........................................\n",
      "[CV] ............................ Kmeans__n_clusters=67, total=   0.8s\n",
      "[CV] Kmeans__n_clusters=67 ...........................................\n",
      "[CV] ............................ Kmeans__n_clusters=67, total=   0.7s\n",
      "[CV] Kmeans__n_clusters=68 ...........................................\n",
      "[CV] ............................ Kmeans__n_clusters=68, total=   1.0s\n",
      "[CV] Kmeans__n_clusters=68 ...........................................\n",
      "[CV] ............................ Kmeans__n_clusters=68, total=   0.8s\n",
      "[CV] Kmeans__n_clusters=68 ...........................................\n",
      "[CV] ............................ Kmeans__n_clusters=68, total=   0.7s\n",
      "[CV] Kmeans__n_clusters=69 ...........................................\n",
      "[CV] ............................ Kmeans__n_clusters=69, total=   0.9s\n",
      "[CV] Kmeans__n_clusters=69 ...........................................\n",
      "[CV] ............................ Kmeans__n_clusters=69, total=   0.8s\n",
      "[CV] Kmeans__n_clusters=69 ...........................................\n",
      "[CV] ............................ Kmeans__n_clusters=69, total=   0.7s\n",
      "[CV] Kmeans__n_clusters=70 ...........................................\n",
      "[CV] ............................ Kmeans__n_clusters=70, total=   0.8s\n",
      "[CV] Kmeans__n_clusters=70 ...........................................\n",
      "[CV] ............................ Kmeans__n_clusters=70, total=   1.0s\n",
      "[CV] Kmeans__n_clusters=70 ...........................................\n",
      "[CV] ............................ Kmeans__n_clusters=70, total=   0.7s\n",
      "[CV] Kmeans__n_clusters=71 ...........................................\n",
      "[CV] ............................ Kmeans__n_clusters=71, total=   0.8s\n",
      "[CV] Kmeans__n_clusters=71 ...........................................\n",
      "[CV] ............................ Kmeans__n_clusters=71, total=   0.8s\n",
      "[CV] Kmeans__n_clusters=71 ...........................................\n",
      "[CV] ............................ Kmeans__n_clusters=71, total=   0.7s\n",
      "[CV] Kmeans__n_clusters=72 ...........................................\n",
      "[CV] ............................ Kmeans__n_clusters=72, total=   0.7s\n",
      "[CV] Kmeans__n_clusters=72 ...........................................\n",
      "[CV] ............................ Kmeans__n_clusters=72, total=   0.9s\n",
      "[CV] Kmeans__n_clusters=72 ...........................................\n",
      "[CV] ............................ Kmeans__n_clusters=72, total=   1.0s\n",
      "[CV] Kmeans__n_clusters=73 ...........................................\n",
      "[CV] ............................ Kmeans__n_clusters=73, total=   0.8s\n",
      "[CV] Kmeans__n_clusters=73 ...........................................\n",
      "[CV] ............................ Kmeans__n_clusters=73, total=   0.9s\n",
      "[CV] Kmeans__n_clusters=73 ...........................................\n",
      "[CV] ............................ Kmeans__n_clusters=73, total=   0.8s\n",
      "[CV] Kmeans__n_clusters=74 ...........................................\n",
      "[CV] ............................ Kmeans__n_clusters=74, total=   0.7s\n",
      "[CV] Kmeans__n_clusters=74 ...........................................\n",
      "[CV] ............................ Kmeans__n_clusters=74, total=   0.8s\n",
      "[CV] Kmeans__n_clusters=74 ...........................................\n",
      "[CV] ............................ Kmeans__n_clusters=74, total=   1.0s\n",
      "[CV] Kmeans__n_clusters=75 ...........................................\n",
      "[CV] ............................ Kmeans__n_clusters=75, total=   0.8s\n",
      "[CV] Kmeans__n_clusters=75 ...........................................\n",
      "[CV] ............................ Kmeans__n_clusters=75, total=   0.8s\n",
      "[CV] Kmeans__n_clusters=75 ...........................................\n",
      "[CV] ............................ Kmeans__n_clusters=75, total=   0.8s\n",
      "[CV] Kmeans__n_clusters=76 ...........................................\n",
      "[CV] ............................ Kmeans__n_clusters=76, total=   0.8s\n",
      "[CV] Kmeans__n_clusters=76 ...........................................\n",
      "[CV] ............................ Kmeans__n_clusters=76, total=   0.8s\n",
      "[CV] Kmeans__n_clusters=76 ...........................................\n",
      "[CV] ............................ Kmeans__n_clusters=76, total=   1.0s\n",
      "[CV] Kmeans__n_clusters=77 ...........................................\n",
      "[CV] ............................ Kmeans__n_clusters=77, total=   0.8s\n",
      "[CV] Kmeans__n_clusters=77 ...........................................\n",
      "[CV] ............................ Kmeans__n_clusters=77, total=   0.8s\n",
      "[CV] Kmeans__n_clusters=77 ...........................................\n",
      "[CV] ............................ Kmeans__n_clusters=77, total=   0.8s\n",
      "[CV] Kmeans__n_clusters=78 ...........................................\n",
      "[CV] ............................ Kmeans__n_clusters=78, total=   0.9s\n",
      "[CV] Kmeans__n_clusters=78 ...........................................\n",
      "[CV] ............................ Kmeans__n_clusters=78, total=   0.8s\n",
      "[CV] Kmeans__n_clusters=78 ...........................................\n",
      "[CV] ............................ Kmeans__n_clusters=78, total=   0.7s\n",
      "[CV] Kmeans__n_clusters=79 ...........................................\n",
      "[CV] ............................ Kmeans__n_clusters=79, total=   1.0s\n",
      "[CV] Kmeans__n_clusters=79 ...........................................\n",
      "[CV] ............................ Kmeans__n_clusters=79, total=   0.9s\n",
      "[CV] Kmeans__n_clusters=79 ...........................................\n",
      "[CV] ............................ Kmeans__n_clusters=79, total=   0.8s\n",
      "[CV] Kmeans__n_clusters=80 ...........................................\n",
      "[CV] ............................ Kmeans__n_clusters=80, total=   0.8s\n",
      "[CV] Kmeans__n_clusters=80 ...........................................\n",
      "[CV] ............................ Kmeans__n_clusters=80, total=   0.8s\n",
      "[CV] Kmeans__n_clusters=80 ...........................................\n",
      "[CV] ............................ Kmeans__n_clusters=80, total=   0.8s\n",
      "[CV] Kmeans__n_clusters=81 ...........................................\n",
      "[CV] ............................ Kmeans__n_clusters=81, total=   1.1s\n",
      "[CV] Kmeans__n_clusters=81 ...........................................\n",
      "[CV] ............................ Kmeans__n_clusters=81, total=   0.9s\n",
      "[CV] Kmeans__n_clusters=81 ...........................................\n",
      "[CV] ............................ Kmeans__n_clusters=81, total=   0.9s\n",
      "[CV] Kmeans__n_clusters=82 ...........................................\n",
      "[CV] ............................ Kmeans__n_clusters=82, total=   0.8s\n",
      "[CV] Kmeans__n_clusters=82 ...........................................\n",
      "[CV] ............................ Kmeans__n_clusters=82, total=   0.8s\n",
      "[CV] Kmeans__n_clusters=82 ...........................................\n",
      "[CV] ............................ Kmeans__n_clusters=82, total=   0.8s\n",
      "[CV] Kmeans__n_clusters=83 ...........................................\n",
      "[CV] ............................ Kmeans__n_clusters=83, total=   1.0s\n",
      "[CV] Kmeans__n_clusters=83 ...........................................\n",
      "[CV] ............................ Kmeans__n_clusters=83, total=   0.9s\n",
      "[CV] Kmeans__n_clusters=83 ...........................................\n",
      "[CV] ............................ Kmeans__n_clusters=83, total=   0.9s\n",
      "[CV] Kmeans__n_clusters=84 ...........................................\n",
      "[CV] ............................ Kmeans__n_clusters=84, total=   0.8s\n",
      "[CV] Kmeans__n_clusters=84 ...........................................\n",
      "[CV] ............................ Kmeans__n_clusters=84, total=   0.9s\n",
      "[CV] Kmeans__n_clusters=84 ...........................................\n",
      "[CV] ............................ Kmeans__n_clusters=84, total=   0.8s\n",
      "[CV] Kmeans__n_clusters=85 ...........................................\n",
      "[CV] ............................ Kmeans__n_clusters=85, total=   1.1s\n",
      "[CV] Kmeans__n_clusters=85 ...........................................\n",
      "[CV] ............................ Kmeans__n_clusters=85, total=   0.9s\n",
      "[CV] Kmeans__n_clusters=85 ...........................................\n",
      "[CV] ............................ Kmeans__n_clusters=85, total=   0.8s\n",
      "[CV] Kmeans__n_clusters=86 ...........................................\n",
      "[CV] ............................ Kmeans__n_clusters=86, total=   1.0s\n",
      "[CV] Kmeans__n_clusters=86 ...........................................\n",
      "[CV] ............................ Kmeans__n_clusters=86, total=   0.9s\n",
      "[CV] Kmeans__n_clusters=86 ...........................................\n",
      "[CV] ............................ Kmeans__n_clusters=86, total=   0.8s\n",
      "[CV] Kmeans__n_clusters=87 ...........................................\n",
      "[CV] ............................ Kmeans__n_clusters=87, total=   1.1s\n",
      "[CV] Kmeans__n_clusters=87 ...........................................\n",
      "[CV] ............................ Kmeans__n_clusters=87, total=   0.8s\n",
      "[CV] Kmeans__n_clusters=87 ...........................................\n",
      "[CV] ............................ Kmeans__n_clusters=87, total=   0.8s\n",
      "[CV] Kmeans__n_clusters=88 ...........................................\n",
      "[CV] ............................ Kmeans__n_clusters=88, total=   0.9s\n",
      "[CV] Kmeans__n_clusters=88 ...........................................\n",
      "[CV] ............................ Kmeans__n_clusters=88, total=   0.8s\n",
      "[CV] Kmeans__n_clusters=88 ...........................................\n",
      "[CV] ............................ Kmeans__n_clusters=88, total=   1.0s\n",
      "[CV] Kmeans__n_clusters=89 ...........................................\n",
      "[CV] ............................ Kmeans__n_clusters=89, total=   1.0s\n",
      "[CV] Kmeans__n_clusters=89 ...........................................\n",
      "[CV] ............................ Kmeans__n_clusters=89, total=   0.9s\n",
      "[CV] Kmeans__n_clusters=89 ...........................................\n",
      "[CV] ............................ Kmeans__n_clusters=89, total=   0.9s\n",
      "[CV] Kmeans__n_clusters=90 ...........................................\n",
      "[CV] ............................ Kmeans__n_clusters=90, total=   0.9s\n",
      "[CV] Kmeans__n_clusters=90 ...........................................\n",
      "[CV] ............................ Kmeans__n_clusters=90, total=   0.9s\n",
      "[CV] Kmeans__n_clusters=90 ...........................................\n",
      "[CV] ............................ Kmeans__n_clusters=90, total=   1.1s\n",
      "[CV] Kmeans__n_clusters=91 ...........................................\n",
      "[CV] ............................ Kmeans__n_clusters=91, total=   0.9s\n",
      "[CV] Kmeans__n_clusters=91 ...........................................\n",
      "[CV] ............................ Kmeans__n_clusters=91, total=   0.9s\n",
      "[CV] Kmeans__n_clusters=91 ...........................................\n",
      "[CV] ............................ Kmeans__n_clusters=91, total=   1.0s\n",
      "[CV] Kmeans__n_clusters=92 ...........................................\n",
      "[CV] ............................ Kmeans__n_clusters=92, total=   1.0s\n",
      "[CV] Kmeans__n_clusters=92 ...........................................\n",
      "[CV] ............................ Kmeans__n_clusters=92, total=   0.9s\n",
      "[CV] Kmeans__n_clusters=92 ...........................................\n",
      "[CV] ............................ Kmeans__n_clusters=92, total=   1.2s\n",
      "[CV] Kmeans__n_clusters=93 ...........................................\n",
      "[CV] ............................ Kmeans__n_clusters=93, total=   1.1s\n",
      "[CV] Kmeans__n_clusters=93 ...........................................\n",
      "[CV] ............................ Kmeans__n_clusters=93, total=   0.9s\n",
      "[CV] Kmeans__n_clusters=93 ...........................................\n",
      "[CV] ............................ Kmeans__n_clusters=93, total=   0.9s\n",
      "[CV] Kmeans__n_clusters=94 ...........................................\n",
      "[CV] ............................ Kmeans__n_clusters=94, total=   0.9s\n",
      "[CV] Kmeans__n_clusters=94 ...........................................\n",
      "[CV] ............................ Kmeans__n_clusters=94, total=   1.2s\n",
      "[CV] Kmeans__n_clusters=94 ...........................................\n",
      "[CV] ............................ Kmeans__n_clusters=94, total=   0.9s\n",
      "[CV] Kmeans__n_clusters=95 ...........................................\n",
      "[CV] ............................ Kmeans__n_clusters=95, total=   0.9s\n",
      "[CV] Kmeans__n_clusters=95 ...........................................\n",
      "[CV] ............................ Kmeans__n_clusters=95, total=   1.0s\n",
      "[CV] Kmeans__n_clusters=95 ...........................................\n",
      "[CV] ............................ Kmeans__n_clusters=95, total=   1.0s\n",
      "[CV] Kmeans__n_clusters=96 ...........................................\n",
      "[CV] ............................ Kmeans__n_clusters=96, total=   1.0s\n",
      "[CV] Kmeans__n_clusters=96 ...........................................\n",
      "[CV] ............................ Kmeans__n_clusters=96, total=   1.1s\n",
      "[CV] Kmeans__n_clusters=96 ...........................................\n",
      "[CV] ............................ Kmeans__n_clusters=96, total=   0.9s\n",
      "[CV] Kmeans__n_clusters=97 ...........................................\n",
      "[CV] ............................ Kmeans__n_clusters=97, total=   1.0s\n",
      "[CV] Kmeans__n_clusters=97 ...........................................\n",
      "[CV] ............................ Kmeans__n_clusters=97, total=   0.9s\n",
      "[CV] Kmeans__n_clusters=97 ...........................................\n",
      "[CV] ............................ Kmeans__n_clusters=97, total=   1.0s\n",
      "[CV] Kmeans__n_clusters=98 ...........................................\n",
      "[CV] ............................ Kmeans__n_clusters=98, total=   1.3s\n",
      "[CV] Kmeans__n_clusters=98 ...........................................\n",
      "[CV] ............................ Kmeans__n_clusters=98, total=   1.1s\n",
      "[CV] Kmeans__n_clusters=98 ...........................................\n",
      "[CV] ............................ Kmeans__n_clusters=98, total=   1.0s\n",
      "[CV] Kmeans__n_clusters=99 ...........................................\n",
      "[CV] ............................ Kmeans__n_clusters=99, total=   0.9s\n",
      "[CV] Kmeans__n_clusters=99 ...........................................\n",
      "[CV] ............................ Kmeans__n_clusters=99, total=   1.1s\n",
      "[CV] Kmeans__n_clusters=99 ...........................................\n",
      "[CV] ............................ Kmeans__n_clusters=99, total=   1.1s\n"
     ]
    },
    {
     "name": "stderr",
     "output_type": "stream",
     "text": [
      "[Parallel(n_jobs=1)]: Done 294 out of 294 | elapsed:  3.3min finished\n"
     ]
    },
    {
     "data": {
      "text/plain": [
       "GridSearchCV(cv=3, error_score=nan,\n",
       "             estimator=Pipeline(memory=None,\n",
       "                                steps=[('Kmeans',\n",
       "                                        KMeans(algorithm='auto', copy_x=True,\n",
       "                                               init='k-means++', max_iter=500,\n",
       "                                               n_clusters=50, n_init=10,\n",
       "                                               n_jobs=None,\n",
       "                                               precompute_distances='auto',\n",
       "                                               random_state=None, tol=0.0001,\n",
       "                                               verbose=0)),\n",
       "                                       ('LogR',\n",
       "                                        LogisticRegression(C=1.0,\n",
       "                                                           class_weight=None,\n",
       "                                                           dual=False,\n",
       "                                                           fit_intercept=True,\n",
       "                                                           intercept_scaling=1,\n",
       "                                                           l1_ratio=None,\n",
       "                                                           max_iter=100,\n",
       "                                                           multi_class='auto',\n",
       "                                                           n_jobs=-1,\n",
       "                                                           penalty='l2',\n",
       "                                                           random_state=None,\n",
       "                                                           solver='lbfgs',\n",
       "                                                           tol=0.0001,\n",
       "                                                           verbose=0,\n",
       "                                                           warm_start=False))],\n",
       "                                verbose=False),\n",
       "             iid='deprecated', n_jobs=None,\n",
       "             param_grid={'Kmeans__n_clusters': range(2, 100)},\n",
       "             pre_dispatch='2*n_jobs', refit=True, return_train_score=False,\n",
       "             scoring='accuracy', verbose=2)"
      ]
     },
     "execution_count": 109,
     "metadata": {},
     "output_type": "execute_result"
    }
   ],
   "source": [
    "Best_Model.fit(X_Train, Y_Train)"
   ]
  },
  {
   "cell_type": "code",
   "execution_count": 110,
   "metadata": {},
   "outputs": [
    {
     "data": {
      "text/plain": [
       "0.9694444444444444"
      ]
     },
     "execution_count": 110,
     "metadata": {},
     "output_type": "execute_result"
    }
   ],
   "source": [
    "Best_Model.best_estimator_.score(X_Test, Y_Test)"
   ]
  },
  {
   "cell_type": "code",
   "execution_count": 111,
   "metadata": {},
   "outputs": [
    {
     "data": {
      "text/plain": [
       "0.9694444444444444"
      ]
     },
     "execution_count": 111,
     "metadata": {},
     "output_type": "execute_result"
    }
   ],
   "source": [
    "Best_Model.score(X_Test, Y_Test) # dont know how this happens, the GridSearch produced better accuracy"
   ]
  },
  {
   "cell_type": "code",
   "execution_count": 112,
   "metadata": {},
   "outputs": [
    {
     "data": {
      "text/plain": [
       "{'Kmeans__n_clusters': 80}"
      ]
     },
     "execution_count": 112,
     "metadata": {},
     "output_type": "execute_result"
    }
   ],
   "source": [
    "Best_Model.best_params_"
   ]
  },
  {
   "cell_type": "code",
   "execution_count": null,
   "metadata": {},
   "outputs": [],
   "source": []
  },
  {
   "cell_type": "code",
   "execution_count": null,
   "metadata": {},
   "outputs": [],
   "source": []
  },
  {
   "cell_type": "markdown",
   "metadata": {},
   "source": [
    "# Using clustering for Semi Supervised Learning"
   ]
  },
  {
   "cell_type": "markdown",
   "metadata": {},
   "source": [
    "Another use case for clustering is in semi-supervised learning, when we have plenty\n",
    "of unlabeled instances and very few labeled instances. Let’s train a logistic regression\n",
    "model on a sample of 50 labeled instances from the digits dataset:"
   ]
  },
  {
   "cell_type": "code",
   "execution_count": 382,
   "metadata": {},
   "outputs": [
    {
     "data": {
      "text/plain": [
       "LogisticRegression(C=1.0, class_weight=None, dual=False, fit_intercept=True,\n",
       "                   intercept_scaling=1, l1_ratio=None, max_iter=100,\n",
       "                   multi_class='auto', n_jobs=-1, penalty='l2',\n",
       "                   random_state=None, solver='lbfgs', tol=0.0001, verbose=0,\n",
       "                   warm_start=False)"
      ]
     },
     "execution_count": 382,
     "metadata": {},
     "output_type": "execute_result"
    }
   ],
   "source": [
    "n_labels = 50\n",
    "Reg = LogisticRegression(n_jobs = -1)\n",
    "Reg.fit(X_Train[:n_labels], Y_Train[:n_labels])\n"
   ]
  },
  {
   "cell_type": "code",
   "execution_count": 383,
   "metadata": {},
   "outputs": [
    {
     "data": {
      "text/plain": [
       "0.8277777777777777"
      ]
     },
     "execution_count": 383,
     "metadata": {},
     "output_type": "execute_result"
    }
   ],
   "source": [
    "# Now testing the 50 labels test_score\n",
    "Reg.score(X_Test, Y_Test)  #  we have a poorer performance since we didnt use all the train set data"
   ]
  },
  {
   "cell_type": "code",
   "execution_count": 133,
   "metadata": {},
   "outputs": [],
   "source": [
    "from sklearn.cluster import KMeans"
   ]
  },
  {
   "cell_type": "code",
   "execution_count": 134,
   "metadata": {},
   "outputs": [],
   "source": [
    "#  We can actually get 50 clusters and get the index of the shortest instance of the cluster from the centres. \n",
    "# This index is passed to the train set to get the training set for these index"
   ]
  },
  {
   "cell_type": "code",
   "execution_count": 388,
   "metadata": {},
   "outputs": [],
   "source": [
    "cluster = 50\n",
    "Prep = KMeans(n_clusters = cluster)\n",
    "X_Centre = Prep.fit_transform(X_Train)  # Gives all the instances positions from the centroid\n",
    "X_Centre_Index = np.argmin(X_Centre, axis = 0)  #  gives the index of the closest instance in each cluster\n",
    "X_Rep = X_Train[X_Centre_Index]"
   ]
  },
  {
   "cell_type": "code",
   "execution_count": 389,
   "metadata": {},
   "outputs": [
    {
     "data": {
      "text/plain": [
       "array([[ 0.,  0.,  2., ...,  5.,  0.,  0.],\n",
       "       [ 0.,  1., 12., ...,  9.,  4.,  0.],\n",
       "       [ 0.,  0.,  8., ...,  8.,  0.,  0.],\n",
       "       ...,\n",
       "       [ 0.,  0.,  4., ...,  8.,  0.,  0.],\n",
       "       [ 0.,  0.,  0., ...,  0.,  0.,  0.],\n",
       "       [ 0.,  0.,  0., ..., 11.,  3.,  0.]])"
      ]
     },
     "execution_count": 389,
     "metadata": {},
     "output_type": "execute_result"
    }
   ],
   "source": [
    "X_Rep"
   ]
  },
  {
   "cell_type": "code",
   "execution_count": 390,
   "metadata": {},
   "outputs": [
    {
     "data": {
      "text/plain": [
       "array([0, 2, 9, 1, 9, 6, 4, 1, 7, 7, 3, 5, 2, 6, 0, 8, 4, 5, 4, 4, 8, 9,\n",
       "       8, 7, 9, 6, 8, 7, 2, 2, 1, 1, 5, 3, 9, 3, 6, 8, 1, 4, 7, 2, 5, 4,\n",
       "       3, 8, 9, 0, 4, 6])"
      ]
     },
     "execution_count": 390,
     "metadata": {},
     "output_type": "execute_result"
    }
   ],
   "source": [
    "Y_Rep = Y_Train[X_Centre_Index]  #  getting the corresponding Y_Train set\n",
    "Y_Rep"
   ]
  },
  {
   "cell_type": "code",
   "execution_count": 391,
   "metadata": {},
   "outputs": [
    {
     "name": "stderr",
     "output_type": "stream",
     "text": [
      "C:\\Users\\admin\\anaconda3\\lib\\site-packages\\sklearn\\linear_model\\_logistic.py:940: ConvergenceWarning: lbfgs failed to converge (status=1):\n",
      "STOP: TOTAL NO. of ITERATIONS REACHED LIMIT.\n",
      "\n",
      "Increase the number of iterations (max_iter) or scale the data as shown in:\n",
      "    https://scikit-learn.org/stable/modules/preprocessing.html\n",
      "Please also refer to the documentation for alternative solver options:\n",
      "    https://scikit-learn.org/stable/modules/linear_model.html#logistic-regression\n",
      "  extra_warning_msg=_LOGISTIC_SOLVER_CONVERGENCE_MSG)\n"
     ]
    },
    {
     "data": {
      "text/plain": [
       "LogisticRegression(C=1.0, class_weight=None, dual=False, fit_intercept=True,\n",
       "                   intercept_scaling=1, l1_ratio=None, max_iter=100,\n",
       "                   multi_class='auto', n_jobs=None, penalty='l2',\n",
       "                   random_state=None, solver='lbfgs', tol=0.0001, verbose=0,\n",
       "                   warm_start=False)"
      ]
     },
     "execution_count": 391,
     "metadata": {},
     "output_type": "execute_result"
    }
   ],
   "source": [
    "Log = LogisticRegression()\n",
    "Log.fit(X_Rep, Y_Rep)"
   ]
  },
  {
   "cell_type": "code",
   "execution_count": 392,
   "metadata": {},
   "outputs": [
    {
     "data": {
      "text/plain": [
       "0.9083333333333333"
      ]
     },
     "execution_count": 392,
     "metadata": {},
     "output_type": "execute_result"
    }
   ],
   "source": [
    "Log.score(X_Test, Y_Test) #  The Accuracy increase from 82.7 to 91.67 as a result of the Kmeans preprocessing for the 50 traiming set"
   ]
  },
  {
   "cell_type": "code",
   "execution_count": 278,
   "metadata": {},
   "outputs": [],
   "source": [
    "# Lets now propagate the label to to other instance in the  same cluster"
   ]
  },
  {
   "cell_type": "code",
   "execution_count": 358,
   "metadata": {},
   "outputs": [
    {
     "data": {
      "text/plain": [
       "array([0., 0., 0., ..., 0., 0., 0.])"
      ]
     },
     "execution_count": 358,
     "metadata": {},
     "output_type": "execute_result"
    }
   ],
   "source": [
    "Test = np.empty(len(X_Train))\n",
    "Test"
   ]
  },
  {
   "cell_type": "code",
   "execution_count": 416,
   "metadata": {},
   "outputs": [
    {
     "data": {
      "text/plain": [
       "2"
      ]
     },
     "execution_count": 416,
     "metadata": {},
     "output_type": "execute_result"
    }
   ],
   "source": [
    "Y_Rep[1]"
   ]
  },
  {
   "cell_type": "code",
   "execution_count": 417,
   "metadata": {},
   "outputs": [
    {
     "data": {
      "text/plain": [
       "array([0., 0., 6., 0., 0., 0., 6., 0., 0., 0., 0., 7., 0., 0., 0., 0., 0.,\n",
       "       0., 0., 0., 0., 0., 0., 0., 0., 0., 0., 0., 0., 0., 0., 0., 0., 0.,\n",
       "       0., 0., 0., 0., 0., 0., 0., 0., 0., 0., 0., 0., 0., 6., 0., 0., 0.,\n",
       "       0., 0., 0., 0., 0., 0., 0., 0., 0., 0., 0., 0., 0., 0., 0., 0., 0.,\n",
       "       0., 0., 0., 0., 0., 0., 0., 0., 0., 0., 0., 0., 0., 0., 0., 0., 0.,\n",
       "       0., 0., 0., 0., 0., 0., 0., 0., 0., 0., 0., 0., 0., 0., 2., 0., 0.,\n",
       "       0., 0., 0., 0., 0., 0., 0., 0., 0., 0., 0., 6., 0., 0., 0., 0., 0.,\n",
       "       0., 0., 0., 0., 0., 0., 0., 0., 0., 0., 0., 0., 0., 0., 0., 0., 0.,\n",
       "       0., 0., 0., 0., 0., 0., 0., 0., 0., 0., 0., 0., 0., 0., 0., 0., 0.,\n",
       "       0., 0., 0., 0., 0., 0., 0., 0., 6., 0., 0., 0., 0., 0., 0., 0., 0.,\n",
       "       0., 0., 0., 0., 0., 0., 0., 0., 0., 0., 0., 0., 0., 0., 0., 0., 0.,\n",
       "       0., 0., 0., 0., 0., 0., 0., 0., 0., 0., 0., 0., 0., 0., 0., 0., 0.,\n",
       "       0., 0., 0., 0., 0., 0., 0., 0., 0., 0., 0., 0., 0., 0., 0., 0., 0.,\n",
       "       0., 2., 0., 0., 7., 0., 0., 0., 0., 0., 0., 0., 0., 0., 0., 0., 0.,\n",
       "       0., 0., 0., 0., 0., 0., 0., 0., 0., 0., 0., 0., 0., 0., 0., 0., 0.,\n",
       "       0., 0., 0., 0., 6., 0., 0., 2., 0., 0., 0., 0., 0., 0., 0., 0., 0.,\n",
       "       0., 0., 0., 0., 6., 0., 0., 0., 0., 0., 0., 0., 2., 0., 0., 0., 0.,\n",
       "       0., 0., 0., 0., 0., 0., 0., 0., 0., 0., 6., 0., 0., 0., 0., 0., 0.,\n",
       "       6., 0., 6., 0., 0., 0., 0., 0., 0., 0., 0., 0., 6., 0., 0., 0., 0.,\n",
       "       0., 6., 0., 0., 0., 0., 0., 0., 0., 0., 0., 0., 0., 0., 0., 0., 0.,\n",
       "       0., 0., 0., 0., 0., 0., 0., 0., 0., 0., 0., 0., 0., 0., 0., 2., 0.,\n",
       "       0., 0., 0., 0., 0., 0., 0., 0., 0., 2., 0., 0., 0., 0., 0., 0., 2.,\n",
       "       0., 0., 0., 0., 0., 0., 0., 7., 0., 0., 0., 0., 0., 0., 0., 0., 2.,\n",
       "       0., 0., 0., 6., 0., 0., 0., 0., 0., 0., 0., 0., 0., 0., 0., 6., 0.,\n",
       "       2., 0., 0., 0., 0., 0., 0., 0., 0., 0., 0., 0., 0., 0., 0., 0., 0.,\n",
       "       0., 0., 0., 0., 0., 0., 0., 7., 0., 0., 0., 0., 0., 0., 0., 0., 0.,\n",
       "       7., 2., 0., 0., 0., 0., 0., 0., 0., 0., 6., 0., 0., 0., 0., 0., 0.,\n",
       "       0., 0., 0., 0., 0., 0., 0., 0., 0., 0., 0., 0., 0., 0., 0., 0., 0.,\n",
       "       0., 0., 0., 6., 0., 0., 0., 0., 2., 0., 0., 0., 0., 0., 0., 0., 0.,\n",
       "       0., 0., 0., 0., 0., 0., 0., 0., 0., 0., 0., 0., 0., 0., 0., 0., 0.,\n",
       "       0., 0., 0., 0., 0., 0., 0., 0., 0., 0., 0., 0., 0., 0., 0., 0., 0.,\n",
       "       0., 0., 0., 0., 0., 0., 0., 0., 0., 0., 0., 2., 0., 0., 0., 0., 0.,\n",
       "       0., 0., 0., 0., 0., 0., 0., 0., 0., 2., 0., 0., 0., 0., 0., 0., 0.,\n",
       "       0., 0., 0., 0., 0., 0., 6., 0., 0., 0., 0., 0., 0., 0., 0., 0., 0.,\n",
       "       0., 0., 0., 0., 6., 0., 0., 0., 0., 0., 0., 6., 0., 0., 0., 0., 0.,\n",
       "       0., 0., 0., 0., 0., 0., 0., 0., 2., 0., 0., 0., 0., 0., 0., 0., 0.,\n",
       "       0., 0., 0., 0., 0., 0., 6., 0., 0., 0., 0., 0., 0., 0., 0., 0., 0.,\n",
       "       0., 0., 7., 0., 0., 0., 0., 0., 0., 0., 6., 0., 0., 0., 0., 2., 0.,\n",
       "       0., 0., 0., 0., 0., 0., 0., 0., 0., 7., 0., 0., 0., 0., 0., 0., 0.,\n",
       "       0., 0., 0., 0., 0., 0., 0., 0., 0., 0., 0., 0., 0., 0., 0., 0., 0.,\n",
       "       0., 0., 0., 0., 0., 0., 2., 0., 0., 0., 0., 0., 0., 0., 0., 7., 0.,\n",
       "       0., 0., 0., 0., 0., 0., 0., 0., 0., 0., 0., 0., 0., 0., 0., 0., 0.,\n",
       "       0., 0., 7., 0., 6., 0., 0., 0., 0., 2., 0., 0., 0., 0., 0., 0., 0.,\n",
       "       2., 0., 0., 0., 0., 0., 0., 0., 0., 0., 0., 0., 0., 0., 0., 0., 0.,\n",
       "       0., 0., 0., 0., 0., 0., 0., 2., 0., 0., 0., 2., 0., 0., 0., 0., 0.,\n",
       "       0., 0., 0., 0., 6., 0., 0., 0., 0., 0., 0., 0., 0., 0., 0., 0., 0.,\n",
       "       0., 0., 0., 0., 0., 0., 0., 0., 0., 0., 0., 0., 0., 0., 0., 0., 0.,\n",
       "       0., 0., 0., 0., 0., 0., 0., 0., 0., 0., 0., 0., 7., 0., 0., 0., 0.,\n",
       "       0., 0., 0., 0., 0., 0., 0., 0., 0., 0., 7., 0., 0., 0., 0., 0., 0.,\n",
       "       0., 0., 0., 0., 0., 0., 2., 0., 0., 0., 0., 0., 0., 0., 0., 0., 0.,\n",
       "       0., 0., 0., 0., 0., 0., 0., 0., 0., 0., 0., 0., 2., 6., 0., 0., 0.,\n",
       "       0., 0., 0., 0., 0., 0., 0., 0., 0., 0., 0., 0., 0., 6., 0., 0., 0.,\n",
       "       0., 0., 0., 0., 0., 0., 6., 0., 0., 0., 0., 0., 0., 0., 0., 0., 0.,\n",
       "       0., 0., 0., 0., 0., 0., 0., 0., 0., 0., 0., 0., 0., 0., 0., 2., 0.,\n",
       "       0., 0., 0., 0., 0., 0., 0., 0., 2., 0., 0., 0., 0., 0., 0., 0., 0.,\n",
       "       0., 0., 0., 0., 0., 0., 0., 0., 0., 0., 0., 0., 0., 0., 0., 0., 0.,\n",
       "       0., 0., 6., 0., 0., 0., 0., 0., 0., 0., 0., 7., 0., 0., 0., 0., 2.,\n",
       "       0., 0., 0., 0., 2., 0., 0., 0., 0., 0., 0., 0., 0., 0., 0., 0., 7.,\n",
       "       0., 0., 0., 0., 0., 0., 0., 0., 0., 0., 0., 0., 0., 2.])"
      ]
     },
     "execution_count": 417,
     "metadata": {},
     "output_type": "execute_result"
    }
   ],
   "source": [
    "Test[(Prep.labels_==1) ]= Y_Rep[1]\n",
    "Test[:1000]  #  Testing how the propagation works"
   ]
  },
  {
   "cell_type": "code",
   "execution_count": 418,
   "metadata": {},
   "outputs": [
    {
     "data": {
      "text/plain": [
       "array([4.94065646e-324, 6.95328868e-310, 5.76179356e-320, ...,\n",
       "       9.00000000e+000, 2.00000000e+000, 4.00000000e+000])"
      ]
     },
     "execution_count": 418,
     "metadata": {},
     "output_type": "execute_result"
    }
   ],
   "source": [
    "Y_Train_propagated = np.empty(len(X_Train))\n",
    "Y_Train_propagated"
   ]
  },
  {
   "cell_type": "code",
   "execution_count": 419,
   "metadata": {},
   "outputs": [
    {
     "data": {
      "text/plain": [
       "0.9222222222222223"
      ]
     },
     "execution_count": 419,
     "metadata": {},
     "output_type": "execute_result"
    }
   ],
   "source": [
    "k= 50\n",
    "for i in range(k):\n",
    "    Y_Train_propagated[Prep.labels_== i] = Y_Rep[i]  #  assigned the labels with tthe right label from the Rep of each cluster, the unsigned label are label empty(zero)\n",
    "Log_Reg = LogisticRegression(n_jobs = -1 )\n",
    "Log_Reg.fit(X_Train, Y_Train_propagated)\n",
    "Log_Reg.score(X_Test, Y_Test)\n",
    "    \n",
    "# We have a slight increase in the accuracy from 91 to 92"
   ]
  },
  {
   "cell_type": "code",
   "execution_count": 420,
   "metadata": {},
   "outputs": [
    {
     "data": {
      "text/plain": [
       "array([6., 0., 0., 3., 0., 5., 0., 0., 4., 1., 2., 9., 4., 5., 9., 6., 3.,\n",
       "       1., 8., 8., 4., 2., 3., 8., 9., 8., 8., 5., 0., 6.])"
      ]
     },
     "execution_count": 420,
     "metadata": {},
     "output_type": "execute_result"
    }
   ],
   "source": [
    "Y_Train_propagated[:30]"
   ]
  },
  {
   "cell_type": "code",
   "execution_count": null,
   "metadata": {},
   "outputs": [],
   "source": []
  },
  {
   "cell_type": "markdown",
   "metadata": {},
   "source": [
    "# DBSCAN Clustering"
   ]
  },
  {
   "cell_type": "code",
   "execution_count": 596,
   "metadata": {},
   "outputs": [],
   "source": [
    "#DBSCAN is a clstering algorithm suited for high density mixed with low density data"
   ]
  },
  {
   "cell_type": "markdown",
   "metadata": {},
   "source": [
    "For each instance, the algorithm counts how many instances are located within a\n",
    "small distance ε (epsilon) from it. This region is called the instance’s \"ε\" neighborhood. <br>\n",
    "\n",
    "If an instance has at least min_samples instances in its ε-neighborhood (including itself), then it is considered a core instance. In other words, core instances are<br>\n",
    "those that are located in dense regions.\n",
    "\n",
    "All instances in the neighborhood of a core instance belong to the same cluster.This may include other core instances, therefore a long sequence of neighboring<br>\n",
    "core instances forms a single cluster.<br>\n",
    "\n",
    "Any instance that is not a core instance and does not have one in its neighbor‐\n",
    "hood is considered an anomaly."
   ]
  },
  {
   "cell_type": "code",
   "execution_count": 597,
   "metadata": {},
   "outputs": [],
   "source": [
    "# Implementing DBSCAN with Scikit-learn with the make-moons dataset"
   ]
  },
  {
   "cell_type": "code",
   "execution_count": 425,
   "metadata": {},
   "outputs": [],
   "source": [
    "from sklearn.cluster import DBSCAN\n",
    "from sklearn.datasets import make_moons"
   ]
  },
  {
   "cell_type": "code",
   "execution_count": 601,
   "metadata": {},
   "outputs": [
    {
     "data": {
      "text/plain": [
       "array([[-0.02137124,  0.40618608],\n",
       "       [ 0.97670045, -0.45832306],\n",
       "       [ 0.90405882, -0.37651952],\n",
       "       ...,\n",
       "       [ 1.66258462, -0.3079193 ],\n",
       "       [-0.94355873,  0.3278936 ],\n",
       "       [ 0.79419406,  0.60777171]])"
      ]
     },
     "execution_count": 601,
     "metadata": {},
     "output_type": "execute_result"
    }
   ],
   "source": [
    "X, Y = make_moons(n_samples = 1000, noise  = 0.05, random_state = 42)\n",
    "X\n"
   ]
  },
  {
   "cell_type": "code",
   "execution_count": 600,
   "metadata": {},
   "outputs": [
    {
     "data": {
      "text/plain": [
       "1000"
      ]
     },
     "execution_count": 600,
     "metadata": {},
     "output_type": "execute_result"
    }
   ],
   "source": [
    "len(X)"
   ]
  },
  {
   "cell_type": "code",
   "execution_count": 487,
   "metadata": {},
   "outputs": [],
   "source": [
    "SCAN = DBSCAN(eps = 0.05, min_samples = 5)"
   ]
  },
  {
   "cell_type": "code",
   "execution_count": 488,
   "metadata": {},
   "outputs": [
    {
     "data": {
      "text/plain": [
       "DBSCAN(algorithm='auto', eps=0.05, leaf_size=30, metric='euclidean',\n",
       "       metric_params=None, min_samples=5, n_jobs=None, p=None)"
      ]
     },
     "execution_count": 488,
     "metadata": {},
     "output_type": "execute_result"
    }
   ],
   "source": [
    "SCAN.fit(X)"
   ]
  },
  {
   "cell_type": "code",
   "execution_count": 489,
   "metadata": {},
   "outputs": [
    {
     "data": {
      "text/plain": [
       "array([ 0,  2, -1, -1,  1,  0,  0,  0,  2,  5,  2,  3,  0,  2,  2,  2,  4,\n",
       "        2,  2,  4,  0,  5,  1,  0,  5,  5,  3,  2,  2,  2,  4,  5,  0,  6,\n",
       "        1, -1,  0,  0,  2,  3, -1,  3,  4, -1,  4,  4,  2,  0,  6,  2,  0,\n",
       "        2,  4,  0,  3,  3,  0,  3,  5,  2, -1,  3,  0,  5,  0,  0,  0,  2,\n",
       "        3,  0,  3,  6,  0,  2,  4,  4,  0,  3,  0,  4,  0,  3, -1,  3,  4,\n",
       "        0, -1,  2,  2,  4,  1,  6,  0,  5,  2,  6,  2,  3,  3, -1,  2, -1,\n",
       "        2,  4,  0,  0,  0,  2,  5,  2,  0,  2, -1,  2,  3,  1,  5,  2,  0,\n",
       "        4,  2,  1,  2,  4,  4,  0,  0,  6,  2,  2,  0,  2, -1,  2,  0,  3,\n",
       "        3,  5, -1,  3,  3,  5,  2,  4,  2,  2,  2,  4,  2,  4,  0, -1,  2,\n",
       "        1,  2,  6,  4,  2,  3,  2, -1,  2,  0,  0,  2,  0,  4,  0,  4,  4,\n",
       "        1,  6,  3,  2,  6,  1,  4,  4,  2,  0,  6,  0,  1,  0,  2,  5,  1,\n",
       "        1,  2,  2,  2,  2,  0,  5,  5,  1,  4,  5,  0,  3,  3,  0,  0,  0,\n",
       "        2,  0,  5,  2, -1,  2,  3,  5,  2,  2,  0,  4,  0,  4,  2,  2,  4,\n",
       "        2,  2,  3,  2,  3,  0,  1,  2,  0,  4, -1,  6,  0,  3,  3,  5, -1,\n",
       "        5,  4,  3,  5,  0,  2, -1,  3,  6,  3,  3,  4,  3,  2,  2,  2,  1,\n",
       "        4,  0,  2,  2, -1,  2,  6,  3,  4,  4,  2,  2,  1,  0,  1,  6,  3,\n",
       "        2,  4,  0,  3,  5,  0,  3,  2,  0,  2,  5,  4,  5,  2, -1,  6,  5,\n",
       "        2,  2,  2,  0,  6,  1,  6,  2,  1,  3,  5,  0,  1, -1,  1,  2,  2,\n",
       "        4, -1,  2,  0,  0,  0,  0,  2,  6,  6, -1,  1,  2,  5,  3,  5,  4,\n",
       "        0,  2,  0, -1,  6,  2,  3,  2,  4,  2,  0, -1,  4, -1,  0, -1,  0,\n",
       "        6,  1,  5,  3,  1,  1,  0,  2,  3,  2, -1,  4,  2,  3,  4,  5,  4,\n",
       "       -1,  4, -1,  1,  0,  5,  6,  5,  3,  2,  5,  1, -1,  5,  2,  5,  5,\n",
       "        3,  2,  6,  3,  2,  2,  5,  5,  2,  5,  5,  2, -1,  3,  2,  2,  5,\n",
       "        3,  0,  3,  0,  3,  1,  6,  2,  2,  3,  6,  0,  0,  0,  0,  2, -1,\n",
       "        3,  0, -1,  2,  2,  4,  2,  2,  0,  2,  0,  6,  3,  2,  6,  0,  6,\n",
       "        1,  3,  3,  0,  4,  4,  1,  4,  6,  4,  3,  5,  1,  2, -1,  5,  0,\n",
       "        2,  0,  0,  0,  0,  5,  0,  0,  0,  2,  1,  5,  5,  0,  2,  0,  1,\n",
       "        1,  3,  3,  0,  2,  1,  3,  3,  1,  0,  6,  1,  3,  2,  3,  4,  2,\n",
       "        2,  2,  0,  0,  0,  3, -1,  1,  0,  3,  3,  4,  5,  6, -1,  0,  2,\n",
       "        3,  6,  5,  6,  1,  2,  2,  0,  5,  1,  2,  2,  2,  0,  1,  2,  2,\n",
       "        4,  0,  4,  3,  4,  2,  5, -1,  2,  3,  1,  0, -1,  4,  1,  0,  2,\n",
       "       -1,  0,  3,  0,  3,  0,  4,  2,  6,  5,  3,  2,  6,  5,  4,  5, -1,\n",
       "        3,  2,  0,  2,  0,  3,  3,  6,  0,  3,  2,  2,  1,  4,  3,  1,  5,\n",
       "       -1,  2,  2,  4,  6,  0,  4,  4,  2,  5,  3,  2,  3,  4,  2,  5,  6,\n",
       "        1,  0,  4,  3, -1,  2,  2,  1,  0, -1,  3,  5,  4,  2,  0,  2,  2,\n",
       "        5,  4,  0,  0,  2,  3,  3,  4,  4,  0,  2,  5,  3,  0, -1,  5,  4,\n",
       "       -1,  2,  2,  0,  2,  0, -1, -1,  2, -1, -1,  5,  3,  0,  3,  2,  2,\n",
       "        0,  2,  6,  4,  2,  2,  5,  3,  2,  6,  2,  1,  5,  3,  2,  1,  6,\n",
       "        2,  2,  2,  2,  5,  2,  2,  0, -1,  2,  0,  2,  5,  2, -1,  2,  2,\n",
       "        2,  3,  4,  0,  3,  1, -1,  2,  0,  2,  0, -1,  3,  5,  1,  2,  5,\n",
       "        0,  2,  2,  3,  2,  3,  6, -1,  4,  4,  2,  0,  0, -1,  2,  4,  0,\n",
       "        4,  1,  5,  2, -1, -1,  0,  2,  6,  5,  3,  2,  2,  2,  0,  1,  6,\n",
       "        4,  5,  3,  2,  0,  5, -1,  5,  0,  4,  4,  1,  3,  5,  5,  6,  4,\n",
       "        1,  2,  2,  2,  2,  2,  3,  0,  1,  2,  2,  2,  2,  5,  0,  2,  2,\n",
       "        2,  2,  0,  2,  2,  1,  2,  0,  4,  2,  6,  6,  3,  0,  4,  2, -1,\n",
       "        0,  1,  2,  2,  5,  2,  0,  4,  0,  1,  2,  0,  1, -1, -1,  0,  0,\n",
       "        4,  1,  1,  5,  2,  2,  6,  4, -1,  0,  2,  2,  2,  0,  2,  2,  0,\n",
       "        2,  0,  2,  0,  2,  3,  4,  0,  5,  0,  3,  0,  5,  0,  2,  2,  2,\n",
       "        2,  2,  3,  0,  4,  2,  0,  0,  6,  0,  2,  5,  1,  2,  1,  2,  2,\n",
       "        5, -1,  2,  0,  2,  0,  2,  0,  2,  0,  3, -1,  2,  0,  1,  0,  3,\n",
       "        3,  2,  2,  5,  5,  3,  2,  5,  6, -1,  1,  4,  1,  0,  1,  0,  6,\n",
       "        3,  3,  6,  0,  3,  2,  0,  2, -1,  3,  2,  3,  5,  3,  6,  1,  5,\n",
       "        2,  5,  2,  3,  2,  4,  2,  2,  2,  4,  0,  4,  2,  6,  6,  2, -1,\n",
       "        2,  4,  5,  5,  0,  2,  1,  0,  6,  2,  2,  3,  0,  1, -1,  2,  2,\n",
       "        0,  3,  5,  3,  2,  0,  1,  6,  1, -1,  4,  2,  0,  4,  2,  4,  3,\n",
       "        4, -1,  1,  4,  5,  2,  2,  0,  2,  6,  2,  0,  2,  4,  0,  2,  0,\n",
       "        0,  5,  2, -1,  6, -1,  0,  3,  6,  0,  2,  2,  4,  3,  4,  6,  5,\n",
       "        4,  2,  5,  1, -1,  1,  6,  4,  2,  4,  0,  5,  0,  2,  3,  1,  3,\n",
       "        6,  4,  5, -1,  3, -1,  3,  2,  3,  3,  4,  2,  6,  3],\n",
       "      dtype=int64)"
      ]
     },
     "execution_count": 489,
     "metadata": {},
     "output_type": "execute_result"
    }
   ],
   "source": [
    "SCAN.labels_"
   ]
  },
  {
   "cell_type": "code",
   "execution_count": 490,
   "metadata": {},
   "outputs": [],
   "source": [
    "#  The anomalies cluster are assigned negative 1 as shown above"
   ]
  },
  {
   "cell_type": "code",
   "execution_count": 491,
   "metadata": {},
   "outputs": [
    {
     "data": {
      "text/plain": [
       "array([  0,   4,   5,   6,   7,   8,  10,  11,  12,  13,  14,  16,  17,\n",
       "        18,  19,  20,  21,  22,  23,  24,  25,  26,  28,  29,  30,  31,\n",
       "        32,  33,  34,  36,  38,  39,  41,  42,  44,  45,  47,  49,  50,\n",
       "        51,  52,  53,  54,  55,  56,  58,  59,  61,  63,  64,  65,  66,\n",
       "        67,  68,  69,  70,  71,  72,  73,  74,  75,  76,  77,  78,  79,\n",
       "        80,  81,  83,  84,  85,  87,  88,  89,  90,  91,  93,  94,  96,\n",
       "        97,  98, 102, 103, 104, 105, 106, 107, 108, 109, 110, 113, 114,\n",
       "       115, 116, 117, 119, 120, 122, 123, 124, 125, 126, 127, 128, 129,\n",
       "       130, 135, 136, 139, 140, 141, 143, 144, 145, 146, 147, 148, 149,\n",
       "       150, 152, 153, 154, 155, 156, 157, 158, 159, 161, 162, 163, 164,\n",
       "       165, 166, 167, 168, 169, 170, 172, 173, 174, 175, 176, 177, 178,\n",
       "       179, 181, 182, 183, 185, 186, 187, 188, 189, 191, 193, 194, 195,\n",
       "       196, 198, 199, 200, 201, 202, 203, 204, 205, 206, 207, 209, 210,\n",
       "       211, 212, 213, 214, 215, 216, 217, 218, 219, 221, 222, 223, 224,\n",
       "       226, 228, 229, 230, 232, 233, 234, 235, 236, 238, 239, 240, 241,\n",
       "       242, 243, 245, 246, 247, 248, 249, 250, 251, 252, 253, 255, 256,\n",
       "       257, 260, 261, 262, 263, 264, 265, 266, 267, 268, 269, 270, 271,\n",
       "       272, 273, 274, 276, 277, 278, 279, 280, 281, 282, 283, 284, 285,\n",
       "       287, 288, 289, 290, 291, 293, 294, 295, 296, 297, 300, 301, 303,\n",
       "       304, 305, 308, 309, 310, 311, 313, 315, 317, 318, 319, 320, 321,\n",
       "       322, 323, 324, 327, 328, 329, 330, 332, 333, 335, 339, 340, 341,\n",
       "       342, 343, 346, 347, 348, 349, 351, 352, 353, 354, 355, 356, 358,\n",
       "       360, 361, 362, 363, 364, 365, 366, 367, 368, 370, 371, 372, 373,\n",
       "       374, 375, 377, 378, 379, 380, 381, 382, 384, 385, 387, 388, 389,\n",
       "       390, 391, 392, 393, 394, 395, 397, 398, 399, 400, 401, 402, 403,\n",
       "       404, 405, 406, 409, 411, 412, 413, 414, 415, 416, 417, 418, 419,\n",
       "       420, 421, 422, 423, 424, 425, 426, 427, 428, 429, 430, 431, 432,\n",
       "       433, 435, 436, 437, 438, 440, 441, 442, 443, 444, 445, 446, 447,\n",
       "       448, 449, 450, 451, 452, 453, 454, 456, 457, 458, 459, 461, 462,\n",
       "       463, 464, 467, 468, 469, 471, 472, 473, 474, 475, 476, 477, 478,\n",
       "       479, 480, 483, 484, 485, 486, 487, 488, 489, 491, 492, 493, 495,\n",
       "       496, 497, 498, 499, 501, 502, 503, 504, 505, 506, 507, 508, 509,\n",
       "       510, 511, 512, 513, 514, 515, 516, 518, 519, 520, 521, 523, 524,\n",
       "       525, 526, 528, 529, 530, 531, 532, 533, 535, 536, 537, 538, 539,\n",
       "       540, 541, 542, 544, 545, 546, 547, 548, 549, 550, 551, 552, 553,\n",
       "       554, 555, 556, 557, 559, 560, 562, 563, 564, 565, 566, 568, 569,\n",
       "       570, 572, 573, 574, 575, 576, 578, 579, 580, 583, 584, 585, 586,\n",
       "       588, 589, 590, 591, 592, 593, 594, 595, 596, 597, 599, 600, 601,\n",
       "       602, 603, 604, 605, 607, 610, 611, 614, 615, 616, 617, 620, 624,\n",
       "       625, 627, 628, 629, 631, 633, 634, 635, 636, 637, 638, 639, 640,\n",
       "       641, 642, 643, 644, 645, 646, 647, 648, 649, 650, 652, 655, 656,\n",
       "       657, 661, 662, 663, 664, 666, 667, 670, 671, 672, 673, 675, 676,\n",
       "       677, 678, 679, 680, 681, 682, 684, 685, 686, 688, 689, 690, 691,\n",
       "       692, 694, 695, 696, 697, 698, 703, 704, 705, 706, 708, 709, 710,\n",
       "       711, 712, 713, 714, 716, 717, 718, 719, 721, 722, 723, 724, 726,\n",
       "       729, 730, 731, 733, 735, 736, 737, 738, 739, 740, 741, 742, 743,\n",
       "       744, 745, 746, 748, 749, 750, 751, 752, 753, 754, 756, 757, 758,\n",
       "       759, 760, 761, 762, 763, 765, 766, 768, 770, 772, 773, 774, 775,\n",
       "       776, 777, 780, 781, 782, 783, 784, 785, 786, 787, 788, 789, 791,\n",
       "       792, 793, 794, 795, 796, 797, 798, 799, 800, 802, 803, 804, 805,\n",
       "       806, 807, 808, 809, 810, 811, 812, 813, 814, 815, 816, 817, 818,\n",
       "       819, 820, 821, 822, 824, 825, 826, 827, 828, 829, 830, 831, 832,\n",
       "       835, 836, 837, 838, 839, 840, 841, 842, 843, 845, 846, 848, 849,\n",
       "       850, 851, 852, 853, 854, 855, 857, 858, 860, 861, 862, 863, 864,\n",
       "       865, 867, 868, 870, 871, 873, 877, 878, 879, 880, 882, 883, 884,\n",
       "       885, 886, 887, 888, 889, 890, 891, 892, 893, 894, 895, 896, 897,\n",
       "       898, 899, 902, 903, 904, 905, 906, 907, 908, 910, 912, 913, 916,\n",
       "       918, 919, 920, 921, 922, 923, 925, 926, 928, 929, 930, 931, 932,\n",
       "       933, 934, 935, 937, 938, 939, 940, 941, 942, 943, 944, 945, 947,\n",
       "       948, 949, 951, 952, 953, 954, 956, 958, 959, 960, 961, 962, 963,\n",
       "       964, 965, 966, 967, 968, 969, 970, 972, 974, 975, 976, 978, 979,\n",
       "       980, 982, 983, 984, 985, 986, 987, 988, 990, 992, 993, 995, 997,\n",
       "       998, 999], dtype=int64)"
      ]
     },
     "execution_count": 491,
     "metadata": {},
     "output_type": "execute_result"
    }
   ],
   "source": [
    "# We can accesss the ineds of the core sample in the cluster with the \"core_sample_indices\"\n",
    "SCAN.core_sample_indices_"
   ]
  },
  {
   "cell_type": "code",
   "execution_count": 598,
   "metadata": {},
   "outputs": [
    {
     "data": {
      "text/plain": [
       "808"
      ]
     },
     "execution_count": 598,
     "metadata": {},
     "output_type": "execute_result"
    }
   ],
   "source": [
    "len(SCAN.components_)"
   ]
  },
  {
   "cell_type": "code",
   "execution_count": 492,
   "metadata": {},
   "outputs": [
    {
     "data": {
      "text/plain": [
       "808"
      ]
     },
     "execution_count": 492,
     "metadata": {},
     "output_type": "execute_result"
    }
   ],
   "source": [
    "\n",
    "len(SCAN.core_sample_indices_)"
   ]
  },
  {
   "cell_type": "code",
   "execution_count": 501,
   "metadata": {},
   "outputs": [
    {
     "data": {
      "text/plain": [
       "array([[-0.02137124,  0.40618608],\n",
       "       [-0.84192557,  0.53058695],\n",
       "       [ 0.58930337, -0.32137599],\n",
       "       ...,\n",
       "       [ 1.66258462, -0.3079193 ],\n",
       "       [-0.94355873,  0.3278936 ],\n",
       "       [ 0.79419406,  0.60777171]])"
      ]
     },
     "execution_count": 501,
     "metadata": {},
     "output_type": "execute_result"
    }
   ],
   "source": [
    "# We can accesss the instance component of the cluster with the \"component_ method\"  #  These components is part of the training set used in the algorithm\n",
    "SCAN.components_"
   ]
  },
  {
   "cell_type": "code",
   "execution_count": 502,
   "metadata": {},
   "outputs": [],
   "source": [
    "#  Unfortunately, the DBSCAN algo does not have a predict method. this means will cant classify new label from new training set. but we can get away around this.\n",
    "# However, it has a fit_predict method for the trained data as shown below"
   ]
  },
  {
   "cell_type": "code",
   "execution_count": 503,
   "metadata": {},
   "outputs": [
    {
     "data": {
      "text/plain": [
       "array([ 0,  2, -1, -1,  1,  0,  0,  0,  2,  5,  2,  3,  0,  2,  2,  2,  4,\n",
       "        2,  2,  4,  0,  5,  1,  0,  5,  5,  3,  2,  2,  2,  4,  5,  0,  6,\n",
       "        1, -1,  0,  0,  2,  3, -1,  3,  4, -1,  4,  4,  2,  0,  6,  2,  0,\n",
       "        2,  4,  0,  3,  3,  0,  3,  5,  2, -1,  3,  0,  5,  0,  0,  0,  2,\n",
       "        3,  0,  3,  6,  0,  2,  4,  4,  0,  3,  0,  4,  0,  3, -1,  3,  4,\n",
       "        0, -1,  2,  2,  4,  1,  6,  0,  5,  2,  6,  2,  3,  3, -1,  2, -1,\n",
       "        2,  4,  0,  0,  0,  2,  5,  2,  0,  2, -1,  2,  3,  1,  5,  2,  0,\n",
       "        4,  2,  1,  2,  4,  4,  0,  0,  6,  2,  2,  0,  2, -1,  2,  0,  3,\n",
       "        3,  5, -1,  3,  3,  5,  2,  4,  2,  2,  2,  4,  2,  4,  0, -1,  2,\n",
       "        1,  2,  6,  4,  2,  3,  2, -1,  2,  0,  0,  2,  0,  4,  0,  4,  4,\n",
       "        1,  6,  3,  2,  6,  1,  4,  4,  2,  0,  6,  0,  1,  0,  2,  5,  1,\n",
       "        1,  2,  2,  2,  2,  0,  5,  5,  1,  4,  5,  0,  3,  3,  0,  0,  0,\n",
       "        2,  0,  5,  2, -1,  2,  3,  5,  2,  2,  0,  4,  0,  4,  2,  2,  4,\n",
       "        2,  2,  3,  2,  3,  0,  1,  2,  0,  4, -1,  6,  0,  3,  3,  5, -1,\n",
       "        5,  4,  3,  5,  0,  2, -1,  3,  6,  3,  3,  4,  3,  2,  2,  2,  1,\n",
       "        4,  0,  2,  2, -1,  2,  6,  3,  4,  4,  2,  2,  1,  0,  1,  6,  3,\n",
       "        2,  4,  0,  3,  5,  0,  3,  2,  0,  2,  5,  4,  5,  2, -1,  6,  5,\n",
       "        2,  2,  2,  0,  6,  1,  6,  2,  1,  3,  5,  0,  1, -1,  1,  2,  2,\n",
       "        4, -1,  2,  0,  0,  0,  0,  2,  6,  6, -1,  1,  2,  5,  3,  5,  4,\n",
       "        0,  2,  0, -1,  6,  2,  3,  2,  4,  2,  0, -1,  4, -1,  0, -1,  0,\n",
       "        6,  1,  5,  3,  1,  1,  0,  2,  3,  2, -1,  4,  2,  3,  4,  5,  4,\n",
       "       -1,  4, -1,  1,  0,  5,  6,  5,  3,  2,  5,  1, -1,  5,  2,  5,  5,\n",
       "        3,  2,  6,  3,  2,  2,  5,  5,  2,  5,  5,  2, -1,  3,  2,  2,  5,\n",
       "        3,  0,  3,  0,  3,  1,  6,  2,  2,  3,  6,  0,  0,  0,  0,  2, -1,\n",
       "        3,  0, -1,  2,  2,  4,  2,  2,  0,  2,  0,  6,  3,  2,  6,  0,  6,\n",
       "        1,  3,  3,  0,  4,  4,  1,  4,  6,  4,  3,  5,  1,  2, -1,  5,  0,\n",
       "        2,  0,  0,  0,  0,  5,  0,  0,  0,  2,  1,  5,  5,  0,  2,  0,  1,\n",
       "        1,  3,  3,  0,  2,  1,  3,  3,  1,  0,  6,  1,  3,  2,  3,  4,  2,\n",
       "        2,  2,  0,  0,  0,  3, -1,  1,  0,  3,  3,  4,  5,  6, -1,  0,  2,\n",
       "        3,  6,  5,  6,  1,  2,  2,  0,  5,  1,  2,  2,  2,  0,  1,  2,  2,\n",
       "        4,  0,  4,  3,  4,  2,  5, -1,  2,  3,  1,  0, -1,  4,  1,  0,  2,\n",
       "       -1,  0,  3,  0,  3,  0,  4,  2,  6,  5,  3,  2,  6,  5,  4,  5, -1,\n",
       "        3,  2,  0,  2,  0,  3,  3,  6,  0,  3,  2,  2,  1,  4,  3,  1,  5,\n",
       "       -1,  2,  2,  4,  6,  0,  4,  4,  2,  5,  3,  2,  3,  4,  2,  5,  6,\n",
       "        1,  0,  4,  3, -1,  2,  2,  1,  0, -1,  3,  5,  4,  2,  0,  2,  2,\n",
       "        5,  4,  0,  0,  2,  3,  3,  4,  4,  0,  2,  5,  3,  0, -1,  5,  4,\n",
       "       -1,  2,  2,  0,  2,  0, -1, -1,  2, -1, -1,  5,  3,  0,  3,  2,  2,\n",
       "        0,  2,  6,  4,  2,  2,  5,  3,  2,  6,  2,  1,  5,  3,  2,  1,  6,\n",
       "        2,  2,  2,  2,  5,  2,  2,  0, -1,  2,  0,  2,  5,  2, -1,  2,  2,\n",
       "        2,  3,  4,  0,  3,  1, -1,  2,  0,  2,  0, -1,  3,  5,  1,  2,  5,\n",
       "        0,  2,  2,  3,  2,  3,  6, -1,  4,  4,  2,  0,  0, -1,  2,  4,  0,\n",
       "        4,  1,  5,  2, -1, -1,  0,  2,  6,  5,  3,  2,  2,  2,  0,  1,  6,\n",
       "        4,  5,  3,  2,  0,  5, -1,  5,  0,  4,  4,  1,  3,  5,  5,  6,  4,\n",
       "        1,  2,  2,  2,  2,  2,  3,  0,  1,  2,  2,  2,  2,  5,  0,  2,  2,\n",
       "        2,  2,  0,  2,  2,  1,  2,  0,  4,  2,  6,  6,  3,  0,  4,  2, -1,\n",
       "        0,  1,  2,  2,  5,  2,  0,  4,  0,  1,  2,  0,  1, -1, -1,  0,  0,\n",
       "        4,  1,  1,  5,  2,  2,  6,  4, -1,  0,  2,  2,  2,  0,  2,  2,  0,\n",
       "        2,  0,  2,  0,  2,  3,  4,  0,  5,  0,  3,  0,  5,  0,  2,  2,  2,\n",
       "        2,  2,  3,  0,  4,  2,  0,  0,  6,  0,  2,  5,  1,  2,  1,  2,  2,\n",
       "        5, -1,  2,  0,  2,  0,  2,  0,  2,  0,  3, -1,  2,  0,  1,  0,  3,\n",
       "        3,  2,  2,  5,  5,  3,  2,  5,  6, -1,  1,  4,  1,  0,  1,  0,  6,\n",
       "        3,  3,  6,  0,  3,  2,  0,  2, -1,  3,  2,  3,  5,  3,  6,  1,  5,\n",
       "        2,  5,  2,  3,  2,  4,  2,  2,  2,  4,  0,  4,  2,  6,  6,  2, -1,\n",
       "        2,  4,  5,  5,  0,  2,  1,  0,  6,  2,  2,  3,  0,  1, -1,  2,  2,\n",
       "        0,  3,  5,  3,  2,  0,  1,  6,  1, -1,  4,  2,  0,  4,  2,  4,  3,\n",
       "        4, -1,  1,  4,  5,  2,  2,  0,  2,  6,  2,  0,  2,  4,  0,  2,  0,\n",
       "        0,  5,  2, -1,  6, -1,  0,  3,  6,  0,  2,  2,  4,  3,  4,  6,  5,\n",
       "        4,  2,  5,  1, -1,  1,  6,  4,  2,  4,  0,  5,  0,  2,  3,  1,  3,\n",
       "        6,  4,  5, -1,  3, -1,  3,  2,  3,  3,  4,  2,  6,  3],\n",
       "      dtype=int64)"
      ]
     },
     "execution_count": 503,
     "metadata": {},
     "output_type": "execute_result"
    }
   ],
   "source": [
    "SCAN.fit_predict(X)"
   ]
  },
  {
   "cell_type": "code",
   "execution_count": 539,
   "metadata": {},
   "outputs": [
    {
     "data": {
      "text/plain": [
       "KNeighborsClassifier(algorithm='auto', leaf_size=30, metric='minkowski',\n",
       "                     metric_params=None, n_jobs=None, n_neighbors=50, p=2,\n",
       "                     weights='uniform')"
      ]
     },
     "execution_count": 539,
     "metadata": {},
     "output_type": "execute_result"
    }
   ],
   "source": [
    "# How we go around this is to train a classification problem with the DBSCAN algo components and DBSCAN_labels from the core_sample_indices\n",
    "#  The perfet classifier for this is KN Nearest neighbors\n",
    "\n",
    "from sklearn.neighbors import KNeighborsClassifier\n",
    "KNN = KNeighborsClassifier(n_neighbors = 50)\n",
    "KNN.fit(SCAN.components_, SCAN.labels_[SCAN.core_sample_indices_])"
   ]
  },
  {
   "cell_type": "code",
   "execution_count": 540,
   "metadata": {},
   "outputs": [],
   "source": [
    "#  We can now test new instance with this\n",
    "New_X = [[0.4,0.7], [-0.7, 0.3 ], [0.78, 0.6], [1.6, -0.6]]"
   ]
  },
  {
   "cell_type": "code",
   "execution_count": 541,
   "metadata": {},
   "outputs": [
    {
     "data": {
      "text/plain": [
       "array([5, 6, 3, 2], dtype=int64)"
      ]
     },
     "execution_count": 541,
     "metadata": {},
     "output_type": "execute_result"
    }
   ],
   "source": [
    "KNN.predict(New_X)  #  Thats how we can predict new data in DBSCAN"
   ]
  },
  {
   "cell_type": "code",
   "execution_count": 542,
   "metadata": {},
   "outputs": [
    {
     "data": {
      "text/plain": [
       "array([[0.  , 0.  , 0.  , 0.  , 0.  , 1.  , 0.  ],\n",
       "       [0.  , 0.46, 0.  , 0.  , 0.  , 0.  , 0.54],\n",
       "       [0.  , 0.  , 0.  , 1.  , 0.  , 0.  , 0.  ],\n",
       "       [0.  , 0.  , 1.  , 0.  , 0.  , 0.  , 0.  ]])"
      ]
     },
     "execution_count": 542,
     "metadata": {},
     "output_type": "execute_result"
    }
   ],
   "source": [
    "KNN.predict_proba(New_X)"
   ]
  },
  {
   "cell_type": "code",
   "execution_count": 543,
   "metadata": {},
   "outputs": [
    {
     "data": {
      "text/plain": [
       "array([-1,  0,  1,  2,  3,  4,  5,  6], dtype=int64)"
      ]
     },
     "execution_count": 543,
     "metadata": {},
     "output_type": "execute_result"
    }
   ],
   "source": [
    "np.unique(SCAN.labels_)   # -1 in the label is an anomally classification"
   ]
  },
  {
   "cell_type": "code",
   "execution_count": null,
   "metadata": {},
   "outputs": [],
   "source": [
    "#  We can also use the KNN \"Kneighbors\" methos to make prediction"
   ]
  },
  {
   "cell_type": "code",
   "execution_count": 551,
   "metadata": {},
   "outputs": [
    {
     "data": {
      "text/plain": [
       "array([[0.1687714 ],\n",
       "       [0.18423079],\n",
       "       [0.01300276],\n",
       "       [0.22975638]])"
      ]
     },
     "execution_count": 551,
     "metadata": {},
     "output_type": "execute_result"
    }
   ],
   "source": [
    "distance , pred_idx = KNN.kneighbors(New_X, n_neighbors = 1)\n",
    "#This return two arrays: the distance and the indices of the Knearest_neighbors in the training set\n",
    "distance"
   ]
  },
  {
   "cell_type": "code",
   "execution_count": 552,
   "metadata": {},
   "outputs": [
    {
     "data": {
      "text/plain": [
       "array([[165],\n",
       "       [254],\n",
       "       [315],\n",
       "       [171]], dtype=int64)"
      ]
     },
     "execution_count": 552,
     "metadata": {},
     "output_type": "execute_result"
    }
   ],
   "source": [
    "pred_idx"
   ]
  },
  {
   "cell_type": "code",
   "execution_count": 557,
   "metadata": {},
   "outputs": [
    {
     "data": {
      "text/plain": [
       "array([5, 6, 3, 2], dtype=int64)"
      ]
     },
     "execution_count": 557,
     "metadata": {},
     "output_type": "execute_result"
    }
   ],
   "source": [
    "y_pred = SCAN.labels_[SCAN.core_sample_indices_][pred_idx]\n",
    "y_pred.flatten() # Same Result as above"
   ]
  },
  {
   "cell_type": "code",
   "execution_count": 560,
   "metadata": {},
   "outputs": [
    {
     "data": {
      "text/plain": [
       "array([[ 5],\n",
       "       [ 6],\n",
       "       [ 3],\n",
       "       [-1]], dtype=int64)"
      ]
     },
     "execution_count": 560,
     "metadata": {},
     "output_type": "execute_result"
    }
   ],
   "source": [
    "y_pred[distance>0.2] = -1  #  I am going to finf out where the 0.2 and -1 assignment is coming from\n",
    "y_pred"
   ]
  },
  {
   "cell_type": "code",
   "execution_count": 602,
   "metadata": {},
   "outputs": [
    {
     "data": {
      "text/plain": [
       "1000"
      ]
     },
     "execution_count": 602,
     "metadata": {},
     "output_type": "execute_result"
    }
   ],
   "source": [
    "len(SCAN.labels_)"
   ]
  },
  {
   "cell_type": "markdown",
   "metadata": {},
   "source": [
    "# LIMIT of DBSCAN"
   ]
  },
  {
   "cell_type": "markdown",
   "metadata": {},
   "source": [
    "1. if the density varies significantly across the clusters, it can be impossible for it to capture all the clusters properly\n",
    "2. it can be computationally complex <br>\n",
    " however, DBSCAN is a very simple yet powerful algorithm, capable of identifying anynumber of clusters, of any shape, it is robust to outliers, <br>\n",
    " and it has just two hyperparameters (eps and min_samples). "
   ]
  },
  {
   "cell_type": "code",
   "execution_count": null,
   "metadata": {},
   "outputs": [],
   "source": []
  },
  {
   "cell_type": "markdown",
   "metadata": {},
   "source": [
    "# Other Clustering Algorithm"
   ]
  },
  {
   "cell_type": "code",
   "execution_count": 603,
   "metadata": {},
   "outputs": [],
   "source": [
    "# The following are other Clustering algorithm available in scikit-learn"
   ]
  },
  {
   "cell_type": "markdown",
   "metadata": {},
   "source": [
    "1. agglomerative clustering also called Hierarchial clustering: Build little instances to form big branch that later turns to cluster"
   ]
  },
  {
   "cell_type": "markdown",
   "metadata": {},
   "source": [
    "\n",
    "2. Birch: This algorithm was designed specifically for very large datasets, and it can be faster than batch K-Means, with similar results, as long as the number of features is not too large (<20).\n",
    "It builds a tree structure during training containing Clustering just enough information to quickly assign each new instance to a cluster, without\n",
    "having to store all the instances in the tree: this allows it to use limited memory, while handle huge datasets."
   ]
  },
  {
   "cell_type": "markdown",
   "metadata": {},
   "source": [
    "3. Mean-shift: this algorithm starts by placing a circle centered on each instance, then for each circle it computes the mean of all the instances located within it,\n",
    "and it shifts the circle so that it is centered on the mean. Next, it iterates this mean-shift step until all the circles stop moving (i.e., until each of them is cen‐\n",
    "tered on the mean of the instances it contains). This algorithm shifts the circles in the direction of higher density, until each of them has found a local density\n",
    "maximum. Finally, all the instances whose circles have settled in the same place (or close enough) are assigned to the same cluster. This has some of the same fea‐\n",
    "tures as DBSCAN, in particular it can find any number of clusters of any shape, it has just one hyperparameter (the radius of the circles, called the bandwidth) and\n",
    "it relies on local density estimation. However, it tends to chop clusters into pieces when they have internal density variations. Unfortunately, its computational complexity is O(m**2), so it is not suited for large datasets.\n",
    "\n",
    "\n"
   ]
  },
  {
   "cell_type": "markdown",
   "metadata": {},
   "source": [
    "4.  Affinity propagation: this algorithm uses a voting system, where instances vote for similar instances to be their representatives, and once the algorithm converges,\n",
    "each representative and its voters form a cluster. This algorithm can detect any number of clusters of different sizes. Unfortunately, this algorithm has a compu‐\n",
    "tational complexity of O(m**2), so it is not suited for large datasets.\n"
   ]
  },
  {
   "cell_type": "markdown",
   "metadata": {},
   "source": [
    "5. Spectral clustering: this algorithm takes a similarity matrix between the instances and creates a low-dimensional embedding from it (i.e., it reduces its dimension‐\n",
    "ality), then it uses another clustering algorithm in this low-dimensional space (Scikit-Learn’s implementation uses K-Means). Spectral clustering can capture\n",
    "complex cluster structures, and it can also be used to cut graphs (e.g., to identify clusters of friends on a social network), however it does not scale well to large\n",
    "number of instances, and it does not behave well when the clusters have very different sizes."
   ]
  },
  {
   "cell_type": "code",
   "execution_count": null,
   "metadata": {},
   "outputs": [],
   "source": []
  },
  {
   "cell_type": "markdown",
   "metadata": {},
   "source": [
    "# Gaussian Mixtures algorithm"
   ]
  },
  {
   "cell_type": "markdown",
   "metadata": {},
   "source": [
    "A Gaussian mixture model (GMM) is a probabilistic model that assumes that the instances were generated from a mixture of several Gaussian distributions whose\n",
    "parameters are unknown. All the instances generated from a single Gaussian distribution form a cluster that typically looks like an ellipsoid. Each cluster can have a dif\n",
    "ferent ellipsoidal shape, size, density and orientation.\n",
    "\n",
    "\n"
   ]
  },
  {
   "cell_type": "code",
   "execution_count": null,
   "metadata": {},
   "outputs": [],
   "source": []
  },
  {
   "cell_type": "code",
   "execution_count": null,
   "metadata": {},
   "outputs": [],
   "source": [
    "# Implementing Gaussian-Mixtures in Sklearn"
   ]
  },
  {
   "cell_type": "code",
   "execution_count": 568,
   "metadata": {},
   "outputs": [],
   "source": [
    "from sklearn.mixture import GaussianMixture"
   ]
  },
  {
   "cell_type": "code",
   "execution_count": 569,
   "metadata": {},
   "outputs": [],
   "source": [
    "GM = GaussianMixture(n_components = 3, n_init = 10)  #  n_init gets the number of iteration to run the model, n_components gives number of clusters "
   ]
  },
  {
   "cell_type": "code",
   "execution_count": 574,
   "metadata": {},
   "outputs": [
    {
     "data": {
      "text/plain": [
       "GaussianMixture(covariance_type='full', init_params='kmeans', max_iter=100,\n",
       "                means_init=None, n_components=3, n_init=10,\n",
       "                precisions_init=None, random_state=None, reg_covar=1e-06,\n",
       "                tol=0.001, verbose=0, verbose_interval=10, warm_start=False,\n",
       "                weights_init=None)"
      ]
     },
     "execution_count": 574,
     "metadata": {},
     "output_type": "execute_result"
    }
   ],
   "source": [
    "# Lets Train this on the moon_data\n",
    "GM.fit(X)"
   ]
  },
  {
   "cell_type": "code",
   "execution_count": 575,
   "metadata": {},
   "outputs": [
    {
     "data": {
      "text/plain": [
       "array([0.58686271, 0.20453936, 0.20859793])"
      ]
     },
     "execution_count": 575,
     "metadata": {},
     "output_type": "execute_result"
    }
   ],
   "source": [
    "GM.weights_  #  Weight calculated from the model"
   ]
  },
  {
   "cell_type": "code",
   "execution_count": 578,
   "metadata": {},
   "outputs": [
    {
     "data": {
      "text/plain": [
       "array([[ 0.4950664 ,  0.25373843],\n",
       "       [-0.74503074,  0.55807632],\n",
       "       [ 1.73110722, -0.06902321]])"
      ]
     },
     "execution_count": 578,
     "metadata": {},
     "output_type": "execute_result"
    }
   ],
   "source": [
    "GM.means_  # Means of instances distances in the model"
   ]
  },
  {
   "cell_type": "code",
   "execution_count": 577,
   "metadata": {},
   "outputs": [
    {
     "data": {
      "text/plain": [
       "array([[[ 0.16337036, -0.09692064],\n",
       "        [-0.09692064,  0.28734238]],\n",
       "\n",
       "       [[ 0.05459987,  0.06280737],\n",
       "        [ 0.06280737,  0.09028234]],\n",
       "\n",
       "       [[ 0.06102278,  0.06561808],\n",
       "        [ 0.06561808,  0.08773031]]])"
      ]
     },
     "execution_count": 577,
     "metadata": {},
     "output_type": "execute_result"
    }
   ],
   "source": [
    "GM.covariances_ # Covariance od instances distance in the model"
   ]
  },
  {
   "cell_type": "code",
   "execution_count": 580,
   "metadata": {},
   "outputs": [
    {
     "data": {
      "text/plain": [
       "True"
      ]
     },
     "execution_count": 580,
     "metadata": {},
     "output_type": "execute_result"
    }
   ],
   "source": [
    "GM.converged_  # Checking if the algorithm converged"
   ]
  },
  {
   "cell_type": "code",
   "execution_count": 582,
   "metadata": {},
   "outputs": [
    {
     "data": {
      "text/plain": [
       "17"
      ]
     },
     "execution_count": 582,
     "metadata": {},
     "output_type": "execute_result"
    }
   ],
   "source": [
    "GM.n_iter_  #  Number of iteration it took to converge"
   ]
  },
  {
   "cell_type": "code",
   "execution_count": 583,
   "metadata": {},
   "outputs": [
    {
     "data": {
      "text/plain": [
       "array([0, 0, 0, 0, 1, 0, 0, 0, 2, 0, 2, 0, 0, 2, 2, 2, 0, 2, 0, 1, 0, 0,\n",
       "       1, 0, 0, 0, 0, 2, 2, 2, 1, 0, 0, 1, 1, 0, 0, 0, 2, 0, 1, 0, 1, 2,\n",
       "       1, 0, 2, 0, 1, 2, 0, 2, 0, 0, 0, 0, 0, 0, 0, 2, 0, 0, 0, 0, 0, 0,\n",
       "       0, 2, 0, 0, 0, 1, 0, 0, 0, 0, 0, 0, 0, 1, 0, 0, 0, 0, 1, 0, 2, 0,\n",
       "       0, 1, 1, 1, 0, 0, 0, 1, 0, 0, 0, 2, 0, 1, 2, 0, 0, 0, 0, 2, 0, 2,\n",
       "       0, 2, 2, 2, 0, 1, 0, 2, 0, 0, 2, 1, 0, 0, 0, 0, 0, 1, 2, 0, 0, 2,\n",
       "       0, 2, 0, 0, 0, 0, 0, 0, 0, 0, 0, 1, 2, 2, 2, 0, 2, 1, 0, 0, 2, 1,\n",
       "       2, 1, 1, 0, 0, 2, 0, 0, 0, 0, 2, 0, 1, 0, 1, 1, 1, 1, 0, 2, 1, 1,\n",
       "       0, 0, 2, 0, 1, 0, 1, 0, 2, 0, 1, 1, 2, 0, 2, 2, 0, 0, 0, 1, 1, 0,\n",
       "       0, 0, 0, 0, 0, 0, 2, 0, 0, 2, 1, 2, 0, 0, 2, 2, 0, 1, 0, 0, 2, 0,\n",
       "       1, 0, 2, 0, 2, 0, 0, 1, 2, 0, 1, 2, 1, 0, 0, 0, 0, 2, 0, 1, 0, 0,\n",
       "       0, 0, 1, 0, 1, 0, 0, 0, 0, 2, 0, 2, 1, 1, 0, 2, 2, 0, 0, 1, 0, 0,\n",
       "       1, 2, 2, 1, 0, 1, 1, 0, 2, 0, 0, 0, 0, 0, 0, 2, 0, 2, 0, 1, 0, 0,\n",
       "       1, 1, 0, 2, 2, 0, 0, 1, 1, 1, 2, 1, 0, 0, 0, 1, 1, 1, 0, 2, 1, 0,\n",
       "       2, 0, 0, 0, 0, 0, 1, 1, 0, 1, 0, 0, 0, 0, 1, 0, 0, 0, 1, 1, 0, 0,\n",
       "       0, 0, 0, 0, 0, 1, 0, 0, 2, 0, 1, 1, 0, 0, 1, 1, 0, 2, 0, 2, 0, 0,\n",
       "       2, 0, 0, 0, 1, 1, 1, 0, 1, 0, 0, 1, 0, 0, 0, 0, 1, 2, 0, 0, 0, 0,\n",
       "       0, 0, 1, 0, 2, 2, 0, 0, 0, 0, 0, 2, 0, 0, 2, 0, 0, 0, 0, 0, 0, 0,\n",
       "       1, 1, 0, 2, 0, 1, 0, 0, 0, 0, 2, 1, 0, 0, 0, 2, 0, 0, 2, 0, 0, 2,\n",
       "       0, 1, 0, 0, 1, 0, 1, 1, 0, 0, 0, 0, 1, 1, 1, 1, 0, 0, 0, 1, 2, 0,\n",
       "       0, 0, 2, 0, 0, 0, 0, 0, 0, 0, 0, 2, 1, 0, 0, 0, 2, 0, 1, 1, 0, 0,\n",
       "       0, 2, 1, 0, 0, 1, 0, 1, 1, 0, 2, 0, 1, 2, 2, 2, 0, 0, 0, 0, 0, 1,\n",
       "       0, 0, 0, 1, 0, 1, 2, 0, 0, 0, 1, 0, 1, 1, 2, 2, 0, 0, 1, 2, 2, 2,\n",
       "       0, 1, 2, 0, 0, 0, 1, 0, 1, 0, 0, 0, 2, 0, 1, 0, 2, 1, 1, 0, 2, 0,\n",
       "       0, 0, 0, 0, 0, 0, 2, 1, 0, 0, 0, 1, 0, 0, 0, 1, 0, 2, 0, 2, 0, 0,\n",
       "       0, 1, 0, 0, 2, 2, 1, 0, 0, 1, 0, 2, 2, 0, 0, 1, 0, 1, 1, 2, 0, 0,\n",
       "       2, 0, 1, 2, 0, 1, 1, 0, 1, 0, 2, 2, 2, 1, 0, 0, 0, 0, 0, 2, 0, 0,\n",
       "       2, 0, 0, 0, 0, 0, 0, 0, 1, 0, 0, 2, 0, 0, 0, 0, 0, 1, 0, 0, 0, 0,\n",
       "       2, 0, 2, 0, 2, 0, 2, 0, 0, 0, 0, 2, 2, 0, 2, 1, 0, 0, 2, 0, 0, 2,\n",
       "       1, 2, 1, 0, 0, 2, 1, 1, 2, 2, 0, 2, 0, 2, 2, 0, 2, 2, 0, 2, 0, 2,\n",
       "       0, 0, 2, 0, 0, 0, 0, 0, 1, 1, 0, 0, 0, 0, 0, 0, 0, 1, 2, 0, 0, 2,\n",
       "       0, 0, 2, 0, 1, 0, 0, 0, 0, 0, 0, 0, 2, 0, 0, 1, 1, 0, 2, 0, 2, 0,\n",
       "       2, 1, 0, 0, 0, 2, 0, 0, 1, 1, 1, 0, 0, 2, 0, 0, 2, 0, 0, 0, 1, 1,\n",
       "       0, 0, 0, 1, 0, 1, 2, 0, 2, 2, 2, 0, 0, 1, 2, 0, 0, 2, 0, 0, 2, 0,\n",
       "       2, 2, 0, 2, 0, 1, 2, 0, 0, 2, 1, 1, 0, 0, 0, 2, 0, 0, 1, 2, 2, 0,\n",
       "       0, 0, 1, 0, 1, 2, 0, 1, 0, 0, 0, 0, 0, 1, 1, 0, 2, 2, 1, 1, 0, 0,\n",
       "       2, 2, 2, 0, 2, 2, 0, 2, 0, 2, 0, 2, 0, 0, 0, 0, 0, 0, 0, 0, 0, 2,\n",
       "       2, 2, 2, 0, 0, 0, 0, 0, 0, 0, 1, 0, 2, 0, 1, 2, 1, 0, 2, 0, 0, 0,\n",
       "       0, 2, 0, 0, 0, 0, 0, 0, 2, 0, 0, 1, 0, 0, 0, 0, 2, 0, 0, 0, 2, 0,\n",
       "       1, 2, 1, 1, 1, 0, 1, 0, 1, 0, 0, 1, 0, 0, 2, 0, 2, 2, 0, 2, 0, 0,\n",
       "       0, 1, 1, 0, 0, 0, 0, 0, 2, 1, 0, 0, 0, 1, 0, 0, 0, 1, 1, 2, 2, 2,\n",
       "       0, 0, 0, 0, 0, 1, 0, 1, 2, 0, 0, 0, 1, 0, 2, 2, 0, 0, 0, 0, 0, 0,\n",
       "       1, 1, 1, 0, 1, 2, 0, 1, 0, 0, 0, 1, 0, 1, 0, 0, 2, 2, 0, 2, 1, 2,\n",
       "       0, 2, 0, 0, 2, 0, 0, 0, 2, 0, 1, 0, 0, 0, 1, 0, 2, 0, 0, 0, 1, 1,\n",
       "       0, 0, 2, 0, 1, 2, 1, 1, 1, 0, 1, 0, 0, 0, 2, 0, 1, 0, 1, 1, 0, 1,\n",
       "       0, 0, 0, 0, 0, 0, 0, 2, 1, 0], dtype=int64)"
      ]
     },
     "execution_count": 583,
     "metadata": {},
     "output_type": "execute_result"
    }
   ],
   "source": [
    "GM.predict(X)  #  Makin Prediction for the train data itself"
   ]
  },
  {
   "cell_type": "code",
   "execution_count": 584,
   "metadata": {},
   "outputs": [
    {
     "data": {
      "text/plain": [
       "array([[1.00000000e+000, 9.12595056e-014, 2.30146837e-081],\n",
       "       [9.99660066e-001, 7.47233037e-120, 3.39933511e-004],\n",
       "       [9.99999051e-001, 2.17446845e-107, 9.48577999e-007],\n",
       "       ...,\n",
       "       [1.58138088e-002, 1.43718998e-182, 9.84186191e-001],\n",
       "       [3.15534827e-004, 9.99684465e-001, 1.66671181e-161],\n",
       "       [1.00000000e+000, 4.32492679e-045, 5.19983644e-039]])"
      ]
     },
     "execution_count": 584,
     "metadata": {},
     "output_type": "execute_result"
    }
   ],
   "source": [
    "GM.predict_proba(X) # prediction probability"
   ]
  },
  {
   "cell_type": "code",
   "execution_count": 585,
   "metadata": {},
   "outputs": [],
   "source": [
    "# We can actually sample data from the algorithm (its a generative algoriyhm)"
   ]
  },
  {
   "cell_type": "code",
   "execution_count": 586,
   "metadata": {},
   "outputs": [
    {
     "data": {
      "text/plain": [
       "(array([[-0.36380996,  1.59912462],\n",
       "        [ 0.04303911,  0.89362398],\n",
       "        [ 0.15808415,  0.70124709],\n",
       "        [ 0.74044044, -0.19935731],\n",
       "        [-0.21153698,  1.26354561],\n",
       "        [ 1.46282627, -0.29040417]]),\n",
       " array([0, 0, 0, 0, 0, 2]))"
      ]
     },
     "execution_count": 586,
     "metadata": {},
     "output_type": "execute_result"
    }
   ],
   "source": [
    "GM.sample(6)  # Gives the number  of sample data and their prediction"
   ]
  },
  {
   "cell_type": "code",
   "execution_count": 588,
   "metadata": {},
   "outputs": [
    {
     "data": {
      "text/plain": [
       "array([[ 1.52157085, -0.17918994],\n",
       "       [ 0.53175766,  0.16716492],\n",
       "       [-0.09311451,  0.37640788],\n",
       "       [ 1.0235236 , -0.12040558],\n",
       "       [-1.00662567,  0.40217441],\n",
       "       [ 1.95855693,  0.15498357]])"
      ]
     },
     "execution_count": 588,
     "metadata": {},
     "output_type": "execute_result"
    }
   ],
   "source": [
    "New_X , New_Y = GM.sample(6)\n",
    "New_X"
   ]
  },
  {
   "cell_type": "code",
   "execution_count": 589,
   "metadata": {},
   "outputs": [
    {
     "data": {
      "text/plain": [
       "array([0, 0, 0, 0, 1, 2])"
      ]
     },
     "execution_count": 589,
     "metadata": {},
     "output_type": "execute_result"
    }
   ],
   "source": [
    "New_Y"
   ]
  },
  {
   "cell_type": "code",
   "execution_count": 591,
   "metadata": {},
   "outputs": [
    {
     "data": {
      "text/plain": [
       "array([-1.59760943e+00, -1.83480188e+00, -1.56859578e+00, -1.90181248e+00,\n",
       "       -2.43278366e-01, -1.34340986e+00, -1.58942671e+00, -1.59095129e+00,\n",
       "       -3.48586901e-01, -1.79801683e+00, -1.86745681e+00, -1.66878897e+00,\n",
       "       -1.44692396e+00, -4.68986083e-01, -8.67052879e-01,  2.00709206e-02,\n",
       "       -2.14236134e+00, -7.08571708e-01, -1.97978983e+00, -8.67185148e-01,\n",
       "       -1.76567591e+00, -1.76795375e+00, -1.20391122e-01, -1.59942948e+00,\n",
       "       -1.54386695e+00, -1.76015872e+00, -1.66076963e+00, -1.22061360e+00,\n",
       "       -3.22723479e-01, -5.49875652e-01, -4.98285317e-01, -1.43940247e+00,\n",
       "       -1.82093613e+00, -2.02190156e+00,  8.50664496e-04, -1.96534568e+00,\n",
       "       -1.57429254e+00, -1.28026138e+00, -2.83331977e-01, -1.56852030e+00,\n",
       "       -1.20480578e+00, -1.66428926e+00, -1.01201107e+00, -1.19939167e+00,\n",
       "       -1.43416458e+00, -2.11803830e+00, -1.70516741e+00, -1.57158084e+00,\n",
       "       -3.26271946e-01, -5.77558013e-01, -1.82225216e+00, -8.95679851e-01,\n",
       "       -1.96859753e+00, -1.61266882e+00, -1.40221572e+00, -1.42128323e+00,\n",
       "       -1.57603025e+00, -1.42280692e+00, -1.78205280e+00, -6.80713571e-01,\n",
       "       -2.17022713e+00, -1.68808665e+00, -2.07312841e+00, -1.65483496e+00,\n",
       "       -1.58851440e+00, -1.51821891e+00, -1.67442386e+00, -2.61160521e-01,\n",
       "       -1.63871601e+00, -1.57472981e+00, -1.42998249e+00, -2.12959351e+00,\n",
       "       -1.64061166e+00, -1.86357895e+00, -2.25295173e+00, -2.09080891e+00,\n",
       "       -1.55261022e+00, -1.41911309e+00, -1.72376071e+00, -9.05688799e-01,\n",
       "       -1.74042884e+00, -1.63850730e+00, -1.96598840e+00, -1.29062315e+00,\n",
       "       -1.26554881e+00, -1.54393902e+00, -2.20305747e+00, -1.70800326e+00,\n",
       "       -1.87303598e+00, -7.34509510e-01, -7.80709871e-02, -4.92761169e-01,\n",
       "       -1.23663201e+00, -1.74846742e+00, -2.03205590e+00, -5.17130102e-01,\n",
       "       -2.07573383e+00, -1.45591687e+00, -1.30409372e+00, -8.77200519e-01,\n",
       "       -1.90650031e+00, -6.06645731e-01, -2.99804667e-01, -1.80911498e+00,\n",
       "       -1.66732119e+00, -1.65165037e+00, -1.62395009e+00, -5.14248706e-01,\n",
       "       -1.73728157e+00, -6.05617709e-03, -1.42671717e+00, -1.01030745e+00,\n",
       "       -3.75369802e+00, -1.16675875e+00, -1.83171079e+00, -1.30355289e-01,\n",
       "       -1.79169213e+00, -1.76350085e+00, -1.83947841e+00, -2.12085204e+00,\n",
       "       -6.16307060e-01, -4.10574261e-02, -1.54393047e+00, -2.21718599e+00,\n",
       "       -2.01016673e+00, -1.62142742e+00, -1.74755806e+00, -6.85313672e-01,\n",
       "       -5.46120010e-01, -1.96571261e+00, -1.49051952e+00, -1.00909412e+00,\n",
       "       -2.03275468e+00, -2.21114577e+00, -1.97548434e+00, -1.51216379e+00,\n",
       "       -1.46533072e+00, -1.55266167e+00, -1.22253220e+00, -1.50076529e+00,\n",
       "       -1.50974895e+00, -1.67248922e+00, -1.58213282e+00, -1.81624921e+00,\n",
       "       -3.32728211e-01, -7.51732765e-01, -1.08819917e+00, -1.78516678e+00,\n",
       "       -4.50921458e-01, -9.22745600e-01, -1.75482470e+00, -1.97863071e+00,\n",
       "       -1.59110334e+00, -5.39248591e-01, -4.18536664e-01, -6.36379762e-01,\n",
       "       -6.97653000e-01, -1.70402751e+00, -1.46364869e+00, -1.19138732e+00,\n",
       "       -2.41253567e+00, -2.12115702e+00, -1.59101576e+00, -1.69580421e+00,\n",
       "       -3.07486771e-01, -1.44258098e+00, -1.76140163e+00, -1.45331189e+00,\n",
       "       -1.25788763e+00, -9.25666159e-01, -1.54011317e-01, -8.84111752e-01,\n",
       "       -1.72896666e+00, -2.06899581e+00, -3.00553584e+00, -2.90083878e-01,\n",
       "       -1.78302667e+00, -1.91618521e+00, -1.10069500e+00, -1.52515692e+00,\n",
       "       -4.21359222e+00, -1.49203356e+00, -2.24277114e-01, -1.58543900e+00,\n",
       "       -5.98274290e-01, -1.54024616e+00, -1.78715843e-01, -6.97003465e-03,\n",
       "       -4.57596989e-01, -1.86496136e+00, -3.44628400e-01, -3.53943281e-01,\n",
       "       -1.31016138e+00, -1.44168777e+00, -1.71432592e+00, -1.87741592e+00,\n",
       "       -7.26343206e-01, -1.53891029e+00, -1.61543454e+00, -1.76399910e+00,\n",
       "       -1.65322984e+00, -1.51175959e+00, -1.48752658e+00, -1.45856051e+00,\n",
       "       -4.88896655e-01, -1.36803838e+00, -1.47196517e+00, -6.72402659e-01,\n",
       "       -1.79098144e+00, -7.25329810e-01, -1.39658396e+00, -1.63648469e+00,\n",
       "       -2.03807737e-01, -6.19939326e-01, -1.44166670e+00, -9.64252836e-01,\n",
       "       -1.46684229e+00, -1.86709219e+00, -3.23361125e-01, -1.69259221e+00,\n",
       "       -1.41470059e+00, -1.74875881e+00, -1.13321417e+00, -1.51616249e+00,\n",
       "       -8.53320600e-01, -1.70086683e+00, -1.68411427e+00, -2.09818939e-01,\n",
       "       -1.15872416e+00, -1.44615362e+00, -7.44374285e-01, -3.04370878e+00,\n",
       "       -7.60459301e-01, -1.35649802e+00, -1.51526398e+00, -1.37117222e+00,\n",
       "       -1.85635878e+00, -1.42470266e+00, -1.64120771e+00, -6.52000262e-01,\n",
       "       -1.44179593e+00, -1.60574190e+00, -1.34292368e+00, -1.90113867e+00,\n",
       "       -1.14154306e+00, -1.82474565e+00, -8.70573168e-01, -1.78826361e+00,\n",
       "       -1.59541752e+00, -2.22349131e+00, -1.62725882e+00, -1.78669176e+00,\n",
       "       -2.13774595e+00, -5.50605572e-02, -1.88563058e+00, -6.10886973e-01,\n",
       "       -1.45637375e+00, -1.18421269e+00, -1.05126678e+00, -1.28753226e+00,\n",
       "       -1.67296913e+00, -5.13348279e-01, -1.58271409e+00, -2.22219677e+00,\n",
       "       -4.42180678e-01, -8.97289614e-01, -1.51151141e+00, -5.37624563e-01,\n",
       "       -1.69968837e+00, -1.01575201e-01, -2.37331254e+00, -1.63310260e+00,\n",
       "       -1.34728601e-01, -1.96371608e+00, -1.50823498e+00, -1.29059741e+00,\n",
       "       -1.61134559e+00, -1.68477981e+00, -1.60897258e+00, -1.59162534e+00,\n",
       "       -1.61407500e+00, -1.93185908e+00, -1.79292616e+00, -1.86683364e+00,\n",
       "       -1.68142403e+00, -1.58166600e+00, -1.46055876e+00, -5.72678323e-01,\n",
       "       -1.65453204e+00, -6.29953413e-01, -4.54183627e-01, -1.93353262e+00,\n",
       "       -1.32968370e+00, -5.04613548e-01, -1.80073934e-01, -1.07988547e+00,\n",
       "       -1.47254131e-01, -1.26029575e+00, -1.28777253e+00, -1.37554144e+00,\n",
       "       -1.57225506e+00, -1.54369879e-01, -1.29453905e+00, -5.43231498e-01,\n",
       "       -2.13599319e+00, -1.91172531e-01, -1.28782334e+00, -1.19235360e+00,\n",
       "       -4.11990017e-01, -1.60535280e+00, -1.57827507e+00, -1.59422885e+00,\n",
       "       -1.87065547e+00, -1.71113572e+00, -1.19589130e+00, -2.94374032e-01,\n",
       "       -1.59120075e+00, -2.77555253e-01, -1.64873776e+00, -1.67900806e+00,\n",
       "       -1.56342219e+00, -1.72947229e+00, -1.27230092e+00, -1.50767676e+00,\n",
       "       -1.87845154e+00, -1.53295860e+00, -4.22360288e-01, -2.21438348e+00,\n",
       "       -1.55235785e+00, -1.59804068e+00, -1.68083739e+00, -2.12534532e+00,\n",
       "       -1.80862200e+00, -1.48762740e+00, -1.59455816e+00, -8.25107133e-01,\n",
       "       -1.45747089e+00, -1.84410854e+00, -2.14849607e+00, -1.48636293e+00,\n",
       "       -1.53629044e+00, -3.80029945e-01, -1.79165911e+00, -1.57300343e+00,\n",
       "       -1.54823471e+00, -5.70422404e-01, -1.69901404e+00, -8.56911817e-02,\n",
       "       -1.59654031e+00, -6.02384298e-01, -1.89353747e+00, -2.25010315e+00,\n",
       "       -1.13878607e-01, -1.73984830e+00, -2.13652977e+00, -1.54646251e+00,\n",
       "       -1.22185252e+00, -5.17636595e-02, -1.37352436e+00, -1.34426732e+00,\n",
       "       -4.23500191e-01, -1.47798819e+00, -1.52252760e+00, -4.95135874e-01,\n",
       "       -1.68114246e+00, -1.35142813e+00, -2.14333841e+00, -1.66784521e+00,\n",
       "       -1.64680208e-01, -1.95483004e+00, -1.62731420e+00, -1.61893870e+00,\n",
       "       -1.59348853e+00, -1.68314018e+00, -1.63485639e+00, -1.89091102e+00,\n",
       "       -1.05492057e+00, -1.56911740e+00, -2.81142639e-01, -9.24286883e-01,\n",
       "       -1.66466103e+00, -1.57085171e+00, -2.14814049e+00, -1.69071052e+00,\n",
       "       -1.66715397e+00, -1.00855658e-02, -2.01187440e+00, -1.52588189e+00,\n",
       "       -1.19014368e+00, -2.11108521e+00, -1.52205795e+00, -1.46179729e+00,\n",
       "       -1.69620010e+00, -1.58966257e+00, -1.68343189e+00, -1.41511642e+00,\n",
       "       -9.20964552e-01, -6.14961665e-01, -1.95115603e+00, -2.08295441e+00,\n",
       "       -1.76443348e+00, -5.75648185e-01, -1.56942447e+00, -1.60961148e+00,\n",
       "       -1.57472652e+00, -1.73406243e+00, -8.29695400e-02, -1.86434289e+00,\n",
       "       -1.39296881e+00, -1.33224774e+00, -1.97121089e+00, -5.81814624e-01,\n",
       "       -1.98958631e+00, -1.88757140e+00, -1.21307684e+00, -1.52971047e+00,\n",
       "       -1.37104867e+00, -3.58275139e-01, -1.62040285e+00, -7.14591047e-01,\n",
       "       -1.63332132e+00, -1.65051066e+00, -1.66328076e+00, -1.63016703e+00,\n",
       "       -4.28538444e-01, -4.34437865e-01, -1.50563478e+00, -1.60606615e+00,\n",
       "       -1.56073224e+00, -2.22336058e+00, -1.86954838e+00, -1.01382600e-01,\n",
       "       -4.90516419e-01, -5.25402712e-01, -2.23976438e+00, -1.68407470e+00,\n",
       "       -1.56331477e+00, -1.27092387e-01, -5.85603321e-01, -2.16181845e+00,\n",
       "       -1.69181160e+00, -1.71832248e+00, -8.12385214e-01, -1.58808677e+00,\n",
       "       -1.49408458e+00, -1.54917461e+00, -1.45771126e+00, -1.72190782e+00,\n",
       "       -1.58200184e+00, -1.53382654e+00, -1.63086768e+00, -4.37227800e-01,\n",
       "       -1.74050623e-03, -1.70194615e+00, -1.88226216e+00, -1.84199844e+00,\n",
       "       -1.00564411e+00, -1.42006307e+00, -7.15696464e-01, -3.79962979e-01,\n",
       "       -1.68748300e+00, -1.76806657e+00, -1.73007079e+00, -9.34970802e-01,\n",
       "       -1.76994532e-01, -1.84543810e+00, -1.29332802e+00, -2.75031282e-01,\n",
       "       -1.79965427e+00, -3.97171138e-01, -2.18178980e+00, -1.84792654e+00,\n",
       "       -9.35153474e-01, -1.56960375e+00, -1.18064014e+00, -1.44648124e+00,\n",
       "       -6.05505581e-01, -7.02916509e-01, -1.60847450e+00, -1.47398607e+00,\n",
       "       -1.51884903e+00, -1.87145267e+00, -1.14606821e+00, -2.17037749e-01,\n",
       "       -1.70561675e+00, -1.59500306e+00, -1.65815216e+00, -1.51048604e+00,\n",
       "       -1.56105156e+00, -3.40220390e+00, -2.15243864e+00, -1.78366154e+00,\n",
       "       -2.02856134e+00, -1.62486733e+00, -1.38526084e+00, -1.59880554e+00,\n",
       "       -4.45433843e-01, -8.40673350e-01, -1.27169754e-01, -5.68696961e-01,\n",
       "       -1.82159560e+00, -1.72791907e+00,  3.82800144e-03, -6.64652849e-01,\n",
       "       -1.48974905e+00, -4.42711235e-01, -1.58115401e+00, -3.18742083e-01,\n",
       "       -9.84994131e-01, -1.92765278e+00, -1.91011101e+00, -1.97121924e+00,\n",
       "       -4.88248379e-01, -1.66565488e+00, -6.79810107e-01, -2.16165243e+00,\n",
       "       -1.79100213e+00, -1.82392781e+00, -1.70221911e+00, -1.40492603e+00,\n",
       "       -2.28586107e-01, -1.57124477e+00,  2.96585290e-03, -4.15279419e-01,\n",
       "       -5.25293929e-01, -1.65287200e+00, -6.23232402e-01, -1.86208269e+00,\n",
       "       -1.50896464e+00, -1.51633164e+00, -1.34916800e+00, -1.50008415e+00,\n",
       "       -1.60697316e+00, -2.09173565e+00, -9.59500309e-01, -9.51759414e-01,\n",
       "       -1.59563419e+00, -1.67573891e+00, -1.84748051e+00, -3.54625648e-01,\n",
       "       -1.52951496e+00, -2.12302576e+00, -1.65870625e+00, -1.21016262e+00,\n",
       "       -1.84213475e+00, -5.96123738e-01, -1.38589200e+00, -8.54554302e-01,\n",
       "       -1.38813820e+00, -1.66205300e+00, -1.62770060e+00, -9.70414441e-01,\n",
       "       -1.48107178e+00, -1.48850716e+00, -1.55751671e-01, -3.11568421e-01,\n",
       "       -1.66037947e-01, -2.12745416e+00, -1.92961572e+00, -4.73070551e-01,\n",
       "       -1.54078467e+00, -2.13157226e+00, -5.13475919e-01, -1.80148798e+00,\n",
       "       -1.94294441e+00, -4.99563701e-01, -1.40346757e+00, -1.97572268e+00,\n",
       "       -6.72363116e-01, -6.11535692e-01, -1.45693907e+00, -1.28506921e+00,\n",
       "       -1.86327988e+00, -1.42801880e+00, -6.85114600e-01, -2.68565427e-01,\n",
       "       -1.51837172e+00, -1.68485042e+00, -6.71362675e-01, -1.56287445e+00,\n",
       "       -1.20472685e+00, -1.24810162e+00, -9.31199292e-01, -1.57317944e+00,\n",
       "       -1.67957956e+00, -3.63656029e-01, -1.72059701e+00, -2.19932291e+00,\n",
       "       -1.67514827e+00, -1.56093953e+00, -1.80048996e+00, -5.15950156e-01,\n",
       "       -1.49310974e+00, -2.00142032e+00, -8.58878096e-01, -1.58011133e+00,\n",
       "       -2.23048646e+00, -1.74604645e+00, -1.99357257e+00, -1.69485138e+00,\n",
       "       -1.70234376e+00, -1.77572631e+00, -1.03258481e+00, -1.85851000e+00,\n",
       "       -1.61631841e+00, -8.10239750e-01, -1.74099766e+00, -1.73000995e+00,\n",
       "       -1.22617238e+00, -2.00676853e+00, -1.60934366e+00, -1.91135863e+00,\n",
       "       -2.02395566e+00, -1.49138883e+00, -1.59443228e+00, -1.61675994e+00,\n",
       "       -5.71906152e-01, -1.43790455e+00, -1.49516403e+00, -2.06391398e+00,\n",
       "       -3.16153411e-01, -1.25668708e+00, -1.05879069e+00, -1.42599989e+00,\n",
       "       -1.37893456e+00, -1.53570339e+00, -1.76042333e+00, -2.17096118e+00,\n",
       "       -4.13792628e-01, -1.65239611e+00, -5.11960428e-01, -2.48937002e+00,\n",
       "       -2.09748485e+00, -1.75617785e+00, -5.20861924e-01, -1.65688734e+00,\n",
       "       -1.78623617e+00, -6.27127309e-01, -2.38060617e-01, -4.80853938e-01,\n",
       "       -5.47843538e-03, -1.74513188e+00, -1.84114162e+00, -6.70777901e-01,\n",
       "       -2.81616503e-01, -2.01210435e+00, -1.00392948e+00, -2.48028725e-01,\n",
       "       -1.71213705e+00, -5.32135684e-01, -1.65108968e+00, -4.00932848e-01,\n",
       "       -1.98023290e-01, -1.40994082e+00, -9.57410945e-01, -6.74681374e-01,\n",
       "       -1.51762692e+00, -9.05505653e-01, -1.34488331e+00, -1.04446103e-01,\n",
       "       -1.86742983e+00, -2.01344435e+00, -1.62547415e+00, -1.97419493e+00,\n",
       "       -1.60045524e+00, -1.91815489e+00, -1.67683804e+00, -1.67152285e+00,\n",
       "       -1.84067753e+00, -6.31553037e-02, -2.07283973e+00, -1.65577476e+00,\n",
       "       -2.10963754e+00, -1.69656569e+00, -1.33273673e+00, -1.60155608e+00,\n",
       "       -1.71670206e+00, -5.41638020e-01, -8.75093224e-01, -1.46875890e+00,\n",
       "       -1.40880134e+00, -2.39821189e-01, -2.07861688e+00, -1.32438425e+00,\n",
       "       -1.07806896e+00, -1.66190920e+00, -5.37504039e-01, -1.30117953e+00,\n",
       "       -2.02964310e+00, -2.05523750e+00, -2.02085573e+00, -1.65725451e+00,\n",
       "       -1.79177859e+00, -1.61823764e+00, -1.47657832e-01, -2.20745575e+00,\n",
       "       -1.76812624e+00, -1.68650679e+00, -4.69944159e-01, -1.33137244e+00,\n",
       "       -1.47347091e+00, -1.89163082e+00, -2.34510782e+00, -1.39450324e+00,\n",
       "       -9.50156875e-02, -2.41413527e+00, -1.69190395e+00, -1.91356395e+00,\n",
       "       -1.80985976e+00, -4.28148036e-01, -1.90130781e+00, -1.53775958e+00,\n",
       "       -2.77879368e-01, -5.64530078e-01, -7.85765894e-01, -1.50243728e+00,\n",
       "       -1.86361918e+00, -3.34324750e-01, -1.69936374e+00, -1.48178741e+00,\n",
       "       -2.97771866e-01, -1.50608628e+00, -1.60096607e+00, -2.20484182e+00,\n",
       "       -1.78572726e+00,  2.94435398e-02, -1.58535950e+00, -1.45798818e+00,\n",
       "       -1.49899908e+00, -2.24019680e-01, -1.97156441e+00, -5.92682750e-01,\n",
       "       -1.11506328e-01, -2.12859891e+00, -6.48272306e-02, -4.91568496e-01,\n",
       "       -9.18944154e-02, -1.75850062e+00, -1.63465230e+00, -1.26059588e+00,\n",
       "       -1.76487245e+00, -2.14126021e+00, -1.74057506e+00, -3.85024029e-02,\n",
       "       -1.73522403e+00, -1.66226848e+00, -1.11674065e-01, -2.14871397e+00,\n",
       "       -1.67942244e+00, -3.68382227e-01, -1.55466993e+00, -1.14223456e+00,\n",
       "       -1.99211926e+00, -6.71709315e-01, -2.01601237e+00, -1.28985892e+00,\n",
       "       -2.02754074e+00, -6.43758682e-01, -9.67481223e-01, -2.56246369e+00,\n",
       "       -1.56246838e+00, -1.58320816e+00, -1.97728321e+00, -1.33899224e-01,\n",
       "       -2.02892664e+00, -1.52680969e+00, -5.96066769e-01, -3.06148381e+00,\n",
       "       -3.04734543e-01, -1.91925405e+00, -2.04630128e+00, -1.39944302e+00,\n",
       "       -1.70981661e+00, -1.52097379e+00, -1.85051924e-01, -4.48776842e-01,\n",
       "       -1.64249345e+00, -3.52676700e-01, -1.85928632e+00, -2.20757798e+00,\n",
       "       -1.59507779e+00, -1.52066903e+00, -2.12459852e+00, -2.17970843e-02,\n",
       "       -8.47520729e-01, -1.72605792e+00, -6.75011460e-01, -1.71597399e+00,\n",
       "       -1.84954439e+00, -4.12158489e-01, -1.94300270e+00, -1.64769995e+00,\n",
       "       -1.65821964e+00, -1.09060620e+00, -1.10521200e-01, -1.51351725e+00,\n",
       "       -4.80264200e-01, -1.36607535e+00, -1.66744826e+00, -1.49542652e-01,\n",
       "       -1.55261247e+00, -1.42752014e+00, -1.73401141e+00, -1.24770722e+00,\n",
       "       -1.41203962e+00, -1.88798544e+00, -1.64967835e+00, -1.64125838e+00,\n",
       "       -1.60663863e+00, -1.49250776e+00, -1.44864356e+00, -1.50079830e+00,\n",
       "       -1.63192839e+00, -7.33590588e-01, -3.30794587e-01, -2.81483892e-01,\n",
       "       -3.49042207e-01, -1.73510110e+00, -1.65455979e+00, -1.54419571e+00,\n",
       "       -1.88448095e+00, -2.00569423e+00, -1.69757879e+00, -1.41090572e+00,\n",
       "       -8.46411562e-01, -1.47490631e+00, -7.05343287e-01, -1.45719844e+00,\n",
       "       -2.50585461e-01, -1.51093685e+00, -1.34926357e-01, -2.14788323e+00,\n",
       "       -2.64201456e-01, -1.50598114e+00, -1.32063222e+00, -2.14649472e+00,\n",
       "       -1.48534904e+00, -9.70377726e-01, -1.73962148e+00, -2.07119152e+00,\n",
       "       -1.74218362e+00, -1.68572617e+00, -1.58132719e+00, -1.61439313e+00,\n",
       "       -1.52304462e+00, -1.60247014e+00, -1.49507335e+00,  3.53628264e-02,\n",
       "       -1.66512302e+00, -1.58484286e+00, -1.42961013e+00, -2.14517318e+00,\n",
       "       -2.92717906e-01, -1.57504074e+00, -1.65189285e+00, -1.79369716e+00,\n",
       "       -3.56730398e-02, -1.85794514e+00, -2.48550557e+00, -1.90358598e+00,\n",
       "       -2.30146625e-01, -1.87871756e+00, -6.64953334e-02, -1.42940913e+00,\n",
       "       -3.59955699e-01, -1.41279776e+00, -2.98305006e+00, -1.55659435e+00,\n",
       "       -1.52549402e+00, -1.18603614e+00, -1.59328142e+00, -1.68726850e+00,\n",
       "       -2.38841722e+00, -1.34011188e+00, -6.33756688e-01, -1.38942323e+00,\n",
       "       -1.91709336e+00, -7.00667118e-01, -1.76990000e+00, -1.61147750e+00,\n",
       "       -1.51987135e+00, -2.09696110e+00, -2.44235374e-01, -1.60401383e+00,\n",
       "       -1.89657310e+00, -1.57898646e+00, -2.15786374e+00, -1.62324830e+00,\n",
       "       -1.19407100e+00, -6.56031046e-01, -2.10459123e+00, -1.64982254e+00,\n",
       "       -1.57992836e+00, -1.46648232e+00, -1.77382284e+00, -1.99181344e+00,\n",
       "       -1.62203015e+00, -2.51733690e-01, -5.20235531e-01, -2.33384714e+00,\n",
       "       -1.01865774e+00, -1.27756903e+00, -2.21484460e+00, -1.70163463e+00,\n",
       "       -1.65691966e+00, -1.67191075e+00, -1.80189390e+00, -1.33650189e-01,\n",
       "       -1.56639596e+00, -1.88250062e+00, -7.10815080e-01, -2.16228919e+00,\n",
       "       -1.43095641e+00, -1.39464463e+00, -1.45911360e+00, -1.35704348e+00,\n",
       "       -1.66031096e-01, -2.29868645e+00, -1.53449554e+00, -1.67909100e+00,\n",
       "       -1.62462516e+00, -1.56643259e+00, -2.01074388e+00, -1.30733492e+00,\n",
       "       -1.50016616e+00, -8.55321559e-01, -4.18432150e-01, -2.02039647e+00,\n",
       "       -1.06893910e+00, -4.33572294e-01, -1.80655559e+00, -4.48354510e-01,\n",
       "       -2.15130656e+00, -1.88977252e+00, -1.59454564e+00, -5.83150562e-01,\n",
       "       -1.41534504e+00, -2.60345132e-01, -2.15921603e+00, -1.49521256e+00,\n",
       "       -2.98693865e-01, -1.97156194e+00, -1.44621515e+00, -4.28503540e-01,\n",
       "       -1.31108495e+00, -2.15153296e+00, -1.27977070e+00, -4.16284234e-01,\n",
       "       -1.80724519e+00, -1.50347972e+00, -5.94938333e-02, -1.47245165e+00,\n",
       "       -1.45685220e+00, -1.58697502e+00, -1.61344061e+00, -1.95660307e+00,\n",
       "       -1.00931442e+00, -1.84937964e+00, -1.61820138e+00, -1.75597268e+00,\n",
       "       -1.11838832e+00, -1.38100811e+00, -3.31937099e-01, -2.07790673e+00,\n",
       "       -1.95771664e+00, -1.44326951e+00, -7.95488169e-01, -9.48099561e-01,\n",
       "       -1.47043403e+00, -2.11429376e+00, -8.13128203e-01, -1.38020251e+00,\n",
       "       -9.67181878e-02, -1.17552835e+00, -1.04149609e+00, -1.54155449e+00,\n",
       "       -3.77773443e-01, -2.05167408e+00, -8.73874524e-01, -1.58029786e+00,\n",
       "       -1.55556934e+00, -1.33256355e+00, -1.52360108e-01, -1.46833005e+00,\n",
       "        3.34320967e-03, -1.45912440e+00, -5.75370512e-01, -4.04281744e-01,\n",
       "       -1.69316666e+00, -1.33147421e+00, -1.53098689e+00, -1.33338667e+00,\n",
       "       -1.50846250e+00, -1.62611899e+00, -1.95757138e+00, -1.55259835e+00,\n",
       "       -2.17555628e+00, -7.92050303e-01, -3.23958257e-01, -1.61815890e+00])"
      ]
     },
     "execution_count": 591,
     "metadata": {},
     "output_type": "execute_result"
    }
   ],
   "source": [
    "GM.score_samples(X)  # Gives the log of the probility density distribution for each instances"
   ]
  },
  {
   "cell_type": "code",
   "execution_count": null,
   "metadata": {},
   "outputs": [],
   "source": []
  },
  {
   "cell_type": "markdown",
   "metadata": {},
   "source": [
    "# Limitation of gaussian Mixtures"
   ]
  },
  {
   "cell_type": "markdown",
   "metadata": {},
   "source": [
    "Nice! The algorithm clearly found an excellent solution. Of course, we made its task\n",
    "easy by actually generating the data using a set of 2D Gaussian distributions (unfortu‐\n",
    "nately, real life data is not always so Gaussian and low-dimensional), and we also gave\n",
    "the algorithm the correct number of clusters. When there are many dimensions, or\n",
    "many clusters, or few instances, EM can struggle to converge to the optimal solution.\n",
    "You might need to reduce the difficulty of the task by limiting the number of parame‐\n",
    "ters that the algorithm has to learn: one way to do this is to limit the range of shapes\n",
    "and orientations that the clusters can have. This can be achieved by imposing con‐\n",
    "straints on the covariance matrices. To do this, just set the covariance_type hyper‐\n",
    "parameter to one of the following values:\n",
    "•<br>\n",
    "\"spherical\": all clusters must be spherical, but they can have different diameters\n",
    "(i.e., different variances).<br>\n",
    "• \"diag\": clusters can take on any ellipsoidal shape of any size, but the ellipsoid’s\n",
    "axes must be parallel to the coordinate axes (i.e., the covariance matrices must be\n",
    "diagonal).<br>\n",
    "•\n",
    "\"tied\": all clusters must have the same ellipsoidal shape, size and orientation\n",
    "(i.e., all clusters share the same covariance matrix).\n",
    "\n",
    "By default, covariance_type is equal to \"full\", which means that each cluster can\n",
    "take on any shape, size and orientation (it has its own unconstrained covariance matrix"
   ]
  },
  {
   "cell_type": "code",
   "execution_count": null,
   "metadata": {},
   "outputs": [],
   "source": []
  },
  {
   "cell_type": "markdown",
   "metadata": {},
   "source": [
    "The computational complexity of training a GaussianMixture model depends on the number of instances m, the number of dimensions n, the number of clusters k, and the constraints on the\n",
    "covariance matrices. If covariance_type is \"spherical or \"diag\", it is O(kmn), assuming the data has a clustering structure. If cova\n",
    "riance_type is \"tied\" or \"full\", it is O(kmn**2 + kn**3), so it will not scale to large numbers of features."
   ]
  },
  {
   "cell_type": "code",
   "execution_count": null,
   "metadata": {},
   "outputs": [],
   "source": []
  },
  {
   "cell_type": "code",
   "execution_count": null,
   "metadata": {},
   "outputs": [],
   "source": []
  },
  {
   "cell_type": "markdown",
   "metadata": {},
   "source": [
    "# Anomally detection with Using Gaussian Mixtures\n",
    "\n"
   ]
  },
  {
   "cell_type": "markdown",
   "metadata": {},
   "source": [
    "Anomaly detection (also called outlier detection) is the task of detecting instances that deviate strongly from the norm. <br>These instances are of course called anomalies or\n",
    "outliers, while the normal instances are called inliers"
   ]
  },
  {
   "cell_type": "code",
   "execution_count": null,
   "metadata": {},
   "outputs": [],
   "source": []
  },
  {
   "cell_type": "markdown",
   "metadata": {},
   "source": [
    "Using a Gaussian mixture model for anomaly detection is quite simple: any instance located in a low density region can be considered an anomaly. You must define what\n",
    "density threshold you want to use. For example, in a manufacturing company that tries to detect defective products, the ratio of defective products is usually wellknown.\n",
    "Say it is equal to 4%, then you can set the density threshold to be the value that results in having 4% of the instances located in areas below that threshold density.\n"
   ]
  },
  {
   "cell_type": "code",
   "execution_count": null,
   "metadata": {},
   "outputs": [],
   "source": [
    "# This density can be tuned to based on the False Positive and False Negative distribution in the data set"
   ]
  },
  {
   "cell_type": "code",
   "execution_count": 620,
   "metadata": {},
   "outputs": [],
   "source": [
    "# Lets implement this on our moon datasets"
   ]
  },
  {
   "cell_type": "code",
   "execution_count": 623,
   "metadata": {},
   "outputs": [
    {
     "data": {
      "text/plain": [
       "-2.1593134836893753"
      ]
     },
     "execution_count": 623,
     "metadata": {},
     "output_type": "execute_result"
    }
   ],
   "source": [
    "PDF = GM.score_samples(X)  #   remember the score_samples gives the log of the probabilty density distribution \n",
    "Threshold = np.percentile(PDF, 4)  #  we are setting the threshold to 4% in the PDF\n",
    "Threshold"
   ]
  },
  {
   "cell_type": "code",
   "execution_count": 626,
   "metadata": {},
   "outputs": [
    {
     "data": {
      "text/plain": [
       "array([[-1.60093439e-01,  9.02097616e-01],\n",
       "       [-2.23695991e-01,  9.17395382e-01],\n",
       "       [ 2.10774216e+00,  5.27317129e-01],\n",
       "       [ 1.90797476e+00,  4.69179965e-01],\n",
       "       [-1.36315517e-01,  1.02286748e+00],\n",
       "       [ 2.04567430e+00,  4.90512652e-01],\n",
       "       [-4.48061353e-04, -1.06583489e-01],\n",
       "       [-9.55764924e-01,  7.28410194e-03],\n",
       "       [-9.39055484e-01, -4.06010267e-02],\n",
       "       [ 2.00523125e+00,  5.16033588e-01],\n",
       "       [-1.58938575e-01,  1.01256372e+00],\n",
       "       [-1.45612963e-01,  1.02064251e+00],\n",
       "       [-1.00494094e+00,  4.88393373e-03],\n",
       "       [-9.38647121e-01,  7.29815944e-02],\n",
       "       [-2.12265784e-01,  9.26454166e-01],\n",
       "       [-1.10825155e-01,  1.05554164e+00],\n",
       "       [-1.05687465e-01,  1.07390922e+00],\n",
       "       [ 1.63960827e-01, -2.59791530e-01],\n",
       "       [-9.28662623e-01,  6.09643065e-01],\n",
       "       [-9.42550261e-01, -2.61997306e-03],\n",
       "       [ 1.09771890e+00, -5.44527469e-01],\n",
       "       [ 1.86822618e-01, -2.99497346e-01],\n",
       "       [-2.16928750e-01,  9.39971015e-01],\n",
       "       [ 2.00850987e+00,  4.61173192e-01],\n",
       "       [-9.87676876e-01,  1.12237324e-02],\n",
       "       [-1.11890275e-01,  1.04056344e+00],\n",
       "       [ 1.90542696e+00, -1.51976520e-01],\n",
       "       [-9.39312631e-01,  5.89754525e-02],\n",
       "       [-1.83149985e-01,  1.01323293e+00],\n",
       "       [-9.89656492e-01,  4.65205587e-03],\n",
       "       [ 1.97505618e+00,  4.92108723e-01],\n",
       "       [ 1.00432913e+00, -6.19894962e-01],\n",
       "       [-1.02666242e+00, -2.04143285e-02],\n",
       "       [-1.02299335e+00, -5.04773094e-02],\n",
       "       [ 1.91011114e+00,  3.95349379e-01],\n",
       "       [ 1.94969804e+00,  4.26024132e-01],\n",
       "       [-1.56719801e-01,  9.84895740e-01],\n",
       "       [ 1.10959246e+00, -5.74275500e-01],\n",
       "       [ 1.90690529e+00,  3.86773926e-01],\n",
       "       [-1.45491964e-01,  9.52210603e-01]])"
      ]
     },
     "execution_count": 626,
     "metadata": {},
     "output_type": "execute_result"
    }
   ],
   "source": [
    "Outliers = X[PDF < Threshold]  #  outliers are the set below the threshold in the PDF\n",
    "Outliers"
   ]
  },
  {
   "cell_type": "code",
   "execution_count": null,
   "metadata": {},
   "outputs": [],
   "source": []
  },
  {
   "cell_type": "code",
   "execution_count": 629,
   "metadata": {},
   "outputs": [
    {
     "data": {
      "text/plain": [
       "array([[-0.02137124,  0.40618608],\n",
       "       [ 0.97670045, -0.45832306],\n",
       "       [ 0.90405882, -0.37651952],\n",
       "       ...,\n",
       "       [ 1.66258462, -0.3079193 ],\n",
       "       [-0.94355873,  0.3278936 ],\n",
       "       [ 0.79419406,  0.60777171]])"
      ]
     },
     "execution_count": 629,
     "metadata": {},
     "output_type": "execute_result"
    }
   ],
   "source": [
    "Inliers = X[PDF > Threshold]\n",
    "Inliers  #  These are the clean Data"
   ]
  },
  {
   "cell_type": "code",
   "execution_count": 630,
   "metadata": {},
   "outputs": [
    {
     "data": {
      "text/plain": [
       "array([[-0.02137124,  0.40618608],\n",
       "       [ 0.97670045, -0.45832306],\n",
       "       [ 0.90405882, -0.37651952],\n",
       "       ...,\n",
       "       [ 1.66258462, -0.3079193 ],\n",
       "       [-0.94355873,  0.3278936 ],\n",
       "       [ 0.79419406,  0.60777171]])"
      ]
     },
     "execution_count": 630,
     "metadata": {},
     "output_type": "execute_result"
    }
   ],
   "source": [
    "X"
   ]
  },
  {
   "cell_type": "code",
   "execution_count": 633,
   "metadata": {},
   "outputs": [
    {
     "data": {
      "text/plain": [
       "(960, 2)"
      ]
     },
     "execution_count": 633,
     "metadata": {},
     "output_type": "execute_result"
    }
   ],
   "source": [
    "Inliers.shape"
   ]
  },
  {
   "cell_type": "code",
   "execution_count": 635,
   "metadata": {},
   "outputs": [
    {
     "data": {
      "text/plain": [
       "(40, 2)"
      ]
     },
     "execution_count": 635,
     "metadata": {},
     "output_type": "execute_result"
    }
   ],
   "source": [
    "Outliers.shape  # 40 outliers removes"
   ]
  },
  {
   "cell_type": "code",
   "execution_count": 636,
   "metadata": {},
   "outputs": [
    {
     "data": {
      "text/plain": [
       "(1000, 2)"
      ]
     },
     "execution_count": 636,
     "metadata": {},
     "output_type": "execute_result"
    }
   ],
   "source": [
    "X.shape"
   ]
  },
  {
   "cell_type": "code",
   "execution_count": null,
   "metadata": {},
   "outputs": [],
   "source": []
  },
  {
   "cell_type": "code",
   "execution_count": null,
   "metadata": {},
   "outputs": [],
   "source": []
  },
  {
   "cell_type": "code",
   "execution_count": 745,
   "metadata": {},
   "outputs": [],
   "source": [
    "#  Reversing outliers in scipy"
   ]
  },
  {
   "cell_type": "code",
   "execution_count": 746,
   "metadata": {},
   "outputs": [],
   "source": [
    "from scipy.stats import zscore"
   ]
  },
  {
   "cell_type": "code",
   "execution_count": 747,
   "metadata": {},
   "outputs": [],
   "source": [
    "p = pd.DataFrame(X)"
   ]
  },
  {
   "cell_type": "code",
   "execution_count": 748,
   "metadata": {},
   "outputs": [
    {
     "data": {
      "text/plain": [
       "array([[-0.59996716,  0.31757343],\n",
       "       [ 0.55020965, -1.42528284],\n",
       "       [ 0.46649751, -1.26036633],\n",
       "       ...,\n",
       "       [ 1.34062188, -1.12206783],\n",
       "       [-1.66269509,  0.15973526],\n",
       "       [ 0.33988947,  0.72397143]])"
      ]
     },
     "execution_count": 748,
     "metadata": {},
     "output_type": "execute_result"
    }
   ],
   "source": [
    "z_score = zscore(p)\n",
    "z_score"
   ]
  },
  {
   "cell_type": "code",
   "execution_count": 749,
   "metadata": {},
   "outputs": [
    {
     "data": {
      "text/plain": [
       "(1000, 2)"
      ]
     },
     "execution_count": 749,
     "metadata": {},
     "output_type": "execute_result"
    }
   ],
   "source": [
    "z_score.shape"
   ]
  },
  {
   "cell_type": "code",
   "execution_count": 750,
   "metadata": {},
   "outputs": [
    {
     "data": {
      "text/plain": [
       "(1000, 2)"
      ]
     },
     "execution_count": 750,
     "metadata": {},
     "output_type": "execute_result"
    }
   ],
   "source": [
    "p[(z_score<3).all(axis = 1)].shape"
   ]
  },
  {
   "cell_type": "code",
   "execution_count": 751,
   "metadata": {},
   "outputs": [],
   "source": [
    "score = zscore(X)"
   ]
  },
  {
   "cell_type": "code",
   "execution_count": 752,
   "metadata": {},
   "outputs": [
    {
     "data": {
      "text/plain": [
       "(1000, 2)"
      ]
     },
     "execution_count": 752,
     "metadata": {},
     "output_type": "execute_result"
    }
   ],
   "source": [
    "X[(score<4).all(axis = 1)].shape"
   ]
  },
  {
   "cell_type": "markdown",
   "metadata": {},
   "source": [
    "# Selecting the number of clusters in Gaussian Mixtures "
   ]
  },
  {
   "cell_type": "markdown",
   "metadata": {},
   "source": [
    " The Gaussian Mixtures find the model that minimize Theritical Information Criterion such as <br>\n",
    "the Bayesian Information Criterion (BIC) or Akaike information Criterion (AIC)<br>\n",
    "The clusters for the minimum of either these values is the optimal number of clusters \n"
   ]
  },
  {
   "cell_type": "code",
   "execution_count": 771,
   "metadata": {},
   "outputs": [],
   "source": [
    "#  Lest Implemet this in scikit learn\n"
   ]
  },
  {
   "cell_type": "code",
   "execution_count": 773,
   "metadata": {},
   "outputs": [],
   "source": [
    "BIC = []\n",
    "AIC = []\n",
    "k = range(2,10)\n",
    "for cluster in k:\n",
    "    GMC = GaussianMixture(n_components =  cluster)\n",
    "    GMC.fit(X)\n",
    "    AIC.append(GMC.bic(X))\n",
    "    BIC.append(GMC.aic(X))"
   ]
  },
  {
   "cell_type": "code",
   "execution_count": 774,
   "metadata": {},
   "outputs": [
    {
     "data": {
      "text/plain": [
       "[3493.4689793299867,\n",
       " 2809.7044955236797,\n",
       " 2316.491279799522,\n",
       " 2007.652619813302,\n",
       " 1456.344281473015,\n",
       " 1242.2185749418418,\n",
       " 1266.2549505868947,\n",
       " 1141.0419504946285]"
      ]
     },
     "execution_count": 774,
     "metadata": {},
     "output_type": "execute_result"
    }
   ],
   "source": [
    "AIC"
   ]
  },
  {
   "cell_type": "code",
   "execution_count": 775,
   "metadata": {},
   "outputs": [
    {
     "data": {
      "text/plain": [
       "[3439.483671261183,\n",
       " 2726.2726557809833,\n",
       " 2203.612908382933,\n",
       " 1865.32771672282,\n",
       " 1284.57284670864,\n",
       " 1041.0006085035743,\n",
       " 1035.590452474734,\n",
       " 880.9309207085752]"
      ]
     },
     "execution_count": 775,
     "metadata": {},
     "output_type": "execute_result"
    }
   ],
   "source": [
    "BIC"
   ]
  },
  {
   "cell_type": "code",
   "execution_count": 790,
   "metadata": {},
   "outputs": [
    {
     "data": {
      "text/plain": [
       "Text(0, 0.5, 'BIC/AIC')"
      ]
     },
     "execution_count": 790,
     "metadata": {},
     "output_type": "execute_result"
    },
    {
     "data": {
      "image/png": "[encoded data removed]",
      "text/plain": [
       "<Figure size 432x288 with 1 Axes>"
      ]
     },
     "metadata": {
      "needs_background": "light"
     },
     "output_type": "display_data"
    }
   ],
   "source": [
    "plt.plot(k, AIC, marker = \"o\", color = \"red\")\n",
    "plt.plot(k, BIC, marker = \"x\", color = \"blue\")\n",
    "plt.xlabel(\"cluster\", size = 12)\n",
    "plt.ylabel(\"BIC/AIC\", size = 12, rotation = 30)"
   ]
  },
  {
   "cell_type": "code",
   "execution_count": 785,
   "metadata": {},
   "outputs": [],
   "source": [
    "# from the chart, the two metrics point to 9 clusters"
   ]
  },
  {
   "cell_type": "code",
   "execution_count": null,
   "metadata": {},
   "outputs": [],
   "source": [
    "#  Lets confirm this with Kmean module"
   ]
  },
  {
   "cell_type": "code",
   "execution_count": 780,
   "metadata": {},
   "outputs": [],
   "source": [
    "I = []\n",
    "\n",
    "k = range(2,10)\n",
    "for cluster in k:\n",
    "    K = KMeans(n_clusters =  cluster)\n",
    "    K.fit(X)\n",
    "    I.append(K.inertia_)\n",
    "    "
   ]
  },
  {
   "cell_type": "code",
   "execution_count": 781,
   "metadata": {},
   "outputs": [
    {
     "data": {
      "text/plain": [
       "[403.67970380961367,\n",
       " 271.3537365306977,\n",
       " 174.8313621793963,\n",
       " 130.9575067411924,\n",
       " 90.43335443163764,\n",
       " 72.51033776015628,\n",
       " 53.63441479281411,\n",
       " 44.28244176750529]"
      ]
     },
     "execution_count": 781,
     "metadata": {},
     "output_type": "execute_result"
    }
   ],
   "source": [
    "I"
   ]
  },
  {
   "cell_type": "code",
   "execution_count": 787,
   "metadata": {},
   "outputs": [
    {
     "data": {
      "image/png": "[encoded data removed]",
      "text/plain": [
       "<Figure size 432x288 with 1 Axes>"
      ]
     },
     "metadata": {
      "needs_background": "light"
     },
     "output_type": "display_data"
    }
   ],
   "source": [
    "plt.plot(k, I, marker = \"o\")\n",
    "plt.xlabel(\"cluster\", size = 12)\n",
    "plt.ylabel(\"Inertia\", size = 12)\n",
    "plt.grid()"
   ]
  },
  {
   "cell_type": "code",
   "execution_count": 813,
   "metadata": {},
   "outputs": [],
   "source": [
    "# Kmeans shows between 4 and 6"
   ]
  },
  {
   "cell_type": "code",
   "execution_count": null,
   "metadata": {},
   "outputs": [],
   "source": []
  },
  {
   "cell_type": "code",
   "execution_count": 818,
   "metadata": {},
   "outputs": [
    {
     "data": {
      "text/plain": [
       "[0.4887268471194725,\n",
       " 0.42676735289794565,\n",
       " 0.45997238650654854,\n",
       " 0.48881146115547036,\n",
       " 0.5180906259212669,\n",
       " 0.5213988376313924,\n",
       " 0.5273978048717547,\n",
       " 0.5249344731325696]"
      ]
     },
     "execution_count": 818,
     "metadata": {},
     "output_type": "execute_result"
    }
   ],
   "source": [
    "S = []\n",
    "\n",
    "k = range(2,10)\n",
    "for cluster in k:\n",
    "    K = KMeans(n_clusters =  cluster)\n",
    "    K.fit(X)\n",
    "    S.append(silhouette_score(X, K.labels_))\n",
    "S  "
   ]
  },
  {
   "cell_type": "code",
   "execution_count": 821,
   "metadata": {},
   "outputs": [
    {
     "data": {
      "text/plain": [
       "Text(0, 0.5, 'silhoette')"
      ]
     },
     "execution_count": 821,
     "metadata": {},
     "output_type": "execute_result"
    },
    {
     "data": {
      "image/png": "[encoded data removed]",
      "text/plain": [
       "<Figure size 432x288 with 1 Axes>"
      ]
     },
     "metadata": {
      "needs_background": "light"
     },
     "output_type": "display_data"
    }
   ],
   "source": [
    "\n",
    "plt.plot(k, S, marker = \"o\")\n",
    "plt.xlabel(\"cluster\", size =12)\n",
    "plt.ylabel(\"silhoette\", size = 12)"
   ]
  },
  {
   "cell_type": "code",
   "execution_count": null,
   "metadata": {},
   "outputs": [],
   "source": []
  },
  {
   "cell_type": "code",
   "execution_count": null,
   "metadata": {},
   "outputs": [],
   "source": []
  },
  {
   "cell_type": "markdown",
   "metadata": {},
   "source": [
    "# Bayesian Gaussian Mixtures Algo"
   ]
  },
  {
   "cell_type": "markdown",
   "metadata": {},
   "source": [
    "Rather than manually searching for the optimal number of clusters, it is possible to use instead the BayesianGaussianMixture class <br>\n",
    "which is capable of giving weights equal (or close) to zero to unnecessary clusters. Just set the number of clusters n_components <br>\n",
    "to a value that you have good reason to believe is greater than the optimal number of clusters (this assumes some minimal knowledge about the problem at\n",
    "hand), <br>and the algorithm will eliminate the unnecessary clusters automatically. For example, let’s set the number of clusters to 10 and see what happens:"
   ]
  },
  {
   "cell_type": "code",
   "execution_count": 799,
   "metadata": {},
   "outputs": [],
   "source": [
    "# lets implement this with scikit-learn\n",
    "from sklearn.mixture import BayesianGaussianMixture"
   ]
  },
  {
   "cell_type": "code",
   "execution_count": 825,
   "metadata": {},
   "outputs": [],
   "source": [
    "BGM = BayesianGaussianMixture(n_components = 10, n_init = 10, random_state = 112)"
   ]
  },
  {
   "cell_type": "code",
   "execution_count": 826,
   "metadata": {},
   "outputs": [
    {
     "data": {
      "text/plain": [
       "BayesianGaussianMixture(covariance_prior=None, covariance_type='full',\n",
       "                        degrees_of_freedom_prior=None, init_params='kmeans',\n",
       "                        max_iter=100, mean_precision_prior=None,\n",
       "                        mean_prior=None, n_components=10, n_init=10,\n",
       "                        random_state=112, reg_covar=1e-06, tol=0.001, verbose=0,\n",
       "                        verbose_interval=10, warm_start=False,\n",
       "                        weight_concentration_prior=None,\n",
       "                        weight_concentration_prior_type='dirichlet_process')"
      ]
     },
     "execution_count": 826,
     "metadata": {},
     "output_type": "execute_result"
    }
   ],
   "source": [
    "BGM.fit(X)\n"
   ]
  },
  {
   "cell_type": "code",
   "execution_count": 827,
   "metadata": {},
   "outputs": [
    {
     "data": {
      "text/plain": [
       "array([0.06, 0.  , 0.14, 0.2 , 0.16, 0.14, 0.18, 0.  , 0.12, 0.  ])"
      ]
     },
     "execution_count": 827,
     "metadata": {},
     "output_type": "execute_result"
    }
   ],
   "source": [
    "weight = np.round(BGM.weights_, 2)\n",
    "weight  # accesssing the weight"
   ]
  },
  {
   "cell_type": "code",
   "execution_count": 829,
   "metadata": {},
   "outputs": [
    {
     "data": {
      "text/plain": [
       "7"
      ]
     },
     "execution_count": 829,
     "metadata": {},
     "output_type": "execute_result"
    }
   ],
   "source": [
    "len(np.unique(weight))  # Getting the number of cluster\n",
    "#  The BGM gives 7 clusters on the fly"
   ]
  },
  {
   "cell_type": "code",
   "execution_count": null,
   "metadata": {},
   "outputs": [],
   "source": []
  },
  {
   "cell_type": "code",
   "execution_count": 830,
   "metadata": {},
   "outputs": [],
   "source": [
    "#  Generally, Gaussian mixture models work great on clusters with ellipsoidal shapes, but if you try\n",
    "# to fit a dataset with different shapes, you may have bad surprises(Wrong clusters)"
   ]
  },
  {
   "cell_type": "code",
   "execution_count": null,
   "metadata": {},
   "outputs": [],
   "source": []
  },
  {
   "cell_type": "markdown",
   "metadata": {},
   "source": [
    "# Other Anomally Detection and Novelty Detection algorithm"
   ]
  },
  {
   "cell_type": "markdown",
   "metadata": {},
   "source": [
    "Other scikit-learn anomally detection algorithms are\n",
    "1. Fast-MCD (Minimum covariant determinant)\n",
    "2. Isolation forest\n",
    "3. Local Outliers Factor (LOF)\n",
    "4. One-Class SVM  (Suited for Novelty Detection)\n",
    "\n",
    "\n",
    "# All of this will be looked into when needed"
   ]
  },
  {
   "cell_type": "code",
   "execution_count": null,
   "metadata": {},
   "outputs": [],
   "source": []
  },
  {
   "cell_type": "code",
   "execution_count": null,
   "metadata": {},
   "outputs": [],
   "source": []
  },
  {
   "cell_type": "code",
   "execution_count": null,
   "metadata": {},
   "outputs": [],
   "source": []
  },
  {
   "cell_type": "code",
   "execution_count": null,
   "metadata": {},
   "outputs": [],
   "source": []
  },
  {
   "cell_type": "code",
   "execution_count": null,
   "metadata": {},
   "outputs": [],
   "source": []
  },
  {
   "cell_type": "code",
   "execution_count": null,
   "metadata": {},
   "outputs": [],
   "source": []
  },
  {
   "cell_type": "code",
   "execution_count": null,
   "metadata": {},
   "outputs": [],
   "source": []
  },
  {
   "cell_type": "code",
   "execution_count": null,
   "metadata": {},
   "outputs": [],
   "source": []
  },
  {
   "cell_type": "code",
   "execution_count": null,
   "metadata": {},
   "outputs": [],
   "source": []
  },
  {
   "cell_type": "code",
   "execution_count": null,
   "metadata": {},
   "outputs": [],
   "source": []
  },
  {
   "cell_type": "code",
   "execution_count": null,
   "metadata": {},
   "outputs": [],
   "source": []
  }
 ],
 "metadata": {
  "kernelspec": {
   "display_name": "Python 3",
   "language": "python",
   "name": "python3"
  },
  "language_info": {
   "codemirror_mode": {
    "name": "ipython",
    "version": 3
   },
   "file_extension": ".py",
   "mimetype": "text/x-python",
   "name": "python",
   "nbconvert_exporter": "python",
   "pygments_lexer": "ipython3",
   "version": "3.7.9"
  }
 },
 "nbformat": 4,
 "nbformat_minor": 4
}
